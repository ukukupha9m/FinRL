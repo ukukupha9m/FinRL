{
 "cells": [
  {
   "cell_type": "markdown",
   "metadata": {
    "colab_type": "text",
    "id": "view-in-github"
   },
   "source": [
    "<a href=\"https://colab.research.google.com/github/AI4Finance-LLC/FinRL-Library/blob/master/FinRL_multiple_stock_trading.ipynb\" target=\"_parent\"><img src=\"https://colab.research.google.com/assets/colab-badge.svg\" alt=\"Open In Colab\"/></a>"
   ]
  },
  {
   "cell_type": "markdown",
   "metadata": {
    "id": "osBHhVysOEzi"
   },
   "source": [
    "\n",
    "<a id='1.2'></a>\n",
    "## 2.2. Check if the additional packages needed are present, if not install them. \n",
    "* Yahoo Finance API\n",
    "* pandas\n",
    "* numpy\n",
    "* matplotlib\n",
    "* stockstats\n",
    "* OpenAI gym\n",
    "* stable-baselines\n",
    "* tensorflow\n",
    "* pyfolio"
   ]
  },
  {
   "cell_type": "code",
   "execution_count": 1,
   "metadata": {},
   "outputs": [],
   "source": [
    "import sys\n",
    "\n",
    "\n",
    "sys.path.append(\"..\")"
   ]
  },
  {
   "cell_type": "markdown",
   "metadata": {
    "id": "nGv01K8Sh1hn"
   },
   "source": [
    "<a id='1.3'></a>\n",
    "## 2.3. Import Packages"
   ]
  },
  {
   "cell_type": "code",
   "execution_count": 2,
   "metadata": {
    "colab": {
     "base_uri": "https://localhost:8080/"
    },
    "id": "lPqeTTwoh1hn",
    "outputId": "db90f7a1-fecb-45c3-b9c1-6781d93342e2"
   },
   "outputs": [
    {
     "name": "stderr",
     "output_type": "stream",
     "text": [
      "/opt/conda/lib/python3.6/site-packages/pyfolio/pos.py:27: UserWarning: Module \"zipline.assets\" not found; multipliers will not be applied to position notionals.\n",
      "  'Module \"zipline.assets\" not found; multipliers will not be applied'\n"
     ]
    }
   ],
   "source": [
    "import pandas as pd\n",
    "import numpy as np\n",
    "import matplotlib\n",
    "import matplotlib.pyplot as plt\n",
    "# matplotlib.use('Agg')\n",
    "import datetime\n",
    "\n",
    "%matplotlib inline\n",
    "from finrl.config import config\n",
    "from finrl.marketdata.yahoodownloader import YahooDownloader\n",
    "from finrl.preprocessing.preprocessors import FeatureEngineer\n",
    "from finrl.preprocessing.data import data_split\n",
    "from finrl.model.models import DRLAgent\n",
    "from finrl.trade.backtest import BackTestStats, BaselineStats, BackTestPlot\n",
    "\n",
    "from pprint import pprint"
   ]
  },
  {
   "cell_type": "markdown",
   "metadata": {
    "id": "T2owTj985RW4"
   },
   "source": [
    "<a id='1.4'></a>\n",
    "## 2.4. Create Folders"
   ]
  },
  {
   "cell_type": "code",
   "execution_count": 3,
   "metadata": {
    "id": "w9A8CN5R5PuZ"
   },
   "outputs": [],
   "source": [
    "import os\n",
    "if not os.path.exists(\"./\" + config.DATA_SAVE_DIR):\n",
    "    os.makedirs(\"./\" + config.DATA_SAVE_DIR)\n",
    "if not os.path.exists(\"./\" + config.TRAINED_MODEL_DIR):\n",
    "    os.makedirs(\"./\" + config.TRAINED_MODEL_DIR)\n",
    "if not os.path.exists(\"./\" + config.TENSORBOARD_LOG_DIR):\n",
    "    os.makedirs(\"./\" + config.TENSORBOARD_LOG_DIR)\n",
    "if not os.path.exists(\"./\" + config.RESULTS_DIR):\n",
    "    os.makedirs(\"./\" + config.RESULTS_DIR)"
   ]
  },
  {
   "cell_type": "code",
   "execution_count": 4,
   "metadata": {
    "colab": {
     "base_uri": "https://localhost:8080/",
     "height": 35
    },
    "id": "h3XJnvrbLp-C",
    "outputId": "26b22b1d-ad69-4483-e310-3f5f523f3ffa"
   },
   "outputs": [],
   "source": [
    "# from config.py start_date is a string\n",
    "config.START_DATE = \"2012-01-01\""
   ]
  },
  {
   "cell_type": "code",
   "execution_count": 5,
   "metadata": {
    "colab": {
     "base_uri": "https://localhost:8080/",
     "height": 35
    },
    "id": "FUnY8WEfLq3C",
    "outputId": "abcc5cdb-ef15-47ab-c5ac-3bffe5bdbe26"
   },
   "outputs": [
    {
     "name": "stdout",
     "output_type": "stream",
     "text": [
      "start: 2012-01-01, end: 2020-12-01\n"
     ]
    }
   ],
   "source": [
    "# from config.py end_date is a string\n",
    "config.END_DATE\n",
    "print(f\"start: {config.START_DATE}, end: {config.END_DATE}\")"
   ]
  },
  {
   "cell_type": "code",
   "execution_count": 6,
   "metadata": {
    "colab": {
     "base_uri": "https://localhost:8080/"
    },
    "id": "JzqRRTOX6aFu",
    "outputId": "6103745f-6618-42ac-f3d5-95716bcd5e0f"
   },
   "outputs": [
    {
     "name": "stdout",
     "output_type": "stream",
     "text": [
      "['AAPL',\n",
      " 'MSFT',\n",
      " 'JPM',\n",
      " 'V',\n",
      " 'RTX',\n",
      " 'PG',\n",
      " 'GS',\n",
      " 'NKE',\n",
      " 'DIS',\n",
      " 'AXP',\n",
      " 'HD',\n",
      " 'INTC',\n",
      " 'WMT',\n",
      " 'IBM',\n",
      " 'MRK',\n",
      " 'UNH',\n",
      " 'KO',\n",
      " 'CAT',\n",
      " 'TRV',\n",
      " 'JNJ',\n",
      " 'CVX',\n",
      " 'MCD',\n",
      " 'VZ',\n",
      " 'CSCO',\n",
      " 'XOM',\n",
      " 'BA',\n",
      " 'MMM',\n",
      " 'PFE',\n",
      " 'WBA',\n",
      " 'DD']\n"
     ]
    }
   ],
   "source": [
    "pprint(config.DOW_30_TICKER)"
   ]
  },
  {
   "cell_type": "code",
   "execution_count": 7,
   "metadata": {
    "colab": {
     "base_uri": "https://localhost:8080/"
    },
    "id": "yCKm4om-s9kE",
    "outputId": "8f9b1fab-5e79-4acf-a054-83e171a0c7ca"
   },
   "outputs": [
    {
     "name": "stdout",
     "output_type": "stream",
     "text": [
      "[*********************100%***********************]  1 of 1 completed\n",
      "[*********************100%***********************]  1 of 1 completed\n",
      "[*********************100%***********************]  1 of 1 completed\n",
      "[*********************100%***********************]  1 of 1 completed\n",
      "[*********************100%***********************]  1 of 1 completed\n",
      "[*********************100%***********************]  1 of 1 completed\n",
      "[*********************100%***********************]  1 of 1 completed\n",
      "[*********************100%***********************]  1 of 1 completed\n",
      "[*********************100%***********************]  1 of 1 completed\n",
      "[*********************100%***********************]  1 of 1 completed\n",
      "[*********************100%***********************]  1 of 1 completed\n",
      "[*********************100%***********************]  1 of 1 completed\n",
      "[*********************100%***********************]  1 of 1 completed\n",
      "[*********************100%***********************]  1 of 1 completed\n",
      "[*********************100%***********************]  1 of 1 completed\n",
      "[*********************100%***********************]  1 of 1 completed\n",
      "[*********************100%***********************]  1 of 1 completed\n",
      "[*********************100%***********************]  1 of 1 completed\n",
      "[*********************100%***********************]  1 of 1 completed\n",
      "[*********************100%***********************]  1 of 1 completed\n",
      "[*********************100%***********************]  1 of 1 completed\n",
      "[*********************100%***********************]  1 of 1 completed\n",
      "[*********************100%***********************]  1 of 1 completed\n",
      "[*********************100%***********************]  1 of 1 completed\n",
      "[*********************100%***********************]  1 of 1 completed\n",
      "[*********************100%***********************]  1 of 1 completed\n",
      "[*********************100%***********************]  1 of 1 completed\n",
      "[*********************100%***********************]  1 of 1 completed\n",
      "[*********************100%***********************]  1 of 1 completed\n",
      "[*********************100%***********************]  1 of 1 completed\n",
      "Shape of DataFrame:  (67290, 7)\n"
     ]
    }
   ],
   "source": [
    "df = YahooDownloader(start_date = config.START_DATE,\n",
    "                     end_date = config.END_DATE,\n",
    "                     ticker_list = config.DOW_30_TICKER).fetch_data()"
   ]
  },
  {
   "cell_type": "code",
   "execution_count": 8,
   "metadata": {
    "colab": {
     "base_uri": "https://localhost:8080/"
    },
    "id": "CV3HrZHLh1hy",
    "outputId": "460516d1-c117-4443-adee-f3391812c9d2"
   },
   "outputs": [
    {
     "data": {
      "text/plain": [
       "(67290, 7)"
      ]
     },
     "execution_count": 8,
     "metadata": {},
     "output_type": "execute_result"
    }
   ],
   "source": [
    "df.shape"
   ]
  },
  {
   "cell_type": "code",
   "execution_count": 9,
   "metadata": {
    "colab": {
     "base_uri": "https://localhost:8080/",
     "height": 199
    },
    "id": "4hYkeaPiICHS",
    "outputId": "876068ce-8160-434d-8579-5ea9dcecec6b"
   },
   "outputs": [
    {
     "data": {
      "text/html": [
       "<div>\n",
       "<style scoped>\n",
       "    .dataframe tbody tr th:only-of-type {\n",
       "        vertical-align: middle;\n",
       "    }\n",
       "\n",
       "    .dataframe tbody tr th {\n",
       "        vertical-align: top;\n",
       "    }\n",
       "\n",
       "    .dataframe thead th {\n",
       "        text-align: right;\n",
       "    }\n",
       "</style>\n",
       "<table border=\"1\" class=\"dataframe\">\n",
       "  <thead>\n",
       "    <tr style=\"text-align: right;\">\n",
       "      <th></th>\n",
       "      <th>date</th>\n",
       "      <th>open</th>\n",
       "      <th>high</th>\n",
       "      <th>low</th>\n",
       "      <th>close</th>\n",
       "      <th>volume</th>\n",
       "      <th>tic</th>\n",
       "    </tr>\n",
       "  </thead>\n",
       "  <tbody>\n",
       "    <tr>\n",
       "      <th>0</th>\n",
       "      <td>2012-01-03</td>\n",
       "      <td>14.621428</td>\n",
       "      <td>14.732142</td>\n",
       "      <td>14.607142</td>\n",
       "      <td>12.669562</td>\n",
       "      <td>302220800.0</td>\n",
       "      <td>AAPL</td>\n",
       "    </tr>\n",
       "    <tr>\n",
       "      <th>1</th>\n",
       "      <td>2012-01-03</td>\n",
       "      <td>48.299999</td>\n",
       "      <td>48.959999</td>\n",
       "      <td>48.139999</td>\n",
       "      <td>42.209824</td>\n",
       "      <td>6955400.0</td>\n",
       "      <td>AXP</td>\n",
       "    </tr>\n",
       "    <tr>\n",
       "      <th>2</th>\n",
       "      <td>2012-01-03</td>\n",
       "      <td>74.699997</td>\n",
       "      <td>75.000000</td>\n",
       "      <td>74.120003</td>\n",
       "      <td>60.265572</td>\n",
       "      <td>6859300.0</td>\n",
       "      <td>BA</td>\n",
       "    </tr>\n",
       "    <tr>\n",
       "      <th>3</th>\n",
       "      <td>2012-01-03</td>\n",
       "      <td>92.769997</td>\n",
       "      <td>95.110001</td>\n",
       "      <td>92.769997</td>\n",
       "      <td>71.058540</td>\n",
       "      <td>8177000.0</td>\n",
       "      <td>CAT</td>\n",
       "    </tr>\n",
       "    <tr>\n",
       "      <th>4</th>\n",
       "      <td>2012-01-03</td>\n",
       "      <td>18.549999</td>\n",
       "      <td>18.860001</td>\n",
       "      <td>18.480000</td>\n",
       "      <td>14.136563</td>\n",
       "      <td>41236600.0</td>\n",
       "      <td>CSCO</td>\n",
       "    </tr>\n",
       "  </tbody>\n",
       "</table>\n",
       "</div>"
      ],
      "text/plain": [
       "         date       open       high        low      close       volume   tic\n",
       "0  2012-01-03  14.621428  14.732142  14.607142  12.669562  302220800.0  AAPL\n",
       "1  2012-01-03  48.299999  48.959999  48.139999  42.209824    6955400.0   AXP\n",
       "2  2012-01-03  74.699997  75.000000  74.120003  60.265572    6859300.0    BA\n",
       "3  2012-01-03  92.769997  95.110001  92.769997  71.058540    8177000.0   CAT\n",
       "4  2012-01-03  18.549999  18.860001  18.480000  14.136563   41236600.0  CSCO"
      ]
     },
     "execution_count": 9,
     "metadata": {},
     "output_type": "execute_result"
    }
   ],
   "source": [
    "df.sort_values(['date','tic'],ignore_index=True).head()"
   ]
  },
  {
   "cell_type": "code",
   "execution_count": 10,
   "metadata": {
    "colab": {
     "base_uri": "https://localhost:8080/"
    },
    "id": "Le342Hc1h1iI",
    "outputId": "789c16d1-4933-4727-d27f-1c0c107b8ff7"
   },
   "outputs": [
    {
     "name": "stdout",
     "output_type": "stream",
     "text": [
      "Successfully added technical indicators\n",
      "Successfully added turbulence index\n"
     ]
    }
   ],
   "source": [
    "fe = FeatureEngineer(use_technical_indicator=True,\n",
    "                    tech_indicator_list = config.TECHNICAL_INDICATORS_LIST,\n",
    "                    use_turbulence=True,\n",
    "                    user_defined_feature = False)\n",
    "\n",
    "\n",
    "processed = fe.preprocess_data(df)"
   ]
  },
  {
   "cell_type": "code",
   "execution_count": 11,
   "metadata": {
    "colab": {
     "base_uri": "https://localhost:8080/",
     "height": 351
    },
    "id": "grvhGJJII3Xn",
    "outputId": "2667dc49-47a9-4751-cfa1-98ec3a574f0e"
   },
   "outputs": [
    {
     "data": {
      "text/html": [
       "<div>\n",
       "<style scoped>\n",
       "    .dataframe tbody tr th:only-of-type {\n",
       "        vertical-align: middle;\n",
       "    }\n",
       "\n",
       "    .dataframe tbody tr th {\n",
       "        vertical-align: top;\n",
       "    }\n",
       "\n",
       "    .dataframe thead th {\n",
       "        text-align: right;\n",
       "    }\n",
       "</style>\n",
       "<table border=\"1\" class=\"dataframe\">\n",
       "  <thead>\n",
       "    <tr style=\"text-align: right;\">\n",
       "      <th></th>\n",
       "      <th>date</th>\n",
       "      <th>open</th>\n",
       "      <th>high</th>\n",
       "      <th>low</th>\n",
       "      <th>close</th>\n",
       "      <th>volume</th>\n",
       "      <th>tic</th>\n",
       "      <th>macd</th>\n",
       "      <th>rsi_30</th>\n",
       "      <th>cci_30</th>\n",
       "      <th>dx_30</th>\n",
       "      <th>turbulence</th>\n",
       "    </tr>\n",
       "  </thead>\n",
       "  <tbody>\n",
       "    <tr>\n",
       "      <th>0</th>\n",
       "      <td>2012-01-03</td>\n",
       "      <td>14.621428</td>\n",
       "      <td>14.732142</td>\n",
       "      <td>14.607142</td>\n",
       "      <td>12.669562</td>\n",
       "      <td>302220800.0</td>\n",
       "      <td>AAPL</td>\n",
       "      <td>0.0</td>\n",
       "      <td>100.0</td>\n",
       "      <td>66.666667</td>\n",
       "      <td>100.0</td>\n",
       "      <td>0.0</td>\n",
       "    </tr>\n",
       "    <tr>\n",
       "      <th>1</th>\n",
       "      <td>2012-01-03</td>\n",
       "      <td>48.299999</td>\n",
       "      <td>48.959999</td>\n",
       "      <td>48.139999</td>\n",
       "      <td>42.209824</td>\n",
       "      <td>6955400.0</td>\n",
       "      <td>AXP</td>\n",
       "      <td>0.0</td>\n",
       "      <td>100.0</td>\n",
       "      <td>66.666667</td>\n",
       "      <td>100.0</td>\n",
       "      <td>0.0</td>\n",
       "    </tr>\n",
       "    <tr>\n",
       "      <th>2</th>\n",
       "      <td>2012-01-03</td>\n",
       "      <td>74.699997</td>\n",
       "      <td>75.000000</td>\n",
       "      <td>74.120003</td>\n",
       "      <td>60.265572</td>\n",
       "      <td>6859300.0</td>\n",
       "      <td>BA</td>\n",
       "      <td>0.0</td>\n",
       "      <td>100.0</td>\n",
       "      <td>66.666667</td>\n",
       "      <td>100.0</td>\n",
       "      <td>0.0</td>\n",
       "    </tr>\n",
       "    <tr>\n",
       "      <th>3</th>\n",
       "      <td>2012-01-03</td>\n",
       "      <td>92.769997</td>\n",
       "      <td>95.110001</td>\n",
       "      <td>92.769997</td>\n",
       "      <td>71.058540</td>\n",
       "      <td>8177000.0</td>\n",
       "      <td>CAT</td>\n",
       "      <td>0.0</td>\n",
       "      <td>100.0</td>\n",
       "      <td>66.666667</td>\n",
       "      <td>100.0</td>\n",
       "      <td>0.0</td>\n",
       "    </tr>\n",
       "    <tr>\n",
       "      <th>4</th>\n",
       "      <td>2012-01-03</td>\n",
       "      <td>18.549999</td>\n",
       "      <td>18.860001</td>\n",
       "      <td>18.480000</td>\n",
       "      <td>14.136563</td>\n",
       "      <td>41236600.0</td>\n",
       "      <td>CSCO</td>\n",
       "      <td>0.0</td>\n",
       "      <td>100.0</td>\n",
       "      <td>66.666667</td>\n",
       "      <td>100.0</td>\n",
       "      <td>0.0</td>\n",
       "    </tr>\n",
       "    <tr>\n",
       "      <th>5</th>\n",
       "      <td>2012-01-03</td>\n",
       "      <td>108.739998</td>\n",
       "      <td>110.989998</td>\n",
       "      <td>108.730003</td>\n",
       "      <td>76.983955</td>\n",
       "      <td>11518700.0</td>\n",
       "      <td>CVX</td>\n",
       "      <td>0.0</td>\n",
       "      <td>100.0</td>\n",
       "      <td>66.666667</td>\n",
       "      <td>100.0</td>\n",
       "      <td>0.0</td>\n",
       "    </tr>\n",
       "    <tr>\n",
       "      <th>6</th>\n",
       "      <td>2012-01-03</td>\n",
       "      <td>41.673340</td>\n",
       "      <td>42.655396</td>\n",
       "      <td>41.659107</td>\n",
       "      <td>30.644836</td>\n",
       "      <td>7147000.0</td>\n",
       "      <td>DD</td>\n",
       "      <td>0.0</td>\n",
       "      <td>100.0</td>\n",
       "      <td>66.666667</td>\n",
       "      <td>100.0</td>\n",
       "      <td>0.0</td>\n",
       "    </tr>\n",
       "    <tr>\n",
       "      <th>7</th>\n",
       "      <td>2012-01-03</td>\n",
       "      <td>37.970001</td>\n",
       "      <td>38.459999</td>\n",
       "      <td>37.939999</td>\n",
       "      <td>34.300621</td>\n",
       "      <td>9704200.0</td>\n",
       "      <td>DIS</td>\n",
       "      <td>0.0</td>\n",
       "      <td>100.0</td>\n",
       "      <td>66.666667</td>\n",
       "      <td>100.0</td>\n",
       "      <td>0.0</td>\n",
       "    </tr>\n",
       "    <tr>\n",
       "      <th>8</th>\n",
       "      <td>2012-01-03</td>\n",
       "      <td>92.970001</td>\n",
       "      <td>96.430000</td>\n",
       "      <td>92.830002</td>\n",
       "      <td>82.778442</td>\n",
       "      <td>8645200.0</td>\n",
       "      <td>GS</td>\n",
       "      <td>0.0</td>\n",
       "      <td>100.0</td>\n",
       "      <td>66.666667</td>\n",
       "      <td>100.0</td>\n",
       "      <td>0.0</td>\n",
       "    </tr>\n",
       "    <tr>\n",
       "      <th>9</th>\n",
       "      <td>2012-01-03</td>\n",
       "      <td>42.410000</td>\n",
       "      <td>42.900002</td>\n",
       "      <td>42.070000</td>\n",
       "      <td>34.504910</td>\n",
       "      <td>8452900.0</td>\n",
       "      <td>HD</td>\n",
       "      <td>0.0</td>\n",
       "      <td>100.0</td>\n",
       "      <td>66.666667</td>\n",
       "      <td>100.0</td>\n",
       "      <td>0.0</td>\n",
       "    </tr>\n",
       "  </tbody>\n",
       "</table>\n",
       "</div>"
      ],
      "text/plain": [
       "         date        open        high         low      close       volume  \\\n",
       "0  2012-01-03   14.621428   14.732142   14.607142  12.669562  302220800.0   \n",
       "1  2012-01-03   48.299999   48.959999   48.139999  42.209824    6955400.0   \n",
       "2  2012-01-03   74.699997   75.000000   74.120003  60.265572    6859300.0   \n",
       "3  2012-01-03   92.769997   95.110001   92.769997  71.058540    8177000.0   \n",
       "4  2012-01-03   18.549999   18.860001   18.480000  14.136563   41236600.0   \n",
       "5  2012-01-03  108.739998  110.989998  108.730003  76.983955   11518700.0   \n",
       "6  2012-01-03   41.673340   42.655396   41.659107  30.644836    7147000.0   \n",
       "7  2012-01-03   37.970001   38.459999   37.939999  34.300621    9704200.0   \n",
       "8  2012-01-03   92.970001   96.430000   92.830002  82.778442    8645200.0   \n",
       "9  2012-01-03   42.410000   42.900002   42.070000  34.504910    8452900.0   \n",
       "\n",
       "    tic  macd  rsi_30     cci_30  dx_30  turbulence  \n",
       "0  AAPL   0.0   100.0  66.666667  100.0         0.0  \n",
       "1   AXP   0.0   100.0  66.666667  100.0         0.0  \n",
       "2    BA   0.0   100.0  66.666667  100.0         0.0  \n",
       "3   CAT   0.0   100.0  66.666667  100.0         0.0  \n",
       "4  CSCO   0.0   100.0  66.666667  100.0         0.0  \n",
       "5   CVX   0.0   100.0  66.666667  100.0         0.0  \n",
       "6    DD   0.0   100.0  66.666667  100.0         0.0  \n",
       "7   DIS   0.0   100.0  66.666667  100.0         0.0  \n",
       "8    GS   0.0   100.0  66.666667  100.0         0.0  \n",
       "9    HD   0.0   100.0  66.666667  100.0         0.0  "
      ]
     },
     "execution_count": 11,
     "metadata": {},
     "output_type": "execute_result"
    }
   ],
   "source": [
    "processed.sort_values(['date','tic'],ignore_index=True).head(10)"
   ]
  },
  {
   "cell_type": "code",
   "execution_count": 12,
   "metadata": {
    "id": "W0qaVGjLtgbI"
   },
   "outputs": [
    {
     "name": "stdout",
     "output_type": "stream",
     "text": [
      "52800\n",
      "14490\n"
     ]
    }
   ],
   "source": [
    "train = data_split(processed, '2009-01-01','2019-01-01')\n",
    "trade = data_split(processed, '2019-01-01','2020-12-01')\n",
    "print(len(train))\n",
    "print(len(trade))\n"
   ]
  },
  {
   "cell_type": "code",
   "execution_count": 13,
   "metadata": {
    "colab": {
     "base_uri": "https://localhost:8080/",
     "height": 199
    },
    "id": "p52zNCOhTtLR",
    "outputId": "ded764c5-982d-4c2d-9ec4-aaef0cc4d020"
   },
   "outputs": [
    {
     "data": {
      "text/html": [
       "<div>\n",
       "<style scoped>\n",
       "    .dataframe tbody tr th:only-of-type {\n",
       "        vertical-align: middle;\n",
       "    }\n",
       "\n",
       "    .dataframe tbody tr th {\n",
       "        vertical-align: top;\n",
       "    }\n",
       "\n",
       "    .dataframe thead th {\n",
       "        text-align: right;\n",
       "    }\n",
       "</style>\n",
       "<table border=\"1\" class=\"dataframe\">\n",
       "  <thead>\n",
       "    <tr style=\"text-align: right;\">\n",
       "      <th></th>\n",
       "      <th>date</th>\n",
       "      <th>open</th>\n",
       "      <th>high</th>\n",
       "      <th>low</th>\n",
       "      <th>close</th>\n",
       "      <th>volume</th>\n",
       "      <th>tic</th>\n",
       "      <th>macd</th>\n",
       "      <th>rsi_30</th>\n",
       "      <th>cci_30</th>\n",
       "      <th>dx_30</th>\n",
       "      <th>turbulence</th>\n",
       "    </tr>\n",
       "  </thead>\n",
       "  <tbody>\n",
       "    <tr>\n",
       "      <th>0</th>\n",
       "      <td>2012-01-03</td>\n",
       "      <td>14.621428</td>\n",
       "      <td>14.732142</td>\n",
       "      <td>14.607142</td>\n",
       "      <td>12.669562</td>\n",
       "      <td>302220800.0</td>\n",
       "      <td>AAPL</td>\n",
       "      <td>0.0</td>\n",
       "      <td>100.0</td>\n",
       "      <td>66.666667</td>\n",
       "      <td>100.0</td>\n",
       "      <td>0.0</td>\n",
       "    </tr>\n",
       "    <tr>\n",
       "      <th>0</th>\n",
       "      <td>2012-01-03</td>\n",
       "      <td>48.299999</td>\n",
       "      <td>48.959999</td>\n",
       "      <td>48.139999</td>\n",
       "      <td>42.209824</td>\n",
       "      <td>6955400.0</td>\n",
       "      <td>AXP</td>\n",
       "      <td>0.0</td>\n",
       "      <td>100.0</td>\n",
       "      <td>66.666667</td>\n",
       "      <td>100.0</td>\n",
       "      <td>0.0</td>\n",
       "    </tr>\n",
       "    <tr>\n",
       "      <th>0</th>\n",
       "      <td>2012-01-03</td>\n",
       "      <td>74.699997</td>\n",
       "      <td>75.000000</td>\n",
       "      <td>74.120003</td>\n",
       "      <td>60.265572</td>\n",
       "      <td>6859300.0</td>\n",
       "      <td>BA</td>\n",
       "      <td>0.0</td>\n",
       "      <td>100.0</td>\n",
       "      <td>66.666667</td>\n",
       "      <td>100.0</td>\n",
       "      <td>0.0</td>\n",
       "    </tr>\n",
       "    <tr>\n",
       "      <th>0</th>\n",
       "      <td>2012-01-03</td>\n",
       "      <td>92.769997</td>\n",
       "      <td>95.110001</td>\n",
       "      <td>92.769997</td>\n",
       "      <td>71.058540</td>\n",
       "      <td>8177000.0</td>\n",
       "      <td>CAT</td>\n",
       "      <td>0.0</td>\n",
       "      <td>100.0</td>\n",
       "      <td>66.666667</td>\n",
       "      <td>100.0</td>\n",
       "      <td>0.0</td>\n",
       "    </tr>\n",
       "    <tr>\n",
       "      <th>0</th>\n",
       "      <td>2012-01-03</td>\n",
       "      <td>18.549999</td>\n",
       "      <td>18.860001</td>\n",
       "      <td>18.480000</td>\n",
       "      <td>14.136563</td>\n",
       "      <td>41236600.0</td>\n",
       "      <td>CSCO</td>\n",
       "      <td>0.0</td>\n",
       "      <td>100.0</td>\n",
       "      <td>66.666667</td>\n",
       "      <td>100.0</td>\n",
       "      <td>0.0</td>\n",
       "    </tr>\n",
       "  </tbody>\n",
       "</table>\n",
       "</div>"
      ],
      "text/plain": [
       "         date       open       high        low      close       volume   tic  \\\n",
       "0  2012-01-03  14.621428  14.732142  14.607142  12.669562  302220800.0  AAPL   \n",
       "0  2012-01-03  48.299999  48.959999  48.139999  42.209824    6955400.0   AXP   \n",
       "0  2012-01-03  74.699997  75.000000  74.120003  60.265572    6859300.0    BA   \n",
       "0  2012-01-03  92.769997  95.110001  92.769997  71.058540    8177000.0   CAT   \n",
       "0  2012-01-03  18.549999  18.860001  18.480000  14.136563   41236600.0  CSCO   \n",
       "\n",
       "   macd  rsi_30     cci_30  dx_30  turbulence  \n",
       "0   0.0   100.0  66.666667  100.0         0.0  \n",
       "0   0.0   100.0  66.666667  100.0         0.0  \n",
       "0   0.0   100.0  66.666667  100.0         0.0  \n",
       "0   0.0   100.0  66.666667  100.0         0.0  \n",
       "0   0.0   100.0  66.666667  100.0         0.0  "
      ]
     },
     "execution_count": 13,
     "metadata": {},
     "output_type": "execute_result"
    }
   ],
   "source": [
    "train.head()"
   ]
  },
  {
   "cell_type": "code",
   "execution_count": 14,
   "metadata": {
    "colab": {
     "base_uri": "https://localhost:8080/",
     "height": 199
    },
    "id": "k9zU9YaTTvFq",
    "outputId": "c10e63ea-f3f9-4bfd-e554-cd671b9d5f23"
   },
   "outputs": [
    {
     "data": {
      "text/html": [
       "<div>\n",
       "<style scoped>\n",
       "    .dataframe tbody tr th:only-of-type {\n",
       "        vertical-align: middle;\n",
       "    }\n",
       "\n",
       "    .dataframe tbody tr th {\n",
       "        vertical-align: top;\n",
       "    }\n",
       "\n",
       "    .dataframe thead th {\n",
       "        text-align: right;\n",
       "    }\n",
       "</style>\n",
       "<table border=\"1\" class=\"dataframe\">\n",
       "  <thead>\n",
       "    <tr style=\"text-align: right;\">\n",
       "      <th></th>\n",
       "      <th>date</th>\n",
       "      <th>open</th>\n",
       "      <th>high</th>\n",
       "      <th>low</th>\n",
       "      <th>close</th>\n",
       "      <th>volume</th>\n",
       "      <th>tic</th>\n",
       "      <th>macd</th>\n",
       "      <th>rsi_30</th>\n",
       "      <th>cci_30</th>\n",
       "      <th>dx_30</th>\n",
       "      <th>turbulence</th>\n",
       "    </tr>\n",
       "  </thead>\n",
       "  <tbody>\n",
       "    <tr>\n",
       "      <th>0</th>\n",
       "      <td>2019-01-02</td>\n",
       "      <td>38.722500</td>\n",
       "      <td>39.712502</td>\n",
       "      <td>38.557499</td>\n",
       "      <td>38.562561</td>\n",
       "      <td>148158800.0</td>\n",
       "      <td>AAPL</td>\n",
       "      <td>-2.019903</td>\n",
       "      <td>37.867349</td>\n",
       "      <td>-91.567852</td>\n",
       "      <td>42.250808</td>\n",
       "      <td>51.36772</td>\n",
       "    </tr>\n",
       "    <tr>\n",
       "      <th>0</th>\n",
       "      <td>2019-01-02</td>\n",
       "      <td>93.910004</td>\n",
       "      <td>96.269997</td>\n",
       "      <td>93.769997</td>\n",
       "      <td>92.319603</td>\n",
       "      <td>4175400.0</td>\n",
       "      <td>AXP</td>\n",
       "      <td>-3.414037</td>\n",
       "      <td>41.205002</td>\n",
       "      <td>-97.751316</td>\n",
       "      <td>26.709417</td>\n",
       "      <td>51.36772</td>\n",
       "    </tr>\n",
       "    <tr>\n",
       "      <th>0</th>\n",
       "      <td>2019-01-02</td>\n",
       "      <td>316.190002</td>\n",
       "      <td>323.950012</td>\n",
       "      <td>313.709991</td>\n",
       "      <td>314.645142</td>\n",
       "      <td>3292200.0</td>\n",
       "      <td>BA</td>\n",
       "      <td>-5.550592</td>\n",
       "      <td>47.010000</td>\n",
       "      <td>-21.712382</td>\n",
       "      <td>13.611972</td>\n",
       "      <td>51.36772</td>\n",
       "    </tr>\n",
       "    <tr>\n",
       "      <th>0</th>\n",
       "      <td>2019-01-02</td>\n",
       "      <td>124.029999</td>\n",
       "      <td>127.879997</td>\n",
       "      <td>123.000000</td>\n",
       "      <td>119.302582</td>\n",
       "      <td>4783200.0</td>\n",
       "      <td>CAT</td>\n",
       "      <td>-0.686759</td>\n",
       "      <td>48.229089</td>\n",
       "      <td>-5.091209</td>\n",
       "      <td>0.873482</td>\n",
       "      <td>51.36772</td>\n",
       "    </tr>\n",
       "    <tr>\n",
       "      <th>0</th>\n",
       "      <td>2019-01-02</td>\n",
       "      <td>42.279999</td>\n",
       "      <td>43.200001</td>\n",
       "      <td>42.209999</td>\n",
       "      <td>40.057236</td>\n",
       "      <td>23833500.0</td>\n",
       "      <td>CSCO</td>\n",
       "      <td>-0.952338</td>\n",
       "      <td>44.872557</td>\n",
       "      <td>-87.518839</td>\n",
       "      <td>29.529377</td>\n",
       "      <td>51.36772</td>\n",
       "    </tr>\n",
       "  </tbody>\n",
       "</table>\n",
       "</div>"
      ],
      "text/plain": [
       "         date        open        high         low       close       volume  \\\n",
       "0  2019-01-02   38.722500   39.712502   38.557499   38.562561  148158800.0   \n",
       "0  2019-01-02   93.910004   96.269997   93.769997   92.319603    4175400.0   \n",
       "0  2019-01-02  316.190002  323.950012  313.709991  314.645142    3292200.0   \n",
       "0  2019-01-02  124.029999  127.879997  123.000000  119.302582    4783200.0   \n",
       "0  2019-01-02   42.279999   43.200001   42.209999   40.057236   23833500.0   \n",
       "\n",
       "    tic      macd     rsi_30     cci_30      dx_30  turbulence  \n",
       "0  AAPL -2.019903  37.867349 -91.567852  42.250808    51.36772  \n",
       "0   AXP -3.414037  41.205002 -97.751316  26.709417    51.36772  \n",
       "0    BA -5.550592  47.010000 -21.712382  13.611972    51.36772  \n",
       "0   CAT -0.686759  48.229089  -5.091209   0.873482    51.36772  \n",
       "0  CSCO -0.952338  44.872557 -87.518839  29.529377    51.36772  "
      ]
     },
     "execution_count": 14,
     "metadata": {},
     "output_type": "execute_result"
    }
   ],
   "source": [
    "trade.head()"
   ]
  },
  {
   "cell_type": "code",
   "execution_count": 15,
   "metadata": {},
   "outputs": [],
   "source": [
    "from finrl.env.env_stocktrading import StockTradingEnv"
   ]
  },
  {
   "cell_type": "code",
   "execution_count": 16,
   "metadata": {
    "id": "Q2zqII8rMIqn"
   },
   "outputs": [
    {
     "name": "stdout",
     "output_type": "stream",
     "text": [
      "Stock Dimension: 30, State Space: 181\n"
     ]
    }
   ],
   "source": [
    "stock_dimension = len(train.tic.unique())\n",
    "state_space = 1 + 2*stock_dimension + len(config.TECHNICAL_INDICATORS_LIST)*stock_dimension\n",
    "print(f\"Stock Dimension: {stock_dimension}, State Space: {state_space}\")"
   ]
  },
  {
   "cell_type": "code",
   "execution_count": 66,
   "metadata": {},
   "outputs": [],
   "source": [
    "\n",
    "d_i_c= ['open', 'close', 'high', 'low', 'volume', 'macd', 'rsi_30', 'cci_30']\n",
    "\n",
    "e_train_gym = StockTradingEnv(df = train, \n",
    "                              print_verbosity = 500, out_of_cash_penalty = -1e6,\n",
    "                              daily_information_cols = ['open', 'close', 'high', 'low', 'volume', 'macd', 'rsi_30', 'cci_30'])\n",
    "\n"
   ]
  },
  {
   "cell_type": "code",
   "execution_count": 67,
   "metadata": {
    "id": "364PsqckttcQ"
   },
   "outputs": [
    {
     "name": "stdout",
     "output_type": "stream",
     "text": [
      "<class 'stable_baselines3.common.vec_env.dummy_vec_env.DummyVecEnv'>\n",
      "reset called\n",
      "{'n_steps': 100, 'ent_coef': 0.01, 'learning_rate': 0.005, 'batch_size': 512, 'n_epochs': 10}\n"
     ]
    }
   ],
   "source": [
    "\n",
    "\n",
    "env_train, _ = e_train_gym.get_sb_env()\n",
    "da = DRLAgent(env = env_train)\n",
    "\n",
    "PPO_PARAMS = {\n",
    "    \"n_steps\": 100,\n",
    "    \"ent_coef\": 0.01,\n",
    "    \"learning_rate\": 0.005,\n",
    "    \"batch_size\": 512,\n",
    "    \"n_epochs\": 10\n",
    "}\n",
    "\n",
    "SAC_PARAMS = {\n",
    "    \"buffer_size\": 100000,\n",
    "    \"learning_rate\": 0.0001,\n",
    "    \"learning_starts\": 100,\n",
    "    \"batch_size\": 2048,\n",
    "    \"ent_coef\": \"auto_0.1\",\n",
    "}\n",
    "\n",
    "model = da.get_model(\"ppo\", model_kwargs = PPO_PARAMS,verbose = 0)\n",
    "# model  = da.get_model(\"td3\", model_kwargs = TD3_PARAMS)\n",
    "# model  = da.get_model(\"sac\", model_kwargs = SAC_PARAMS)"
   ]
  },
  {
   "cell_type": "code",
   "execution_count": null,
   "metadata": {},
   "outputs": [
    {
     "name": "stdout",
     "output_type": "stream",
     "text": [
      "reset called\n",
      " date index: 499 of 1760\n",
      "assets: 1121474.28, cash proportion: 41.55%\n",
      "ran out of cash at step: 839, spend: 7926.35, costs: 30.68, coh: 5728.93\n",
      "reset called\n",
      " date index: 499 of 1760\n",
      "assets: 1168656.97, cash proportion: 6.61%\n",
      "ran out of cash at step: 551, spend: 7085.42, costs: 32.26, coh: 6320.90\n",
      "reset called\n",
      "ran out of cash at step: 474, spend: 5942.52, costs: 29.34, coh: 3880.47\n",
      "reset called\n",
      "ran out of cash at step: 455, spend: 8390.84, costs: 35.88, coh: 6456.66\n",
      "reset called\n",
      "ran out of cash at step: 448, spend: 9422.39, costs: 40.07, coh: 5870.23\n",
      "reset called\n",
      "ran out of cash at step: 465, spend: 7271.95, costs: 28.16, coh: 7167.97\n",
      "reset called\n",
      "ran out of cash at step: 475, spend: 7988.17, costs: 34.04, coh: 7435.12\n",
      "reset called\n",
      "ran out of cash at step: 419, spend: 7778.29, costs: 32.19, coh: 3613.04\n",
      "reset called\n",
      "ran out of cash at step: 398, spend: 7560.23, costs: 36.64, coh: 6152.09\n",
      "reset called\n",
      "ran out of cash at step: 320, spend: 6934.62, costs: 32.21, coh: 6398.08\n",
      "reset called\n",
      "ran out of cash at step: 302, spend: 8205.24, costs: 27.10, coh: 7220.21\n",
      "reset called\n",
      "ran out of cash at step: 275, spend: 6228.84, costs: 23.57, coh: 4192.78\n",
      "reset called\n",
      "ran out of cash at step: 280, spend: 5979.88, costs: 22.89, coh: 3185.79\n",
      "reset called\n",
      "ran out of cash at step: 306, spend: 6254.31, costs: 22.98, coh: 2016.48\n",
      "reset called\n",
      "ran out of cash at step: 294, spend: 6810.88, costs: 25.56, coh: 4649.04\n",
      "reset called\n",
      "ran out of cash at step: 292, spend: 4935.95, costs: 23.18, coh: 4036.37\n",
      "reset called\n",
      "ran out of cash at step: 274, spend: 7044.79, costs: 26.52, coh: 2319.60\n",
      "reset called\n",
      "ran out of cash at step: 299, spend: 6853.27, costs: 22.84, coh: 6479.21\n",
      "reset called\n",
      "ran out of cash at step: 339, spend: 6830.77, costs: 24.53, coh: 4651.53\n",
      "reset called\n"
     ]
    }
   ],
   "source": [
    "# trained = model.learn(.train_model(model, 'sac_again', total_timesteps = 200000)\n",
    "trained = model.learn(total_timesteps=200000, \n",
    "                      tb_log_name='ppo_next', \n",
    "                      log_interval = 1, \n",
    "                      n_eval_episodes = 15)"
   ]
  },
  {
   "cell_type": "code",
   "execution_count": 39,
   "metadata": {
    "colab": {
     "base_uri": "https://localhost:8080/"
    },
    "id": "eLOnL5eYh1jR",
    "outputId": "8ec74736-cf55-4d88-d57c-694c135e3159"
   },
   "outputs": [
    {
     "name": "stdout",
     "output_type": "stream",
     "text": [
      "<class 'stable_baselines3.common.vec_env.dummy_vec_env.DummyVecEnv'>\n",
      "reset called\n",
      " date index: 9 of 483\n",
      "assets: 1000320.31, cash proportion: 95.50%\n",
      " date index: 19 of 483\n",
      "assets: 1000989.49, cash proportion: 92.35%\n",
      " date index: 29 of 483\n",
      "assets: 1003406.09, cash proportion: 89.13%\n",
      " date index: 39 of 483\n",
      "assets: 1005660.02, cash proportion: 81.47%\n",
      " date index: 49 of 483\n",
      "assets: 1003843.41, cash proportion: 75.72%\n",
      " date index: 59 of 483\n",
      "assets: 1001831.98, cash proportion: 71.16%\n",
      " date index: 69 of 483\n",
      "assets: 1006791.92, cash proportion: 69.09%\n",
      " date index: 79 of 483\n",
      "assets: 1014828.22, cash proportion: 63.59%\n",
      " date index: 89 of 483\n",
      "assets: 1004500.15, cash proportion: 61.71%\n",
      " date index: 99 of 483\n",
      "assets: 1001418.31, cash proportion: 55.17%\n",
      " date index: 109 of 483\n",
      "assets: 1010338.11, cash proportion: 49.65%\n",
      " date index: 119 of 483\n",
      "assets: 1024861.38, cash proportion: 46.13%\n",
      " date index: 129 of 483\n",
      "assets: 1020843.41, cash proportion: 43.57%\n",
      " date index: 139 of 483\n",
      "assets: 1029194.98, cash proportion: 36.81%\n",
      " date index: 149 of 483\n",
      "assets: 986342.16, cash proportion: 36.55%\n",
      " date index: 159 of 483\n",
      "assets: 991925.92, cash proportion: 32.43%\n",
      " date index: 169 of 483\n",
      "assets: 997377.22, cash proportion: 28.97%\n",
      " date index: 179 of 483\n",
      "assets: 1032177.52, cash proportion: 23.19%\n",
      " date index: 189 of 483\n",
      "assets: 1010452.35, cash proportion: 20.65%\n",
      " date index: 199 of 483\n",
      "assets: 1022100.01, cash proportion: 14.99%\n",
      " date index: 209 of 483\n",
      "assets: 1015170.58, cash proportion: 9.22%\n",
      " date index: 219 of 483\n",
      "assets: 1040515.46, cash proportion: 4.15%\n",
      " date index: 229 of 483\n",
      "assets: 1067093.68, cash proportion: 5.94%\n",
      "ran out of cash at step: 234, spend: 22876.36, costs: 100.06, coh: 22211.72\n",
      "reset called\n",
      "hit end!\n"
     ]
    }
   ],
   "source": [
    "\n",
    "\n",
    "\n",
    "e_trade_gym = StockTradingEnv(df = trade, daily_information_cols = d_i_c)\n",
    "env_trade, obs_trade = e_trade_gym.get_sb_env()\n",
    "df_account_value, df_actions = DRLAgent.DRL_prediction(model=model,\n",
    "                        test_data = trade,\n",
    "                        test_env = env_trade,\n",
    "                        test_obs = obs_trade)"
   ]
  },
  {
   "cell_type": "code",
   "execution_count": 40,
   "metadata": {
    "id": "efwBi84ch1jE"
   },
   "outputs": [],
   "source": [
    "data_turbulence = processed[(processed.date<'2019-01-01') & (processed.date>='2009-01-01')]\n",
    "insample_turbulence = data_turbulence.drop_duplicates(subset=['date'])"
   ]
  },
  {
   "cell_type": "code",
   "execution_count": 41,
   "metadata": {
    "colab": {
     "base_uri": "https://localhost:8080/"
    },
    "id": "VHZMBpSqh1jG",
    "outputId": "9ab772a0-2905-48da-82ac-1bd0ee9bab63"
   },
   "outputs": [
    {
     "data": {
      "text/plain": [
       "count    1760.000000\n",
       "mean       33.195118\n",
       "std        36.829039\n",
       "min         0.000000\n",
       "25%        13.397484\n",
       "50%        24.521196\n",
       "75%        39.585418\n",
       "max       332.062852\n",
       "Name: turbulence, dtype: float64"
      ]
     },
     "execution_count": 41,
     "metadata": {},
     "output_type": "execute_result"
    }
   ],
   "source": [
    "insample_turbulence.turbulence.describe()"
   ]
  },
  {
   "cell_type": "code",
   "execution_count": 42,
   "metadata": {
    "id": "yuwDPkV9h1jL"
   },
   "outputs": [
    {
     "name": "stdout",
     "output_type": "stream",
     "text": [
      "Turb threshold 332.06\n"
     ]
    }
   ],
   "source": [
    "turbulence_threshold = np.quantile(insample_turbulence.turbulence.values,1)\n",
    "print(f\"Turb threshold {turbulence_threshold:0.2f}\")"
   ]
  },
  {
   "cell_type": "markdown",
   "metadata": {
    "id": "U5mmgQF_h1jQ"
   },
   "source": [
    "### Trade\n",
    "\n",
    "DRL model needs to update periodically in order to take full advantage of the data, ideally we need to retrain our model yearly, quarterly, or monthly. We also need to tune the parameters along the way, in this notebook I only use the in-sample data from 2009-01 to 2018-12 to tune the parameters once, so there is some alpha decay here as the length of trade date extends. \n",
    "\n",
    "Numerous hyperparameters – e.g. the learning rate, the total number of samples to train on – influence the learning process and are usually determined by testing some variations."
   ]
  },
  {
   "cell_type": "code",
   "execution_count": 43,
   "metadata": {},
   "outputs": [
    {
     "data": {
      "text/html": [
       "<div>\n",
       "<style scoped>\n",
       "    .dataframe tbody tr th:only-of-type {\n",
       "        vertical-align: middle;\n",
       "    }\n",
       "\n",
       "    .dataframe tbody tr th {\n",
       "        vertical-align: top;\n",
       "    }\n",
       "\n",
       "    .dataframe thead th {\n",
       "        text-align: right;\n",
       "    }\n",
       "</style>\n",
       "<table border=\"1\" class=\"dataframe\">\n",
       "  <thead>\n",
       "    <tr style=\"text-align: right;\">\n",
       "      <th></th>\n",
       "      <th>cash</th>\n",
       "      <th>asset_value</th>\n",
       "      <th>total_assets</th>\n",
       "      <th>dates</th>\n",
       "      <th>date</th>\n",
       "    </tr>\n",
       "  </thead>\n",
       "  <tbody>\n",
       "    <tr>\n",
       "      <th>0</th>\n",
       "      <td>1000000.000000</td>\n",
       "      <td>0.000000</td>\n",
       "      <td>1.000000e+06</td>\n",
       "      <td>2019-01-02</td>\n",
       "      <td>2019-01-02</td>\n",
       "    </tr>\n",
       "    <tr>\n",
       "      <th>1</th>\n",
       "      <td>1000000.000000</td>\n",
       "      <td>0.000000</td>\n",
       "      <td>1.000000e+06</td>\n",
       "      <td>2019-01-03</td>\n",
       "      <td>2019-01-03</td>\n",
       "    </tr>\n",
       "    <tr>\n",
       "      <th>2</th>\n",
       "      <td>985439.735232</td>\n",
       "      <td>14115.136868</td>\n",
       "      <td>9.995549e+05</td>\n",
       "      <td>2019-01-04</td>\n",
       "      <td>2019-01-04</td>\n",
       "    </tr>\n",
       "    <tr>\n",
       "      <th>3</th>\n",
       "      <td>982655.895588</td>\n",
       "      <td>17323.333412</td>\n",
       "      <td>9.999792e+05</td>\n",
       "      <td>2019-01-07</td>\n",
       "      <td>2019-01-07</td>\n",
       "    </tr>\n",
       "    <tr>\n",
       "      <th>4</th>\n",
       "      <td>968194.690819</td>\n",
       "      <td>31965.252962</td>\n",
       "      <td>1.000160e+06</td>\n",
       "      <td>2019-01-08</td>\n",
       "      <td>2019-01-08</td>\n",
       "    </tr>\n",
       "  </tbody>\n",
       "</table>\n",
       "</div>"
      ],
      "text/plain": [
       "             cash   asset_value  total_assets       dates        date\n",
       "0  1000000.000000      0.000000  1.000000e+06  2019-01-02  2019-01-02\n",
       "1  1000000.000000      0.000000  1.000000e+06  2019-01-03  2019-01-03\n",
       "2   985439.735232  14115.136868  9.995549e+05  2019-01-04  2019-01-04\n",
       "3   982655.895588  17323.333412  9.999792e+05  2019-01-07  2019-01-07\n",
       "4   968194.690819  31965.252962  1.000160e+06  2019-01-08  2019-01-08"
      ]
     },
     "execution_count": 43,
     "metadata": {},
     "output_type": "execute_result"
    }
   ],
   "source": [
    "df_account_value['date'] = df_account_value.dates\n",
    "df_account_value.head()\n",
    "\n",
    "\n"
   ]
  },
  {
   "cell_type": "code",
   "execution_count": 44,
   "metadata": {},
   "outputs": [
    {
     "data": {
      "text/plain": [
       "[<matplotlib.lines.Line2D at 0x7ffac0fac438>]"
      ]
     },
     "execution_count": 44,
     "metadata": {},
     "output_type": "execute_result"
    },
    {
     "data": {
      "image/png": "[encoded data removed]",
      "text/plain": [
       "<Figure size 432x288 with 1 Axes>"
      ]
     },
     "metadata": {
      "needs_background": "light"
     },
     "output_type": "display_data"
    }
   ],
   "source": [
    "# df_account_value.head()\n",
    "%matplotlib inline\n",
    "\n",
    "plt.plot(df_account_value.date, df_account_value.total_assets)"
   ]
  },
  {
   "cell_type": "code",
   "execution_count": 45,
   "metadata": {},
   "outputs": [
    {
     "data": {
      "text/html": [
       "<div>\n",
       "<style scoped>\n",
       "    .dataframe tbody tr th:only-of-type {\n",
       "        vertical-align: middle;\n",
       "    }\n",
       "\n",
       "    .dataframe tbody tr th {\n",
       "        vertical-align: top;\n",
       "    }\n",
       "\n",
       "    .dataframe thead th {\n",
       "        text-align: right;\n",
       "    }\n",
       "</style>\n",
       "<table border=\"1\" class=\"dataframe\">\n",
       "  <thead>\n",
       "    <tr style=\"text-align: right;\">\n",
       "      <th></th>\n",
       "      <th>dates</th>\n",
       "      <th>actions</th>\n",
       "    </tr>\n",
       "  </thead>\n",
       "  <tbody>\n",
       "    <tr>\n",
       "      <th>0</th>\n",
       "      <td>2019-01-02</td>\n",
       "      <td>[10.0, -2.8604507, 10.0, 4.591017, -10.0, 10.0...</td>\n",
       "    </tr>\n",
       "    <tr>\n",
       "      <th>1</th>\n",
       "      <td>2019-01-03</td>\n",
       "      <td>[5.361924, -10.0, -10.0, -10.0, 10.0, -10.0, 1...</td>\n",
       "    </tr>\n",
       "    <tr>\n",
       "      <th>2</th>\n",
       "      <td>2019-01-04</td>\n",
       "      <td>[-10.0, 10.0, 10.0, -10.0, 6.0798163, 2.450914...</td>\n",
       "    </tr>\n",
       "    <tr>\n",
       "      <th>3</th>\n",
       "      <td>2019-01-07</td>\n",
       "      <td>[6.503408, -10.0, -10.0, -10.0, -10.0, -0.5617...</td>\n",
       "    </tr>\n",
       "    <tr>\n",
       "      <th>4</th>\n",
       "      <td>2019-01-08</td>\n",
       "      <td>[-10.0, -10.0, 10.0, -10.0, -10.0, 10.0, -10.0...</td>\n",
       "    </tr>\n",
       "    <tr>\n",
       "      <th>...</th>\n",
       "      <td>...</td>\n",
       "      <td>...</td>\n",
       "    </tr>\n",
       "    <tr>\n",
       "      <th>229</th>\n",
       "      <td>2019-11-27</td>\n",
       "      <td>[10.0, 10.0, 10.0, -10.0, -2.608604, 10.0, -10...</td>\n",
       "    </tr>\n",
       "    <tr>\n",
       "      <th>230</th>\n",
       "      <td>2019-11-29</td>\n",
       "      <td>[10.0, 1.7495966, 10.0, -10.0, 10.0, 10.0, -10...</td>\n",
       "    </tr>\n",
       "    <tr>\n",
       "      <th>231</th>\n",
       "      <td>2019-12-02</td>\n",
       "      <td>[10.0, 10.0, -0.32247066, -10.0, 10.0, 10.0, -...</td>\n",
       "    </tr>\n",
       "    <tr>\n",
       "      <th>232</th>\n",
       "      <td>2019-12-03</td>\n",
       "      <td>[-2.0030618, 10.0, -10.0, -10.0, 10.0, 10.0, 1...</td>\n",
       "    </tr>\n",
       "    <tr>\n",
       "      <th>233</th>\n",
       "      <td>2019-12-04</td>\n",
       "      <td>[-10.0, 10.0, 10.0, 10.0, -10.0, 10.0, -10.0, ...</td>\n",
       "    </tr>\n",
       "  </tbody>\n",
       "</table>\n",
       "<p>234 rows × 2 columns</p>\n",
       "</div>"
      ],
      "text/plain": [
       "          dates                                            actions\n",
       "0    2019-01-02  [10.0, -2.8604507, 10.0, 4.591017, -10.0, 10.0...\n",
       "1    2019-01-03  [5.361924, -10.0, -10.0, -10.0, 10.0, -10.0, 1...\n",
       "2    2019-01-04  [-10.0, 10.0, 10.0, -10.0, 6.0798163, 2.450914...\n",
       "3    2019-01-07  [6.503408, -10.0, -10.0, -10.0, -10.0, -0.5617...\n",
       "4    2019-01-08  [-10.0, -10.0, 10.0, -10.0, -10.0, 10.0, -10.0...\n",
       "..          ...                                                ...\n",
       "229  2019-11-27  [10.0, 10.0, 10.0, -10.0, -2.608604, 10.0, -10...\n",
       "230  2019-11-29  [10.0, 1.7495966, 10.0, -10.0, 10.0, 10.0, -10...\n",
       "231  2019-12-02  [10.0, 10.0, -0.32247066, -10.0, 10.0, 10.0, -...\n",
       "232  2019-12-03  [-2.0030618, 10.0, -10.0, -10.0, 10.0, 10.0, 1...\n",
       "233  2019-12-04  [-10.0, 10.0, 10.0, 10.0, -10.0, 10.0, -10.0, ...\n",
       "\n",
       "[234 rows x 2 columns]"
      ]
     },
     "execution_count": 45,
     "metadata": {},
     "output_type": "execute_result"
    }
   ],
   "source": [
    "df_actions"
   ]
  },
  {
   "cell_type": "code",
   "execution_count": 46,
   "metadata": {
    "colab": {
     "base_uri": "https://localhost:8080/"
    },
    "id": "ERxw3KqLkcP4",
    "outputId": "0a0652e7-4d95-4a15-aac9-4789dd5abf8c"
   },
   "outputs": [
    {
     "data": {
      "text/plain": [
       "(235, 5)"
      ]
     },
     "execution_count": 46,
     "metadata": {},
     "output_type": "execute_result"
    }
   ],
   "source": [
    "df_account_value.shape"
   ]
  },
  {
   "cell_type": "code",
   "execution_count": 47,
   "metadata": {
    "colab": {
     "base_uri": "https://localhost:8080/",
     "height": 199
    },
    "id": "2yRkNguY5yvp",
    "outputId": "e668cb5e-d63f-4c2b-a0a0-c2a72b4ac47d"
   },
   "outputs": [
    {
     "data": {
      "text/html": [
       "<div>\n",
       "<style scoped>\n",
       "    .dataframe tbody tr th:only-of-type {\n",
       "        vertical-align: middle;\n",
       "    }\n",
       "\n",
       "    .dataframe tbody tr th {\n",
       "        vertical-align: top;\n",
       "    }\n",
       "\n",
       "    .dataframe thead th {\n",
       "        text-align: right;\n",
       "    }\n",
       "</style>\n",
       "<table border=\"1\" class=\"dataframe\">\n",
       "  <thead>\n",
       "    <tr style=\"text-align: right;\">\n",
       "      <th></th>\n",
       "      <th>cash</th>\n",
       "      <th>asset_value</th>\n",
       "      <th>total_assets</th>\n",
       "      <th>dates</th>\n",
       "      <th>date</th>\n",
       "    </tr>\n",
       "  </thead>\n",
       "  <tbody>\n",
       "    <tr>\n",
       "      <th>0</th>\n",
       "      <td>1000000.000000</td>\n",
       "      <td>0.000000</td>\n",
       "      <td>1.000000e+06</td>\n",
       "      <td>2019-01-02</td>\n",
       "      <td>2019-01-02</td>\n",
       "    </tr>\n",
       "    <tr>\n",
       "      <th>1</th>\n",
       "      <td>1000000.000000</td>\n",
       "      <td>0.000000</td>\n",
       "      <td>1.000000e+06</td>\n",
       "      <td>2019-01-03</td>\n",
       "      <td>2019-01-03</td>\n",
       "    </tr>\n",
       "    <tr>\n",
       "      <th>2</th>\n",
       "      <td>985439.735232</td>\n",
       "      <td>14115.136868</td>\n",
       "      <td>9.995549e+05</td>\n",
       "      <td>2019-01-04</td>\n",
       "      <td>2019-01-04</td>\n",
       "    </tr>\n",
       "    <tr>\n",
       "      <th>3</th>\n",
       "      <td>982655.895588</td>\n",
       "      <td>17323.333412</td>\n",
       "      <td>9.999792e+05</td>\n",
       "      <td>2019-01-07</td>\n",
       "      <td>2019-01-07</td>\n",
       "    </tr>\n",
       "    <tr>\n",
       "      <th>4</th>\n",
       "      <td>968194.690819</td>\n",
       "      <td>31965.252962</td>\n",
       "      <td>1.000160e+06</td>\n",
       "      <td>2019-01-08</td>\n",
       "      <td>2019-01-08</td>\n",
       "    </tr>\n",
       "  </tbody>\n",
       "</table>\n",
       "</div>"
      ],
      "text/plain": [
       "             cash   asset_value  total_assets       dates        date\n",
       "0  1000000.000000      0.000000  1.000000e+06  2019-01-02  2019-01-02\n",
       "1  1000000.000000      0.000000  1.000000e+06  2019-01-03  2019-01-03\n",
       "2   985439.735232  14115.136868  9.995549e+05  2019-01-04  2019-01-04\n",
       "3   982655.895588  17323.333412  9.999792e+05  2019-01-07  2019-01-07\n",
       "4   968194.690819  31965.252962  1.000160e+06  2019-01-08  2019-01-08"
      ]
     },
     "execution_count": 47,
     "metadata": {},
     "output_type": "execute_result"
    }
   ],
   "source": [
    "df_account_value.head()"
   ]
  },
  {
   "cell_type": "code",
   "execution_count": 51,
   "metadata": {},
   "outputs": [],
   "source": [
    "import pandas as pd\n",
    "import numpy as np\n",
    "\n",
    "from pyfolio import timeseries\n",
    "import pyfolio\n",
    "import matplotlib.pyplot as plt\n",
    "\n",
    "from finrl.marketdata.yahoodownloader import YahooDownloader\n",
    "from finrl.config import config\n",
    "\n",
    "\n",
    "def BackTestStats(account_value, value_col_name = 'account_value'):\n",
    "    df = account_value.copy()\n",
    "    df = get_daily_return(df, value_col_name = value_col_name)\n",
    "    DRL_strat = backtest_strat(df)\n",
    "    perf_func = timeseries.perf_stats\n",
    "    perf_stats_all = perf_func(\n",
    "        returns=DRL_strat,\n",
    "        factor_returns=DRL_strat,\n",
    "        positions=None,\n",
    "        transactions=None,\n",
    "        turnover_denom=\"AGB\",\n",
    "    )\n",
    "    print(perf_stats_all)\n",
    "    return perf_stats_all\n",
    "\n",
    "\n",
    "def BaselineStats(\n",
    "    baseline_ticker=\"^DJI\",\n",
    "    baseline_start=config.START_TRADE_DATE,\n",
    "    baseline_end=config.END_DATE,\n",
    "):\n",
    "\n",
    "    dji, dow_strat = baseline_strat(\n",
    "        ticker=baseline_ticker, start=baseline_start, end=baseline_end\n",
    "    )\n",
    "    perf_func = timeseries.perf_stats\n",
    "    perf_stats_all = perf_func(\n",
    "        returns=dow_strat,\n",
    "        factor_returns=dow_strat,\n",
    "        positions=None,\n",
    "        transactions=None,\n",
    "        turnover_denom=\"AGB\",\n",
    "    )\n",
    "    print(perf_stats_all)\n",
    "    return perf_stats_all\n",
    "\n",
    "\n",
    "def BackTestPlot(\n",
    "    account_value,\n",
    "    baseline_start=config.START_TRADE_DATE,\n",
    "    baseline_end=config.END_DATE,\n",
    "    baseline_ticker=\"^DJI\",value_col_name  ='account_value'\n",
    "):\n",
    "\n",
    "    df = account_value.copy()\n",
    "    df = get_daily_return(df, value_col_name = value_col_name)\n",
    "\n",
    "    dji, dow_strat = baseline_strat(\n",
    "        ticker=baseline_ticker, start=baseline_start, end=baseline_end\n",
    "    )\n",
    "    df[\"date\"] = dji[\"date\"]\n",
    "    df = df.dropna()\n",
    "\n",
    "    DRL_strat = backtest_strat(df)\n",
    "\n",
    "    with pyfolio.plotting.plotting_context(font_scale=1.1):\n",
    "        pyfolio.create_full_tear_sheet(\n",
    "            returns=DRL_strat, benchmark_rets=dow_strat, set_context=False\n",
    "        )\n",
    "\n",
    "\n",
    "def backtest_strat(df):\n",
    "    strategy_ret = df.copy()\n",
    "    strategy_ret[\"date\"] = pd.to_datetime(strategy_ret[\"date\"])\n",
    "    strategy_ret.set_index(\"date\", drop=False, inplace=True)\n",
    "    strategy_ret.index = strategy_ret.index.tz_localize(\"UTC\")\n",
    "    del strategy_ret[\"date\"]\n",
    "    ts = pd.Series(strategy_ret[\"daily_return\"].values, index=strategy_ret.index)\n",
    "    return ts\n",
    "\n",
    "\n",
    "def baseline_strat(ticker, start, end):\n",
    "    dji = YahooDownloader(\n",
    "        start_date=start, end_date=end, ticker_list=[ticker]\n",
    "    ).fetch_data()\n",
    "    dji[\"daily_return\"] = dji[\"close\"].pct_change(1)\n",
    "    dow_strat = backtest_strat(dji)\n",
    "    return dji, dow_strat\n",
    "\n",
    "\n",
    "def get_daily_return(df, value_col_name = 'account_value'):\n",
    "    df[\"daily_return\"] = df[value_col_name].pct_change(1)\n",
    "    # df=df.dropna()\n",
    "    sharpe = (252 ** 0.5) * df[\"daily_return\"].mean() / df[\"daily_return\"].std()\n",
    "\n",
    "    annual_return = ((df[\"daily_return\"].mean() + 1) ** 252 - 1) * 100\n",
    "    print(\"annual return: \", annual_return)\n",
    "    print(\"sharpe ratio: \", sharpe)\n",
    "    return df\n"
   ]
  },
  {
   "cell_type": "markdown",
   "metadata": {
    "id": "W6vvNSC6h1jZ"
   },
   "source": [
    "<a id='6'></a>\n",
    "# Part 7: Backtest Our Strategy\n",
    "Backtesting plays a key role in evaluating the performance of a trading strategy. Automated backtesting tool is preferred because it reduces the human error. We usually use the Quantopian pyfolio package to backtest our trading strategies. It is easy to use and consists of various individual plots that provide a comprehensive image of the performance of a trading strategy."
   ]
  },
  {
   "cell_type": "code",
   "execution_count": 52,
   "metadata": {
    "colab": {
     "base_uri": "https://localhost:8080/"
    },
    "id": "Nzkr9yv-AdV_",
    "outputId": "90bea8f7-fa0e-43fe-8e87-eeda1cee4724"
   },
   "outputs": [
    {
     "name": "stdout",
     "output_type": "stream",
     "text": [
      "==============Get Backtest Results===========\n",
      "annual return:  4.779460014484038\n",
      "sharpe ratio:  0.6124371232844601\n",
      "Annual return          0.044564\n",
      "Cumulative returns     0.041496\n",
      "Annual volatility      0.076239\n",
      "Sharpe ratio           0.612437\n",
      "Calmar ratio           0.795794\n",
      "Stability              0.298208\n",
      "Max drawdown          -0.056000\n",
      "Omega ratio            1.124953\n",
      "Sortino ratio          0.818653\n",
      "Skew                        NaN\n",
      "Kurtosis                    NaN\n",
      "Tail ratio             0.902379\n",
      "Daily value at risk   -0.009420\n",
      "Alpha                  0.000000\n",
      "Beta                   1.000000\n",
      "dtype: float64\n"
     ]
    }
   ],
   "source": [
    "print(\"==============Get Backtest Results===========\")\n",
    "perf_stats_all = BackTestStats(account_value=df_account_value,value_col_name='total_assets' )\n",
    "perf_stats_all = pd.DataFrame(perf_stats_all)\n",
    "# perf_stats_all.to_csv(\"./\"+config.RESULTS_DIR+\"/perf_stats_all_\"+now+'.csv')"
   ]
  },
  {
   "cell_type": "markdown",
   "metadata": {
    "id": "9U6Suru3h1jc"
   },
   "source": [
    "<a id='6.2'></a>\n",
    "## 7.2 BackTestPlot"
   ]
  },
  {
   "cell_type": "code",
   "execution_count": 54,
   "metadata": {
    "colab": {
     "base_uri": "https://localhost:8080/",
     "height": 1000
    },
    "id": "lKRGftSS7pNM",
    "outputId": "d7613aac-003e-461d-98f4-2b358105a9e9"
   },
   "outputs": [
    {
     "name": "stdout",
     "output_type": "stream",
     "text": [
      "==============Compare to DJIA===========\n",
      "annual return:  4.779460014484038\n",
      "sharpe ratio:  0.6124371232844601\n",
      "[*********************100%***********************]  1 of 1 completed\n",
      "Shape of DataFrame:  (483, 7)\n"
     ]
    },
    {
     "data": {
      "text/html": [
       "<table border=\"1\" class=\"dataframe\">\n",
       "  <thead>\n",
       "    <tr style=\"text-align: right;\"><th>Start date</th><td colspan=2>2019-01-03</td></tr>\n",
       "    <tr style=\"text-align: right;\"><th>End date</th><td colspan=2>2019-12-05</td></tr>\n",
       "    <tr style=\"text-align: right;\"><th>Total months</th><td colspan=2>11</td></tr>\n",
       "    <tr style=\"text-align: right;\">\n",
       "      <th></th>\n",
       "      <th>Backtest</th>\n",
       "    </tr>\n",
       "  </thead>\n",
       "  <tbody>\n",
       "    <tr>\n",
       "      <th>Annual return</th>\n",
       "      <td>4.476%</td>\n",
       "    </tr>\n",
       "    <tr>\n",
       "      <th>Cumulative returns</th>\n",
       "      <td>4.15%</td>\n",
       "    </tr>\n",
       "    <tr>\n",
       "      <th>Annual volatility</th>\n",
       "      <td>7.624%</td>\n",
       "    </tr>\n",
       "    <tr>\n",
       "      <th>Sharpe ratio</th>\n",
       "      <td>0.61</td>\n",
       "    </tr>\n",
       "    <tr>\n",
       "      <th>Calmar ratio</th>\n",
       "      <td>0.80</td>\n",
       "    </tr>\n",
       "    <tr>\n",
       "      <th>Stability</th>\n",
       "      <td>0.30</td>\n",
       "    </tr>\n",
       "    <tr>\n",
       "      <th>Max drawdown</th>\n",
       "      <td>-5.6%</td>\n",
       "    </tr>\n",
       "    <tr>\n",
       "      <th>Omega ratio</th>\n",
       "      <td>1.12</td>\n",
       "    </tr>\n",
       "    <tr>\n",
       "      <th>Sortino ratio</th>\n",
       "      <td>0.82</td>\n",
       "    </tr>\n",
       "    <tr>\n",
       "      <th>Skew</th>\n",
       "      <td>-0.93</td>\n",
       "    </tr>\n",
       "    <tr>\n",
       "      <th>Kurtosis</th>\n",
       "      <td>3.31</td>\n",
       "    </tr>\n",
       "    <tr>\n",
       "      <th>Tail ratio</th>\n",
       "      <td>0.90</td>\n",
       "    </tr>\n",
       "    <tr>\n",
       "      <th>Daily value at risk</th>\n",
       "      <td>-0.942%</td>\n",
       "    </tr>\n",
       "    <tr>\n",
       "      <th>Alpha</th>\n",
       "      <td>0.06</td>\n",
       "    </tr>\n",
       "    <tr>\n",
       "      <th>Beta</th>\n",
       "      <td>-0.04</td>\n",
       "    </tr>\n",
       "  </tbody>\n",
       "</table>"
      ],
      "text/plain": [
       "<IPython.core.display.HTML object>"
      ]
     },
     "metadata": {},
     "output_type": "display_data"
    },
    {
     "data": {
      "text/html": [
       "<table border=\"1\" class=\"dataframe\">\n",
       "  <thead>\n",
       "    <tr style=\"text-align: right;\">\n",
       "      <th>Worst drawdown periods</th>\n",
       "      <th>Net drawdown in %</th>\n",
       "      <th>Peak date</th>\n",
       "      <th>Valley date</th>\n",
       "      <th>Recovery date</th>\n",
       "      <th>Duration</th>\n",
       "    </tr>\n",
       "  </thead>\n",
       "  <tbody>\n",
       "    <tr>\n",
       "      <th>0</th>\n",
       "      <td>5.60</td>\n",
       "      <td>2019-07-16</td>\n",
       "      <td>2019-08-15</td>\n",
       "      <td>2019-11-08</td>\n",
       "      <td>84</td>\n",
       "    </tr>\n",
       "    <tr>\n",
       "      <th>1</th>\n",
       "      <td>2.75</td>\n",
       "      <td>2019-11-27</td>\n",
       "      <td>2019-12-04</td>\n",
       "      <td>NaT</td>\n",
       "      <td>NaN</td>\n",
       "    </tr>\n",
       "    <tr>\n",
       "      <th>2</th>\n",
       "      <td>2.66</td>\n",
       "      <td>2019-04-29</td>\n",
       "      <td>2019-06-03</td>\n",
       "      <td>2019-06-19</td>\n",
       "      <td>38</td>\n",
       "    </tr>\n",
       "    <tr>\n",
       "      <th>3</th>\n",
       "      <td>0.74</td>\n",
       "      <td>2019-06-21</td>\n",
       "      <td>2019-06-28</td>\n",
       "      <td>2019-07-12</td>\n",
       "      <td>16</td>\n",
       "    </tr>\n",
       "    <tr>\n",
       "      <th>4</th>\n",
       "      <td>0.61</td>\n",
       "      <td>2019-02-26</td>\n",
       "      <td>2019-03-25</td>\n",
       "      <td>2019-04-02</td>\n",
       "      <td>26</td>\n",
       "    </tr>\n",
       "  </tbody>\n",
       "</table>"
      ],
      "text/plain": [
       "<IPython.core.display.HTML object>"
      ]
     },
     "metadata": {},
     "output_type": "display_data"
    },
    {
     "name": "stderr",
     "output_type": "stream",
     "text": [
      "/opt/conda/lib/python3.6/site-packages/pyfolio/tears.py:907: UserWarning: Passed returns do not overlap with anyinteresting times.\n",
      "  'interesting times.', UserWarning)\n"
     ]
    },
    {
     "data": {
      "image/png": "[encoded data removed]",
      "text/plain": [
       "<Figure size 1008x5184 with 13 Axes>"
      ]
     },
     "metadata": {
      "needs_background": "light"
     },
     "output_type": "display_data"
    }
   ],
   "source": [
    "print(\"==============Compare to DJIA===========\")\n",
    "%matplotlib inline\n",
    "# S&P 500: ^GSPC\n",
    "# Dow Jones Index: ^DJI\n",
    "# NASDAQ 100: ^NDX\n",
    "BackTestPlot(df_account_value, \n",
    "             baseline_ticker = '^GSPC', \n",
    "             baseline_start = '2019-01-01',\n",
    "             baseline_end = '2020-12-01', value_col_name = 'total_assets')"
   ]
  },
  {
   "cell_type": "markdown",
   "metadata": {
    "id": "SlLT9_5WN478"
   },
   "source": [
    "<a id='6.3'></a>\n",
    "## 7.3 Baseline Stats"
   ]
  },
  {
   "cell_type": "code",
   "execution_count": 37,
   "metadata": {
    "colab": {
     "base_uri": "https://localhost:8080/"
    },
    "id": "YktexHcqh1jc",
    "outputId": "25a45cd2-f155-40ed-d40a-639683d229b4"
   },
   "outputs": [
    {
     "name": "stdout",
     "output_type": "stream",
     "text": [
      "==============Get Baseline Stats===========\n",
      "[*********************100%***********************]  1 of 1 completed\n",
      "Shape of DataFrame:  (483, 7)\n",
      "Annual return          0.132593\n",
      "Cumulative returns     0.269525\n",
      "Annual volatility      0.280347\n",
      "Sharpe ratio           0.586312\n",
      "Calmar ratio           0.357526\n",
      "Stability              0.060828\n",
      "Max drawdown          -0.370862\n",
      "Omega ratio            1.137261\n",
      "Sortino ratio          0.807330\n",
      "Skew                        NaN\n",
      "Kurtosis                    NaN\n",
      "Tail ratio             0.844803\n",
      "Daily value at risk   -0.034668\n",
      "Alpha                  0.000000\n",
      "Beta                   1.000000\n",
      "dtype: float64\n"
     ]
    }
   ],
   "source": [
    "print(\"==============Get Baseline Stats===========\")\n",
    "baesline_perf_stats=BaselineStats('^DJI',\n",
    "                                  baseline_start = '2019-01-01',\n",
    "                                  baseline_end = '2020-12-01')"
   ]
  },
  {
   "cell_type": "code",
   "execution_count": null,
   "metadata": {
    "id": "A6W2J57ch1j9"
   },
   "outputs": [],
   "source": []
  }
 ],
 "metadata": {
  "colab": {
   "collapsed_sections": [
    "uijiWgkuh1jB",
    "3Zpv4S0-fDBv"
   ],
   "include_colab_link": true,
   "name": "FinRL_multiple_stock_trading.ipynb",
   "provenance": [],
   "toc_visible": true
  },
  "kernelspec": {
   "display_name": "Python 3",
   "language": "python",
   "name": "python3"
  },
  "language_info": {
   "codemirror_mode": {
    "name": "ipython",
    "version": 3
   },
   "file_extension": ".py",
   "mimetype": "text/x-python",
   "name": "python",
   "nbconvert_exporter": "python",
   "pygments_lexer": "ipython3",
   "version": "3.6.12"
  }
 },
 "nbformat": 4,
 "nbformat_minor": 4
}
