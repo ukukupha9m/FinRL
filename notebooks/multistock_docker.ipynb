{
 "cells": [
  {
   "cell_type": "markdown",
   "metadata": {
    "colab_type": "text",
    "id": "view-in-github"
   },
   "source": [
    "<a href=\"https://colab.research.google.com/github/AI4Finance-LLC/FinRL-Library/blob/master/FinRL_multiple_stock_trading.ipynb\" target=\"_parent\"><img src=\"https://colab.research.google.com/assets/colab-badge.svg\" alt=\"Open In Colab\"/></a>"
   ]
  },
  {
   "cell_type": "markdown",
   "metadata": {
    "id": "gXaoZs2lh1hi"
   },
   "source": [
    "# Deep Reinforcement Learning for Stock Trading from Scratch: Multiple Stock Trading\n",
    "\n",
    "Tutorials to use OpenAI DRL to trade multiple stocks in one Jupyter Notebook | Presented at NeurIPS 2020: Deep RL Workshop\n",
    "\n",
    "* This blog is based on our paper: FinRL: A Deep Reinforcement Learning Library for Automated Stock Trading in Quantitative Finance, presented at NeurIPS 2020: Deep RL Workshop.\n",
    "* Check out medium blog for detailed explanations: https://towardsdatascience.com/finrl-for-quantitative-finance-tutorial-for-multiple-stock-trading-7b00763b7530\n",
    "* Please report any issues to our Github: https://github.com/AI4Finance-LLC/FinRL-Library/issues\n",
    "* **Pytorch Version** \n",
    "\n"
   ]
  },
  {
   "cell_type": "markdown",
   "metadata": {
    "id": "lGunVt8oLCVS"
   },
   "source": [
    "# Content"
   ]
  },
  {
   "cell_type": "markdown",
   "metadata": {
    "id": "HOzAKQ-SLGX6"
   },
   "source": [
    "* [1. Problem Definition](#0)\n",
    "* [2. Getting Started - Load Python packages](#1)\n",
    "    * [2.1. Install Packages](#1.1)    \n",
    "    * [2.2. Check Additional Packages](#1.2)\n",
    "    * [2.3. Import Packages](#1.3)\n",
    "    * [2.4. Create Folders](#1.4)\n",
    "* [3. Download Data](#2)\n",
    "* [4. Preprocess Data](#3)        \n",
    "    * [4.1. Technical Indicators](#3.1)\n",
    "    * [4.2. Perform Feature Engineering](#3.2)\n",
    "* [5.Build Environment](#4)  \n",
    "    * [5.1. Training & Trade Data Split](#4.1)\n",
    "    * [5.2. User-defined Environment](#4.2)   \n",
    "    * [5.3. Initialize Environment](#4.3)    \n",
    "* [6.Implement DRL Algorithms](#5)  \n",
    "* [7.Backtesting Performance](#6)  \n",
    "    * [7.1. BackTestStats](#6.1)\n",
    "    * [7.2. BackTestPlot](#6.2)   \n",
    "    * [7.3. Baseline Stats](#6.3)   \n",
    "    * [7.3. Compare to Stock Market Index](#6.4)             "
   ]
  },
  {
   "cell_type": "markdown",
   "metadata": {
    "id": "sApkDlD9LIZv"
   },
   "source": [
    "<a id='0'></a>\n",
    "# Part 1. Problem Definition"
   ]
  },
  {
   "cell_type": "markdown",
   "metadata": {
    "id": "HjLD2TZSLKZ-"
   },
   "source": [
    "This problem is to design an automated trading solution for single stock trading. We model the stock trading process as a Markov Decision Process (MDP). We then formulate our trading goal as a maximization problem.\n",
    "\n",
    "The algorithm is trained using Deep Reinforcement Learning (DRL) algorithms and the components of the reinforcement learning environment are:\n",
    "\n",
    "\n",
    "* Action: The action space describes the allowed actions that the agent interacts with the\n",
    "environment. Normally, a ∈ A includes three actions: a ∈ {−1, 0, 1}, where −1, 0, 1 represent\n",
    "selling, holding, and buying one stock. Also, an action can be carried upon multiple shares. We use\n",
    "an action space {−k, ..., −1, 0, 1, ..., k}, where k denotes the number of shares. For example, \"Buy\n",
    "10 shares of AAPL\" or \"Sell 10 shares of AAPL\" are 10 or −10, respectively\n",
    "\n",
    "* Reward function: r(s, a, s′) is the incentive mechanism for an agent to learn a better action. The change of the portfolio value when action a is taken at state s and arriving at new state s',  i.e., r(s, a, s′) = v′ − v, where v′ and v represent the portfolio\n",
    "values at state s′ and s, respectively\n",
    "\n",
    "* State: The state space describes the observations that the agent receives from the environment. Just as a human trader needs to analyze various information before executing a trade, so\n",
    "our trading agent observes many different features to better learn in an interactive environment.\n",
    "\n",
    "* Environment: Dow 30 consituents\n",
    "\n",
    "\n",
    "The data of the single stock that we will be using for this case study is obtained from Yahoo Finance API. The data contains Open-High-Low-Close price and volume.\n"
   ]
  },
  {
   "cell_type": "markdown",
   "metadata": {
    "id": "Ffsre789LY08"
   },
   "source": [
    "<a id='1'></a>\n",
    "# Part 2. Getting Started- ASSUMES USING DOCKER, see readme for instructions"
   ]
  },
  {
   "cell_type": "markdown",
   "metadata": {
    "id": "Uy5_PTmOh1hj"
   },
   "source": [
    "<a id='1.1'></a>\n",
    "## 2.1. Add FinRL to your path. You can of course install it as a pipy package, but this is for development purposes.\n"
   ]
  },
  {
   "cell_type": "code",
   "execution_count": 1,
   "metadata": {
    "colab": {
     "base_uri": "https://localhost:8080/"
    },
    "id": "mPT0ipYE28wL",
    "outputId": "802ae0b5-d88e-46ba-8082-9eb5890f9cba"
   },
   "outputs": [],
   "source": [
    "import sys\n",
    "\n",
    "sys.path.append(\"..\")"
   ]
  },
  {
   "cell_type": "markdown",
   "metadata": {
    "id": "osBHhVysOEzi"
   },
   "source": [
    "\n",
    "<a id='1.2'></a>\n",
    "## 2.2. Check if the additional packages needed are present, if not install them. \n",
    "* Yahoo Finance API\n",
    "* pandas\n",
    "* numpy\n",
    "* matplotlib\n",
    "* stockstats\n",
    "* OpenAI gym\n",
    "* stable-baselines\n",
    "* tensorflow\n",
    "* pyfolio"
   ]
  },
  {
   "cell_type": "markdown",
   "metadata": {
    "id": "nGv01K8Sh1hn"
   },
   "source": [
    "<a id='1.3'></a>\n",
    "## 2.3. Import Packages"
   ]
  },
  {
   "cell_type": "code",
   "execution_count": 2,
   "metadata": {
    "colab": {
     "base_uri": "https://localhost:8080/"
    },
    "id": "lPqeTTwoh1hn",
    "outputId": "c437c266-2780-4c50-af8b-6868e7fdaa1f"
   },
   "outputs": [
    {
     "name": "stderr",
     "output_type": "stream",
     "text": [
      "/opt/conda/lib/python3.6/site-packages/pyfolio/pos.py:27: UserWarning: Module \"zipline.assets\" not found; multipliers will not be applied to position notionals.\n",
      "  'Module \"zipline.assets\" not found; multipliers will not be applied'\n"
     ]
    }
   ],
   "source": [
    "import pandas as pd\n",
    "import numpy as np\n",
    "import matplotlib\n",
    "import matplotlib.pyplot as plt\n",
    "# matplotlib.use('Agg')\n",
    "import datetime\n",
    "\n",
    "%matplotlib inline\n",
    "from finrl.config import config\n",
    "from finrl.marketdata.yahoodownloader import YahooDownloader\n",
    "from finrl.preprocessing.preprocessors import FeatureEngineer\n",
    "from finrl.preprocessing.data import data_split\n",
    "from finrl.env.env_stocktrading import StockTradingEnv\n",
    "from finrl.model.models import DRLAgent\n",
    "from finrl.trade.backtest import BackTestStats, BaselineStats, BackTestPlot\n",
    "\n",
    "from pprint import pprint\n",
    "\n",
    "\n"
   ]
  },
  {
   "cell_type": "markdown",
   "metadata": {
    "id": "T2owTj985RW4"
   },
   "source": [
    "<a id='1.4'></a>\n",
    "## 2.4. Create Folders"
   ]
  },
  {
   "cell_type": "code",
   "execution_count": 3,
   "metadata": {
    "id": "w9A8CN5R5PuZ"
   },
   "outputs": [],
   "source": [
    "import os\n",
    "if not os.path.exists(\"./\" + config.DATA_SAVE_DIR):\n",
    "    os.makedirs(\"./\" + config.DATA_SAVE_DIR)\n",
    "if not os.path.exists(\"./\" + config.TRAINED_MODEL_DIR):\n",
    "    os.makedirs(\"./\" + config.TRAINED_MODEL_DIR)\n",
    "if not os.path.exists(\"./\" + config.TENSORBOARD_LOG_DIR):\n",
    "    os.makedirs(\"./\" + config.TENSORBOARD_LOG_DIR)\n",
    "if not os.path.exists(\"./\" + config.RESULTS_DIR):\n",
    "    os.makedirs(\"./\" + config.RESULTS_DIR)"
   ]
  },
  {
   "cell_type": "markdown",
   "metadata": {
    "id": "A289rQWMh1hq"
   },
   "source": [
    "<a id='2'></a>\n",
    "# Part 3. Download Data\n",
    "Yahoo Finance is a website that provides stock data, financial news, financial reports, etc. All the data provided by Yahoo Finance is free.\n",
    "* FinRL uses a class **YahooDownloader** to fetch data from Yahoo Finance API\n",
    "* Call Limit: Using the Public API (without authentication), you are limited to 2,000 requests per hour per IP (or up to a total of 48,000 requests a day).\n"
   ]
  },
  {
   "cell_type": "markdown",
   "metadata": {
    "id": "NPeQ7iS-LoMm"
   },
   "source": [
    "\n",
    "\n",
    "-----\n",
    "class YahooDownloader:\n",
    "    Provides methods for retrieving daily stock data from\n",
    "    Yahoo Finance API\n",
    "\n",
    "    Attributes\n",
    "    ----------\n",
    "        start_date : str\n",
    "            start date of the data (modified from config.py)\n",
    "        end_date : str\n",
    "            end date of the data (modified from config.py)\n",
    "        ticker_list : list\n",
    "            a list of stock tickers (modified from config.py)\n",
    "\n",
    "    Methods\n",
    "    -------\n",
    "    fetch_data()\n",
    "        Fetches data from yahoo API\n"
   ]
  },
  {
   "cell_type": "code",
   "execution_count": 4,
   "metadata": {
    "colab": {
     "base_uri": "https://localhost:8080/",
     "height": 35
    },
    "id": "h3XJnvrbLp-C",
    "outputId": "87dea23f-469d-4e9d-de91-0f8a74929de2"
   },
   "outputs": [
    {
     "data": {
      "text/plain": [
       "'2009-01-01'"
      ]
     },
     "execution_count": 4,
     "metadata": {},
     "output_type": "execute_result"
    }
   ],
   "source": [
    "# from config.py start_date is a string\n",
    "config.START_DATE"
   ]
  },
  {
   "cell_type": "code",
   "execution_count": 5,
   "metadata": {
    "colab": {
     "base_uri": "https://localhost:8080/",
     "height": 35
    },
    "id": "FUnY8WEfLq3C",
    "outputId": "c635ae69-a13e-408f-d932-9d386d1d6dcf"
   },
   "outputs": [
    {
     "data": {
      "text/plain": [
       "'2020-12-01'"
      ]
     },
     "execution_count": 5,
     "metadata": {},
     "output_type": "execute_result"
    }
   ],
   "source": [
    "# from config.py end_date is a string\n",
    "config.END_DATE"
   ]
  },
  {
   "cell_type": "code",
   "execution_count": 6,
   "metadata": {
    "colab": {
     "base_uri": "https://localhost:8080/"
    },
    "id": "JzqRRTOX6aFu",
    "outputId": "d3baf63f-948a-49f9-f6f2-b7241971b8ea"
   },
   "outputs": [
    {
     "name": "stdout",
     "output_type": "stream",
     "text": [
      "['AAPL', 'MSFT', 'JPM', 'V', 'RTX', 'PG', 'GS', 'NKE', 'DIS', 'AXP', 'HD', 'INTC', 'WMT', 'IBM', 'MRK', 'UNH', 'KO', 'CAT', 'TRV', 'JNJ', 'CVX', 'MCD', 'VZ', 'CSCO', 'XOM', 'BA', 'MMM', 'PFE', 'WBA', 'DD']\n"
     ]
    }
   ],
   "source": [
    "print(config.DOW_30_TICKER)"
   ]
  },
  {
   "cell_type": "code",
   "execution_count": 7,
   "metadata": {
    "colab": {
     "base_uri": "https://localhost:8080/"
    },
    "id": "yCKm4om-s9kE",
    "outputId": "932583d8-f98b-4243-c02d-375f7272db1a"
   },
   "outputs": [
    {
     "name": "stdout",
     "output_type": "stream",
     "text": [
      "[*********************100%***********************]  1 of 1 completed\n",
      "[*********************100%***********************]  1 of 1 completed\n",
      "[*********************100%***********************]  1 of 1 completed\n",
      "[*********************100%***********************]  1 of 1 completed\n",
      "[*********************100%***********************]  1 of 1 completed\n",
      "[*********************100%***********************]  1 of 1 completed\n",
      "[*********************100%***********************]  1 of 1 completed\n",
      "[*********************100%***********************]  1 of 1 completed\n",
      "[*********************100%***********************]  1 of 1 completed\n",
      "[*********************100%***********************]  1 of 1 completed\n",
      "[*********************100%***********************]  1 of 1 completed\n",
      "[*********************100%***********************]  1 of 1 completed\n",
      "[*********************100%***********************]  1 of 1 completed\n",
      "[*********************100%***********************]  1 of 1 completed\n",
      "[*********************100%***********************]  1 of 1 completed\n",
      "[*********************100%***********************]  1 of 1 completed\n",
      "[*********************100%***********************]  1 of 1 completed\n",
      "[*********************100%***********************]  1 of 1 completed\n",
      "[*********************100%***********************]  1 of 1 completed\n",
      "[*********************100%***********************]  1 of 1 completed\n",
      "[*********************100%***********************]  1 of 1 completed\n",
      "[*********************100%***********************]  1 of 1 completed\n",
      "[*********************100%***********************]  1 of 1 completed\n",
      "[*********************100%***********************]  1 of 1 completed\n",
      "[*********************100%***********************]  1 of 1 completed\n",
      "[*********************100%***********************]  1 of 1 completed\n",
      "[*********************100%***********************]  1 of 1 completed\n",
      "[*********************100%***********************]  1 of 1 completed\n",
      "[*********************100%***********************]  1 of 1 completed\n",
      "[*********************100%***********************]  1 of 1 completed\n",
      "Shape of DataFrame:  (90630, 8)\n"
     ]
    }
   ],
   "source": [
    "df = YahooDownloader(start_date = '2009-01-01',\n",
    "                     end_date = '2021-01-01',\n",
    "                     ticker_list = config.DOW_30_TICKER).fetch_data()"
   ]
  },
  {
   "cell_type": "code",
   "execution_count": 8,
   "metadata": {
    "colab": {
     "base_uri": "https://localhost:8080/"
    },
    "id": "CV3HrZHLh1hy",
    "outputId": "b7b78172-8c8a-41c9-c8a6-0167edb9bd11"
   },
   "outputs": [
    {
     "data": {
      "text/plain": [
       "(90630, 8)"
      ]
     },
     "execution_count": 8,
     "metadata": {},
     "output_type": "execute_result"
    }
   ],
   "source": [
    "df.shape"
   ]
  },
  {
   "cell_type": "code",
   "execution_count": 9,
   "metadata": {
    "colab": {
     "base_uri": "https://localhost:8080/",
     "height": 195
    },
    "id": "4hYkeaPiICHS",
    "outputId": "ce9d7463-a74c-4917-c96d-848a1e8ad493"
   },
   "outputs": [
    {
     "data": {
      "text/html": [
       "<div>\n",
       "<style scoped>\n",
       "    .dataframe tbody tr th:only-of-type {\n",
       "        vertical-align: middle;\n",
       "    }\n",
       "\n",
       "    .dataframe tbody tr th {\n",
       "        vertical-align: top;\n",
       "    }\n",
       "\n",
       "    .dataframe thead th {\n",
       "        text-align: right;\n",
       "    }\n",
       "</style>\n",
       "<table border=\"1\" class=\"dataframe\">\n",
       "  <thead>\n",
       "    <tr style=\"text-align: right;\">\n",
       "      <th></th>\n",
       "      <th>date</th>\n",
       "      <th>open</th>\n",
       "      <th>high</th>\n",
       "      <th>low</th>\n",
       "      <th>close</th>\n",
       "      <th>volume</th>\n",
       "      <th>tic</th>\n",
       "      <th>day</th>\n",
       "    </tr>\n",
       "  </thead>\n",
       "  <tbody>\n",
       "    <tr>\n",
       "      <th>0</th>\n",
       "      <td>2009-01-02</td>\n",
       "      <td>3.067143</td>\n",
       "      <td>3.251429</td>\n",
       "      <td>3.041429</td>\n",
       "      <td>2.795913</td>\n",
       "      <td>746015200.0</td>\n",
       "      <td>AAPL</td>\n",
       "      <td>4</td>\n",
       "    </tr>\n",
       "    <tr>\n",
       "      <th>1</th>\n",
       "      <td>2009-01-02</td>\n",
       "      <td>18.570000</td>\n",
       "      <td>19.520000</td>\n",
       "      <td>18.400000</td>\n",
       "      <td>15.745411</td>\n",
       "      <td>10955700.0</td>\n",
       "      <td>AXP</td>\n",
       "      <td>4</td>\n",
       "    </tr>\n",
       "    <tr>\n",
       "      <th>2</th>\n",
       "      <td>2009-01-02</td>\n",
       "      <td>42.799999</td>\n",
       "      <td>45.560001</td>\n",
       "      <td>42.779999</td>\n",
       "      <td>33.680935</td>\n",
       "      <td>7010200.0</td>\n",
       "      <td>BA</td>\n",
       "      <td>4</td>\n",
       "    </tr>\n",
       "    <tr>\n",
       "      <th>3</th>\n",
       "      <td>2009-01-02</td>\n",
       "      <td>44.910000</td>\n",
       "      <td>46.980000</td>\n",
       "      <td>44.709999</td>\n",
       "      <td>32.514400</td>\n",
       "      <td>7117200.0</td>\n",
       "      <td>CAT</td>\n",
       "      <td>4</td>\n",
       "    </tr>\n",
       "    <tr>\n",
       "      <th>4</th>\n",
       "      <td>2009-01-02</td>\n",
       "      <td>16.410000</td>\n",
       "      <td>17.000000</td>\n",
       "      <td>16.250000</td>\n",
       "      <td>12.683227</td>\n",
       "      <td>40980600.0</td>\n",
       "      <td>CSCO</td>\n",
       "      <td>4</td>\n",
       "    </tr>\n",
       "  </tbody>\n",
       "</table>\n",
       "</div>"
      ],
      "text/plain": [
       "         date       open       high        low      close       volume   tic  \\\n",
       "0  2009-01-02   3.067143   3.251429   3.041429   2.795913  746015200.0  AAPL   \n",
       "1  2009-01-02  18.570000  19.520000  18.400000  15.745411   10955700.0   AXP   \n",
       "2  2009-01-02  42.799999  45.560001  42.779999  33.680935    7010200.0    BA   \n",
       "3  2009-01-02  44.910000  46.980000  44.709999  32.514400    7117200.0   CAT   \n",
       "4  2009-01-02  16.410000  17.000000  16.250000  12.683227   40980600.0  CSCO   \n",
       "\n",
       "   day  \n",
       "0    4  \n",
       "1    4  \n",
       "2    4  \n",
       "3    4  \n",
       "4    4  "
      ]
     },
     "execution_count": 9,
     "metadata": {},
     "output_type": "execute_result"
    }
   ],
   "source": [
    "df.sort_values(['date','tic'],ignore_index=True).head()"
   ]
  },
  {
   "cell_type": "markdown",
   "metadata": {
    "id": "uqC6c40Zh1iH"
   },
   "source": [
    "# Part 4: Preprocess Data\n",
    "Data preprocessing is a crucial step for training a high quality machine learning model. We need to check for missing data and do feature engineering in order to convert the data into a model-ready state.\n",
    "* Add technical indicators. In practical trading, various information needs to be taken into account, for example the historical stock prices, current holding shares, technical indicators, etc. In this article, we demonstrate two trend-following technical indicators: MACD and RSI.\n",
    "* Add turbulence index. Risk-aversion reflects whether an investor will choose to preserve the capital. It also influences one's trading strategy when facing different market volatility level. To control the risk in a worst-case scenario, such as financial crisis of 2007–2008, FinRL employs the financial turbulence index that measures extreme asset price fluctuation."
   ]
  },
  {
   "cell_type": "code",
   "execution_count": 10,
   "metadata": {
    "collapsed": false,
    "jupyter": {
     "outputs_hidden": false
    },
    "pycharm": {
     "name": "#%%\n"
    }
   },
   "outputs": [
    {
     "name": "stdout",
     "output_type": "stream",
     "text": [
      "Successfully added technical indicators\n",
      "Successfully added turbulence index\n"
     ]
    }
   ],
   "source": [
    "fe = FeatureEngineer(\n",
    "                    use_technical_indicator=True,\n",
    "                    tech_indicator_list = config.TECHNICAL_INDICATORS_LIST,\n",
    "                    use_turbulence=True,\n",
    "                    user_defined_feature = False)\n",
    "\n",
    "processed = fe.preprocess_data(df)"
   ]
  },
  {
   "cell_type": "code",
   "execution_count": 11,
   "metadata": {
    "colab": {
     "base_uri": "https://localhost:8080/",
     "height": 340
    },
    "id": "grvhGJJII3Xn",
    "outputId": "91d09c37-b0e9-4c5c-d532-967e40d11f41"
   },
   "outputs": [
    {
     "data": {
      "text/html": [
       "<div>\n",
       "<style scoped>\n",
       "    .dataframe tbody tr th:only-of-type {\n",
       "        vertical-align: middle;\n",
       "    }\n",
       "\n",
       "    .dataframe tbody tr th {\n",
       "        vertical-align: top;\n",
       "    }\n",
       "\n",
       "    .dataframe thead th {\n",
       "        text-align: right;\n",
       "    }\n",
       "</style>\n",
       "<table border=\"1\" class=\"dataframe\">\n",
       "  <thead>\n",
       "    <tr style=\"text-align: right;\">\n",
       "      <th></th>\n",
       "      <th>date</th>\n",
       "      <th>open</th>\n",
       "      <th>high</th>\n",
       "      <th>low</th>\n",
       "      <th>close</th>\n",
       "      <th>volume</th>\n",
       "      <th>tic</th>\n",
       "      <th>day</th>\n",
       "      <th>macd</th>\n",
       "      <th>rsi_30</th>\n",
       "      <th>cci_30</th>\n",
       "      <th>dx_30</th>\n",
       "      <th>turbulence</th>\n",
       "    </tr>\n",
       "  </thead>\n",
       "  <tbody>\n",
       "    <tr>\n",
       "      <th>0</th>\n",
       "      <td>2009-01-02</td>\n",
       "      <td>3.067143</td>\n",
       "      <td>3.251429</td>\n",
       "      <td>3.041429</td>\n",
       "      <td>2.795913</td>\n",
       "      <td>746015200.0</td>\n",
       "      <td>AAPL</td>\n",
       "      <td>4</td>\n",
       "      <td>0.0</td>\n",
       "      <td>100.0</td>\n",
       "      <td>66.666667</td>\n",
       "      <td>100.0</td>\n",
       "      <td>0.0</td>\n",
       "    </tr>\n",
       "    <tr>\n",
       "      <th>1</th>\n",
       "      <td>2009-01-02</td>\n",
       "      <td>18.570000</td>\n",
       "      <td>19.520000</td>\n",
       "      <td>18.400000</td>\n",
       "      <td>15.745411</td>\n",
       "      <td>10955700.0</td>\n",
       "      <td>AXP</td>\n",
       "      <td>4</td>\n",
       "      <td>0.0</td>\n",
       "      <td>100.0</td>\n",
       "      <td>66.666667</td>\n",
       "      <td>100.0</td>\n",
       "      <td>0.0</td>\n",
       "    </tr>\n",
       "    <tr>\n",
       "      <th>2</th>\n",
       "      <td>2009-01-02</td>\n",
       "      <td>42.799999</td>\n",
       "      <td>45.560001</td>\n",
       "      <td>42.779999</td>\n",
       "      <td>33.680935</td>\n",
       "      <td>7010200.0</td>\n",
       "      <td>BA</td>\n",
       "      <td>4</td>\n",
       "      <td>0.0</td>\n",
       "      <td>100.0</td>\n",
       "      <td>66.666667</td>\n",
       "      <td>100.0</td>\n",
       "      <td>0.0</td>\n",
       "    </tr>\n",
       "    <tr>\n",
       "      <th>3</th>\n",
       "      <td>2009-01-02</td>\n",
       "      <td>44.910000</td>\n",
       "      <td>46.980000</td>\n",
       "      <td>44.709999</td>\n",
       "      <td>32.514400</td>\n",
       "      <td>7117200.0</td>\n",
       "      <td>CAT</td>\n",
       "      <td>4</td>\n",
       "      <td>0.0</td>\n",
       "      <td>100.0</td>\n",
       "      <td>66.666667</td>\n",
       "      <td>100.0</td>\n",
       "      <td>0.0</td>\n",
       "    </tr>\n",
       "    <tr>\n",
       "      <th>4</th>\n",
       "      <td>2009-01-02</td>\n",
       "      <td>16.410000</td>\n",
       "      <td>17.000000</td>\n",
       "      <td>16.250000</td>\n",
       "      <td>12.683227</td>\n",
       "      <td>40980600.0</td>\n",
       "      <td>CSCO</td>\n",
       "      <td>4</td>\n",
       "      <td>0.0</td>\n",
       "      <td>100.0</td>\n",
       "      <td>66.666667</td>\n",
       "      <td>100.0</td>\n",
       "      <td>0.0</td>\n",
       "    </tr>\n",
       "    <tr>\n",
       "      <th>5</th>\n",
       "      <td>2009-01-02</td>\n",
       "      <td>74.230003</td>\n",
       "      <td>77.300003</td>\n",
       "      <td>73.580002</td>\n",
       "      <td>48.043262</td>\n",
       "      <td>13695900.0</td>\n",
       "      <td>CVX</td>\n",
       "      <td>4</td>\n",
       "      <td>0.0</td>\n",
       "      <td>100.0</td>\n",
       "      <td>66.666667</td>\n",
       "      <td>100.0</td>\n",
       "      <td>0.0</td>\n",
       "    </tr>\n",
       "    <tr>\n",
       "      <th>6</th>\n",
       "      <td>2009-01-02</td>\n",
       "      <td>21.605234</td>\n",
       "      <td>22.060680</td>\n",
       "      <td>20.993229</td>\n",
       "      <td>14.527276</td>\n",
       "      <td>13251000.0</td>\n",
       "      <td>DD</td>\n",
       "      <td>4</td>\n",
       "      <td>0.0</td>\n",
       "      <td>100.0</td>\n",
       "      <td>66.666667</td>\n",
       "      <td>100.0</td>\n",
       "      <td>0.0</td>\n",
       "    </tr>\n",
       "    <tr>\n",
       "      <th>7</th>\n",
       "      <td>2009-01-02</td>\n",
       "      <td>22.760000</td>\n",
       "      <td>24.030001</td>\n",
       "      <td>22.500000</td>\n",
       "      <td>20.597496</td>\n",
       "      <td>9796600.0</td>\n",
       "      <td>DIS</td>\n",
       "      <td>4</td>\n",
       "      <td>0.0</td>\n",
       "      <td>100.0</td>\n",
       "      <td>66.666667</td>\n",
       "      <td>100.0</td>\n",
       "      <td>0.0</td>\n",
       "    </tr>\n",
       "    <tr>\n",
       "      <th>8</th>\n",
       "      <td>2009-01-02</td>\n",
       "      <td>84.019997</td>\n",
       "      <td>87.620003</td>\n",
       "      <td>82.190002</td>\n",
       "      <td>72.844467</td>\n",
       "      <td>14088500.0</td>\n",
       "      <td>GS</td>\n",
       "      <td>4</td>\n",
       "      <td>0.0</td>\n",
       "      <td>100.0</td>\n",
       "      <td>66.666667</td>\n",
       "      <td>100.0</td>\n",
       "      <td>0.0</td>\n",
       "    </tr>\n",
       "    <tr>\n",
       "      <th>9</th>\n",
       "      <td>2009-01-02</td>\n",
       "      <td>23.070000</td>\n",
       "      <td>24.190001</td>\n",
       "      <td>22.959999</td>\n",
       "      <td>17.909452</td>\n",
       "      <td>14902500.0</td>\n",
       "      <td>HD</td>\n",
       "      <td>4</td>\n",
       "      <td>0.0</td>\n",
       "      <td>100.0</td>\n",
       "      <td>66.666667</td>\n",
       "      <td>100.0</td>\n",
       "      <td>0.0</td>\n",
       "    </tr>\n",
       "  </tbody>\n",
       "</table>\n",
       "</div>"
      ],
      "text/plain": [
       "         date       open       high        low      close       volume   tic  \\\n",
       "0  2009-01-02   3.067143   3.251429   3.041429   2.795913  746015200.0  AAPL   \n",
       "1  2009-01-02  18.570000  19.520000  18.400000  15.745411   10955700.0   AXP   \n",
       "2  2009-01-02  42.799999  45.560001  42.779999  33.680935    7010200.0    BA   \n",
       "3  2009-01-02  44.910000  46.980000  44.709999  32.514400    7117200.0   CAT   \n",
       "4  2009-01-02  16.410000  17.000000  16.250000  12.683227   40980600.0  CSCO   \n",
       "5  2009-01-02  74.230003  77.300003  73.580002  48.043262   13695900.0   CVX   \n",
       "6  2009-01-02  21.605234  22.060680  20.993229  14.527276   13251000.0    DD   \n",
       "7  2009-01-02  22.760000  24.030001  22.500000  20.597496    9796600.0   DIS   \n",
       "8  2009-01-02  84.019997  87.620003  82.190002  72.844467   14088500.0    GS   \n",
       "9  2009-01-02  23.070000  24.190001  22.959999  17.909452   14902500.0    HD   \n",
       "\n",
       "   day  macd  rsi_30     cci_30  dx_30  turbulence  \n",
       "0    4   0.0   100.0  66.666667  100.0         0.0  \n",
       "1    4   0.0   100.0  66.666667  100.0         0.0  \n",
       "2    4   0.0   100.0  66.666667  100.0         0.0  \n",
       "3    4   0.0   100.0  66.666667  100.0         0.0  \n",
       "4    4   0.0   100.0  66.666667  100.0         0.0  \n",
       "5    4   0.0   100.0  66.666667  100.0         0.0  \n",
       "6    4   0.0   100.0  66.666667  100.0         0.0  \n",
       "7    4   0.0   100.0  66.666667  100.0         0.0  \n",
       "8    4   0.0   100.0  66.666667  100.0         0.0  \n",
       "9    4   0.0   100.0  66.666667  100.0         0.0  "
      ]
     },
     "execution_count": 11,
     "metadata": {},
     "output_type": "execute_result"
    }
   ],
   "source": [
    "processed.sort_values(['date','tic'],ignore_index=True).head(10)"
   ]
  },
  {
   "cell_type": "markdown",
   "metadata": {
    "id": "-QsYaY0Dh1iw"
   },
   "source": [
    "<a id='4'></a>\n",
    "# Part 5. Design Environment\n",
    "Considering the stochastic and interactive nature of the automated stock trading tasks, a financial task is modeled as a **Markov Decision Process (MDP)** problem. The training process involves observing stock price change, taking an action and reward's calculation to have the agent adjusting its strategy accordingly. By interacting with the environment, the trading agent will derive a trading strategy with the maximized rewards as time proceeds.\n",
    "\n",
    "Our trading environments, based on OpenAI Gym framework, simulate live stock markets with real market data according to the principle of time-driven simulation.\n",
    "\n",
    "The action space describes the allowed actions that the agent interacts with the environment. Normally, action a includes three actions: {-1, 0, 1}, where -1, 0, 1 represent selling, holding, and buying one share. Also, an action can be carried upon multiple shares. We use an action space {-k,…,-1, 0, 1, …, k}, where k denotes the number of shares to buy and -k denotes the number of shares to sell. For example, \"Buy 10 shares of AAPL\" or \"Sell 10 shares of AAPL\" are 10 or -10, respectively. The continuous action space needs to be normalized to [-1, 1], since the policy is defined on a Gaussian distribution, which needs to be normalized and symmetric."
   ]
  },
  {
   "cell_type": "markdown",
   "metadata": {
    "id": "5TOhcryx44bb"
   },
   "source": [
    "## Training data split: 2009-01-01 to 2018-12-31\n",
    "## Trade data split: 2019-01-01 to 2020-09-30"
   ]
  },
  {
   "cell_type": "code",
   "execution_count": 12,
   "metadata": {
    "colab": {
     "base_uri": "https://localhost:8080/"
    },
    "id": "W0qaVGjLtgbI",
    "outputId": "c98aeb90-84e3-4b83-9671-d679f3fe148f"
   },
   "outputs": [
    {
     "name": "stdout",
     "output_type": "stream",
     "text": [
      "75480\n",
      "15150\n"
     ]
    }
   ],
   "source": [
    "train = data_split(processed, '2009-01-01','2019-01-01')\n",
    "trade = data_split(processed, '2019-01-01','2021-01-01')\n",
    "print(len(train))\n",
    "print(len(trade))"
   ]
  },
  {
   "cell_type": "code",
   "execution_count": 13,
   "metadata": {
    "colab": {
     "base_uri": "https://localhost:8080/",
     "height": 279
    },
    "id": "p52zNCOhTtLR",
    "outputId": "c41f9be0-a99f-4108-a427-3112b6bd4129"
   },
   "outputs": [
    {
     "data": {
      "text/html": [
       "<div>\n",
       "<style scoped>\n",
       "    .dataframe tbody tr th:only-of-type {\n",
       "        vertical-align: middle;\n",
       "    }\n",
       "\n",
       "    .dataframe tbody tr th {\n",
       "        vertical-align: top;\n",
       "    }\n",
       "\n",
       "    .dataframe thead th {\n",
       "        text-align: right;\n",
       "    }\n",
       "</style>\n",
       "<table border=\"1\" class=\"dataframe\">\n",
       "  <thead>\n",
       "    <tr style=\"text-align: right;\">\n",
       "      <th></th>\n",
       "      <th>date</th>\n",
       "      <th>open</th>\n",
       "      <th>high</th>\n",
       "      <th>low</th>\n",
       "      <th>close</th>\n",
       "      <th>volume</th>\n",
       "      <th>tic</th>\n",
       "      <th>day</th>\n",
       "      <th>macd</th>\n",
       "      <th>rsi_30</th>\n",
       "      <th>cci_30</th>\n",
       "      <th>dx_30</th>\n",
       "      <th>turbulence</th>\n",
       "    </tr>\n",
       "  </thead>\n",
       "  <tbody>\n",
       "    <tr>\n",
       "      <th>0</th>\n",
       "      <td>2009-01-02</td>\n",
       "      <td>3.067143</td>\n",
       "      <td>3.251429</td>\n",
       "      <td>3.041429</td>\n",
       "      <td>2.795913</td>\n",
       "      <td>746015200.0</td>\n",
       "      <td>AAPL</td>\n",
       "      <td>4</td>\n",
       "      <td>0.0</td>\n",
       "      <td>100.0</td>\n",
       "      <td>66.666667</td>\n",
       "      <td>100.0</td>\n",
       "      <td>0.0</td>\n",
       "    </tr>\n",
       "    <tr>\n",
       "      <th>0</th>\n",
       "      <td>2009-01-02</td>\n",
       "      <td>18.570000</td>\n",
       "      <td>19.520000</td>\n",
       "      <td>18.400000</td>\n",
       "      <td>15.745411</td>\n",
       "      <td>10955700.0</td>\n",
       "      <td>AXP</td>\n",
       "      <td>4</td>\n",
       "      <td>0.0</td>\n",
       "      <td>100.0</td>\n",
       "      <td>66.666667</td>\n",
       "      <td>100.0</td>\n",
       "      <td>0.0</td>\n",
       "    </tr>\n",
       "    <tr>\n",
       "      <th>0</th>\n",
       "      <td>2009-01-02</td>\n",
       "      <td>42.799999</td>\n",
       "      <td>45.560001</td>\n",
       "      <td>42.779999</td>\n",
       "      <td>33.680935</td>\n",
       "      <td>7010200.0</td>\n",
       "      <td>BA</td>\n",
       "      <td>4</td>\n",
       "      <td>0.0</td>\n",
       "      <td>100.0</td>\n",
       "      <td>66.666667</td>\n",
       "      <td>100.0</td>\n",
       "      <td>0.0</td>\n",
       "    </tr>\n",
       "    <tr>\n",
       "      <th>0</th>\n",
       "      <td>2009-01-02</td>\n",
       "      <td>44.910000</td>\n",
       "      <td>46.980000</td>\n",
       "      <td>44.709999</td>\n",
       "      <td>32.514400</td>\n",
       "      <td>7117200.0</td>\n",
       "      <td>CAT</td>\n",
       "      <td>4</td>\n",
       "      <td>0.0</td>\n",
       "      <td>100.0</td>\n",
       "      <td>66.666667</td>\n",
       "      <td>100.0</td>\n",
       "      <td>0.0</td>\n",
       "    </tr>\n",
       "    <tr>\n",
       "      <th>0</th>\n",
       "      <td>2009-01-02</td>\n",
       "      <td>16.410000</td>\n",
       "      <td>17.000000</td>\n",
       "      <td>16.250000</td>\n",
       "      <td>12.683227</td>\n",
       "      <td>40980600.0</td>\n",
       "      <td>CSCO</td>\n",
       "      <td>4</td>\n",
       "      <td>0.0</td>\n",
       "      <td>100.0</td>\n",
       "      <td>66.666667</td>\n",
       "      <td>100.0</td>\n",
       "      <td>0.0</td>\n",
       "    </tr>\n",
       "  </tbody>\n",
       "</table>\n",
       "</div>"
      ],
      "text/plain": [
       "         date       open       high        low      close       volume   tic  \\\n",
       "0  2009-01-02   3.067143   3.251429   3.041429   2.795913  746015200.0  AAPL   \n",
       "0  2009-01-02  18.570000  19.520000  18.400000  15.745411   10955700.0   AXP   \n",
       "0  2009-01-02  42.799999  45.560001  42.779999  33.680935    7010200.0    BA   \n",
       "0  2009-01-02  44.910000  46.980000  44.709999  32.514400    7117200.0   CAT   \n",
       "0  2009-01-02  16.410000  17.000000  16.250000  12.683227   40980600.0  CSCO   \n",
       "\n",
       "   day  macd  rsi_30     cci_30  dx_30  turbulence  \n",
       "0    4   0.0   100.0  66.666667  100.0         0.0  \n",
       "0    4   0.0   100.0  66.666667  100.0         0.0  \n",
       "0    4   0.0   100.0  66.666667  100.0         0.0  \n",
       "0    4   0.0   100.0  66.666667  100.0         0.0  \n",
       "0    4   0.0   100.0  66.666667  100.0         0.0  "
      ]
     },
     "execution_count": 13,
     "metadata": {},
     "output_type": "execute_result"
    }
   ],
   "source": [
    "train.head()"
   ]
  },
  {
   "cell_type": "code",
   "execution_count": 14,
   "metadata": {
    "colab": {
     "base_uri": "https://localhost:8080/",
     "height": 299
    },
    "id": "k9zU9YaTTvFq",
    "outputId": "705f46e4-0529-4ef5-d182-c2a1337397a4"
   },
   "outputs": [
    {
     "data": {
      "text/html": [
       "<div>\n",
       "<style scoped>\n",
       "    .dataframe tbody tr th:only-of-type {\n",
       "        vertical-align: middle;\n",
       "    }\n",
       "\n",
       "    .dataframe tbody tr th {\n",
       "        vertical-align: top;\n",
       "    }\n",
       "\n",
       "    .dataframe thead th {\n",
       "        text-align: right;\n",
       "    }\n",
       "</style>\n",
       "<table border=\"1\" class=\"dataframe\">\n",
       "  <thead>\n",
       "    <tr style=\"text-align: right;\">\n",
       "      <th></th>\n",
       "      <th>date</th>\n",
       "      <th>open</th>\n",
       "      <th>high</th>\n",
       "      <th>low</th>\n",
       "      <th>close</th>\n",
       "      <th>volume</th>\n",
       "      <th>tic</th>\n",
       "      <th>day</th>\n",
       "      <th>macd</th>\n",
       "      <th>rsi_30</th>\n",
       "      <th>cci_30</th>\n",
       "      <th>dx_30</th>\n",
       "      <th>turbulence</th>\n",
       "    </tr>\n",
       "  </thead>\n",
       "  <tbody>\n",
       "    <tr>\n",
       "      <th>0</th>\n",
       "      <td>2019-01-02</td>\n",
       "      <td>38.722500</td>\n",
       "      <td>39.712502</td>\n",
       "      <td>38.557499</td>\n",
       "      <td>38.562561</td>\n",
       "      <td>148158800.0</td>\n",
       "      <td>AAPL</td>\n",
       "      <td>2</td>\n",
       "      <td>-2.019903</td>\n",
       "      <td>37.867349</td>\n",
       "      <td>-91.567852</td>\n",
       "      <td>42.250808</td>\n",
       "      <td>51.36772</td>\n",
       "    </tr>\n",
       "    <tr>\n",
       "      <th>0</th>\n",
       "      <td>2019-01-02</td>\n",
       "      <td>93.910004</td>\n",
       "      <td>96.269997</td>\n",
       "      <td>93.769997</td>\n",
       "      <td>92.319603</td>\n",
       "      <td>4175400.0</td>\n",
       "      <td>AXP</td>\n",
       "      <td>2</td>\n",
       "      <td>-3.414037</td>\n",
       "      <td>41.205002</td>\n",
       "      <td>-97.751316</td>\n",
       "      <td>26.709417</td>\n",
       "      <td>51.36772</td>\n",
       "    </tr>\n",
       "    <tr>\n",
       "      <th>0</th>\n",
       "      <td>2019-01-02</td>\n",
       "      <td>316.190002</td>\n",
       "      <td>323.950012</td>\n",
       "      <td>313.709991</td>\n",
       "      <td>314.645142</td>\n",
       "      <td>3292200.0</td>\n",
       "      <td>BA</td>\n",
       "      <td>2</td>\n",
       "      <td>-5.550592</td>\n",
       "      <td>47.010000</td>\n",
       "      <td>-21.712382</td>\n",
       "      <td>13.611972</td>\n",
       "      <td>51.36772</td>\n",
       "    </tr>\n",
       "    <tr>\n",
       "      <th>0</th>\n",
       "      <td>2019-01-02</td>\n",
       "      <td>124.029999</td>\n",
       "      <td>127.879997</td>\n",
       "      <td>123.000000</td>\n",
       "      <td>119.302582</td>\n",
       "      <td>4783200.0</td>\n",
       "      <td>CAT</td>\n",
       "      <td>2</td>\n",
       "      <td>-0.686759</td>\n",
       "      <td>48.229089</td>\n",
       "      <td>-5.091209</td>\n",
       "      <td>0.873482</td>\n",
       "      <td>51.36772</td>\n",
       "    </tr>\n",
       "    <tr>\n",
       "      <th>0</th>\n",
       "      <td>2019-01-02</td>\n",
       "      <td>42.279999</td>\n",
       "      <td>43.200001</td>\n",
       "      <td>42.209999</td>\n",
       "      <td>40.057236</td>\n",
       "      <td>23833500.0</td>\n",
       "      <td>CSCO</td>\n",
       "      <td>2</td>\n",
       "      <td>-0.952338</td>\n",
       "      <td>44.872557</td>\n",
       "      <td>-87.518839</td>\n",
       "      <td>29.529377</td>\n",
       "      <td>51.36772</td>\n",
       "    </tr>\n",
       "  </tbody>\n",
       "</table>\n",
       "</div>"
      ],
      "text/plain": [
       "         date        open        high         low       close       volume  \\\n",
       "0  2019-01-02   38.722500   39.712502   38.557499   38.562561  148158800.0   \n",
       "0  2019-01-02   93.910004   96.269997   93.769997   92.319603    4175400.0   \n",
       "0  2019-01-02  316.190002  323.950012  313.709991  314.645142    3292200.0   \n",
       "0  2019-01-02  124.029999  127.879997  123.000000  119.302582    4783200.0   \n",
       "0  2019-01-02   42.279999   43.200001   42.209999   40.057236   23833500.0   \n",
       "\n",
       "    tic  day      macd     rsi_30     cci_30      dx_30  turbulence  \n",
       "0  AAPL    2 -2.019903  37.867349 -91.567852  42.250808    51.36772  \n",
       "0   AXP    2 -3.414037  41.205002 -97.751316  26.709417    51.36772  \n",
       "0    BA    2 -5.550592  47.010000 -21.712382  13.611972    51.36772  \n",
       "0   CAT    2 -0.686759  48.229089  -5.091209   0.873482    51.36772  \n",
       "0  CSCO    2 -0.952338  44.872557 -87.518839  29.529377    51.36772  "
      ]
     },
     "execution_count": 14,
     "metadata": {},
     "output_type": "execute_result"
    }
   ],
   "source": [
    "trade.head()"
   ]
  },
  {
   "cell_type": "code",
   "execution_count": 15,
   "metadata": {
    "colab": {
     "base_uri": "https://localhost:8080/"
    },
    "id": "zYN573SOHhxG",
    "outputId": "187c6d1b-3e91-40f8-dafd-230d787f2ee1"
   },
   "outputs": [
    {
     "data": {
      "text/plain": [
       "['macd', 'rsi_30', 'cci_30', 'dx_30']"
      ]
     },
     "execution_count": 15,
     "metadata": {},
     "output_type": "execute_result"
    }
   ],
   "source": [
    "config.TECHNICAL_INDICATORS_LIST"
   ]
  },
  {
   "cell_type": "code",
   "execution_count": 180,
   "metadata": {},
   "outputs": [
    {
     "name": "stdout",
     "output_type": "stream",
     "text": [
      "\n",
      "    A stock trading environment for OpenAI gym\n",
      "    Parameters:\n",
      "    state space: {start_cash, <owned_shares>, for s in stocks{<stock.values>}, }\n",
      "        df (pandas.DataFrame): Dataframe containing data\n",
      "        transaction_cost (float): cost for buying or selling shares\n",
      "        hmax (int): max number of share purchases allowed per asset\n",
      "        turbulence_threshold (float): Maximum turbulence allowed in market for purchases to occur. If exceeded, positions are liquidated\n",
      "        print_verbosity(int): When iterating (step), how often to print stats about state of env\n",
      "        reward_scaling (float): Scaling value to multiply reward by at each step. \n",
      "        initial_amount: (int, float): Amount of cash initially available\n",
      "        daily_information_columns (list(str)): Columns to use when building state space from the dataframe. \n",
      "        out_of_cash_penalty (int, float): Penalty to apply if the algorithm runs out of cash\n",
      "    \n",
      "\n",
      "\n",
      "    tests:\n",
      "        after reset, static strategy should result in same metrics\n",
      "\n",
      "        buy zero should result in no costs, no assets purchased\n",
      "        given no change in prices, no change in asset values\n",
      "    \n"
     ]
    }
   ],
   "source": [
    "print(StockTradingEnv.__doc__)"
   ]
  },
  {
   "cell_type": "markdown",
   "metadata": {
    "colab": {
     "base_uri": "https://localhost:8080/"
    },
    "id": "Q2zqII8rMIqn",
    "outputId": "8a2c943b-1be4-4b8d-b64f-666e0852b7e6"
   },
   "source": [
    "#### state space\n",
    "The state space of the observation is as follows \n",
    "\n",
    "`start_cash, <owned_shares_of_n_assets>, <<indicator_i_for_asset_j> for j in assets>`\n",
    "\n",
    "indicators are any daily measurement you can achieve. Common ones are 'volume', 'open' 'close' 'high', 'low'.\n",
    "However, you can add these as needed, \n",
    "The feature engineer adds indicators, and you can add your own as well. \n"
   ]
  },
  {
   "cell_type": "code",
   "execution_count": 181,
   "metadata": {
    "id": "AWyp84Ltto19"
   },
   "outputs": [],
   "source": [
    "information_cols = ['open', 'high', 'low', 'close', 'volume', 'day', 'macd', 'rsi_30', 'cci_30', 'dx_30', 'turbulence']\n",
    "\n",
    "e_train_gym = StockTradingEnv(df = train, \n",
    "                              hmax = 100, \n",
    "                              out_of_cash_penalty=-2e6,\n",
    "                              daily_information_cols = information_cols,\n",
    "                              print_verbosity = 500)"
   ]
  },
  {
   "cell_type": "markdown",
   "metadata": {
    "id": "64EoqOrQjiVf"
   },
   "source": [
    "## Environment for Training\n",
    "There are two available environments. The multiprocessing and the single processing env. \n",
    "Some models won't work with multiprocessing. \n",
    "\n",
    "```python\n",
    "# single processing\n",
    "env_train, _ = e_train_gym.get_sb_env()\n",
    "\n",
    "\n",
    "#multiprocessing\n",
    "env_train, _ = e_train_gym.get_multiproc_env(n = <n_cores>)\n",
    "```\n"
   ]
  },
  {
   "cell_type": "code",
   "execution_count": 184,
   "metadata": {
    "colab": {
     "base_uri": "https://localhost:8080/"
    },
    "id": "xwSvvPjutpqS",
    "outputId": "406e5ec3-28ba-4a72-9b22-0d031f7bf9a6"
   },
   "outputs": [
    {
     "name": "stdout",
     "output_type": "stream",
     "text": [
      "using 20 cores\n",
      "EPISODE |STEPS     |TERMINAL_REASON|TOT_ASSETS|TERMINAL_REWARD|CASH_PCT  EPISODE |STEPS     |TERMINAL_REASON|TOT_ASSETS|TERMINAL_REWARD|CASH_PCT  EPISODE |STEPS     |TERMINAL_REASON|TOT_ASSETS|TERMINAL_REWARD|CASH_PCT  EPISODE |STEPS     |TERMINAL_REASON|TOT_ASSETS|TERMINAL_REWARD|CASH_PCT  EPISODE |STEPS     |TERMINAL_REASON|TOT_ASSETS|TERMINAL_REWARD|CASH_PCT  EPISODE |STEPS     |TERMINAL_REASON|TOT_ASSETS|TERMINAL_REWARD|CASH_PCT  EPISODE |STEPS     |TERMINAL_REASON|TOT_ASSETS|TERMINAL_REWARD|CASH_PCT  EPISODE |STEPS     |TERMINAL_REASON|TOT_ASSETS|TERMINAL_REWARD|CASH_PCT  EPISODE |STEPS     |TERMINAL_REASON|TOT_ASSETS|TERMINAL_REWARD|CASH_PCT  EPISODE |STEPS     |TERMINAL_REASON|TOT_ASSETS|TERMINAL_REWARD|CASH_PCT  EPISODE |STEPS     |TERMINAL_REASON|TOT_ASSETS|TERMINAL_REWARD|CASH_PCT  EPISODE |STEPS     |TERMINAL_REASON|TOT_ASSETS|TERMINAL_REWARD|CASH_PCT  EPISODE |STEPS     |TERMINAL_REASON|TOT_ASSETS|TERMINAL_REWARD|CASH_PCT  EPISODE |STEPS     |TERMINAL_REASON|TOT_ASSETS|TERMINAL_REWARD|CASH_PCT  EPISODE |STEPS     |TERMINAL_REASON|TOT_ASSETS|TERMINAL_REWARD|CASH_PCT  EPISODE |STEPS     |TERMINAL_REASON|TOT_ASSETS|TERMINAL_REWARD|CASH_PCT  EPISODE |STEPS     |TERMINAL_REASON|TOT_ASSETS|TERMINAL_REWARD|CASH_PCT  EPISODE |STEPS     |TERMINAL_REASON|TOT_ASSETS|TERMINAL_REWARD|CASH_PCT  EPISODE |STEPS     |TERMINAL_REASON|TOT_ASSETS|TERMINAL_REWARD|CASH_PCT  \n",
      "\n",
      "\n",
      "\n",
      "\n",
      "\n",
      "EPISODE |STEPS     |TERMINAL_REASON|TOT_ASSETS|TERMINAL_REWARD|CASH_PCT  \n",
      "\n",
      "\n",
      "\n",
      "\n",
      "\n",
      "\n",
      "\n",
      "\n",
      "\n",
      "\n",
      "\n",
      "\n",
      "\n",
      "       2|        43|CASH SHORTAGE  |$872120|-201.10343557194534|2.33%     \n",
      "       2|        44|CASH SHORTAGE  |$859728|-201.21419269713346|0.16%     \n",
      "       2|        44|CASH SHORTAGE  |$861488|-201.23492051300948|2.56%     \n",
      "       2|        44|CASH SHORTAGE  |$863685|-201.23212750751526|0.32%            2|        44|CASH SHORTAGE  |$860124|-201.21829891206212|1.99%            2|        44|CASH SHORTAGE  |$860227|-201.23035570148815|1.99%     \n",
      "       2|        44|CASH SHORTAGE  |$863529|-201.18340391481362|2.82%            2|        44|CASH SHORTAGE  |$860222|-201.2532351628172|1.41%     \n",
      "\n",
      "       2|        44|CASH SHORTAGE  |$854699|-201.16581542786213|1.51%     \n",
      "       2|        44|CASH SHORTAGE  |$858506|-201.14208339800948|1.75%     \n",
      "\n",
      "\n",
      "       2|        45|CASH SHORTAGE  |$926561|-193.67072324645014|1.26%     \n",
      "       2|        45|CASH SHORTAGE  |$928416|-193.77810466149523|1.62%     \n",
      "       2|        45|CASH SHORTAGE  |$933318|-193.80453970114763|2.18%     \n",
      "       2|        45|CASH SHORTAGE  |$925895|-193.7607358146907|0.25%            2|        45|CASH SHORTAGE  |$936221|-193.4716443996532|0.62%     \n",
      "       2|        45|CASH SHORTAGE  |$927382|-193.7478174989049|0.29%            2|        45|CASH SHORTAGE  |$926837|-193.57914091465028|0.93%     \n",
      "\n",
      "\n",
      "       2|        46|CASH SHORTAGE  |$946227|-198.44346387393276|0.07%     \n",
      "       2|        46|CASH SHORTAGE  |$943425|-198.56966972074864|2.57%            2|        46|CASH SHORTAGE  |$940738|-198.74144987205045|2.55%     \n",
      "\n",
      "       3|        27|CASH SHORTAGE  |$1014093|-198.54215686410123|3.17%     \n",
      "       3|        27|CASH SHORTAGE  |$1013068|-198.58442502085632|2.91%     \n",
      "       3|        27|CASH SHORTAGE  |$1013680|-198.5636304291615|3.42%            3|        27|CASH SHORTAGE  |$1014862|-198.55385879915022|3.53%     \n",
      "       3|        27|CASH SHORTAGE  |$1013243|-198.54350748079733|2.62%     \n",
      "       3|        27|CASH SHORTAGE  |$1014587|-198.51463407408755|2.69%     \n",
      "       3|        27|CASH SHORTAGE  |$1014094|-198.5281790526555|2.98%            3|        27|CASH SHORTAGE  |$1015612|-198.53675138058034|2.62%     \n",
      "\n",
      "\n",
      "       3|        27|CASH SHORTAGE  |$1013673|-198.55523670800946|3.12%     \n",
      "       3|        27|CASH SHORTAGE  |$1015256|-198.5280028630171|3.18%            3|        27|CASH SHORTAGE  |$1014560|-198.5572222996486|3.45%            3|        28|CASH SHORTAGE  |$1016880|-199.67704497271524|0.77%            3|        27|CASH SHORTAGE  |$1014371|-198.53400502912737|2.75%            3|        28|CASH SHORTAGE  |$1017770|-199.68573943016068|0.33%            3|        27|CASH SHORTAGE  |$1014882|-198.51390426223162|2.65%            3|        27|CASH SHORTAGE  |$1014781|-198.51666906472786|2.11%     \n",
      "\n",
      "\n",
      "\n",
      "\n",
      "\n",
      "\n",
      "       3|        27|CASH SHORTAGE  |$1013597|-198.5223736883841|1.39%     \n",
      "       3|        27|CASH SHORTAGE  |$1014918|-198.5217868720133|2.75%     \n",
      "       3|        27|CASH SHORTAGE  |$1013332|-198.53939872880588|3.44%     \n",
      "       3|        27|CASH SHORTAGE  |$1012693|-198.55406900010536|2.59%     \n",
      "       4|        26|CASH SHORTAGE  |$994002|-205.07492374012404|1.61%     \n",
      "       4|        26|CASH SHORTAGE  |$993249|-205.0940582115687|1.34%     \n",
      "       4|        26|CASH SHORTAGE  |$992496|-205.04187079171646|1.46%            4|        26|CASH SHORTAGE  |$992981|-205.06599328231408|1.71%     \n",
      "\n",
      "       4|        26|CASH SHORTAGE  |$992523|-204.97105161504828|3.43%     \n",
      "       4|        26|CASH SHORTAGE  |$994739|-205.03166078409745|3.04%     \n",
      "       4|        26|CASH SHORTAGE  |$993302|-205.04023982496818|2.29%            4|        27|CASH SHORTAGE  |$1005899|-198.5683499841488|0.17%            4|        26|CASH SHORTAGE  |$992833|-205.0240204282345|1.84%     \n",
      "\n",
      "       4|        26|CASH SHORTAGE  |$992458|-205.01368625247596|2.26%     \n",
      "       4|        26|CASH SHORTAGE  |$993070|-205.09466034395075|1.03%     \n",
      "\n",
      "       4|        26|CASH SHORTAGE  |$992508|-205.06784698409817|2.37%            4|        27|CASH SHORTAGE  |$1007642|-198.53955590783167|0.13%            4|        26|CASH SHORTAGE  |$994249|-205.00012856255927|2.68%            4|        26|CASH SHORTAGE  |$993305|-205.06529471811567|1.72%     \n",
      "       4|        26|CASH SHORTAGE  |$992991|-205.07943670958764|1.90%     \n",
      "\n",
      "\n",
      "\n",
      "       4|        27|CASH SHORTAGE  |$1008004|-198.54397108496252|0.17%     \n",
      "       4|        26|CASH SHORTAGE  |$994325|-204.95744695944342|3.50%     \n",
      "       4|        27|CASH SHORTAGE  |$1008401|-198.57319889627715|1.20%            4|        27|CASH SHORTAGE  |$1007187|-198.55042321637538|0.04%     \n",
      "\n",
      "       5|        26|CASH SHORTAGE  |$994031|-205.08752529321814|2.00%     \n",
      "       5|        26|CASH SHORTAGE  |$993911|-205.0378480109124|3.29%            5|        26|CASH SHORTAGE  |$994301|-205.01761012570006|2.64%            5|        26|CASH SHORTAGE  |$994554|-205.05855395272553|2.82%            5|        26|CASH SHORTAGE  |$994328|-205.05947393983362|3.47%     \n",
      "       5|        26|CASH SHORTAGE  |$995044|-205.01746819410513|3.40%     \n",
      "\n",
      "\n",
      "\n",
      "       5|        26|CASH SHORTAGE  |$994300|-205.03257883938483|2.92%            5|        26|CASH SHORTAGE  |$995095|-205.04043486383284|3.34%     \n",
      "\n",
      "       5|        26|CASH SHORTAGE  |$994779|-205.08752755117132|2.62%            5|        26|CASH SHORTAGE  |$993917|-204.99069947504123|3.98%            5|        26|CASH SHORTAGE  |$994496|-205.10185286518524|1.90%            5|        26|CASH SHORTAGE  |$994005|-205.00344369560497|3.76%     \n",
      "\n",
      "\n",
      "\n",
      "       5|        27|CASH SHORTAGE  |$1008515|-198.56762356704567|0.37%     \n",
      "       5|        27|CASH SHORTAGE  |$1009091|-198.52926748205368|0.00%            5|        27|CASH SHORTAGE  |$1009342|-198.52972486029984|0.17%     \n",
      "       5|        26|CASH SHORTAGE  |$994195|-205.0351100764166|3.59%     \n",
      "       5|        27|CASH SHORTAGE  |$1009521|-198.55081494968672|0.94%     \n",
      "\n",
      "       5|        26|CASH SHORTAGE  |$994638|-205.00846172949448|3.23%     \n",
      "       5|        26|CASH SHORTAGE  |$994189|-205.00270454175336|3.81%     \n",
      "       5|        27|CASH SHORTAGE  |$1009041|-198.56854304140649|0.15%     \n",
      "       6|        27|CASH SHORTAGE  |$1011214|-198.56407153125787|1.51%     \n",
      "       6|        27|CASH SHORTAGE  |$1010488|-198.60400499288025|2.12%     \n",
      "       6|        27|CASH SHORTAGE  |$1011065|-198.5677006691211|2.13%            6|        27|CASH SHORTAGE  |$1010693|-198.57754290499577|1.99%            6|        27|CASH SHORTAGE  |$1010732|-198.57605562697273|1.21%            6|        27|CASH SHORTAGE  |$1011106|-198.56014148834944|1.85%     \n",
      "\n",
      "\n",
      "\n",
      "       6|        27|CASH SHORTAGE  |$1010593|-198.57672878297265|1.39%     \n",
      "       6|        27|CASH SHORTAGE  |$1010927|-198.56563033045677|1.79%     \n",
      "       6|        27|CASH SHORTAGE  |$1010495|-198.57407579154648|0.57%            6|        27|CASH SHORTAGE  |$1010897|-198.5568600200294|0.98%            6|        27|CASH SHORTAGE  |$1012317|-198.58137343835958|2.43%     \n",
      "\n",
      "\n",
      "       6|        27|CASH SHORTAGE  |$1010138|-198.55607630685193|1.39%     \n",
      "       6|        27|CASH SHORTAGE  |$1009773|-198.58433468615144|1.31%     \n",
      "       6|        27|CASH SHORTAGE  |$1010144|-198.58524110639195|1.42%     \n",
      "       6|        27|CASH SHORTAGE  |$1010355|-198.57719949552077|1.59%            6|        27|CASH SHORTAGE  |$1010172|-198.53808611516186|0.04%            6|        27|CASH SHORTAGE  |$1010496|-198.57830200093986|1.66%     \n",
      "\n",
      "\n",
      "       6|        27|CASH SHORTAGE  |$1010772|-198.5634584758374|1.46%            6|        27|CASH SHORTAGE  |$1010953|-198.5687053937583|1.01%            6|        27|CASH SHORTAGE  |$1010256|-198.5832246855835|1.87%     \n",
      "\n",
      "\n",
      "       7|        25|CASH SHORTAGE  |$1043103|-199.41973245479903|1.44%     \n",
      "       7|        25|CASH SHORTAGE  |$1042146|-199.4505699778319|3.37%            7|        25|CASH SHORTAGE  |$1043651|-199.41154109509003|0.32%     \n",
      "\n",
      "       7|        25|CASH SHORTAGE  |$1046284|-199.42641614529873|1.33%            7|        25|CASH SHORTAGE  |$1042594|-199.41553444217325|0.94%            7|        25|CASH SHORTAGE  |$1043935|-199.42825875588696|2.81%     \n",
      "\n",
      "\n",
      "       7|        25|CASH SHORTAGE  |$1042743|-199.41913418367082|2.22%            7|        25|CASH SHORTAGE  |$1041027|-199.38086197744883|1.94%     \n",
      "\n",
      "       7|        25|CASH SHORTAGE  |$1045278|-199.44720179195198|2.19%            7|        25|CASH SHORTAGE  |$1045281|-199.38262056079233|0.68%     \n",
      "       7|        24|CASH SHORTAGE  |$1037222|-197.0457625606659|3.88%     \n",
      "\n",
      "       7|        25|CASH SHORTAGE  |$1040481|-199.3977942095657|1.82%     \n",
      "       7|        25|CASH SHORTAGE  |$1045724|-199.42323320526418|1.05%     \n",
      "       7|        24|CASH SHORTAGE  |$1037710|-197.07381756449962|4.10%     \n",
      "       7|        25|CASH SHORTAGE  |$1043552|-199.4168744097121|1.38%            7|        25|CASH SHORTAGE  |$1041360|-199.4173083776776|1.22%     \n",
      "\n",
      "       7|        25|CASH SHORTAGE  |$1039072|-199.47737458822937|4.08%            7|        25|CASH SHORTAGE  |$1042611|-199.4065643333634|1.99%     \n",
      "\n",
      "       7|        25|CASH SHORTAGE  |$1041459|-199.42131554245213|1.83%     \n",
      "       7|        25|CASH SHORTAGE  |$1043336|-199.42441780992905|1.90%     \n",
      "       8|        25|CASH SHORTAGE  |$1047486|-199.55834243302832|2.91%     \n",
      "       8|        25|CASH SHORTAGE  |$1047008|-199.54894570552432|2.31%     \n",
      "       8|        25|CASH SHORTAGE  |$1044698|-199.54194578608923|2.79%     \n",
      "       8|        24|CASH SHORTAGE  |$1043961|-196.86645012789137|0.60%            8|        26|CASH SHORTAGE  |$995759|-205.14877134365156|0.66%            8|        25|CASH SHORTAGE  |$1047002|-199.54858347367175|2.95%     \n",
      "\n",
      "\n",
      "       8|        25|CASH SHORTAGE  |$1046542|-199.51338229017017|3.15%     \n",
      "       8|        25|CASH SHORTAGE  |$1048184|-199.6196809163314|2.53%     \n",
      "       8|        25|CASH SHORTAGE  |$1047371|-199.59756724261987|2.37%            8|        25|CASH SHORTAGE  |$1046182|-199.57674826811336|4.39%            8|        25|CASH SHORTAGE  |$1048213|-199.54102214261667|4.21%            8|        26|CASH SHORTAGE  |$996376|-205.07612427416717|1.59%     \n",
      "\n",
      "\n",
      "       8|        26|CASH SHORTAGE  |$994331|-205.26175670344776|0.07%     \n",
      "\n",
      "       8|        25|CASH SHORTAGE  |$1046284|-199.60361063326278|3.41%            8|        25|CASH SHORTAGE  |$1051370|-199.54064726024475|2.03%            8|        26|CASH SHORTAGE  |$995688|-205.10964945709003|2.27%     \n",
      "\n",
      "\n",
      "       8|        26|CASH SHORTAGE  |$995439|-205.24989949834088|0.40%            8|        25|CASH SHORTAGE  |$1049406|-199.55539606711238|3.79%     \n",
      "       8|        26|CASH SHORTAGE  |$996391|-205.13351393755758|0.57%     \n",
      "\n",
      "       8|        27|CASH SHORTAGE  |$1017260|-198.0904574884196|0.63%     \n",
      "       9|        26|CASH SHORTAGE  |$998862|-205.02803489657978|3.89%     \n",
      "       9|        26|CASH SHORTAGE  |$996242|-205.12944613666755|1.60%     \n",
      "       9|        26|CASH SHORTAGE  |$996023|-205.11435745736412|2.61%     \n",
      "       9|        27|CASH SHORTAGE  |$1015186|-198.18897560392713|0.07%            9|        27|CASH SHORTAGE  |$1017605|-198.12732701502298|0.25%            9|        26|CASH SHORTAGE  |$995518|-205.13621937968253|2.21%            9|        26|CASH SHORTAGE  |$998671|-205.07295645881138|3.61%            9|        26|CASH SHORTAGE  |$995440|-205.18342559274058|1.24%     \n",
      "       9|        25|CASH SHORTAGE  |$1047463|-199.50540096581105|3.18%     \n",
      "\n",
      "\n",
      "\n",
      "\n",
      "       9|        26|CASH SHORTAGE  |$994864|-205.19055254611112|1.41%     \n",
      "       9|        27|CASH SHORTAGE  |$1018168|-198.14100291504587|0.70%     \n",
      "       9|        26|CASH SHORTAGE  |$997925|-205.06294356270814|3.23%            9|        27|CASH SHORTAGE  |$1017213|-198.18740451975256|1.24%     \n",
      "       9|        26|CASH SHORTAGE  |$997411|-205.0959398665939|2.84%     \n",
      "       9|        27|CASH SHORTAGE  |$1016398|-198.18552903194578|0.27%            9|        27|CASH SHORTAGE  |$1015520|-198.19346154288894|0.73%     \n",
      "\n",
      "\n",
      "       9|        26|CASH SHORTAGE  |$997648|-205.03320326804283|3.75%     \n",
      "       9|        26|CASH SHORTAGE  |$997586|-205.0506852004772|3.47%     \n",
      "       9|        26|CASH SHORTAGE  |$996419|-205.1570878816015|1.83%     \n",
      "       9|        26|CASH SHORTAGE  |$998945|-205.07066530773093|3.13%     \n",
      "      10|        26|CASH SHORTAGE  |$993870|-205.13333419395514|0.95%     \n",
      "      10|        25|CASH SHORTAGE  |$1045990|-199.57164581637662|3.89%           10|        25|CASH SHORTAGE  |$1046501|-199.56697741336865|2.71%     \n",
      "      10|        25|CASH SHORTAGE  |$1044322|-199.61848482621224|4.13%     \n",
      "\n",
      "      10|        25|CASH SHORTAGE  |$1047744|-199.599690147674|3.75%           10|        25|CASH SHORTAGE  |$1045036|-199.59296054538848|3.74%           10|        25|CASH SHORTAGE  |$1046315|-199.61321151743522|3.69%     \n",
      "\n",
      "\n",
      "      10|        25|CASH SHORTAGE  |$1043873|-199.5151900581471|3.64%     \n",
      "      10|        25|CASH SHORTAGE  |$1045874|-199.60105157210702|3.67%           10|        26|CASH SHORTAGE  |$994238|-205.13311365824427|0.05%     \n",
      "\n",
      "      10|        25|CASH SHORTAGE  |$1045838|-199.59276081801627|2.41%     \n",
      "      10|        26|CASH SHORTAGE  |$994857|-205.07466577061084|0.27%     \n",
      "      10|        25|CASH SHORTAGE  |$1045887|-199.59236899458477|3.00%     \n",
      "      10|        26|CASH SHORTAGE  |$994456|-205.11418386888965|0.44%     \n",
      "      10|        26|CASH SHORTAGE  |$994030|-205.11072443330977|0.32%           10|        26|CASH SHORTAGE  |$995301|-205.07454507127508|0.28%           10|        25|CASH SHORTAGE  |$1045554|-199.5331442016558|1.51%           10|        26|CASH SHORTAGE  |$995967|-205.14425921743307|0.60%           10|        25|CASH SHORTAGE  |$1045266|-199.54777738295155|2.69%     \n",
      "\n",
      "\n",
      "\n",
      "\n",
      "      10|        25|CASH SHORTAGE  |$1044563|-199.59834092089403|2.70%     \n",
      "      11|        23|CASH SHORTAGE  |$1011364|-198.15998455040787|1.51%     \n",
      "      11|        22|CASH SHORTAGE  |$991934|-200.26638769059207|3.55%           11|        22|CASH SHORTAGE  |$989889|-200.2389592851866|2.23%     \n",
      "\n",
      "      11|        22|CASH SHORTAGE  |$991842|-200.25031608089841|2.31%     \n",
      "      11|        22|CASH SHORTAGE  |$990657|-200.23662323978414|3.89%           11|        23|CASH SHORTAGE  |$1011386|-198.171127238303|2.57%     \n",
      "      11|        23|CASH SHORTAGE  |$1010559|-198.15442372660735|0.73%     \n",
      "      11|        23|CASH SHORTAGE  |$1010305|-198.18824402865917|3.12%     \n",
      "      11|        23|CASH SHORTAGE  |$1011350|-198.16291025507675|2.68%     \n",
      "\n",
      "      11|        22|CASH SHORTAGE  |$990581|-200.2308168270978|3.94%     \n",
      "      11|        23|CASH SHORTAGE  |$1011350|-198.2157807976862|3.74%     \n",
      "      11|        22|CASH SHORTAGE  |$991675|-200.22345719560866|4.64%     \n",
      "      11|        23|CASH SHORTAGE  |$1009588|-198.16488690409292|1.10%     \n",
      "      11|        23|CASH SHORTAGE  |$1010287|-198.17993539516803|3.74%     \n",
      "      11|        23|CASH SHORTAGE  |$1010908|-198.17399341823037|1.00%     \n",
      "      11|        23|CASH SHORTAGE  |$1010402|-198.16034123447747|2.42%           11|        23|CASH SHORTAGE  |$1011727|-198.1629450289513|1.17%     \n",
      "\n",
      "      11|        23|CASH SHORTAGE  |$1011561|-198.2126569520057|3.89%     \n",
      "      11|        24|CASH SHORTAGE  |$1041421|-197.02277920703443|0.43%     \n",
      "      11|        23|CASH SHORTAGE  |$1011294|-198.1313561432954|2.20%     \n"
     ]
    }
   ],
   "source": [
    "# for this example, let's do multiprocessing with n_cores-2\n",
    "\n",
    "import multiprocessing\n",
    "\n",
    "n_cores = multiprocessing.cpu_count() - 2\n",
    "n_cores = 20\n",
    "print(f\"using {n_cores} cores\")\n",
    "\n",
    "\n",
    "env_train, _ = e_train_gym.get_multiproc_env(n = n_cores)\n",
    "# env_train, _ = e_train_gym.get_sb_env()\n"
   ]
  },
  {
   "cell_type": "markdown",
   "metadata": {
    "id": "HMNR5nHjh1iz"
   },
   "source": [
    "<a id='5'></a>\n",
    "# Part 6: Implement DRL Algorithms\n",
    "* The implementation of the DRL algorithms are based on **OpenAI Baselines** and **Stable Baselines**. Stable Baselines is a fork of OpenAI Baselines, with a major structural refactoring, and code cleanups.\n",
    "* FinRL library includes fine-tuned standard DRL algorithms, such as DQN, DDPG,\n",
    "Multi-Agent DDPG, PPO, SAC, A2C and TD3. We also allow users to\n",
    "design their own DRL algorithms by adapting these DRL algorithms."
   ]
  },
  {
   "cell_type": "code",
   "execution_count": 185,
   "metadata": {
    "id": "364PsqckttcQ"
   },
   "outputs": [],
   "source": [
    "agent = DRLAgent(env = env_train)"
   ]
  },
  {
   "cell_type": "code",
   "execution_count": 186,
   "metadata": {},
   "outputs": [
    {
     "name": "stdout",
     "output_type": "stream",
     "text": [
      "{'n_steps': 5, 'ent_coef': 0.01, 'learning_rate': 0.0007}\n"
     ]
    }
   ],
   "source": [
    "print(config.A2C_PARAMS)"
   ]
  },
  {
   "cell_type": "markdown",
   "metadata": {
    "id": "YDmqOyF9h1iz"
   },
   "source": [
    "### Model Training: 5 models, A2C DDPG, PPO, TD3, SAC\n"
   ]
  },
  {
   "cell_type": "markdown",
   "metadata": {
    "id": "uijiWgkuh1jB"
   },
   "source": [
    "### Model 1: A2C\n"
   ]
  },
  {
   "cell_type": "code",
   "execution_count": 187,
   "metadata": {
    "colab": {
     "base_uri": "https://localhost:8080/"
    },
    "id": "GUCnkn-HIbmj",
    "outputId": "2fdb297a-8d35-4c7e-806f-de859d70e19e"
   },
   "outputs": [
    {
     "name": "stdout",
     "output_type": "stream",
     "text": [
      "{'ent_coef': 0.01, 'learning_rate': 0.007, 'n_steps': 10, 'gamma': 0.98}\n",
      "Using cuda device\n"
     ]
    }
   ],
   "source": [
    "from torch.nn import Softsign\n",
    "a2c_params = {\n",
    "    \"ent_coef\": 0.01, \n",
    "    \"learning_rate\": 7e-3,\n",
    "    \"n_steps\": 10, \n",
    "    \"gamma\": 0.98\n",
    "}\n",
    "\n",
    "policy_kwargs = {\n",
    "    \"activation_fn\": Softsign\n",
    "}\n",
    "\n",
    "model = agent.get_model(\"a2c\",  model_kwargs = a2c_params, policy_kwargs = policy_kwargs)"
   ]
  },
  {
   "cell_type": "code",
   "execution_count": null,
   "metadata": {},
   "outputs": [
    {
     "name": "stdout",
     "output_type": "stream",
     "text": [
      "Logging to tensorboard_log/a2c/notebook_finaltest_final_0\n"
     ]
    }
   ],
   "source": [
    "model.learn(total_timesteps = 2000000, \n",
    "            log_interval = 100, tb_log_name = 'notebook_finaltest_final',\n",
    "            reset_num_timesteps = False)"
   ]
  },
  {
   "cell_type": "code",
   "execution_count": 163,
   "metadata": {},
   "outputs": [
    {
     "data": {
      "text/html": [
       "<div>\n",
       "<style scoped>\n",
       "    .dataframe tbody tr th:only-of-type {\n",
       "        vertical-align: middle;\n",
       "    }\n",
       "\n",
       "    .dataframe tbody tr th {\n",
       "        vertical-align: top;\n",
       "    }\n",
       "\n",
       "    .dataframe thead th {\n",
       "        text-align: right;\n",
       "    }\n",
       "</style>\n",
       "<table border=\"1\" class=\"dataframe\">\n",
       "  <thead>\n",
       "    <tr style=\"text-align: right;\">\n",
       "      <th></th>\n",
       "      <th>cash</th>\n",
       "      <th>asset_value</th>\n",
       "      <th>total_assets</th>\n",
       "      <th>reward</th>\n",
       "      <th>date</th>\n",
       "    </tr>\n",
       "  </thead>\n",
       "  <tbody>\n",
       "    <tr>\n",
       "      <th>0</th>\n",
       "      <td>1000000.000000</td>\n",
       "      <td>0.000000</td>\n",
       "      <td>1.000000e+06</td>\n",
       "      <td>0.000000</td>\n",
       "      <td>2009-01-02</td>\n",
       "    </tr>\n",
       "    <tr>\n",
       "      <th>1</th>\n",
       "      <td>983571.693178</td>\n",
       "      <td>16486.066600</td>\n",
       "      <td>1.000058e+06</td>\n",
       "      <td>57.759778</td>\n",
       "      <td>2009-01-05</td>\n",
       "    </tr>\n",
       "    <tr>\n",
       "      <th>2</th>\n",
       "      <td>968780.214159</td>\n",
       "      <td>31138.181426</td>\n",
       "      <td>9.999184e+05</td>\n",
       "      <td>-139.364193</td>\n",
       "      <td>2009-01-06</td>\n",
       "    </tr>\n",
       "    <tr>\n",
       "      <th>3</th>\n",
       "      <td>954186.512825</td>\n",
       "      <td>44063.472566</td>\n",
       "      <td>9.982500e+05</td>\n",
       "      <td>-1668.410194</td>\n",
       "      <td>2009-01-07</td>\n",
       "    </tr>\n",
       "    <tr>\n",
       "      <th>4</th>\n",
       "      <td>925520.731372</td>\n",
       "      <td>72987.469223</td>\n",
       "      <td>9.985082e+05</td>\n",
       "      <td>258.215204</td>\n",
       "      <td>2009-01-08</td>\n",
       "    </tr>\n",
       "    <tr>\n",
       "      <th>5</th>\n",
       "      <td>899159.446528</td>\n",
       "      <td>97477.318225</td>\n",
       "      <td>9.966368e+05</td>\n",
       "      <td>-1871.435842</td>\n",
       "      <td>2009-01-09</td>\n",
       "    </tr>\n",
       "    <tr>\n",
       "      <th>6</th>\n",
       "      <td>887360.501900</td>\n",
       "      <td>106250.665730</td>\n",
       "      <td>9.936112e+05</td>\n",
       "      <td>-3025.597123</td>\n",
       "      <td>2009-01-12</td>\n",
       "    </tr>\n",
       "    <tr>\n",
       "      <th>7</th>\n",
       "      <td>879690.885818</td>\n",
       "      <td>112966.490204</td>\n",
       "      <td>9.926574e+05</td>\n",
       "      <td>-953.791608</td>\n",
       "      <td>2009-01-13</td>\n",
       "    </tr>\n",
       "    <tr>\n",
       "      <th>8</th>\n",
       "      <td>861689.715889</td>\n",
       "      <td>127055.133692</td>\n",
       "      <td>9.887448e+05</td>\n",
       "      <td>-3912.526441</td>\n",
       "      <td>2009-01-14</td>\n",
       "    </tr>\n",
       "    <tr>\n",
       "      <th>9</th>\n",
       "      <td>852859.724311</td>\n",
       "      <td>134482.093078</td>\n",
       "      <td>9.873418e+05</td>\n",
       "      <td>-1403.032193</td>\n",
       "      <td>2009-01-15</td>\n",
       "    </tr>\n",
       "    <tr>\n",
       "      <th>10</th>\n",
       "      <td>830277.984501</td>\n",
       "      <td>158576.632598</td>\n",
       "      <td>9.888546e+05</td>\n",
       "      <td>1512.799710</td>\n",
       "      <td>2009-01-16</td>\n",
       "    </tr>\n",
       "    <tr>\n",
       "      <th>11</th>\n",
       "      <td>815696.375873</td>\n",
       "      <td>156175.327064</td>\n",
       "      <td>9.718717e+05</td>\n",
       "      <td>-16982.914161</td>\n",
       "      <td>2009-01-20</td>\n",
       "    </tr>\n",
       "    <tr>\n",
       "      <th>12</th>\n",
       "      <td>797377.015263</td>\n",
       "      <td>189661.242680</td>\n",
       "      <td>9.870383e+05</td>\n",
       "      <td>15166.555006</td>\n",
       "      <td>2009-01-21</td>\n",
       "    </tr>\n",
       "    <tr>\n",
       "      <th>13</th>\n",
       "      <td>789707.978260</td>\n",
       "      <td>194999.245553</td>\n",
       "      <td>9.847072e+05</td>\n",
       "      <td>-2331.034130</td>\n",
       "      <td>2009-01-22</td>\n",
       "    </tr>\n",
       "  </tbody>\n",
       "</table>\n",
       "</div>"
      ],
      "text/plain": [
       "              cash    asset_value  total_assets        reward        date\n",
       "0   1000000.000000       0.000000  1.000000e+06      0.000000  2009-01-02\n",
       "1    983571.693178   16486.066600  1.000058e+06     57.759778  2009-01-05\n",
       "2    968780.214159   31138.181426  9.999184e+05   -139.364193  2009-01-06\n",
       "3    954186.512825   44063.472566  9.982500e+05  -1668.410194  2009-01-07\n",
       "4    925520.731372   72987.469223  9.985082e+05    258.215204  2009-01-08\n",
       "5    899159.446528   97477.318225  9.966368e+05  -1871.435842  2009-01-09\n",
       "6    887360.501900  106250.665730  9.936112e+05  -3025.597123  2009-01-12\n",
       "7    879690.885818  112966.490204  9.926574e+05   -953.791608  2009-01-13\n",
       "8    861689.715889  127055.133692  9.887448e+05  -3912.526441  2009-01-14\n",
       "9    852859.724311  134482.093078  9.873418e+05  -1403.032193  2009-01-15\n",
       "10   830277.984501  158576.632598  9.888546e+05   1512.799710  2009-01-16\n",
       "11   815696.375873  156175.327064  9.718717e+05 -16982.914161  2009-01-20\n",
       "12   797377.015263  189661.242680  9.870383e+05  15166.555006  2009-01-21\n",
       "13   789707.978260  194999.245553  9.847072e+05  -2331.034130  2009-01-22"
      ]
     },
     "execution_count": 163,
     "metadata": {},
     "output_type": "execute_result"
    }
   ],
   "source": [
    "\n",
    "e_train_gym.save_asset_memory()"
   ]
  },
  {
   "cell_type": "code",
   "execution_count": 164,
   "metadata": {},
   "outputs": [
    {
     "data": {
      "text/plain": [
       "[0.0,\n",
       " 0.005775977802090347,\n",
       " -0.01393641927454155,\n",
       " -0.16684101939806714,\n",
       " 0.025821520382026213,\n",
       " -0.18714358415622265,\n",
       " -0.30255971233096207,\n",
       " -0.09537916079405695,\n",
       " -0.391252644094429,\n",
       " -0.14030321928058984,\n",
       " 0.15127997101149523,\n",
       " -1.6982914161394003,\n",
       " 1.5166555005604634,\n",
       " -0.2331034129927517]"
      ]
     },
     "execution_count": 164,
     "metadata": {},
     "output_type": "execute_result"
    }
   ],
   "source": [
    "e_train_gym.rewards_memory"
   ]
  },
  {
   "cell_type": "code",
   "execution_count": 165,
   "metadata": {
    "id": "efwBi84ch1jE"
   },
   "outputs": [],
   "source": [
    "data_turbulence = processed[(processed.date<'2019-01-01') & (processed.date>='2009-01-01')]\n",
    "insample_turbulence = data_turbulence.drop_duplicates(subset=['date'])"
   ]
  },
  {
   "cell_type": "code",
   "execution_count": 166,
   "metadata": {
    "colab": {
     "base_uri": "https://localhost:8080/"
    },
    "id": "VHZMBpSqh1jG",
    "outputId": "f750f515-9f4f-4adb-846e-ea0bdf15ea6b"
   },
   "outputs": [
    {
     "data": {
      "text/plain": [
       "count    2516.000000\n",
       "mean       33.277068\n",
       "std        33.989003\n",
       "min         0.000000\n",
       "25%        15.233736\n",
       "50%        25.180862\n",
       "75%        39.290075\n",
       "max       332.062852\n",
       "Name: turbulence, dtype: float64"
      ]
     },
     "execution_count": 166,
     "metadata": {},
     "output_type": "execute_result"
    }
   ],
   "source": [
    "insample_turbulence.turbulence.describe()"
   ]
  },
  {
   "cell_type": "code",
   "execution_count": 167,
   "metadata": {
    "id": "yuwDPkV9h1jL"
   },
   "outputs": [],
   "source": [
    "turbulence_threshold = np.quantile(insample_turbulence.turbulence.values,1)"
   ]
  },
  {
   "cell_type": "code",
   "execution_count": 168,
   "metadata": {
    "colab": {
     "base_uri": "https://localhost:8080/"
    },
    "id": "wwoz_7VSh1jO",
    "outputId": "37894e93-d22e-4e3f-f23a-d3ca08bf8342"
   },
   "outputs": [
    {
     "data": {
      "text/plain": [
       "332.06285180862903"
      ]
     },
     "execution_count": 168,
     "metadata": {},
     "output_type": "execute_result"
    }
   ],
   "source": [
    "turbulence_threshold"
   ]
  },
  {
   "cell_type": "markdown",
   "metadata": {
    "id": "U5mmgQF_h1jQ"
   },
   "source": [
    "### Trade\n",
    "\n",
    "DRL model needs to update periodically in order to take full advantage of the data, ideally we need to retrain our model yearly, quarterly, or monthly. We also need to tune the parameters along the way, in this notebook I only use the in-sample data from 2009-01 to 2018-12 to tune the parameters once, so there is some alpha decay here as the length of trade date extends. \n",
    "\n",
    "Numerous hyperparameters – e.g. the learning rate, the total number of samples to train on – influence the learning process and are usually determined by testing some variations."
   ]
  },
  {
   "cell_type": "code",
   "execution_count": 169,
   "metadata": {
    "id": "eLOnL5eYh1jR"
   },
   "outputs": [
    {
     "name": "stdout",
     "output_type": "stream",
     "text": [
      "EPISODE |STEPS     |TERMINAL_REASON|TOT_ASSETS|TERMINAL_REWARD|CASH_PCT  \n",
      "       1|        11|CASH SHORTAGE  |$1047455|-48.81849556405647|3.42%     \n",
      "hit end!\n"
     ]
    }
   ],
   "source": [
    "trade = data_split(processed, '2019-01-01','2021-01-01')\n",
    "e_trade_gym = StockTradingEnv(df = trade,hmax = 100, \n",
    "                              daily_information_cols = information_cols,\n",
    "                              print_verbosity = 500)\n",
    "env_trade, obs_trade = e_trade_gym.get_sb_env()\n",
    "\n",
    "df_account_value, df_actions = DRLAgent.DRL_prediction(model=model,\n",
    "                        test_data = trade,\n",
    "                        test_env = env_trade,\n",
    "                        test_obs = obs_trade)"
   ]
  },
  {
   "cell_type": "code",
   "execution_count": 170,
   "metadata": {
    "colab": {
     "base_uri": "https://localhost:8080/"
    },
    "id": "ERxw3KqLkcP4",
    "outputId": "cbb465c9-38dc-4d88-e79a-6ae29025164b"
   },
   "outputs": [
    {
     "data": {
      "text/plain": [
       "(11, 5)"
      ]
     },
     "execution_count": 170,
     "metadata": {},
     "output_type": "execute_result"
    }
   ],
   "source": [
    "df_account_value.shape"
   ]
  },
  {
   "cell_type": "code",
   "execution_count": 171,
   "metadata": {
    "colab": {
     "base_uri": "https://localhost:8080/",
     "height": 194
    },
    "id": "2yRkNguY5yvp",
    "outputId": "53ec139f-88e7-4291-cf11-8e6766184265"
   },
   "outputs": [
    {
     "data": {
      "text/html": [
       "<div>\n",
       "<style scoped>\n",
       "    .dataframe tbody tr th:only-of-type {\n",
       "        vertical-align: middle;\n",
       "    }\n",
       "\n",
       "    .dataframe tbody tr th {\n",
       "        vertical-align: top;\n",
       "    }\n",
       "\n",
       "    .dataframe thead th {\n",
       "        text-align: right;\n",
       "    }\n",
       "</style>\n",
       "<table border=\"1\" class=\"dataframe\">\n",
       "  <thead>\n",
       "    <tr style=\"text-align: right;\">\n",
       "      <th></th>\n",
       "      <th>cash</th>\n",
       "      <th>asset_value</th>\n",
       "      <th>total_assets</th>\n",
       "      <th>reward</th>\n",
       "      <th>date</th>\n",
       "    </tr>\n",
       "  </thead>\n",
       "  <tbody>\n",
       "    <tr>\n",
       "      <th>0</th>\n",
       "      <td>1000000.000000</td>\n",
       "      <td>0.000000</td>\n",
       "      <td>1.000000e+06</td>\n",
       "      <td>0.000000</td>\n",
       "      <td>2019-01-02</td>\n",
       "    </tr>\n",
       "    <tr>\n",
       "      <th>1</th>\n",
       "      <td>912386.848307</td>\n",
       "      <td>84769.136895</td>\n",
       "      <td>9.971560e+05</td>\n",
       "      <td>-2844.014798</td>\n",
       "      <td>2019-01-03</td>\n",
       "    </tr>\n",
       "    <tr>\n",
       "      <th>2</th>\n",
       "      <td>841705.943789</td>\n",
       "      <td>161571.085524</td>\n",
       "      <td>1.003277e+06</td>\n",
       "      <td>6121.044111</td>\n",
       "      <td>2019-01-04</td>\n",
       "    </tr>\n",
       "    <tr>\n",
       "      <th>3</th>\n",
       "      <td>778938.757476</td>\n",
       "      <td>224812.944810</td>\n",
       "      <td>1.003752e+06</td>\n",
       "      <td>474.672973</td>\n",
       "      <td>2019-01-07</td>\n",
       "    </tr>\n",
       "    <tr>\n",
       "      <th>4</th>\n",
       "      <td>664939.275609</td>\n",
       "      <td>344111.269793</td>\n",
       "      <td>1.009051e+06</td>\n",
       "      <td>5298.843117</td>\n",
       "      <td>2019-01-08</td>\n",
       "    </tr>\n",
       "    <tr>\n",
       "      <th>5</th>\n",
       "      <td>551815.536713</td>\n",
       "      <td>460237.091048</td>\n",
       "      <td>1.012053e+06</td>\n",
       "      <td>3002.082358</td>\n",
       "      <td>2019-01-09</td>\n",
       "    </tr>\n",
       "    <tr>\n",
       "      <th>6</th>\n",
       "      <td>483627.280935</td>\n",
       "      <td>533664.199658</td>\n",
       "      <td>1.017291e+06</td>\n",
       "      <td>5238.852832</td>\n",
       "      <td>2019-01-10</td>\n",
       "    </tr>\n",
       "    <tr>\n",
       "      <th>7</th>\n",
       "      <td>404954.075260</td>\n",
       "      <td>612072.422104</td>\n",
       "      <td>1.017026e+06</td>\n",
       "      <td>-264.983228</td>\n",
       "      <td>2019-01-11</td>\n",
       "    </tr>\n",
       "    <tr>\n",
       "      <th>8</th>\n",
       "      <td>313882.431802</td>\n",
       "      <td>701311.489258</td>\n",
       "      <td>1.015194e+06</td>\n",
       "      <td>-1832.576304</td>\n",
       "      <td>2019-01-14</td>\n",
       "    </tr>\n",
       "    <tr>\n",
       "      <th>9</th>\n",
       "      <td>226193.930201</td>\n",
       "      <td>795768.081451</td>\n",
       "      <td>1.021962e+06</td>\n",
       "      <td>6768.090592</td>\n",
       "      <td>2019-01-15</td>\n",
       "    </tr>\n",
       "    <tr>\n",
       "      <th>10</th>\n",
       "      <td>126191.650410</td>\n",
       "      <td>909448.825754</td>\n",
       "      <td>1.035640e+06</td>\n",
       "      <td>13678.464511</td>\n",
       "      <td>2019-01-16</td>\n",
       "    </tr>\n",
       "  </tbody>\n",
       "</table>\n",
       "</div>"
      ],
      "text/plain": [
       "              cash    asset_value  total_assets        reward        date\n",
       "0   1000000.000000       0.000000  1.000000e+06      0.000000  2019-01-02\n",
       "1    912386.848307   84769.136895  9.971560e+05  -2844.014798  2019-01-03\n",
       "2    841705.943789  161571.085524  1.003277e+06   6121.044111  2019-01-04\n",
       "3    778938.757476  224812.944810  1.003752e+06    474.672973  2019-01-07\n",
       "4    664939.275609  344111.269793  1.009051e+06   5298.843117  2019-01-08\n",
       "5    551815.536713  460237.091048  1.012053e+06   3002.082358  2019-01-09\n",
       "6    483627.280935  533664.199658  1.017291e+06   5238.852832  2019-01-10\n",
       "7    404954.075260  612072.422104  1.017026e+06   -264.983228  2019-01-11\n",
       "8    313882.431802  701311.489258  1.015194e+06  -1832.576304  2019-01-14\n",
       "9    226193.930201  795768.081451  1.021962e+06   6768.090592  2019-01-15\n",
       "10   126191.650410  909448.825754  1.035640e+06  13678.464511  2019-01-16"
      ]
     },
     "execution_count": 171,
     "metadata": {},
     "output_type": "execute_result"
    }
   ],
   "source": [
    "df_account_value.head(50)"
   ]
  },
  {
   "cell_type": "code",
   "execution_count": 172,
   "metadata": {
    "colab": {
     "base_uri": "https://localhost:8080/",
     "height": 328
    },
    "id": "nFlK5hNbWVFk",
    "outputId": "06fe8d38-8724-4cea-f6ce-7a2af821ebab"
   },
   "outputs": [
    {
     "name": "stderr",
     "output_type": "stream",
     "text": [
      "/opt/conda/lib/python3.6/site-packages/pandas/core/frame.py:1490: FutureWarning: Using short name for 'orient' is deprecated. Only the options: ('dict', list, 'series', 'split', 'records', 'index') will be used in a future version. Use one of the above to silence this warning.\n",
      "  FutureWarning,\n"
     ]
    },
    {
     "data": {
      "text/plain": [
       "[{'date': '2019-01-02',\n",
       "  'actions': array([-100.      ,   48.82916 ,  100.      ,  -31.976286,  100.      ,\n",
       "         -100.      , -100.      ,   72.69591 ,  -24.078516,  -32.234528,\n",
       "          -14.118378, -100.      ,  -88.954544, -100.      ,  -40.73939 ,\n",
       "           87.60143 ,  -19.983112,  100.      ,  100.      ,  -36.902725,\n",
       "          -39.953915, -100.      ,   75.26267 ,  -48.317196,   12.670875,\n",
       "         -100.      , -100.      ,  -96.62873 , -100.      , -100.      ],\n",
       "        dtype=float32)},\n",
       " {'date': '2019-01-03',\n",
       "  'actions': array([-100.      ,   43.008064,  100.      , -100.      ,  100.      ,\n",
       "         -100.      ,  -51.602913, -100.      ,  100.      , -100.      ,\n",
       "         -100.      , -100.      ,   38.088573, -100.      , -100.      ,\n",
       "           10.127079, -100.      , -100.      ,  100.      , -100.      ,\n",
       "         -100.      , -100.      ,  100.      ,   49.7209  , -100.      ,\n",
       "           41.549553, -100.      , -100.      ,   12.173414, -100.      ],\n",
       "        dtype=float32)},\n",
       " {'date': '2019-01-04',\n",
       "  'actions': array([-100.     ,  -39.5823 ,  100.     , -100.     ,  100.     ,\n",
       "         -100.     , -100.     , -100.     ,  100.     , -100.     ,\n",
       "         -100.     , -100.     ,  -68.28316, -100.     , -100.     ,\n",
       "         -100.     , -100.     , -100.     ,  100.     , -100.     ,\n",
       "         -100.     , -100.     ,  100.     ,  100.     , -100.     ,\n",
       "           62.70404, -100.     , -100.     ,  -93.79162, -100.     ],\n",
       "        dtype=float32)},\n",
       " {'date': '2019-01-07',\n",
       "  'actions': array([-100.      ,   -6.076831,  100.      , -100.      ,  100.      ,\n",
       "         -100.      , -100.      , -100.      ,  100.      , -100.      ,\n",
       "         -100.      , -100.      ,  -63.859802, -100.      , -100.      ,\n",
       "           65.768005, -100.      , -100.      ,  100.      , -100.      ,\n",
       "         -100.      , -100.      ,  100.      ,  100.      , -100.      ,\n",
       "          100.      , -100.      , -100.      ,  100.      , -100.      ],\n",
       "        dtype=float32)},\n",
       " {'date': '2019-01-08',\n",
       "  'actions': array([-100.      ,   88.88303 ,  100.      , -100.      ,  100.      ,\n",
       "         -100.      , -100.      , -100.      ,  100.      , -100.      ,\n",
       "         -100.      , -100.      ,   71.75236 , -100.      , -100.      ,\n",
       "          -47.127647, -100.      , -100.      ,  100.      , -100.      ,\n",
       "         -100.      , -100.      ,  100.      ,  100.      , -100.      ,\n",
       "           88.70218 , -100.      ,    9.777201,  100.      , -100.      ],\n",
       "        dtype=float32)},\n",
       " {'date': '2019-01-09',\n",
       "  'actions': array([-100.       ,  -88.14527  ,  100.       , -100.       ,\n",
       "          100.       , -100.       , -100.       , -100.       ,\n",
       "          100.       , -100.       , -100.       , -100.       ,\n",
       "          -49.542843 , -100.       , -100.       ,  -18.905848 ,\n",
       "         -100.       , -100.       ,   76.307465 , -100.       ,\n",
       "         -100.       , -100.       ,  100.       ,   57.928146 ,\n",
       "         -100.       ,  100.       , -100.       ,    1.9376636,\n",
       "          -37.779514 , -100.       ], dtype=float32)},\n",
       " {'date': '2019-01-10',\n",
       "  'actions': array([-100.      , -100.      ,  100.      , -100.      ,  100.      ,\n",
       "         -100.      , -100.      , -100.      ,  100.      , -100.      ,\n",
       "         -100.      , -100.      ,  -82.97894 , -100.      , -100.      ,\n",
       "          -60.67128 , -100.      , -100.      ,  100.      , -100.      ,\n",
       "         -100.      , -100.      ,  100.      ,  100.      , -100.      ,\n",
       "           -3.524977, -100.      , -100.      ,   38.632076, -100.      ],\n",
       "        dtype=float32)},\n",
       " {'date': '2019-01-11',\n",
       "  'actions': array([-100.     , -100.     ,  100.     , -100.     ,  100.     ,\n",
       "         -100.     , -100.     , -100.     ,  100.     , -100.     ,\n",
       "         -100.     , -100.     , -100.     , -100.     , -100.     ,\n",
       "         -100.     , -100.     , -100.     ,  100.     , -100.     ,\n",
       "         -100.     , -100.     ,  100.     ,  100.     , -100.     ,\n",
       "          100.     , -100.     ,  -94.21253,  -68.26856, -100.     ],\n",
       "        dtype=float32)},\n",
       " {'date': '2019-01-14',\n",
       "  'actions': array([-100.      ,   35.64986 ,  100.      , -100.      ,  100.      ,\n",
       "         -100.      , -100.      , -100.      ,   27.267445, -100.      ,\n",
       "         -100.      , -100.      , -100.      , -100.      , -100.      ,\n",
       "          -18.765936, -100.      , -100.      ,  100.      , -100.      ,\n",
       "         -100.      , -100.      ,  100.      ,  100.      , -100.      ,\n",
       "           29.914263, -100.      , -100.      ,  100.      , -100.      ],\n",
       "        dtype=float32)},\n",
       " {'date': '2019-01-15',\n",
       "  'actions': array([-100.      ,  -67.66936 ,  100.      , -100.      ,  100.      ,\n",
       "         -100.      , -100.      , -100.      ,  100.      , -100.      ,\n",
       "         -100.      , -100.      , -100.      , -100.      , -100.      ,\n",
       "          -45.010002, -100.      , -100.      ,  100.      , -100.      ,\n",
       "         -100.      , -100.      ,  100.      ,  100.      , -100.      ,\n",
       "           93.40653 , -100.      , -100.      ,   68.41038 , -100.      ],\n",
       "        dtype=float32)}]"
      ]
     },
     "execution_count": 172,
     "metadata": {},
     "output_type": "execute_result"
    }
   ],
   "source": [
    "df_actions.to_dict(orient = 'rows')[:10]"
   ]
  },
  {
   "cell_type": "markdown",
   "metadata": {
    "id": "W6vvNSC6h1jZ"
   },
   "source": [
    "<a id='6'></a>\n",
    "# Part 7: Backtest Our Strategy\n",
    "Backtesting plays a key role in evaluating the performance of a trading strategy. Automated backtesting tool is preferred because it reduces the human error. We usually use the Quantopian pyfolio package to backtest our trading strategies. It is easy to use and consists of various individual plots that provide a comprehensive image of the performance of a trading strategy."
   ]
  },
  {
   "cell_type": "markdown",
   "metadata": {
    "id": "Lr2zX7ZxNyFQ"
   },
   "source": [
    "<a id='6.1'></a>\n",
    "## 7.1 BackTestStats\n",
    "pass in df_account_value, this information is stored in env class\n"
   ]
  },
  {
   "cell_type": "code",
   "execution_count": 28,
   "metadata": {
    "colab": {
     "base_uri": "https://localhost:8080/"
    },
    "id": "Nzkr9yv-AdV_",
    "outputId": "1053083a-d74c-48b0-a623-de33282e2fff"
   },
   "outputs": [
    {
     "name": "stdout",
     "output_type": "stream",
     "text": [
      "==============Get Backtest Results===========\n",
      "annual return:  1.0004311372012076\n",
      "sharpe ratio:  0.08055356268546879\n",
      "Annual return          0.002338\n",
      "Cumulative returns     0.004682\n",
      "Annual volatility      0.123580\n",
      "Sharpe ratio           0.080554\n",
      "Calmar ratio           0.016769\n",
      "Stability              0.012354\n",
      "Max drawdown          -0.139449\n",
      "Omega ratio            1.017406\n",
      "Sortino ratio          0.116217\n",
      "Skew                   0.092149\n",
      "Kurtosis               7.106414\n",
      "Tail ratio             1.120924\n",
      "Daily value at risk   -0.015530\n",
      "Alpha                  0.000000\n",
      "Beta                   1.000000\n",
      "dtype: float64\n"
     ]
    }
   ],
   "source": [
    "print(\"==============Get Backtest Results===========\")\n",
    "now = datetime.datetime.now().strftime('%Y%m%d-%Hh%M')\n",
    "\n",
    "perf_stats_all = BackTestStats(account_value=df_account_value, value_col_name = 'total_assets')\n",
    "perf_stats_all = pd.DataFrame(perf_stats_all)\n",
    "perf_stats_all.to_csv(\"./\"+config.RESULTS_DIR+\"/perf_stats_all_\"+now+'.csv')"
   ]
  },
  {
   "cell_type": "markdown",
   "metadata": {
    "id": "9U6Suru3h1jc"
   },
   "source": [
    "<a id='6.2'></a>\n",
    "## 7.2 BackTestPlot"
   ]
  },
  {
   "cell_type": "code",
   "execution_count": 29,
   "metadata": {
    "colab": {
     "base_uri": "https://localhost:8080/",
     "height": 1000
    },
    "id": "lKRGftSS7pNM",
    "outputId": "4f77cef2-3934-444a-cacc-4ed8f94514ae"
   },
   "outputs": [
    {
     "name": "stdout",
     "output_type": "stream",
     "text": [
      "==============Compare to DJIA===========\n",
      "annual return:  1.0004311372012076\n",
      "sharpe ratio:  0.08055356268546879\n",
      "[*********************100%***********************]  1 of 1 completed\n",
      "Shape of DataFrame:  (505, 8)\n"
     ]
    },
    {
     "data": {
      "text/html": [
       "<table border=\"1\" class=\"dataframe\">\n",
       "  <thead>\n",
       "    <tr style=\"text-align: right;\"><th>Start date</th><td colspan=2>2019-01-03</td></tr>\n",
       "    <tr style=\"text-align: right;\"><th>End date</th><td colspan=2>2020-12-31</td></tr>\n",
       "    <tr style=\"text-align: right;\"><th>Total months</th><td colspan=2>24</td></tr>\n",
       "    <tr style=\"text-align: right;\">\n",
       "      <th></th>\n",
       "      <th>Backtest</th>\n",
       "    </tr>\n",
       "  </thead>\n",
       "  <tbody>\n",
       "    <tr>\n",
       "      <th>Annual return</th>\n",
       "      <td>0.234%</td>\n",
       "    </tr>\n",
       "    <tr>\n",
       "      <th>Cumulative returns</th>\n",
       "      <td>0.468%</td>\n",
       "    </tr>\n",
       "    <tr>\n",
       "      <th>Annual volatility</th>\n",
       "      <td>12.358%</td>\n",
       "    </tr>\n",
       "    <tr>\n",
       "      <th>Sharpe ratio</th>\n",
       "      <td>0.08</td>\n",
       "    </tr>\n",
       "    <tr>\n",
       "      <th>Calmar ratio</th>\n",
       "      <td>0.02</td>\n",
       "    </tr>\n",
       "    <tr>\n",
       "      <th>Stability</th>\n",
       "      <td>0.01</td>\n",
       "    </tr>\n",
       "    <tr>\n",
       "      <th>Max drawdown</th>\n",
       "      <td>-13.945%</td>\n",
       "    </tr>\n",
       "    <tr>\n",
       "      <th>Omega ratio</th>\n",
       "      <td>1.02</td>\n",
       "    </tr>\n",
       "    <tr>\n",
       "      <th>Sortino ratio</th>\n",
       "      <td>0.12</td>\n",
       "    </tr>\n",
       "    <tr>\n",
       "      <th>Skew</th>\n",
       "      <td>0.09</td>\n",
       "    </tr>\n",
       "    <tr>\n",
       "      <th>Kurtosis</th>\n",
       "      <td>7.11</td>\n",
       "    </tr>\n",
       "    <tr>\n",
       "      <th>Tail ratio</th>\n",
       "      <td>1.12</td>\n",
       "    </tr>\n",
       "    <tr>\n",
       "      <th>Daily value at risk</th>\n",
       "      <td>-1.553%</td>\n",
       "    </tr>\n",
       "    <tr>\n",
       "      <th>Alpha</th>\n",
       "      <td>0.03</td>\n",
       "    </tr>\n",
       "    <tr>\n",
       "      <th>Beta</th>\n",
       "      <td>-0.09</td>\n",
       "    </tr>\n",
       "  </tbody>\n",
       "</table>"
      ],
      "text/plain": [
       "<IPython.core.display.HTML object>"
      ]
     },
     "metadata": {},
     "output_type": "display_data"
    },
    {
     "data": {
      "text/html": [
       "<table border=\"1\" class=\"dataframe\">\n",
       "  <thead>\n",
       "    <tr style=\"text-align: right;\">\n",
       "      <th>Worst drawdown periods</th>\n",
       "      <th>Net drawdown in %</th>\n",
       "      <th>Peak date</th>\n",
       "      <th>Valley date</th>\n",
       "      <th>Recovery date</th>\n",
       "      <th>Duration</th>\n",
       "    </tr>\n",
       "  </thead>\n",
       "  <tbody>\n",
       "    <tr>\n",
       "      <th>0</th>\n",
       "      <td>13.94</td>\n",
       "      <td>2019-07-05</td>\n",
       "      <td>2020-03-24</td>\n",
       "      <td>2020-11-10</td>\n",
       "      <td>353</td>\n",
       "    </tr>\n",
       "    <tr>\n",
       "      <th>1</th>\n",
       "      <td>9.52</td>\n",
       "      <td>2020-12-09</td>\n",
       "      <td>2020-12-31</td>\n",
       "      <td>NaT</td>\n",
       "      <td>NaN</td>\n",
       "    </tr>\n",
       "    <tr>\n",
       "      <th>2</th>\n",
       "      <td>3.03</td>\n",
       "      <td>2020-11-10</td>\n",
       "      <td>2020-11-17</td>\n",
       "      <td>2020-12-01</td>\n",
       "      <td>16</td>\n",
       "    </tr>\n",
       "    <tr>\n",
       "      <th>3</th>\n",
       "      <td>1.47</td>\n",
       "      <td>2019-01-03</td>\n",
       "      <td>2019-04-23</td>\n",
       "      <td>2019-06-11</td>\n",
       "      <td>114</td>\n",
       "    </tr>\n",
       "    <tr>\n",
       "      <th>4</th>\n",
       "      <td>1.17</td>\n",
       "      <td>2020-12-03</td>\n",
       "      <td>2020-12-04</td>\n",
       "      <td>2020-12-08</td>\n",
       "      <td>4</td>\n",
       "    </tr>\n",
       "  </tbody>\n",
       "</table>"
      ],
      "text/plain": [
       "<IPython.core.display.HTML object>"
      ]
     },
     "metadata": {},
     "output_type": "display_data"
    },
    {
     "name": "stderr",
     "output_type": "stream",
     "text": [
      "/opt/conda/lib/python3.6/site-packages/pyfolio/tears.py:907: UserWarning: Passed returns do not overlap with anyinteresting times.\n",
      "  'interesting times.', UserWarning)\n"
     ]
    },
    {
     "data": {
      "image/png": "[encoded data removed]",
      "text/plain": [
       "<Figure size 1008x5184 with 13 Axes>"
      ]
     },
     "metadata": {
      "needs_background": "light"
     },
     "output_type": "display_data"
    }
   ],
   "source": [
    "print(\"==============Compare to DJIA===========\")\n",
    "%matplotlib inline\n",
    "# S&P 500: ^GSPC\n",
    "# Dow Jones Index: ^DJI\n",
    "# NASDAQ 100: ^NDX\n",
    "BackTestPlot(df_account_value, \n",
    "             baseline_ticker = '^DJI', \n",
    "             baseline_start = '2019-01-01',\n",
    "             baseline_end = '2021-01-01', value_col_name = 'total_assets')"
   ]
  },
  {
   "cell_type": "markdown",
   "metadata": {
    "id": "SlLT9_5WN478"
   },
   "source": [
    "<a id='6.3'></a>\n",
    "## 7.3 Baseline Stats"
   ]
  },
  {
   "cell_type": "code",
   "execution_count": 30,
   "metadata": {
    "colab": {
     "base_uri": "https://localhost:8080/"
    },
    "id": "YktexHcqh1jc",
    "outputId": "38566531-a3a0-4705-db30-d437e8f8fc73"
   },
   "outputs": [
    {
     "name": "stdout",
     "output_type": "stream",
     "text": [
      "==============Get Baseline Stats===========\n",
      "[*********************100%***********************]  1 of 1 completed\n",
      "Shape of DataFrame:  (505, 8)\n",
      "Annual return          0.144674\n",
      "Cumulative returns     0.310981\n",
      "Annual volatility      0.274619\n",
      "Sharpe ratio           0.631418\n",
      "Calmar ratio           0.390102\n",
      "Stability              0.116677\n",
      "Max drawdown          -0.370862\n",
      "Omega ratio            1.149365\n",
      "Sortino ratio          0.870084\n",
      "Skew                        NaN\n",
      "Kurtosis                    NaN\n",
      "Tail ratio             0.860710\n",
      "Daily value at risk   -0.033911\n",
      "Alpha                  0.000000\n",
      "Beta                   1.000000\n",
      "dtype: float64\n"
     ]
    }
   ],
   "source": [
    "print(\"==============Get Baseline Stats===========\")\n",
    "baesline_perf_stats=BaselineStats('^DJI',\n",
    "                                  baseline_start = '2019-01-01',\n",
    "                                  baseline_end = '2021-01-01')"
   ]
  },
  {
   "cell_type": "code",
   "execution_count": null,
   "metadata": {
    "id": "A6W2J57ch1j9"
   },
   "outputs": [],
   "source": []
  }
 ],
 "metadata": {
  "colab": {
   "collapsed_sections": [
    "uijiWgkuh1jB",
    "MRiOtrywfAo1",
    "_gDkU-j-fCmZ",
    "3Zpv4S0-fDBv"
   ],
   "include_colab_link": true,
   "name": "FinRL_multiple_stock_trading.ipynb",
   "provenance": [],
   "toc_visible": true
  },
  "kernelspec": {
   "display_name": "Python 3",
   "language": "python",
   "name": "python3"
  },
  "language_info": {
   "codemirror_mode": {
    "name": "ipython",
    "version": 3
   },
   "file_extension": ".py",
   "mimetype": "text/x-python",
   "name": "python",
   "nbconvert_exporter": "python",
   "pygments_lexer": "ipython3",
   "version": "3.6.12"
  },
  "pycharm": {
   "stem_cell": {
    "cell_type": "raw",
    "metadata": {
     "collapsed": false
    },
    "source": []
   }
  }
 },
 "nbformat": 4,
 "nbformat_minor": 4
}
