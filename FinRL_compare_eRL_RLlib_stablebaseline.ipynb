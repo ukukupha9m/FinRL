{
  "nbformat": 4,
  "nbformat_minor": 0,
  "metadata": {
    "anaconda-cloud": {},
    "kernelspec": {
      "display_name": "Python 3",
      "language": "python",
      "name": "python3"
    },
    "language_info": {
      "codemirror_mode": {
        "name": "ipython",
        "version": 3
      },
      "file_extension": ".py",
      "mimetype": "text/x-python",
      "name": "python",
      "nbconvert_exporter": "python",
      "pygments_lexer": "ipython3",
      "version": "3.6.10"
    },
    "colab": {
      "name": "FinRL_compare_eRL_RLlib_stablebaseline.ipynb",
      "provenance": [],
      "collapsed_sections": [],
      "include_colab_link": true
    }
  },
  "cells": [
    {
      "cell_type": "markdown",
      "metadata": {
        "id": "view-in-github",
        "colab_type": "text"
      },
      "source": [
        "<a href=\"https://colab.research.google.com/github/AI4Finance-LLC/FinRL/blob/master/FinRL_compare_eRL_RLlib_stablebaseline.ipynb\" target=\"_parent\"><img src=\"https://colab.research.google.com/assets/colab-badge.svg\" alt=\"Open In Colab\"/></a>"
      ]
    },
    {
      "cell_type": "code",
      "metadata": {
        "colab": {
          "base_uri": "https://localhost:8080/"
        },
        "id": "VtxFMjnLDy3Q",
        "outputId": "7c52de3a-2c63-448a-b96e-f327349f8b50"
      },
      "source": [
        "## install elegantrl library\n",
        "!pip install git+https://github.com/AI4Finance-LLC/ElegantRL.git\n",
        "## install rllib/ray library\n",
        "!pip install ray[default]\n",
        "## install finrl library\n",
        "!pip install git+https://github.com/AI4Finance-LLC/FinRL-Library.git"
      ],
      "execution_count": null,
      "outputs": [
        {
          "output_type": "stream",
          "text": [
            "Collecting git+https://github.com/AI4Finance-LLC/ElegantRL.git\n",
            "  Cloning https://github.com/AI4Finance-LLC/ElegantRL.git to /tmp/pip-req-build-w28wqpyc\n",
            "  Running command git clone -q https://github.com/AI4Finance-LLC/ElegantRL.git /tmp/pip-req-build-w28wqpyc\n",
            "Requirement already satisfied: gym in /usr/local/lib/python3.7/dist-packages (from elegantrl==0.3.1) (0.17.3)\n",
            "Requirement already satisfied: matplotlib in /usr/local/lib/python3.7/dist-packages (from elegantrl==0.3.1) (3.2.2)\n",
            "Requirement already satisfied: numpy in /usr/local/lib/python3.7/dist-packages (from elegantrl==0.3.1) (1.19.5)\n",
            "Collecting pybullet\n",
            "  Downloading pybullet-3.1.7.tar.gz (79.0 MB)\n",
            "\u001b[K     |████████████████████████████████| 79.0 MB 20 kB/s \n",
            "\u001b[?25hRequirement already satisfied: torch in /usr/local/lib/python3.7/dist-packages (from elegantrl==0.3.1) (1.9.0+cu102)\n",
            "Requirement already satisfied: opencv-python in /usr/local/lib/python3.7/dist-packages (from elegantrl==0.3.1) (4.1.2.30)\n",
            "Collecting box2d-py\n",
            "  Downloading box2d_py-2.3.8-cp37-cp37m-manylinux1_x86_64.whl (448 kB)\n",
            "\u001b[K     |████████████████████████████████| 448 kB 43.3 MB/s \n",
            "\u001b[?25hRequirement already satisfied: scipy in /usr/local/lib/python3.7/dist-packages (from gym->elegantrl==0.3.1) (1.4.1)\n",
            "Requirement already satisfied: cloudpickle<1.7.0,>=1.2.0 in /usr/local/lib/python3.7/dist-packages (from gym->elegantrl==0.3.1) (1.3.0)\n",
            "Requirement already satisfied: pyglet<=1.5.0,>=1.4.0 in /usr/local/lib/python3.7/dist-packages (from gym->elegantrl==0.3.1) (1.5.0)\n",
            "Requirement already satisfied: future in /usr/local/lib/python3.7/dist-packages (from pyglet<=1.5.0,>=1.4.0->gym->elegantrl==0.3.1) (0.16.0)\n",
            "Requirement already satisfied: kiwisolver>=1.0.1 in /usr/local/lib/python3.7/dist-packages (from matplotlib->elegantrl==0.3.1) (1.3.1)\n",
            "Requirement already satisfied: pyparsing!=2.0.4,!=2.1.2,!=2.1.6,>=2.0.1 in /usr/local/lib/python3.7/dist-packages (from matplotlib->elegantrl==0.3.1) (2.4.7)\n",
            "Requirement already satisfied: cycler>=0.10 in /usr/local/lib/python3.7/dist-packages (from matplotlib->elegantrl==0.3.1) (0.10.0)\n",
            "Requirement already satisfied: python-dateutil>=2.1 in /usr/local/lib/python3.7/dist-packages (from matplotlib->elegantrl==0.3.1) (2.8.2)\n",
            "Requirement already satisfied: six in /usr/local/lib/python3.7/dist-packages (from cycler>=0.10->matplotlib->elegantrl==0.3.1) (1.15.0)\n",
            "Requirement already satisfied: typing-extensions in /usr/local/lib/python3.7/dist-packages (from torch->elegantrl==0.3.1) (3.7.4.3)\n",
            "Building wheels for collected packages: elegantrl, pybullet\n",
            "  Building wheel for elegantrl (setup.py) ... \u001b[?25l\u001b[?25hdone\n",
            "  Created wheel for elegantrl: filename=elegantrl-0.3.1-py3-none-any.whl size=65731 sha256=f5dd4d249fee1722241f4dd6914aae3566662b70910d1964c3b15a8d4f2144e8\n",
            "  Stored in directory: /tmp/pip-ephem-wheel-cache-gga1luht/wheels/52/9a/b3/08c8a0b5be22a65da0132538c05e7e961b1253c90d6845e0c6\n",
            "  Building wheel for pybullet (setup.py) ... \u001b[?25l\u001b[?25hdone\n",
            "  Created wheel for pybullet: filename=pybullet-3.1.7-cp37-cp37m-linux_x86_64.whl size=89750994 sha256=3dcc73f633238fa468cce7b7cc85d742bb67d544d91e4dee73313c866d4d851c\n",
            "  Stored in directory: /root/.cache/pip/wheels/70/1c/62/86c8b68885c24123d87c5392d6678aa2b68a1796c8113e1aa6\n",
            "Successfully built elegantrl pybullet\n",
            "Installing collected packages: pybullet, box2d-py, elegantrl\n",
            "Successfully installed box2d-py-2.3.8 elegantrl-0.3.1 pybullet-3.1.7\n"
          ],
          "name": "stdout"
        }
      ]
    },
    {
      "cell_type": "code",
      "metadata": {
        "id": "Ox7crSLXk2tK"
      },
      "source": [
        ""
      ],
      "execution_count": null,
      "outputs": []
    },
    {
      "cell_type": "code",
      "metadata": {
        "colab": {
          "base_uri": "https://localhost:8080/"
        },
        "id": "P446vin0EGSC",
        "outputId": "0d932425-0196-484a-d18e-daa4f1166aaf"
      },
      "source": [
        "!pip install trading_calendars\n",
        "!pip install alpaca_trade_api\n",
        "!pip install ccxt\n",
        "!pip install jqdatasdk\n",
        "!pip install wrds"
      ],
      "execution_count": null,
      "outputs": [
        {
          "output_type": "stream",
          "text": [
            "Collecting trading_calendars\n",
            "  Downloading trading_calendars-2.1.1.tar.gz (108 kB)\n",
            "\u001b[?25l\r\u001b[K     |███                             | 10 kB 21.8 MB/s eta 0:00:01\r\u001b[K     |██████                          | 20 kB 26.0 MB/s eta 0:00:01\r\u001b[K     |█████████                       | 30 kB 27.4 MB/s eta 0:00:01\r\u001b[K     |████████████                    | 40 kB 14.4 MB/s eta 0:00:01\r\u001b[K     |███████████████                 | 51 kB 5.9 MB/s eta 0:00:01\r\u001b[K     |██████████████████              | 61 kB 6.2 MB/s eta 0:00:01\r\u001b[K     |█████████████████████           | 71 kB 5.3 MB/s eta 0:00:01\r\u001b[K     |████████████████████████        | 81 kB 5.9 MB/s eta 0:00:01\r\u001b[K     |███████████████████████████▏    | 92 kB 6.0 MB/s eta 0:00:01\r\u001b[K     |██████████████████████████████▏ | 102 kB 5.4 MB/s eta 0:00:01\r\u001b[K     |████████████████████████████████| 108 kB 5.4 MB/s \n",
            "\u001b[?25hRequirement already satisfied: numpy in /usr/local/lib/python3.7/dist-packages (from trading_calendars) (1.19.5)\n",
            "Requirement already satisfied: pandas in /usr/local/lib/python3.7/dist-packages (from trading_calendars) (1.1.5)\n",
            "Requirement already satisfied: python-dateutil in /usr/local/lib/python3.7/dist-packages (from trading_calendars) (2.8.2)\n",
            "Requirement already satisfied: pytz in /usr/local/lib/python3.7/dist-packages (from trading_calendars) (2018.9)\n",
            "Requirement already satisfied: six in /usr/local/lib/python3.7/dist-packages (from trading_calendars) (1.15.0)\n",
            "Requirement already satisfied: toolz in /usr/local/lib/python3.7/dist-packages (from trading_calendars) (0.11.1)\n",
            "Building wheels for collected packages: trading-calendars\n",
            "  Building wheel for trading-calendars (setup.py) ... \u001b[?25l\u001b[?25hdone\n",
            "  Created wheel for trading-calendars: filename=trading_calendars-2.1.1-py3-none-any.whl size=140937 sha256=9d2493b876efdc2600d336d91569aac58422f14ed5c101a2a72307047cf285f3\n",
            "  Stored in directory: /root/.cache/pip/wheels/62/9c/d1/46a21e1b99e064cba79b85e9f95e6a208ac5ba4c29ae5962ec\n",
            "Successfully built trading-calendars\n",
            "Installing collected packages: trading-calendars\n",
            "Successfully installed trading-calendars-2.1.1\n",
            "Collecting alpaca_trade_api\n",
            "  Downloading alpaca_trade_api-1.2.3-py3-none-any.whl (40 kB)\n",
            "\u001b[K     |████████████████████████████████| 40 kB 3.6 MB/s \n",
            "\u001b[?25hRequirement already satisfied: msgpack==1.0.2 in /usr/local/lib/python3.7/dist-packages (from alpaca_trade_api) (1.0.2)\n",
            "Requirement already satisfied: requests<3,>2 in /usr/local/lib/python3.7/dist-packages (from alpaca_trade_api) (2.23.0)\n",
            "Requirement already satisfied: urllib3<2,>1.24 in /usr/local/lib/python3.7/dist-packages (from alpaca_trade_api) (1.24.3)\n",
            "Collecting websockets<10,>=8.0\n",
            "  Downloading websockets-9.1-cp37-cp37m-manylinux2010_x86_64.whl (103 kB)\n",
            "\u001b[K     |████████████████████████████████| 103 kB 7.3 MB/s \n",
            "\u001b[?25hRequirement already satisfied: pandas in /usr/local/lib/python3.7/dist-packages (from alpaca_trade_api) (1.1.5)\n",
            "Requirement already satisfied: numpy in /usr/local/lib/python3.7/dist-packages (from alpaca_trade_api) (1.19.5)\n",
            "Collecting websocket-client<2,>=0.56.0\n",
            "  Downloading websocket_client-1.2.1-py2.py3-none-any.whl (52 kB)\n",
            "\u001b[K     |████████████████████████████████| 52 kB 1.2 MB/s \n",
            "\u001b[?25hRequirement already satisfied: chardet<4,>=3.0.2 in /usr/local/lib/python3.7/dist-packages (from requests<3,>2->alpaca_trade_api) (3.0.4)\n",
            "Requirement already satisfied: idna<3,>=2.5 in /usr/local/lib/python3.7/dist-packages (from requests<3,>2->alpaca_trade_api) (2.10)\n",
            "Requirement already satisfied: certifi>=2017.4.17 in /usr/local/lib/python3.7/dist-packages (from requests<3,>2->alpaca_trade_api) (2021.5.30)\n",
            "Requirement already satisfied: pytz>=2017.2 in /usr/local/lib/python3.7/dist-packages (from pandas->alpaca_trade_api) (2018.9)\n",
            "Requirement already satisfied: python-dateutil>=2.7.3 in /usr/local/lib/python3.7/dist-packages (from pandas->alpaca_trade_api) (2.8.2)\n",
            "Requirement already satisfied: six>=1.5 in /usr/local/lib/python3.7/dist-packages (from python-dateutil>=2.7.3->pandas->alpaca_trade_api) (1.15.0)\n",
            "Installing collected packages: websockets, websocket-client, alpaca-trade-api\n",
            "Successfully installed alpaca-trade-api-1.2.3 websocket-client-1.2.1 websockets-9.1\n",
            "Collecting ccxt\n",
            "  Downloading ccxt-1.55.2-py2.py3-none-any.whl (2.0 MB)\n",
            "\u001b[K     |████████████████████████████████| 2.0 MB 5.1 MB/s \n",
            "\u001b[?25hRequirement already satisfied: yarl==1.6.3 in /usr/local/lib/python3.7/dist-packages (from ccxt) (1.6.3)\n",
            "Collecting cryptography>=2.6.1\n",
            "  Downloading cryptography-3.4.7-cp36-abi3-manylinux2014_x86_64.whl (3.2 MB)\n",
            "\u001b[K     |████████████████████████████████| 3.2 MB 23.9 MB/s \n",
            "\u001b[?25hCollecting aiodns>=1.1.1\n",
            "  Downloading aiodns-3.0.0-py3-none-any.whl (5.0 kB)\n",
            "Requirement already satisfied: setuptools>=38.5.1 in /usr/local/lib/python3.7/dist-packages (from ccxt) (57.2.0)\n",
            "Requirement already satisfied: certifi>=2018.1.18 in /usr/local/lib/python3.7/dist-packages (from ccxt) (2021.5.30)\n",
            "Requirement already satisfied: requests>=2.18.4 in /usr/local/lib/python3.7/dist-packages (from ccxt) (2.23.0)\n",
            "Requirement already satisfied: aiohttp<3.8,>=3.7.4 in /usr/local/lib/python3.7/dist-packages (from ccxt) (3.7.4.post0)\n",
            "Requirement already satisfied: typing-extensions>=3.7.4 in /usr/local/lib/python3.7/dist-packages (from yarl==1.6.3->ccxt) (3.7.4.3)\n",
            "Requirement already satisfied: idna>=2.0 in /usr/local/lib/python3.7/dist-packages (from yarl==1.6.3->ccxt) (2.10)\n",
            "Requirement already satisfied: multidict>=4.0 in /usr/local/lib/python3.7/dist-packages (from yarl==1.6.3->ccxt) (5.1.0)\n",
            "Collecting pycares>=4.0.0\n",
            "  Downloading pycares-4.0.0-cp37-cp37m-manylinux2010_x86_64.whl (291 kB)\n",
            "\u001b[K     |████████████████████████████████| 291 kB 59.6 MB/s \n",
            "\u001b[?25hRequirement already satisfied: attrs>=17.3.0 in /usr/local/lib/python3.7/dist-packages (from aiohttp<3.8,>=3.7.4->ccxt) (21.2.0)\n",
            "Requirement already satisfied: async-timeout<4.0,>=3.0 in /usr/local/lib/python3.7/dist-packages (from aiohttp<3.8,>=3.7.4->ccxt) (3.0.1)\n",
            "Requirement already satisfied: chardet<5.0,>=2.0 in /usr/local/lib/python3.7/dist-packages (from aiohttp<3.8,>=3.7.4->ccxt) (3.0.4)\n",
            "Requirement already satisfied: cffi>=1.12 in /usr/local/lib/python3.7/dist-packages (from cryptography>=2.6.1->ccxt) (1.14.6)\n",
            "Requirement already satisfied: pycparser in /usr/local/lib/python3.7/dist-packages (from cffi>=1.12->cryptography>=2.6.1->ccxt) (2.20)\n",
            "Requirement already satisfied: urllib3!=1.25.0,!=1.25.1,<1.26,>=1.21.1 in /usr/local/lib/python3.7/dist-packages (from requests>=2.18.4->ccxt) (1.24.3)\n",
            "Installing collected packages: pycares, cryptography, aiodns, ccxt\n",
            "Successfully installed aiodns-3.0.0 ccxt-1.55.2 cryptography-3.4.7 pycares-4.0.0\n",
            "Collecting jqdatasdk\n",
            "  Downloading jqdatasdk-1.8.10-py3-none-any.whl (153 kB)\n",
            "\u001b[K     |████████████████████████████████| 153 kB 5.0 MB/s \n",
            "\u001b[?25hRequirement already satisfied: msgpack>=0.4.7 in /usr/local/lib/python3.7/dist-packages (from jqdatasdk) (1.0.2)\n",
            "Requirement already satisfied: six in /usr/local/lib/python3.7/dist-packages (from jqdatasdk) (1.15.0)\n",
            "Collecting pymysql>=0.7.6\n",
            "  Downloading PyMySQL-1.0.2-py3-none-any.whl (43 kB)\n",
            "\u001b[K     |████████████████████████████████| 43 kB 1.8 MB/s \n",
            "\u001b[?25hRequirement already satisfied: SQLAlchemy>=1.2.8 in /usr/local/lib/python3.7/dist-packages (from jqdatasdk) (1.4.22)\n",
            "Collecting thriftpy2>=0.3.9\n",
            "  Downloading thriftpy2-0.4.14.tar.gz (361 kB)\n",
            "\u001b[K     |████████████████████████████████| 361 kB 9.1 MB/s \n",
            "\u001b[?25hRequirement already satisfied: numpy>=1.9.2 in /usr/local/lib/python3.7/dist-packages (from jqdatasdk) (1.19.5)\n",
            "Requirement already satisfied: pandas>=0.16.2 in /usr/local/lib/python3.7/dist-packages (from jqdatasdk) (1.1.5)\n",
            "Requirement already satisfied: requests in /usr/local/lib/python3.7/dist-packages (from jqdatasdk) (2.23.0)\n",
            "Requirement already satisfied: pytz>=2017.2 in /usr/local/lib/python3.7/dist-packages (from pandas>=0.16.2->jqdatasdk) (2018.9)\n",
            "Requirement already satisfied: python-dateutil>=2.7.3 in /usr/local/lib/python3.7/dist-packages (from pandas>=0.16.2->jqdatasdk) (2.8.2)\n",
            "Requirement already satisfied: greenlet!=0.4.17 in /usr/local/lib/python3.7/dist-packages (from SQLAlchemy>=1.2.8->jqdatasdk) (1.1.1)\n",
            "Requirement already satisfied: importlib-metadata in /usr/local/lib/python3.7/dist-packages (from SQLAlchemy>=1.2.8->jqdatasdk) (4.6.3)\n",
            "Collecting ply<4.0,>=3.4\n",
            "  Downloading ply-3.11-py2.py3-none-any.whl (49 kB)\n",
            "\u001b[K     |████████████████████████████████| 49 kB 4.9 MB/s \n",
            "\u001b[?25hRequirement already satisfied: typing-extensions>=3.6.4 in /usr/local/lib/python3.7/dist-packages (from importlib-metadata->SQLAlchemy>=1.2.8->jqdatasdk) (3.7.4.3)\n",
            "Requirement already satisfied: zipp>=0.5 in /usr/local/lib/python3.7/dist-packages (from importlib-metadata->SQLAlchemy>=1.2.8->jqdatasdk) (3.5.0)\n",
            "Requirement already satisfied: certifi>=2017.4.17 in /usr/local/lib/python3.7/dist-packages (from requests->jqdatasdk) (2021.5.30)\n",
            "Requirement already satisfied: chardet<4,>=3.0.2 in /usr/local/lib/python3.7/dist-packages (from requests->jqdatasdk) (3.0.4)\n",
            "Requirement already satisfied: urllib3!=1.25.0,!=1.25.1,<1.26,>=1.21.1 in /usr/local/lib/python3.7/dist-packages (from requests->jqdatasdk) (1.24.3)\n",
            "Requirement already satisfied: idna<3,>=2.5 in /usr/local/lib/python3.7/dist-packages (from requests->jqdatasdk) (2.10)\n",
            "Building wheels for collected packages: thriftpy2\n",
            "  Building wheel for thriftpy2 (setup.py) ... \u001b[?25l\u001b[?25hdone\n",
            "  Created wheel for thriftpy2: filename=thriftpy2-0.4.14-cp37-cp37m-linux_x86_64.whl size=940477 sha256=9d26bdeec11ecf7782a65acd905d4012dd8a7b10774b885d4bcd3d82ceac4101\n",
            "  Stored in directory: /root/.cache/pip/wheels/2a/f5/49/9c0d851aa64b58db72883cf9393cc824d536bdf13f5c83cff4\n",
            "Successfully built thriftpy2\n",
            "Installing collected packages: ply, thriftpy2, pymysql, jqdatasdk\n",
            "Successfully installed jqdatasdk-1.8.10 ply-3.11 pymysql-1.0.2 thriftpy2-0.4.14\n",
            "Collecting wrds\n",
            "  Downloading wrds-3.0.10-py3-none-any.whl (11 kB)\n",
            "Collecting mock\n",
            "  Downloading mock-4.0.3-py3-none-any.whl (28 kB)\n",
            "Requirement already satisfied: numpy in /usr/local/lib/python3.7/dist-packages (from wrds) (1.19.5)\n",
            "Requirement already satisfied: sqlalchemy in /usr/local/lib/python3.7/dist-packages (from wrds) (1.4.22)\n",
            "Requirement already satisfied: pandas in /usr/local/lib/python3.7/dist-packages (from wrds) (1.1.5)\n",
            "Collecting psycopg2-binary\n",
            "  Downloading psycopg2_binary-2.9.1-cp37-cp37m-manylinux_2_17_x86_64.manylinux2014_x86_64.whl (3.4 MB)\n",
            "\u001b[K     |████████████████████████████████| 3.4 MB 7.9 MB/s \n",
            "\u001b[?25hRequirement already satisfied: pytz>=2017.2 in /usr/local/lib/python3.7/dist-packages (from pandas->wrds) (2018.9)\n",
            "Requirement already satisfied: python-dateutil>=2.7.3 in /usr/local/lib/python3.7/dist-packages (from pandas->wrds) (2.8.2)\n",
            "Requirement already satisfied: six>=1.5 in /usr/local/lib/python3.7/dist-packages (from python-dateutil>=2.7.3->pandas->wrds) (1.15.0)\n",
            "Requirement already satisfied: greenlet!=0.4.17 in /usr/local/lib/python3.7/dist-packages (from sqlalchemy->wrds) (1.1.1)\n",
            "Requirement already satisfied: importlib-metadata in /usr/local/lib/python3.7/dist-packages (from sqlalchemy->wrds) (4.6.3)\n",
            "Requirement already satisfied: zipp>=0.5 in /usr/local/lib/python3.7/dist-packages (from importlib-metadata->sqlalchemy->wrds) (3.5.0)\n",
            "Requirement already satisfied: typing-extensions>=3.6.4 in /usr/local/lib/python3.7/dist-packages (from importlib-metadata->sqlalchemy->wrds) (3.7.4.3)\n",
            "Installing collected packages: psycopg2-binary, mock, wrds\n",
            "Successfully installed mock-4.0.3 psycopg2-binary-2.9.1 wrds-3.0.10\n"
          ],
          "name": "stdout"
        }
      ]
    },
    {
      "cell_type": "code",
      "metadata": {
        "id": "N7bN2cdIDugz"
      },
      "source": [
        "from elegantrl.agent import *\n",
        "from elegantrl.run import *\n",
        "import torch \n",
        "import ray\n",
        "from finrl.neo_finrl.data_processor import DataProcessor"
      ],
      "execution_count": null,
      "outputs": []
    },
    {
      "cell_type": "code",
      "metadata": {
        "id": "q1GNYqkiDug4"
      },
      "source": [
        ""
      ],
      "execution_count": null,
      "outputs": []
    },
    {
      "cell_type": "code",
      "metadata": {
        "id": "knHkXNilDug5"
      },
      "source": [
        "def train(start_date, end_date, ticker_list, data_source, time_interval, \n",
        "          technical_indicator_list, drl_lib, env, agent, if_vix = True,\n",
        "          **kwargs):\n",
        "    \n",
        "    #fetch data\n",
        "    DP = DataProcessor(data_source, **kwargs)\n",
        "    data = DP.download_data(ticker_list, start_date, end_date, time_interval)\n",
        "    data = DP.clean_data(data)\n",
        "    data = DP.add_technical_indicator(data, technical_indicator_list)\n",
        "    if if_vix:\n",
        "        data = DP.add_vix(data)\n",
        "    price_array, tech_array, turbulence_array = DP.df_to_array(data, if_vix)\n",
        "    \n",
        "    #read parameters\n",
        "    env_config = {'price_array':price_array,\n",
        "            'tech_array':tech_array,\n",
        "            'turbulence_array':turbulence_array,\n",
        "            'if_train':True}\n",
        "    env_instance = env(config=env_config)\n",
        "    \n",
        "    learning_rate = kwargs.get('learning_rate', 0.00025)\n",
        "    batch_size = kwargs.get('batch_size', 2**7)\n",
        "    gamma = kwargs.get('gamma', 0.99)\n",
        "    seed = kwargs.get('seed', 312)\n",
        "    total_timesteps = kwargs.get('total_timesteps', 1e6)\n",
        "    net_dimension = kwargs.get('net_dimension', 2**7)\n",
        "    cwd = kwargs.get('cwd','./'+str(agent))\n",
        "    \n",
        "    #train using different libraries\n",
        "    if drl_lib == 'elegantrl':\n",
        "        \n",
        "        if agent == 'ppo':\n",
        "            args = Arguments(agent=AgentPPO(), env=env_instance, if_on_policy=True)\n",
        "        else:\n",
        "            raise ValueError('Invalid agent input or the agent input is not \\\n",
        "                             supported yet.')\n",
        "        try:\n",
        "            args.cwd = cwd\n",
        "            args.learning_rate = learning_rate\n",
        "            args.batch_size = batch_size\n",
        "            args.gamma = gamma\n",
        "            args.seed = seed\n",
        "            args.break_step = total_timesteps\n",
        "            args.net_dimension = net_dimension\n",
        "        except:\n",
        "            print('Invalid parameters input! Use default value.')\n",
        "            args.learning_rate = 0.00025\n",
        "            args.batch_size = 128\n",
        "            args.gamma = 0.99\n",
        "            args.seed = 312\n",
        "            args.break_step = 1e6\n",
        "            args.net_dimension = 2**7\n",
        "            \n",
        "        train_and_evaluate(args)\n",
        "        \n",
        "    elif drl_lib == 'rllib':\n",
        "        ray.init(ignore_reinit_error=True)\n",
        "        if agent == 'ppo':\n",
        "            from ray.rllib.agents import ppo\n",
        "            from ray.rllib.agents.ppo.ppo import PPOTrainer\n",
        "            try:\n",
        "                total_episodes = kwargs.get('total_episodes')\n",
        "            except:\n",
        "                print('total training episodes is not given! Use default value 1000')\n",
        "                total_episodes = 1000\n",
        "            config = ppo.DEFAULT_CONFIG.copy()\n",
        "            config['env'] = env\n",
        "            config[\"log_level\"] = \"WARN\"\n",
        "            config['env_config'] = {'price_array':price_array,\n",
        "                                    'tech_array':tech_array,\n",
        "                                    'turbulence_array':turbulence_array,\n",
        "                                    'if_train':True}\n",
        "            trainer = PPOTrainer(env=env, config=config)\n",
        "            for i in range(total_episodes):\n",
        "                trainer.train()\n",
        "            trainer.save(cwd)\n",
        "        \n",
        "        else:\n",
        "            raise ValueError('Invalid agent input or the agent input is not \\\n",
        "                 supported yet.')\n",
        "            \n",
        "    elif drl_lib == 'stable_baselines3':\n",
        "        \n",
        "        if agent == 'ppo':\n",
        "            from stable_baselines3 import PPO\n",
        "            from stable_baselines3.common.vec_env import DummyVecEnv\n",
        "            \n",
        "            env_train = DummyVecEnv([lambda : env_instance])\n",
        "            model = PPO(\"MlpPolicy\", env_train, learning_rate=learning_rate, \n",
        "                        n_steps=2048, batch_size=batch_size, ent_coef=0.0, \n",
        "                        gamma=gamma, seed=seed)\n",
        "            model.learn(total_timesteps=total_timesteps, tb_log_name = 'ppo')\n",
        "            print('Training finished!')\n",
        "            model.save(cwd)\n",
        "            print('Trained model saved in ' + str(cwd))\n",
        "    \n",
        "    else:\n",
        "        raise ValueError('DRL library input is NOT supported. Please check.')"
      ],
      "execution_count": null,
      "outputs": []
    },
    {
      "cell_type": "code",
      "metadata": {
        "id": "lNKwj7lE04UG"
      },
      "source": [
        "\n",
        "def test(data_dic, drl_lib, env, agent, **kwargs):\n",
        "    if 'price_ary' in data_dic and 'tech_ary' in data_dic and 'turbulence_ary'\\\n",
        "    in data_dic:\n",
        "        price_ary = data_dic['price_ary']\n",
        "        tech_ary = data_dic['tech_ary']\n",
        "        turbulence_ary = data_dic['turbulence_ary']\n",
        "    elif 'price_ary' in data_dic and 'tech_ary' in data_dic and 'turbulence_ary'\\\n",
        "    not in data_dic:\n",
        "        price_ary = data_dic['price_ary']\n",
        "        tech_ary = data_dic['tech_ary']\n",
        "    else:\n",
        "        raise ValueError('Invalid input data_dic!')\n",
        "    \n",
        "    env_config = {'price_ary':price_ary,\n",
        "            'tech_ary':tech_ary,\n",
        "            'turbulence_ary':turbulence_ary,\n",
        "            'if_train':False}\n",
        "    env_instance = env(config=env_config)\n",
        "    \n",
        "    learning_rate = kwargs.get('learning_rate', 0.00025)\n",
        "    batch_size = kwargs.get('batch_size', 2**7)\n",
        "    gamma = kwargs.get('gamma', 0.99)\n",
        "    seed = kwargs.get('seed', 312)\n",
        "    total_timesteps = kwargs.get('total_timesteps', 1e6)\n",
        "    net_dimension = kwargs.get('net_dimension', 2**7)\n",
        "    cwd = kwargs.get('cwd','./'+str(agent))\n",
        "\n",
        "    #test on elegantrl\n",
        "    if drl_lib == 'elegantrl':\n",
        "        \n",
        "        #select agent\n",
        "        if agent == 'ppo':\n",
        "            args = Arguments(agent=AgentPPO(), env=env_instance, if_on_policy=True)\n",
        "        else:\n",
        "            raise ValueError('Invalid agent input or the agent input is not \\\n",
        "                             supported yet.')\n",
        "        \n",
        "        #load agent\n",
        "        try:\n",
        "            state_dim = env_instance.state_dim\n",
        "            action_dim = env_instance.action_dim\n",
        "    \n",
        "            agent = args.agent\n",
        "            net_dim = net_dimension\n",
        "    \n",
        "            agent.init(net_dim, state_dim, action_dim)\n",
        "            agent.save_load_model(cwd=cwd, if_save=False)\n",
        "            act = agent.act\n",
        "            device = agent.device\n",
        "    \n",
        "        except:\n",
        "            raise ValueError('Fail to load agent!')\n",
        "        \n",
        "        #test on the testing env\n",
        "        _torch = torch\n",
        "        state = env_instance.reset()\n",
        "        episode_returns = list()  # the cumulative_return / initial_account\n",
        "        with _torch.no_grad():\n",
        "            for i in range(env_instance.max_step):\n",
        "                s_tensor = _torch.as_tensor((state,), device=device)\n",
        "                a_tensor = act(s_tensor)  # action_tanh = act.forward()\n",
        "                action = a_tensor.detach().cpu().numpy()[0]  # not need detach(), because with torch.no_grad() outside\n",
        "                state, reward, done, _ = env_instance.step(action)\n",
        "\n",
        "                total_asset = env_instance.amount + (env_instance.price_ary[env_instance.day] * env_instance.stocks).sum()\n",
        "                episode_return = total_asset / env_instance.initial_total_asset\n",
        "                episode_returns.append(episode_return)\n",
        "                if done:\n",
        "                    break\n",
        "        print('Test Finished!')\n",
        "        #return episode returns on testing data\n",
        "        return episode_returns\n",
        "    \n",
        "    #test using rllib\n",
        "    elif drl_lib == 'rllib':\n",
        "        #load agent\n",
        "        from ray.rllib.agents import ppo\n",
        "        from ray.rllib.agents.ppo.ppo import PPOTrainer\n",
        "        config = ppo.DEFAULT_CONFIG.copy()\n",
        "        config['env'] = env\n",
        "        config[\"log_level\"] = \"WARN\"\n",
        "        config['env_config'] = {'price_ary':price_ary,\n",
        "                                'tech_ary':tech_ary,\n",
        "                                'turbulence_ary':turbulence_ary,\n",
        "                                'if_train':False}\n",
        "        \n",
        "        trainer = PPOTrainer(env=env, config=config)\n",
        "        try:\n",
        "            trainer.restore(cwd)\n",
        "            print(\"Restoring from checkpoint path\", cwd)\n",
        "        except:\n",
        "            raise ValueError('Fail to load agent!')\n",
        "        \n",
        "        #test on the testing env\n",
        "        state = env_instance.reset()\n",
        "        episode_returns = list()  # the cumulative_return / initial_account\n",
        "        done = False\n",
        "        while not done:\n",
        "            action = trainer.compute_single_action(state)\n",
        "            state, reward, done, _ = env_instance.step(action)\n",
        "    \n",
        "            total_asset = env_instance.amount + (env_instance.price_ary[env_instance.day] * env_instance.stocks).sum()\n",
        "            episode_return = total_asset / env_instance.initial_total_asset\n",
        "            episode_returns.append(episode_return)\n",
        "        print('episode return: ' + str(episode_return))\n",
        "        print('Test Finished!')   \n",
        "        return episode_returns\n",
        "\n",
        "          #test using stable baselines3\n",
        "    elif drl_lib == 'stable_baselines3':\n",
        "        from stable_baselines3 import PPO\n",
        "\n",
        "        try:\n",
        "            #load agent\n",
        "            model = PPO.load(cwd)\n",
        "            print(\"Successfully load model\", cwd)\n",
        "        except:\n",
        "            raise ValueError('Fail to load agent!')\n",
        "        \n",
        "        #test on the testing env\n",
        "        state = env_instance.reset()\n",
        "        episode_returns = list()  # the cumulative_return / initial_account\n",
        "        done = False\n",
        "        while not done:\n",
        "            action = model.predict(state)[0]\n",
        "            state, reward, done, _ = env_instance.step(action)\n",
        "    \n",
        "            total_asset = env_instance.amount + (env_instance.price_ary[env_instance.day] * env_instance.stocks).sum()\n",
        "            episode_return = total_asset / env_instance.initial_total_asset\n",
        "            episode_returns.append(episode_return)\n",
        "        \n",
        "        print('episode_return', episode_return)\n",
        "        print('Test Finished!')   \n",
        "        return episode_returns\n",
        "    \n",
        "    else:\n",
        "        raise ValueError('DRL library input is NOT supported yet. Please check.')"
      ],
      "execution_count": null,
      "outputs": []
    },
    {
      "cell_type": "code",
      "metadata": {
        "id": "urE6upKhDug7"
      },
      "source": [
        "FAANG_TICKER = ['FB', 'AMZN', 'AAPL', 'NFLX', 'GOOG']\n",
        "TEST_START_DATE = '2020-01-01'\n",
        "TEST_END_DATE = '2020-12-31'\n",
        "TECHNICAL_INDICATORS_LIST = ['macd',\n",
        " 'boll_ub',\n",
        " 'boll_lb',\n",
        " 'rsi_30',\n",
        " 'dx_30',\n",
        " 'close_30_sma',\n",
        " 'close_60_sma']"
      ],
      "execution_count": null,
      "outputs": []
    },
    {
      "cell_type": "code",
      "metadata": {
        "colab": {
          "base_uri": "https://localhost:8080/",
          "height": 35
        },
        "id": "SF8BIvXoDug9",
        "outputId": "a02c5a14-46b6-4744-b095-b7d118c6d410"
      },
      "source": [
        "TEST_START_DATE"
      ],
      "execution_count": null,
      "outputs": [
        {
          "output_type": "execute_result",
          "data": {
            "application/vnd.google.colaboratory.intrinsic+json": {
              "type": "string"
            },
            "text/plain": [
              "'2020-01-01'"
            ]
          },
          "metadata": {
            "tags": []
          },
          "execution_count": 8
        }
      ]
    },
    {
      "cell_type": "code",
      "metadata": {
        "colab": {
          "base_uri": "https://localhost:8080/",
          "height": 35
        },
        "id": "y6F59VHVDug-",
        "outputId": "81eda7b4-1634-427a-e7df-b44dba4e2708"
      },
      "source": [
        "TEST_END_DATE"
      ],
      "execution_count": null,
      "outputs": [
        {
          "output_type": "execute_result",
          "data": {
            "application/vnd.google.colaboratory.intrinsic+json": {
              "type": "string"
            },
            "text/plain": [
              "'2020-12-31'"
            ]
          },
          "metadata": {
            "tags": []
          },
          "execution_count": 9
        }
      ]
    },
    {
      "cell_type": "code",
      "metadata": {
        "id": "wcvNObPnDug_"
      },
      "source": [
        "from finrl.neo_finrl.env_stock_trading.env_stock_trading_np import StockTradingEnv\n"
      ],
      "execution_count": null,
      "outputs": []
    },
    {
      "cell_type": "code",
      "metadata": {
        "id": "exdnEQ8eSQxZ"
      },
      "source": [
        "import numpy as np\n",
        "import os\n",
        "import gym\n",
        "from numpy import random as rd\n",
        "\n",
        "class StockTradingEnv(gym.Env):\n",
        "\n",
        "    def __init__(self, config, initial_account=1e6,\n",
        "                 gamma=0.99, turbulence_thresh=30, min_stock_rate=0.1,\n",
        "                 max_stock=1e2, initial_capital=1e6, buy_cost_pct=1e-3, \n",
        "                 sell_cost_pct=1e-3,reward_scaling=2 ** -11,  initial_stocks=None,\n",
        "                 ):\n",
        "        price_ary = config['price_array']\n",
        "        tech_ary = config['tech_array']\n",
        "        turbulence_ary = config['turbulence_array']\n",
        "        if_train = config['if_train']\n",
        "        n = price_ary.shape[0]\n",
        "        price_ary = price_ary[int(0.1*n):]\n",
        "        tech_ary = tech_ary[int(0.1*n):]\n",
        "        turbulence_ary = turbulence_ary[int(0.1*n):]\n",
        "        self.price_ary =  price_ary.astype(np.float32)\n",
        "        self.tech_ary = tech_ary.astype(np.float32)\n",
        "        self.turbulence_ary = turbulence_ary\n",
        "        \n",
        "        self.tech_ary = self.tech_ary * 2 ** -7\n",
        "        self.turbulence_bool = (turbulence_ary > turbulence_thresh).astype(np.float32)\n",
        "        self.turbulence_ary = (self.sigmoid_sign(turbulence_ary, turbulence_thresh) * 2 ** -5).astype(np.float32)\n",
        "\n",
        "        stock_dim = self.price_ary.shape[1]\n",
        "        self.gamma = gamma\n",
        "        self.max_stock = max_stock\n",
        "        self.min_stock_rate = min_stock_rate\n",
        "        self.buy_cost_pct = buy_cost_pct\n",
        "        self.sell_cost_pct = sell_cost_pct\n",
        "        self.reward_scaling = reward_scaling\n",
        "        self.initial_capital = initial_capital\n",
        "        self.initial_stocks = np.zeros(stock_dim, dtype=np.float32) if initial_stocks is None else initial_stocks\n",
        "\n",
        "        # reset()\n",
        "        self.day = None\n",
        "        self.amount = None\n",
        "        self.stocks = None\n",
        "        self.total_asset = None\n",
        "        self.gamma_reward = None\n",
        "        self.initial_total_asset = None\n",
        "\n",
        "        # environment information\n",
        "        self.env_name = 'StockEnv'\n",
        "        # self.state_dim = 1 + 2 + 2 * stock_dim + self.tech_ary.shape[1]\n",
        "        # # amount + (turbulence, turbulence_bool) + (price, stock) * stock_dim + tech_dim\n",
        "        self.state_dim = 1 + 2 + 3 * stock_dim + self.tech_ary.shape[1]\n",
        "        # amount + (turbulence, turbulence_bool) + (price, stock) * stock_dim + tech_dim\n",
        "        self.stocks_cd = None\n",
        "        self.action_dim = stock_dim\n",
        "        self.max_step = self.price_ary.shape[0] - 1\n",
        "        self.if_discrete = False\n",
        "        self.target_return = 2.2\n",
        "        self.episode_return = 0.0\n",
        "        \n",
        "        self.observation_space = gym.spaces.Box(low=-3000, high=3000, shape=(self.state_dim,), dtype=np.float32)\n",
        "        self.action_space = gym.spaces.Box(low=-1, high=1, shape=(self.action_dim,), dtype=np.float32)\n",
        "        \n",
        "    def reset(self):\n",
        "        self.day = 0\n",
        "        price = self.price_ary[self.day]\n",
        "\n",
        "        self.stocks = (self.initial_stocks + rd.randint(0, 64, size=self.initial_stocks.shape)).astype(np.float32)\n",
        "        self.stocks_cd = np.zeros_like(self.stocks)\n",
        "        self.amount = self.initial_capital * rd.uniform(0.95, 1.05) - (self.stocks * price).sum()\n",
        "\n",
        "        self.total_asset = self.amount + (self.stocks * price).sum()\n",
        "        self.initial_total_asset = self.total_asset\n",
        "        self.gamma_reward = 0.0\n",
        "        return self.get_state(price)  # state\n",
        "\n",
        "    def step(self, actions):\n",
        "        actions = (actions * self.max_stock).astype(int)\n",
        "\n",
        "        self.day += 1\n",
        "        price = self.price_ary[self.day]\n",
        "        self.stocks_cd += 1\n",
        "\n",
        "        if self.turbulence_bool[self.day] == 0:\n",
        "            min_action = int(self.max_stock * self.min_stock_rate)  # stock_cd\n",
        "            for index in np.where(actions < -min_action)[0]:  # sell_index:\n",
        "                if price[index] > 0:  # Sell only if current asset is > 0\n",
        "                    sell_num_shares = min(self.stocks[index], -actions[index])\n",
        "                    self.stocks[index] -= sell_num_shares\n",
        "                    self.amount += price[index] * sell_num_shares * (1 - self.sell_cost_pct)\n",
        "                    self.stocks_cd[index] = 0\n",
        "            for index in np.where(actions > min_action)[0]:  # buy_index:\n",
        "                if price[index] > 0:  # Buy only if the price is > 0 (no missing data in this particular date)\n",
        "                    buy_num_shares = min(self.amount // price[index], actions[index])\n",
        "                    self.stocks[index] += buy_num_shares\n",
        "                    self.amount -= price[index] * buy_num_shares * (1 + self.buy_cost_pct)\n",
        "                    self.stocks_cd[index] = 0\n",
        "\n",
        "        else:  # sell all when turbulence\n",
        "            self.amount += (self.stocks * price).sum() * (1 - self.sell_cost_pct)\n",
        "            self.stocks[:] = 0\n",
        "            self.stocks_cd[:] = 0\n",
        "\n",
        "        state = self.get_state(price)\n",
        "        total_asset = self.amount + (self.stocks * price).sum()\n",
        "        reward = (total_asset - self.total_asset) * self.reward_scaling\n",
        "        self.total_asset = total_asset\n",
        "\n",
        "        self.gamma_reward = self.gamma_reward * self.gamma + reward\n",
        "        done = self.day == self.max_step\n",
        "        if done:\n",
        "            reward = self.gamma_reward\n",
        "            self.episode_return = total_asset / self.initial_total_asset\n",
        "\n",
        "        return state, reward, done, dict()\n",
        "\n",
        "    def get_state(self, price):\n",
        "        amount = np.array(max(self.amount, 1e4) * (2 ** -12), dtype=np.float32)\n",
        "        scale = np.array(2 ** -6, dtype=np.float32)\n",
        "        return np.hstack((amount,\n",
        "                          self.turbulence_ary[self.day],\n",
        "                          self.turbulence_bool[self.day],\n",
        "                          price * scale,\n",
        "                          self.stocks * scale,\n",
        "                          self.stocks_cd,\n",
        "                          self.tech_ary[self.day],\n",
        "                          ))  # state.astype(np.float32)\n",
        "    \n",
        "    @staticmethod\n",
        "    def sigmoid_sign(ary, thresh):\n",
        "        def sigmoid(x):\n",
        "            return 1 / (1 + np.exp(-x * np.e)) - 0.5\n",
        "\n",
        "        return sigmoid(ary / thresh) * thresh"
      ],
      "execution_count": null,
      "outputs": []
    },
    {
      "cell_type": "code",
      "metadata": {
        "id": "l5dYmiPpDug_"
      },
      "source": [
        "env = StockTradingEnv\n"
      ],
      "execution_count": null,
      "outputs": []
    },
    {
      "cell_type": "code",
      "metadata": {
        "colab": {
          "base_uri": "https://localhost:8080/"
        },
        "id": "JodM4Qn3Dug_",
        "outputId": "36f85570-0d00-426a-e715-fb0f058dc090"
      },
      "source": [
        "#demo for elegantrl\n",
        "train(start_date = TEST_START_DATE, \n",
        "      end_date = TEST_END_DATE,\n",
        "      ticker_list = FAANG_TICKER, \n",
        "      data_source = 'yahoofinance',\n",
        "      time_interval= '1D', \n",
        "      technical_indicator_list= TECHNICAL_INDICATORS_LIST,\n",
        "      drl_lib='elegantrl', \n",
        "      env=env, \n",
        "      agent='ppo', \n",
        "      cwd='./test_ppo'\n",
        "      ,total_timesteps=3e5)"
      ],
      "execution_count": null,
      "outputs": [
        {
          "output_type": "stream",
          "text": [
            "[*********************100%***********************]  1 of 1 completed\n",
            "[*********************100%***********************]  1 of 1 completed\n",
            "[*********************100%***********************]  1 of 1 completed\n",
            "[*********************100%***********************]  1 of 1 completed\n",
            "[*********************100%***********************]  1 of 1 completed\n",
            "Shape of DataFrame:  (1260, 9)\n",
            "Clean data for AAPL\n",
            "Data clean for AAPL is finished.\n",
            "Clean data for AMZN\n",
            "Data clean for AMZN is finished.\n",
            "Clean data for FB\n",
            "Data clean for FB is finished.\n",
            "Clean data for GOOG\n",
            "Data clean for GOOG is finished.\n",
            "Clean data for NFLX\n",
            "Data clean for NFLX is finished.\n",
            "Data clean all finished!\n",
            "[*********************100%***********************]  1 of 1 completed\n",
            "Shape of DataFrame:  (252, 9)\n",
            "Clean data for ^VIX\n",
            "Data clean for ^VIX is finished.\n",
            "Data clean all finished!\n",
            "['AAPL' 'AMZN' 'FB' 'GOOG' 'NFLX']\n",
            "Successfully transformed into array\n",
            "| GPU id: 0, cwd: ./test_ppo\n",
            "| Remove history\n",
            "ID      Step      MaxR |    avgR      stdR       objA      objC |  avgS  stdS\n",
            "0   4.31e+03      1.01 |\n",
            "0   4.31e+03      1.01 |    1.01      0.00      -0.01     11.85 |   227     0\n",
            "0   8.63e+03      1.01 |\n",
            "0   8.63e+03      1.01 |    1.01      0.00      -0.06     12.32 |   227     0\n",
            "0   1.29e+04      1.01 |    1.01      0.01      -0.16     13.69 |   227     0\n",
            "0   2.16e+04      1.01 |    1.00      0.01      -0.15     10.32 |   227     0\n",
            "0   3.02e+04      1.03 |\n",
            "0   3.02e+04      1.03 |    1.03      0.02       0.05      8.05 |   227     0\n",
            "0   3.45e+04      1.03 |    1.02      0.01      -0.12      7.52 |   227     0\n",
            "0   4.31e+04      1.21 |\n",
            "0   4.31e+04      1.21 |    1.21      0.01      -0.04      6.50 |   227     0\n",
            "0   4.74e+04      1.21 |    1.21      0.01      -0.05      7.78 |   227     0\n",
            "0   5.18e+04      1.21 |    1.21      0.01       0.02      6.65 |   227     0\n",
            "0   6.04e+04      1.21 |    1.20      0.00      -0.10      5.70 |   227     0\n",
            "0   6.90e+04      1.21 |    1.20      0.01       0.03      6.88 |   227     0\n",
            "0   7.33e+04      1.21 |    1.19      0.02      -0.01      8.46 |   227     0\n",
            "0   7.76e+04      1.21 |    1.16      0.04       0.04      6.03 |   227     0\n",
            "0   8.19e+04      1.24 |\n",
            "0   8.19e+04      1.24 |    1.24      0.03      -0.18      6.79 |   227     0\n",
            "0   8.63e+04      1.24 |    1.14      0.02      -0.11      7.02 |   227     0\n",
            "0   9.06e+04      1.24 |    1.14      0.02      -0.01      7.28 |   227     0\n",
            "0   9.49e+04      1.24 |    1.23      0.01      -0.09      6.87 |   227     0\n",
            "0   9.92e+04      1.24 |    1.21      0.03      -0.06      8.02 |   227     0\n",
            "0   1.04e+05      1.24 |    1.18      0.04       0.11      4.84 |   227     0\n",
            "0   1.08e+05      1.24 |    1.19      0.01       0.08      6.31 |   227     0\n",
            "0   1.12e+05      1.24 |    1.20      0.01      -0.02      5.74 |   227     0\n",
            "0   1.16e+05      1.24 |    1.23      0.03      -0.05      5.68 |   227     0\n",
            "0   1.21e+05      1.24 |    1.22      0.01      -0.01      5.52 |   227     0\n",
            "0   1.25e+05      1.27 |\n",
            "0   1.25e+05      1.27 |    1.27      0.01      -0.06      5.32 |   227     0\n",
            "0   1.29e+05      1.27 |    1.24      0.00      -0.01      5.90 |   227     0\n",
            "0   1.34e+05      1.27 |    1.27      0.01      -0.00      6.99 |   227     0\n",
            "0   1.38e+05      1.27 |    1.24      0.01       0.06      4.10 |   227     0\n",
            "0   1.42e+05      1.27 |    1.26      0.00       0.10      6.22 |   227     0\n",
            "0   1.47e+05      1.27 |    1.25      0.02      -0.01      5.61 |   227     0\n",
            "0   1.51e+05      1.32 |\n",
            "0   1.51e+05      1.32 |    1.32      0.03      -0.18      4.79 |   227     0\n",
            "0   1.55e+05      1.32 |    1.31      0.01      -0.13      5.99 |   227     0\n",
            "0   1.60e+05      1.32 |    1.31      0.04      -0.11      4.63 |   227     0\n",
            "0   1.64e+05      1.32 |    1.29      0.04       0.00      5.26 |   227     0\n",
            "0   1.68e+05      1.32 |    1.30      0.01       0.02      4.80 |   227     0\n",
            "0   1.73e+05      1.32 |    1.27      0.03      -0.06      5.43 |   227     0\n",
            "0   1.77e+05      1.32 |    1.29      0.03       0.06      3.80 |   227     0\n",
            "0   1.81e+05      1.32 |    1.30      0.02      -0.01      6.23 |   227     0\n",
            "0   1.85e+05      1.32 |    1.30      0.02      -0.11      5.14 |   227     0\n",
            "0   1.90e+05      1.32 |    1.26      0.00       0.13      6.97 |   227     0\n",
            "0   1.94e+05      1.32 |    1.28      0.02       0.14      5.49 |   227     0\n",
            "0   1.98e+05      1.32 |    1.26      0.02      -0.26      6.32 |   227     0\n",
            "0   2.03e+05      1.32 |    1.27      0.03      -0.05      4.44 |   227     0\n",
            "0   2.07e+05      1.32 |    1.26      0.03       0.03      4.72 |   227     0\n",
            "0   2.11e+05      1.32 |    1.27      0.04      -0.09      4.17 |   227     0\n",
            "0   2.16e+05      1.32 |    1.31      0.04      -0.05      4.08 |   227     0\n",
            "0   2.20e+05      1.32 |    1.30      0.02       0.08      4.48 |   227     0\n",
            "0   2.24e+05      1.33 |\n",
            "0   2.24e+05      1.33 |    1.33      0.03      -0.03      4.86 |   227     0\n",
            "0   2.29e+05      1.33 |\n",
            "0   2.29e+05      1.33 |    1.33      0.04      -0.10      3.37 |   227     0\n",
            "0   2.33e+05      1.33 |    1.30      0.02      -0.02      4.05 |   227     0\n",
            "0   2.37e+05      1.33 |    1.32      0.04      -0.15      5.27 |   227     0\n",
            "0   2.42e+05      1.33 |    1.30      0.03      -0.02      4.37 |   227     0\n",
            "0   2.46e+05      1.33 |    1.30      0.04      -0.01      3.60 |   227     0\n",
            "0   2.50e+05      1.33 |    1.30      0.02      -0.10      3.71 |   227     0\n",
            "0   2.54e+05      1.33 |    1.31      0.03      -0.05      4.97 |   227     0\n",
            "0   2.59e+05      1.33 |    1.33      0.03      -0.14      6.73 |   227     0\n",
            "0   2.63e+05      1.33 |    1.31      0.03      -0.02      3.65 |   227     0\n",
            "0   2.67e+05      1.33 |    1.29      0.04      -0.19      3.61 |   227     0\n",
            "0   2.72e+05      1.33 |    1.33      0.03       0.03      3.89 |   227     0\n",
            "0   2.76e+05      1.33 |    1.33      0.01       0.08      4.56 |   227     0\n",
            "0   2.80e+05      1.35 |\n",
            "0   2.80e+05      1.35 |    1.35      0.03      -0.08      4.26 |   227     0\n",
            "0   2.85e+05      1.35 |\n",
            "0   2.85e+05      1.35 |    1.35      0.02      -0.00      2.83 |   227     0\n",
            "0   2.89e+05      1.35 |    1.35      0.02       0.02      3.69 |   227     0\n",
            "0   2.93e+05      1.36 |\n",
            "0   2.93e+05      1.36 |    1.36      0.01       0.08      3.66 |   227     0\n",
            "0   2.98e+05      1.38 |\n",
            "0   2.98e+05      1.38 |    1.38      0.00      -0.11      4.53 |   227     0\n",
            "0   3.02e+05      1.38 |\n",
            "0   3.02e+05      1.38 |    1.38      0.00      -0.04      3.91 |   227     0\n",
            "| SavedDir: ./test_ppo\n",
            "| UsedTime: 2310\n"
          ],
          "name": "stdout"
        }
      ]
    },
    {
      "cell_type": "code",
      "metadata": {
        "colab": {
          "base_uri": "https://localhost:8080/"
        },
        "id": "MOuD9mdLDuhA",
        "outputId": "976520be-aa57-4cf9-dc4a-7bf5a5cbbb92"
      },
      "source": [
        "#demo for rllib\n",
        "train(start_date = TEST_START_DATE, \n",
        "      end_date = TEST_END_DATE,\n",
        "      ticker_list = FAANG_TICKER, \n",
        "      data_source = 'yahoofinance',\n",
        "      time_interval= '1D', \n",
        "      technical_indicator_list= TECHNICAL_INDICATORS_LIST,\n",
        "      drl_lib='rllib', \n",
        "      env=env, \n",
        "      agent='ppo', \n",
        "      cwd='./test_ppo'\n",
        "      ,total_episodes=1)"
      ],
      "execution_count": null,
      "outputs": [
        {
          "output_type": "stream",
          "text": [
            "[*********************100%***********************]  1 of 1 completed\n",
            "[*********************100%***********************]  1 of 1 completed\n",
            "[*********************100%***********************]  1 of 1 completed\n",
            "[*********************100%***********************]  1 of 1 completed\n",
            "[*********************100%***********************]  1 of 1 completed\n",
            "Shape of DataFrame:  (1260, 9)\n",
            "Clean data for AAPL\n",
            "Data clean for AAPL is finished.\n",
            "Clean data for AMZN\n",
            "Data clean for AMZN is finished.\n",
            "Clean data for FB\n",
            "Data clean for FB is finished.\n",
            "Clean data for GOOG\n",
            "Data clean for GOOG is finished.\n",
            "Clean data for NFLX\n",
            "Data clean for NFLX is finished.\n",
            "Data clean all finished!\n",
            "[*********************100%***********************]  1 of 1 completed\n",
            "Shape of DataFrame:  (252, 9)\n",
            "Clean data for ^VIX\n"
          ],
          "name": "stdout"
        },
        {
          "output_type": "stream",
          "text": [
            "2021-08-15 14:37:30,073\tINFO worker.py:811 -- Calling ray.init() again after it has already been called.\n"
          ],
          "name": "stderr"
        },
        {
          "output_type": "stream",
          "text": [
            "Data clean for ^VIX is finished.\n",
            "Data clean all finished!\n",
            "['AAPL' 'AMZN' 'FB' 'GOOG' 'NFLX']\n",
            "Successfully transformed into array\n"
          ],
          "name": "stdout"
        },
        {
          "output_type": "stream",
          "text": [
            "2021-08-15 14:37:47,177\tWARNING worker.py:1189 -- The actor or task with ID ffffffffffffffffa5725b9eda2c7cd6093fc66601000000 cannot be scheduled right now. It requires {CPU: 1.000000} for placement, but this node only has remaining {0.000000/2.000000 CPU, 7.354578 GiB/7.354578 GiB memory, 3.677289 GiB/3.677289 GiB object_store_memory, 1.000000/1.000000 node:172.28.0.2}\n",
            ". In total there are 0 pending tasks and 2 pending actors on this node. This is likely due to all cluster resources being claimed by actors. To resolve the issue, consider creating fewer actors or increase the resources available to this Ray cluster. You can ignore this message if this Ray cluster is expected to auto-scale or if you specified a runtime_env for this task or actor because it takes time to install.\n",
            "\u001b[2m\u001b[36m(pid=186517)\u001b[0m 2021-08-15 14:37:55,246\tWARNING compression.py:16 -- lz4 not available, disabling sample compression. This will significantly impact RLlib performance. To install lz4, run `pip install lz4`.\n",
            "\u001b[2m\u001b[36m(pid=186516)\u001b[0m 2021-08-15 14:37:55,238\tWARNING compression.py:16 -- lz4 not available, disabling sample compression. This will significantly impact RLlib performance. To install lz4, run `pip install lz4`.\n",
            "2021-08-15 14:38:03,198\tINFO trainable.py:109 -- Trainable.setup took 33.084 seconds. If your trainable is slow to initialize, consider setting reuse_actors=True to reduce actor creation overheads.\n",
            "2021-08-15 14:38:03,200\tWARNING util.py:55 -- Install gputil for GPU system monitoring.\n"
          ],
          "name": "stderr"
        }
      ]
    },
    {
      "cell_type": "code",
      "metadata": {
        "colab": {
          "base_uri": "https://localhost:8080/"
        },
        "id": "2A7msCg0DuhA",
        "outputId": "5a6f4ea6-c0f9-4400-e0bd-6b6243935b07"
      },
      "source": [
        "#demo for stable-baselines3\n",
        "train(start_date = TEST_START_DATE, \n",
        "      end_date = TEST_END_DATE,\n",
        "      ticker_list = FAANG_TICKER, \n",
        "      data_source = 'yahoofinance',\n",
        "      time_interval= '1D', \n",
        "      technical_indicator_list= TECHNICAL_INDICATORS_LIST,\n",
        "      drl_lib='stable_baselines3', \n",
        "      env=env, \n",
        "      agent='ppo', \n",
        "      cwd='./test_ppo',\n",
        "      total_timesteps=10000)\n"
      ],
      "execution_count": null,
      "outputs": [
        {
          "output_type": "stream",
          "text": [
            "[*********************100%***********************]  1 of 1 completed\n",
            "[*********************100%***********************]  1 of 1 completed\n",
            "[*********************100%***********************]  1 of 1 completed\n",
            "[*********************100%***********************]  1 of 1 completed\n",
            "[*********************100%***********************]  1 of 1 completed\n",
            "Shape of DataFrame:  (1260, 9)\n",
            "Clean data for AAPL\n",
            "Data clean for AAPL is finished.\n",
            "Clean data for AMZN\n",
            "Data clean for AMZN is finished.\n",
            "Clean data for FB\n",
            "Data clean for FB is finished.\n",
            "Clean data for GOOG\n",
            "Data clean for GOOG is finished.\n",
            "Clean data for NFLX\n",
            "Data clean for NFLX is finished.\n",
            "Data clean all finished!\n",
            "[*********************100%***********************]  1 of 1 completed\n",
            "Shape of DataFrame:  (252, 9)\n",
            "Clean data for ^VIX\n",
            "Data clean for ^VIX is finished.\n",
            "Data clean all finished!\n",
            "['AAPL' 'AMZN' 'FB' 'GOOG' 'NFLX']\n",
            "Successfully transformed into array\n",
            "Training finished!\n",
            "Trained model saved in ./test_ppo\n"
          ],
          "name": "stdout"
        }
      ]
    },
    {
      "cell_type": "code",
      "metadata": {
        "id": "fKEYTIcLQywo"
      },
      "source": [
        ""
      ],
      "execution_count": null,
      "outputs": []
    },
    {
      "cell_type": "code",
      "metadata": {
        "id": "3z7wOEVjQyzi"
      },
      "source": [
        "#fetch data\n",
        "    DP = DataProcessor(data_source, **kwargs)\n",
        "    data = DP.download_data(ticker_list, start_date, end_date, time_interval)\n",
        "    data = DP.clean_data(data)\n",
        "    data = DP.add_technical_indicator(data, technical_indicator_list)\n",
        "    if if_vix:\n",
        "        data = DP.add_vix(data)\n",
        "    price_array, tech_array, turbulence_array = DP.df_to_array(data, if_vix)"
      ],
      "execution_count": null,
      "outputs": []
    },
    {
      "cell_type": "code",
      "metadata": {
        "id": "3ki3OcW5Qy2g"
      },
      "source": [
        ""
      ],
      "execution_count": null,
      "outputs": []
    },
    {
      "cell_type": "code",
      "metadata": {
        "id": "G_sKR3NvDuhB"
      },
      "source": [
        "#demo for elegantrl\n",
        "test(data_dic, drl_lib='elegantrl', env=env, agent='ppo', \n",
        "cwd='./test_ppo', net_dimension = 2 ** 9)"
      ],
      "execution_count": null,
      "outputs": []
    },
    {
      "cell_type": "code",
      "metadata": {
        "id": "0Jk577VEDuhB"
      },
      "source": [
        "#demo for rllib \n",
        "test(data_dic, drl_lib='rllib', env=env, agent='ppo', \n",
        "cwd='./test_ppo/checkpoint_000010/checkpoint-10')"
      ],
      "execution_count": null,
      "outputs": []
    },
    {
      "cell_type": "code",
      "metadata": {
        "id": "k25VgIEDDuhB"
      },
      "source": [
        "#demo for stable baselines3 \n",
        "test(data_dic, drl_lib='stable_baselines3', env=env, agent='ppo', \n",
        "cwd='./test_ppo.zip')"
      ],
      "execution_count": null,
      "outputs": []
    }
  ]
}