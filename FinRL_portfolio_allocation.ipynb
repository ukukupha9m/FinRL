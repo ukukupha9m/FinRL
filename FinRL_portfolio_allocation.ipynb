{
  "nbformat": 4,
  "nbformat_minor": 0,
  "metadata": {
    "kernelspec": {
      "display_name": "Python 3",
      "language": "python",
      "name": "python3"
    },
    "language_info": {
      "codemirror_mode": {
        "name": "ipython",
        "version": 3
      },
      "file_extension": ".py",
      "mimetype": "text/x-python",
      "name": "python",
      "nbconvert_exporter": "python",
      "pygments_lexer": "ipython3",
      "version": "3.6.10"
    },
    "colab": {
      "name": "FinRL_portfolio_allocation.ipynb",
      "provenance": [],
      "collapsed_sections": [
        "a3Iuv554xYFH",
        "SPEXBcm-uBJo"
      ],
      "toc_visible": true,
      "include_colab_link": true
    }
  },
  "cells": [
    {
      "cell_type": "markdown",
      "metadata": {
        "id": "view-in-github",
        "colab_type": "text"
      },
      "source": [
        "<a href=\"https://colab.research.google.com/github/AI4Finance-LLC/FinRL-Library/blob/master/FinRL_portfolio_allocation.ipynb\" target=\"_parent\"><img src=\"https://colab.research.google.com/assets/colab-badge.svg\" alt=\"Open In Colab\"/></a>"
      ]
    },
    {
      "cell_type": "markdown",
      "metadata": {
        "id": "Yv3IDvrobU37"
      },
      "source": [
        "# Deep Reinforcement Learning for Stock Trading from Scratch: Portfolio Allocation\n",
        "\n",
        "Tutorials to use OpenAI DRL to perform portfolio allocation in one Jupyter Notebook | Presented at NeurIPS 2020: Deep RL Workshop\n",
        "\n",
        "* This blog is based on our paper: FinRL: A Deep Reinforcement Learning Library for Automated Stock Trading in Quantitative Finance, presented at NeurIPS 2020: Deep RL Workshop.\n",
        "* Check out medium blog for detailed explanations: \n",
        "* Please report any issues to our Github: https://github.com/AI4Finance-LLC/FinRL-Library/issues\n",
        "* **Pytorch Version** \n",
        "\n"
      ]
    },
    {
      "cell_type": "markdown",
      "metadata": {
        "id": "4kHCfEiTA80V"
      },
      "source": [
        "# Content"
      ]
    },
    {
      "cell_type": "markdown",
      "metadata": {
        "id": "vUmLTmoQA7_w"
      },
      "source": [
        "* [1. Problem Definition](#0)\n",
        "* [2. Getting Started - Load Python packages](#1)\n",
        "    * [2.1. Install Packages](#1.1)    \n",
        "    * [2.2. Check Additional Packages](#1.2)\n",
        "    * [2.3. Import Packages](#1.3)\n",
        "    * [2.4. Create Folders](#1.4)\n",
        "* [3. Download Data](#2)\n",
        "* [4. Preprocess Data](#3)        \n",
        "    * [4.1. Technical Indicators](#3.1)\n",
        "    * [4.2. Perform Feature Engineering](#3.2)\n",
        "* [5.Build Environment](#4)  \n",
        "    * [5.1. Training & Trade Data Split](#4.1)\n",
        "    * [5.2. User-defined Environment](#4.2)   \n",
        "    * [5.3. Initialize Environment](#4.3)    \n",
        "* [6.Implement DRL Algorithms](#5)  \n",
        "* [7.Backtesting Performance](#6)  \n",
        "    * [7.1. BackTestStats](#6.1)\n",
        "    * [7.2. BackTestPlot](#6.2)   \n",
        "    * [7.3. Baseline Stats](#6.3)   \n",
        "    * [7.3. Compare to Stock Market Index](#6.4)             "
      ]
    },
    {
      "cell_type": "markdown",
      "metadata": {
        "id": "12v1i0jVkg48"
      },
      "source": [
        "<a id='0'></a>\r\n",
        "# Part 1. Problem Definition"
      ]
    },
    {
      "cell_type": "markdown",
      "metadata": {
        "id": "L63HKnWvkirx"
      },
      "source": [
        "This problem is to design an automated trading solution for single stock trading. We model the stock trading process as a Markov Decision Process (MDP). We then formulate our trading goal as a maximization problem.\r\n",
        "\r\n",
        "The algorithm is trained using Deep Reinforcement Learning (DRL) algorithms and the components of the reinforcement learning environment are:\r\n",
        "\r\n",
        "\r\n",
        "* Action: The action space describes the allowed actions that the agent interacts with the\r\n",
        "environment. Normally, a ∈ A includes three actions: a ∈ {−1, 0, 1}, where −1, 0, 1 represent\r\n",
        "selling, holding, and buying one stock. Also, an action can be carried upon multiple shares. We use\r\n",
        "an action space {−k, ..., −1, 0, 1, ..., k}, where k denotes the number of shares. For example, \"Buy\r\n",
        "10 shares of AAPL\" or \"Sell 10 shares of AAPL\" are 10 or −10, respectively\r\n",
        "\r\n",
        "* Reward function: r(s, a, s′) is the incentive mechanism for an agent to learn a better action. The change of the portfolio value when action a is taken at state s and arriving at new state s',  i.e., r(s, a, s′) = v′ − v, where v′ and v represent the portfolio\r\n",
        "values at state s′ and s, respectively\r\n",
        "\r\n",
        "* State: The state space describes the observations that the agent receives from the environment. Just as a human trader needs to analyze various information before executing a trade, so\r\n",
        "our trading agent observes many different features to better learn in an interactive environment.\r\n",
        "\r\n",
        "* Environment: Dow 30 consituents\r\n",
        "\r\n",
        "\r\n",
        "The data of the single stock that we will be using for this case study is obtained from Yahoo Finance API. The data contains Open-High-Low-Close price and volume.\r\n"
      ]
    },
    {
      "cell_type": "markdown",
      "metadata": {
        "id": "g_emqQCCklVt"
      },
      "source": [
        "<a id='1'></a>\r\n",
        "# Part 2. Getting Started- Load Python Packages"
      ]
    },
    {
      "cell_type": "markdown",
      "metadata": {
        "id": "cVCcCalAknGn"
      },
      "source": [
        "<a id='1.1'></a>\r\n",
        "## 2.1. Install all the packages through FinRL library\r\n"
      ]
    },
    {
      "cell_type": "code",
      "metadata": {
        "colab": {
          "base_uri": "https://localhost:8080/"
        },
        "id": "pT8a0fvhA_TW",
        "outputId": "5e9d8a38-16d1-44ca-8e50-c814134c928d"
      },
      "source": [
        "## install finrl library\n",
        "!pip install git+https://github.com/AI4Finance-LLC/FinRL-Library.git"
      ],
      "execution_count": null,
      "outputs": [
        {
          "output_type": "stream",
          "text": [
            "Collecting git+https://github.com/AI4Finance-LLC/FinRL-Library.git\n",
            "  Cloning https://github.com/AI4Finance-LLC/FinRL-Library.git to /tmp/pip-req-build-it_y4ju2\n",
            "  Running command git clone -q https://github.com/AI4Finance-LLC/FinRL-Library.git /tmp/pip-req-build-it_y4ju2\n",
            "Requirement already satisfied: numpy in /usr/local/lib/python3.6/dist-packages (from finrl==0.0.1) (1.18.5)\n",
            "Requirement already satisfied: pandas in /usr/local/lib/python3.6/dist-packages (from finrl==0.0.1) (1.1.5)\n",
            "Collecting stockstats\n",
            "  Downloading https://files.pythonhosted.org/packages/32/41/d3828c5bc0a262cb3112a4024108a3b019c183fa3b3078bff34bf25abf91/stockstats-0.3.2-py2.py3-none-any.whl\n",
            "Collecting yfinance\n",
            "  Downloading https://files.pythonhosted.org/packages/7a/e8/b9d7104d3a4bf39924799067592d9e59119fcfc900a425a12e80a3123ec8/yfinance-0.1.55.tar.gz\n",
            "Requirement already satisfied: matplotlib in /usr/local/lib/python3.6/dist-packages (from finrl==0.0.1) (3.2.2)\n",
            "Requirement already satisfied: scikit-learn>=0.21.0 in /usr/local/lib/python3.6/dist-packages (from finrl==0.0.1) (0.22.2.post1)\n",
            "Requirement already satisfied: gym>=0.17 in /usr/local/lib/python3.6/dist-packages (from finrl==0.0.1) (0.17.3)\n",
            "Collecting stable-baselines3[extra]\n",
            "\u001b[?25l  Downloading https://files.pythonhosted.org/packages/76/7c/ec89fd9a51c2ff640f150479069be817136c02f02349b5dd27a6e3bb8b3d/stable_baselines3-0.10.0-py3-none-any.whl (145kB)\n",
            "\u001b[K     |████████████████████████████████| 153kB 22.2MB/s \n",
            "\u001b[?25hRequirement already satisfied: pytest in /usr/local/lib/python3.6/dist-packages (from finrl==0.0.1) (3.6.4)\n",
            "Requirement already satisfied: setuptools>=41.4.0 in /usr/local/lib/python3.6/dist-packages (from finrl==0.0.1) (50.3.2)\n",
            "Requirement already satisfied: wheel>=0.33.6 in /usr/local/lib/python3.6/dist-packages (from finrl==0.0.1) (0.36.1)\n",
            "Collecting pyfolio@ git+https://github.com/quantopian/pyfolio.git#egg=pyfolio-0.9.2\n",
            "  Cloning https://github.com/quantopian/pyfolio.git to /tmp/pip-install-pwe0sltm/pyfolio\n",
            "  Running command git clone -q https://github.com/quantopian/pyfolio.git /tmp/pip-install-pwe0sltm/pyfolio\n",
            "Requirement already satisfied: pytz>=2017.2 in /usr/local/lib/python3.6/dist-packages (from pandas->finrl==0.0.1) (2018.9)\n",
            "Requirement already satisfied: python-dateutil>=2.7.3 in /usr/local/lib/python3.6/dist-packages (from pandas->finrl==0.0.1) (2.8.1)\n",
            "Collecting int-date>=0.1.7\n",
            "  Downloading https://files.pythonhosted.org/packages/43/27/31803df15173ab341fe7548c14154b54227dfd8f630daa09a1c6e7db52f7/int_date-0.1.8-py2.py3-none-any.whl\n",
            "Requirement already satisfied: requests>=2.20 in /usr/local/lib/python3.6/dist-packages (from yfinance->finrl==0.0.1) (2.23.0)\n",
            "Requirement already satisfied: multitasking>=0.0.7 in /usr/local/lib/python3.6/dist-packages (from yfinance->finrl==0.0.1) (0.0.9)\n",
            "Collecting lxml>=4.5.1\n",
            "\u001b[?25l  Downloading https://files.pythonhosted.org/packages/bd/78/56a7c88a57d0d14945472535d0df9fb4bbad7d34ede658ec7961635c790e/lxml-4.6.2-cp36-cp36m-manylinux1_x86_64.whl (5.5MB)\n",
            "\u001b[K     |████████████████████████████████| 5.5MB 32.3MB/s \n",
            "\u001b[?25hRequirement already satisfied: kiwisolver>=1.0.1 in /usr/local/lib/python3.6/dist-packages (from matplotlib->finrl==0.0.1) (1.3.1)\n",
            "Requirement already satisfied: pyparsing!=2.0.4,!=2.1.2,!=2.1.6,>=2.0.1 in /usr/local/lib/python3.6/dist-packages (from matplotlib->finrl==0.0.1) (2.4.7)\n",
            "Requirement already satisfied: cycler>=0.10 in /usr/local/lib/python3.6/dist-packages (from matplotlib->finrl==0.0.1) (0.10.0)\n",
            "Requirement already satisfied: scipy>=0.17.0 in /usr/local/lib/python3.6/dist-packages (from scikit-learn>=0.21.0->finrl==0.0.1) (1.4.1)\n",
            "Requirement already satisfied: joblib>=0.11 in /usr/local/lib/python3.6/dist-packages (from scikit-learn>=0.21.0->finrl==0.0.1) (0.17.0)\n",
            "Requirement already satisfied: cloudpickle<1.7.0,>=1.2.0 in /usr/local/lib/python3.6/dist-packages (from gym>=0.17->finrl==0.0.1) (1.3.0)\n",
            "Requirement already satisfied: pyglet<=1.5.0,>=1.4.0 in /usr/local/lib/python3.6/dist-packages (from gym>=0.17->finrl==0.0.1) (1.5.0)\n",
            "Requirement already satisfied: torch>=1.4.0 in /usr/local/lib/python3.6/dist-packages (from stable-baselines3[extra]->finrl==0.0.1) (1.7.0+cu101)\n",
            "Requirement already satisfied: atari-py~=0.2.0; extra == \"extra\" in /usr/local/lib/python3.6/dist-packages (from stable-baselines3[extra]->finrl==0.0.1) (0.2.6)\n",
            "Requirement already satisfied: pillow; extra == \"extra\" in /usr/local/lib/python3.6/dist-packages (from stable-baselines3[extra]->finrl==0.0.1) (7.0.0)\n",
            "Requirement already satisfied: tensorboard; extra == \"extra\" in /usr/local/lib/python3.6/dist-packages (from stable-baselines3[extra]->finrl==0.0.1) (2.3.0)\n",
            "Requirement already satisfied: opencv-python; extra == \"extra\" in /usr/local/lib/python3.6/dist-packages (from stable-baselines3[extra]->finrl==0.0.1) (4.1.2.30)\n",
            "Requirement already satisfied: psutil; extra == \"extra\" in /usr/local/lib/python3.6/dist-packages (from stable-baselines3[extra]->finrl==0.0.1) (5.4.8)\n",
            "Requirement already satisfied: pluggy<0.8,>=0.5 in /usr/local/lib/python3.6/dist-packages (from pytest->finrl==0.0.1) (0.7.1)\n",
            "Requirement already satisfied: six>=1.10.0 in /usr/local/lib/python3.6/dist-packages (from pytest->finrl==0.0.1) (1.15.0)\n",
            "Requirement already satisfied: atomicwrites>=1.0 in /usr/local/lib/python3.6/dist-packages (from pytest->finrl==0.0.1) (1.4.0)\n",
            "Requirement already satisfied: more-itertools>=4.0.0 in /usr/local/lib/python3.6/dist-packages (from pytest->finrl==0.0.1) (8.6.0)\n",
            "Requirement already satisfied: py>=1.5.0 in /usr/local/lib/python3.6/dist-packages (from pytest->finrl==0.0.1) (1.9.0)\n",
            "Requirement already satisfied: attrs>=17.4.0 in /usr/local/lib/python3.6/dist-packages (from pytest->finrl==0.0.1) (20.3.0)\n",
            "Requirement already satisfied: ipython>=3.2.3 in /usr/local/lib/python3.6/dist-packages (from pyfolio@ git+https://github.com/quantopian/pyfolio.git#egg=pyfolio-0.9.2->finrl==0.0.1) (5.5.0)\n",
            "Requirement already satisfied: seaborn>=0.7.1 in /usr/local/lib/python3.6/dist-packages (from pyfolio@ git+https://github.com/quantopian/pyfolio.git#egg=pyfolio-0.9.2->finrl==0.0.1) (0.11.0)\n",
            "Collecting empyrical>=0.5.0\n",
            "\u001b[?25l  Downloading https://files.pythonhosted.org/packages/74/43/1b997c21411c6ab7c96dc034e160198272c7a785aeea7654c9bcf98bec83/empyrical-0.5.5.tar.gz (52kB)\n",
            "\u001b[K     |████████████████████████████████| 61kB 5.6MB/s \n",
            "\u001b[?25hRequirement already satisfied: idna<3,>=2.5 in /usr/local/lib/python3.6/dist-packages (from requests>=2.20->yfinance->finrl==0.0.1) (2.10)\n",
            "Requirement already satisfied: chardet<4,>=3.0.2 in /usr/local/lib/python3.6/dist-packages (from requests>=2.20->yfinance->finrl==0.0.1) (3.0.4)\n",
            "Requirement already satisfied: urllib3!=1.25.0,!=1.25.1,<1.26,>=1.21.1 in /usr/local/lib/python3.6/dist-packages (from requests>=2.20->yfinance->finrl==0.0.1) (1.24.3)\n",
            "Requirement already satisfied: certifi>=2017.4.17 in /usr/local/lib/python3.6/dist-packages (from requests>=2.20->yfinance->finrl==0.0.1) (2020.12.5)\n",
            "Requirement already satisfied: future in /usr/local/lib/python3.6/dist-packages (from pyglet<=1.5.0,>=1.4.0->gym>=0.17->finrl==0.0.1) (0.16.0)\n",
            "Requirement already satisfied: dataclasses in /usr/local/lib/python3.6/dist-packages (from torch>=1.4.0->stable-baselines3[extra]->finrl==0.0.1) (0.8)\n",
            "Requirement already satisfied: typing-extensions in /usr/local/lib/python3.6/dist-packages (from torch>=1.4.0->stable-baselines3[extra]->finrl==0.0.1) (3.7.4.3)\n",
            "Requirement already satisfied: grpcio>=1.24.3 in /usr/local/lib/python3.6/dist-packages (from tensorboard; extra == \"extra\"->stable-baselines3[extra]->finrl==0.0.1) (1.34.0)\n",
            "Requirement already satisfied: tensorboard-plugin-wit>=1.6.0 in /usr/local/lib/python3.6/dist-packages (from tensorboard; extra == \"extra\"->stable-baselines3[extra]->finrl==0.0.1) (1.7.0)\n",
            "Requirement already satisfied: google-auth<2,>=1.6.3 in /usr/local/lib/python3.6/dist-packages (from tensorboard; extra == \"extra\"->stable-baselines3[extra]->finrl==0.0.1) (1.17.2)\n",
            "Requirement already satisfied: google-auth-oauthlib<0.5,>=0.4.1 in /usr/local/lib/python3.6/dist-packages (from tensorboard; extra == \"extra\"->stable-baselines3[extra]->finrl==0.0.1) (0.4.2)\n",
            "Requirement already satisfied: protobuf>=3.6.0 in /usr/local/lib/python3.6/dist-packages (from tensorboard; extra == \"extra\"->stable-baselines3[extra]->finrl==0.0.1) (3.12.4)\n",
            "Requirement already satisfied: markdown>=2.6.8 in /usr/local/lib/python3.6/dist-packages (from tensorboard; extra == \"extra\"->stable-baselines3[extra]->finrl==0.0.1) (3.3.3)\n",
            "Requirement already satisfied: werkzeug>=0.11.15 in /usr/local/lib/python3.6/dist-packages (from tensorboard; extra == \"extra\"->stable-baselines3[extra]->finrl==0.0.1) (1.0.1)\n",
            "Requirement already satisfied: absl-py>=0.4 in /usr/local/lib/python3.6/dist-packages (from tensorboard; extra == \"extra\"->stable-baselines3[extra]->finrl==0.0.1) (0.10.0)\n",
            "Requirement already satisfied: prompt-toolkit<2.0.0,>=1.0.4 in /usr/local/lib/python3.6/dist-packages (from ipython>=3.2.3->pyfolio@ git+https://github.com/quantopian/pyfolio.git#egg=pyfolio-0.9.2->finrl==0.0.1) (1.0.18)\n",
            "Requirement already satisfied: pickleshare in /usr/local/lib/python3.6/dist-packages (from ipython>=3.2.3->pyfolio@ git+https://github.com/quantopian/pyfolio.git#egg=pyfolio-0.9.2->finrl==0.0.1) (0.7.5)\n",
            "Requirement already satisfied: simplegeneric>0.8 in /usr/local/lib/python3.6/dist-packages (from ipython>=3.2.3->pyfolio@ git+https://github.com/quantopian/pyfolio.git#egg=pyfolio-0.9.2->finrl==0.0.1) (0.8.1)\n",
            "Requirement already satisfied: pexpect; sys_platform != \"win32\" in /usr/local/lib/python3.6/dist-packages (from ipython>=3.2.3->pyfolio@ git+https://github.com/quantopian/pyfolio.git#egg=pyfolio-0.9.2->finrl==0.0.1) (4.8.0)\n",
            "Requirement already satisfied: pygments in /usr/local/lib/python3.6/dist-packages (from ipython>=3.2.3->pyfolio@ git+https://github.com/quantopian/pyfolio.git#egg=pyfolio-0.9.2->finrl==0.0.1) (2.6.1)\n",
            "Requirement already satisfied: decorator in /usr/local/lib/python3.6/dist-packages (from ipython>=3.2.3->pyfolio@ git+https://github.com/quantopian/pyfolio.git#egg=pyfolio-0.9.2->finrl==0.0.1) (4.4.2)\n",
            "Requirement already satisfied: traitlets>=4.2 in /usr/local/lib/python3.6/dist-packages (from ipython>=3.2.3->pyfolio@ git+https://github.com/quantopian/pyfolio.git#egg=pyfolio-0.9.2->finrl==0.0.1) (4.3.3)\n",
            "Requirement already satisfied: pandas-datareader>=0.2 in /usr/local/lib/python3.6/dist-packages (from empyrical>=0.5.0->pyfolio@ git+https://github.com/quantopian/pyfolio.git#egg=pyfolio-0.9.2->finrl==0.0.1) (0.9.0)\n",
            "Requirement already satisfied: cachetools<5.0,>=2.0.0 in /usr/local/lib/python3.6/dist-packages (from google-auth<2,>=1.6.3->tensorboard; extra == \"extra\"->stable-baselines3[extra]->finrl==0.0.1) (4.1.1)\n",
            "Requirement already satisfied: pyasn1-modules>=0.2.1 in /usr/local/lib/python3.6/dist-packages (from google-auth<2,>=1.6.3->tensorboard; extra == \"extra\"->stable-baselines3[extra]->finrl==0.0.1) (0.2.8)\n",
            "Requirement already satisfied: rsa<5,>=3.1.4; python_version >= \"3\" in /usr/local/lib/python3.6/dist-packages (from google-auth<2,>=1.6.3->tensorboard; extra == \"extra\"->stable-baselines3[extra]->finrl==0.0.1) (4.6)\n",
            "Requirement already satisfied: requests-oauthlib>=0.7.0 in /usr/local/lib/python3.6/dist-packages (from google-auth-oauthlib<0.5,>=0.4.1->tensorboard; extra == \"extra\"->stable-baselines3[extra]->finrl==0.0.1) (1.3.0)\n",
            "Requirement already satisfied: importlib-metadata; python_version < \"3.8\" in /usr/local/lib/python3.6/dist-packages (from markdown>=2.6.8->tensorboard; extra == \"extra\"->stable-baselines3[extra]->finrl==0.0.1) (3.1.1)\n",
            "Requirement already satisfied: wcwidth in /usr/local/lib/python3.6/dist-packages (from prompt-toolkit<2.0.0,>=1.0.4->ipython>=3.2.3->pyfolio@ git+https://github.com/quantopian/pyfolio.git#egg=pyfolio-0.9.2->finrl==0.0.1) (0.2.5)\n",
            "Requirement already satisfied: ptyprocess>=0.5 in /usr/local/lib/python3.6/dist-packages (from pexpect; sys_platform != \"win32\"->ipython>=3.2.3->pyfolio@ git+https://github.com/quantopian/pyfolio.git#egg=pyfolio-0.9.2->finrl==0.0.1) (0.6.0)\n",
            "Requirement already satisfied: ipython-genutils in /usr/local/lib/python3.6/dist-packages (from traitlets>=4.2->ipython>=3.2.3->pyfolio@ git+https://github.com/quantopian/pyfolio.git#egg=pyfolio-0.9.2->finrl==0.0.1) (0.2.0)\n",
            "Requirement already satisfied: pyasn1<0.5.0,>=0.4.6 in /usr/local/lib/python3.6/dist-packages (from pyasn1-modules>=0.2.1->google-auth<2,>=1.6.3->tensorboard; extra == \"extra\"->stable-baselines3[extra]->finrl==0.0.1) (0.4.8)\n",
            "Requirement already satisfied: oauthlib>=3.0.0 in /usr/local/lib/python3.6/dist-packages (from requests-oauthlib>=0.7.0->google-auth-oauthlib<0.5,>=0.4.1->tensorboard; extra == \"extra\"->stable-baselines3[extra]->finrl==0.0.1) (3.1.0)\n",
            "Requirement already satisfied: zipp>=0.5 in /usr/local/lib/python3.6/dist-packages (from importlib-metadata; python_version < \"3.8\"->markdown>=2.6.8->tensorboard; extra == \"extra\"->stable-baselines3[extra]->finrl==0.0.1) (3.4.0)\n",
            "Building wheels for collected packages: finrl, yfinance, pyfolio, empyrical\n",
            "  Building wheel for finrl (setup.py) ... \u001b[?25l\u001b[?25hdone\n",
            "  Created wheel for finrl: filename=finrl-0.0.1-cp36-none-any.whl size=26642 sha256=571c55a77b131066f0a4b8d1f753e12505adf684324108ab3427840aa55a9469\n",
            "  Stored in directory: /tmp/pip-ephem-wheel-cache-oieqf3xe/wheels/9c/19/bf/c644def96612df1ad42c94d5304966797eaa3221dffc5efe0b\n",
            "  Building wheel for yfinance (setup.py) ... \u001b[?25l\u001b[?25hdone\n",
            "  Created wheel for yfinance: filename=yfinance-0.1.55-py2.py3-none-any.whl size=22615 sha256=b4dd6e1e985cc47a51dda5cb4d0d72e942a9430037f143aeb5077c989e9f1998\n",
            "  Stored in directory: /root/.cache/pip/wheels/04/98/cc/2702a4242d60bdc14f48b4557c427ded1fe92aedf257d4565c\n",
            "  Building wheel for pyfolio (setup.py) ... \u001b[?25l\u001b[?25hdone\n",
            "  Created wheel for pyfolio: filename=pyfolio-0.9.2+75.g4b901f6-cp36-none-any.whl size=75766 sha256=e82415b20f53e438ea8ae1a7aeec7649e96a35f62391c69eb4ecc345eed36c11\n",
            "  Stored in directory: /tmp/pip-ephem-wheel-cache-oieqf3xe/wheels/43/ce/d9/6752fb6e03205408773235435205a0519d2c608a94f1976e56\n",
            "  Building wheel for empyrical (setup.py) ... \u001b[?25l\u001b[?25hdone\n",
            "  Created wheel for empyrical: filename=empyrical-0.5.5-cp36-none-any.whl size=39767 sha256=70af6d853ee071dc4ef0aaeb7315800c7b3b2345cf64ccd0c6815859394e1232\n",
            "  Stored in directory: /root/.cache/pip/wheels/ea/b2/c8/6769d8444d2f2e608fae2641833110668d0ffd1abeb2e9f3fc\n",
            "Successfully built finrl yfinance pyfolio empyrical\n",
            "Installing collected packages: int-date, stockstats, lxml, yfinance, stable-baselines3, empyrical, pyfolio, finrl\n",
            "  Found existing installation: lxml 4.2.6\n",
            "    Uninstalling lxml-4.2.6:\n",
            "      Successfully uninstalled lxml-4.2.6\n",
            "Successfully installed empyrical-0.5.5 finrl-0.0.1 int-date-0.1.8 lxml-4.6.2 pyfolio-0.9.2+75.g4b901f6 stable-baselines3-0.10.0 stockstats-0.3.2 yfinance-0.1.55\n"
          ],
          "name": "stdout"
        }
      ]
    },
    {
      "cell_type": "markdown",
      "metadata": {
        "id": "h2568cp5bU38"
      },
      "source": [
        "\n",
        "<a id='1.2'></a>\n",
        "## 2.2. Check if the additional packages needed are present, if not install them. \n",
        "* Yahoo Finance API\n",
        "* pandas\n",
        "* numpy\n",
        "* matplotlib\n",
        "* stockstats\n",
        "* OpenAI gym\n",
        "* stable-baselines\n",
        "* tensorflow\n",
        "* pyfolio"
      ]
    },
    {
      "cell_type": "code",
      "metadata": {
        "id": "yXKZS6YEbU39"
      },
      "source": [
        "import pkg_resources\n",
        "import pip\n",
        "installedPackages = {pkg.key for pkg in pkg_resources.working_set}\n",
        "required = {'yfinance', 'pandas','numpy', 'matplotlib', 'stockstats','stable-baselines','gym','tensorflow','pyfolio'}\n",
        "missing = required - installedPackages\n",
        "if missing:\n",
        "    !pip install yfinance\n",
        "    !pip install pandas\n",
        "    !pip install numpy\n",
        "    !pip install matplotlib\n",
        "    !pip install stockstats\n",
        "    !pip install gym\n",
        "    !pip install stable-baselines3[extra]\n",
        "    !pip install git+https://github.com/quantopian/pyfolio\n"
      ],
      "execution_count": null,
      "outputs": []
    },
    {
      "cell_type": "markdown",
      "metadata": {
        "id": "bNmvYN9YbU4B"
      },
      "source": [
        "<a id='1.3'></a>\r\n",
        "## 2.3. Import Packages"
      ]
    },
    {
      "cell_type": "code",
      "metadata": {
        "id": "ntfTb0e2bU4C",
        "colab": {
          "base_uri": "https://localhost:8080/"
        },
        "outputId": "40f47fd2-2cce-40c7-ca25-1635f7325d45"
      },
      "source": [
        "import pandas as pd\n",
        "import numpy as np\n",
        "import matplotlib\n",
        "import matplotlib.pyplot as plt\n",
        "matplotlib.use('Agg')\n",
        "import datetime\n",
        "\n",
        "from finrl.config import config\n",
        "from finrl.marketdata.yahoodownloader import YahooDownloader\n",
        "from finrl.preprocessing.preprocessors import FeatureEngineer\n",
        "from finrl.preprocessing.data import data_split\n",
        "from finrl.env.environment import EnvSetup\n",
        "from finrl.env.EnvMultipleStock_train import StockEnvTrain\n",
        "from finrl.env.EnvMultipleStock_trade import StockEnvTrade\n",
        "from finrl.model.models import DRLAgent\n",
        "from finrl.trade.backtest import BackTestStats, BaselineStats, BackTestPlot, backtest_strat, baseline_strat\n",
        "from finrl.trade.backtest import backtest_strat, baseline_strat\n"
      ],
      "execution_count": null,
      "outputs": [
        {
          "output_type": "stream",
          "text": [
            "/usr/local/lib/python3.6/dist-packages/pyfolio/pos.py:27: UserWarning: Module \"zipline.assets\" not found; multipliers will not be applied to position notionals.\n",
            "  'Module \"zipline.assets\" not found; multipliers will not be applied'\n"
          ],
          "name": "stderr"
        }
      ]
    },
    {
      "cell_type": "markdown",
      "metadata": {
        "id": "OlIS2abxkwan"
      },
      "source": [
        "<a id='1.4'></a>\r\n",
        "## 2.4. Create Folders"
      ]
    },
    {
      "cell_type": "code",
      "metadata": {
        "id": "B8bBq7nsBCfF"
      },
      "source": [
        "import os\n",
        "if not os.path.exists(\"./\" + config.DATA_SAVE_DIR):\n",
        "    os.makedirs(\"./\" + config.DATA_SAVE_DIR)\n",
        "if not os.path.exists(\"./\" + config.TRAINED_MODEL_DIR):\n",
        "    os.makedirs(\"./\" + config.TRAINED_MODEL_DIR)\n",
        "if not os.path.exists(\"./\" + config.TENSORBOARD_LOG_DIR):\n",
        "    os.makedirs(\"./\" + config.TENSORBOARD_LOG_DIR)\n",
        "if not os.path.exists(\"./\" + config.RESULTS_DIR):\n",
        "    os.makedirs(\"./\" + config.RESULTS_DIR)"
      ],
      "execution_count": null,
      "outputs": []
    },
    {
      "cell_type": "markdown",
      "metadata": {
        "id": "slBria_QbU4F"
      },
      "source": [
        "<a id='2'></a>\n",
        "# Part 3. Download Data\n",
        "Yahoo Finance is a website that provides stock data, financial news, financial reports, etc. All the data provided by Yahoo Finance is free.\n",
        "* FinRL uses a class **YahooDownloader** to fetch data from Yahoo Finance API\n",
        "* Call Limit: Using the Public API (without authentication), you are limited to 2,000 requests per hour per IP (or up to a total of 48,000 requests a day).\n"
      ]
    },
    {
      "cell_type": "code",
      "metadata": {
        "id": "WEwzMkFHbU4G",
        "colab": {
          "base_uri": "https://localhost:8080/"
        },
        "outputId": "df804c1b-23a9-4232-e2a2-a5953a3b9eeb"
      },
      "source": [
        "df = YahooDownloader(start_date = '2008-01-01',\n",
        "                     end_date = '2020-12-01',\n",
        "                     ticker_list = config.DOW_30_TICKER).fetch_data()"
      ],
      "execution_count": null,
      "outputs": [
        {
          "output_type": "stream",
          "text": [
            "[*********************100%***********************]  1 of 1 completed\n",
            "[*********************100%***********************]  1 of 1 completed\n",
            "[*********************100%***********************]  1 of 1 completed\n",
            "[*********************100%***********************]  1 of 1 completed\n",
            "[*********************100%***********************]  1 of 1 completed\n",
            "[*********************100%***********************]  1 of 1 completed\n",
            "[*********************100%***********************]  1 of 1 completed\n",
            "[*********************100%***********************]  1 of 1 completed\n",
            "[*********************100%***********************]  1 of 1 completed\n",
            "[*********************100%***********************]  1 of 1 completed\n",
            "[*********************100%***********************]  1 of 1 completed\n",
            "[*********************100%***********************]  1 of 1 completed\n",
            "[*********************100%***********************]  1 of 1 completed\n",
            "[*********************100%***********************]  1 of 1 completed\n",
            "[*********************100%***********************]  1 of 1 completed\n",
            "[*********************100%***********************]  1 of 1 completed\n",
            "[*********************100%***********************]  1 of 1 completed\n",
            "[*********************100%***********************]  1 of 1 completed\n",
            "[*********************100%***********************]  1 of 1 completed\n",
            "[*********************100%***********************]  1 of 1 completed\n",
            "[*********************100%***********************]  1 of 1 completed\n",
            "[*********************100%***********************]  1 of 1 completed\n",
            "[*********************100%***********************]  1 of 1 completed\n",
            "[*********************100%***********************]  1 of 1 completed\n",
            "[*********************100%***********************]  1 of 1 completed\n",
            "[*********************100%***********************]  1 of 1 completed\n",
            "[*********************100%***********************]  1 of 1 completed\n",
            "[*********************100%***********************]  1 of 1 completed\n",
            "[*********************100%***********************]  1 of 1 completed\n",
            "[*********************100%***********************]  1 of 1 completed\n",
            "Shape of DataFrame:  (97507, 7)\n"
          ],
          "name": "stdout"
        }
      ]
    },
    {
      "cell_type": "code",
      "metadata": {
        "id": "V1xC-LpbbU4f",
        "colab": {
          "base_uri": "https://localhost:8080/",
          "height": 199
        },
        "outputId": "61ae4f0b-15f2-4cbd-9216-7d1fb20884d7"
      },
      "source": [
        "df.head()"
      ],
      "execution_count": null,
      "outputs": [
        {
          "output_type": "execute_result",
          "data": {
            "text/html": [
              "<div>\n",
              "<style scoped>\n",
              "    .dataframe tbody tr th:only-of-type {\n",
              "        vertical-align: middle;\n",
              "    }\n",
              "\n",
              "    .dataframe tbody tr th {\n",
              "        vertical-align: top;\n",
              "    }\n",
              "\n",
              "    .dataframe thead th {\n",
              "        text-align: right;\n",
              "    }\n",
              "</style>\n",
              "<table border=\"1\" class=\"dataframe\">\n",
              "  <thead>\n",
              "    <tr style=\"text-align: right;\">\n",
              "      <th></th>\n",
              "      <th>date</th>\n",
              "      <th>open</th>\n",
              "      <th>high</th>\n",
              "      <th>low</th>\n",
              "      <th>close</th>\n",
              "      <th>volume</th>\n",
              "      <th>tic</th>\n",
              "    </tr>\n",
              "  </thead>\n",
              "  <tbody>\n",
              "    <tr>\n",
              "      <th>0</th>\n",
              "      <td>2008-01-02</td>\n",
              "      <td>7.116786</td>\n",
              "      <td>7.152143</td>\n",
              "      <td>6.876786</td>\n",
              "      <td>5.954069</td>\n",
              "      <td>1.079179e+09</td>\n",
              "      <td>AAPL</td>\n",
              "    </tr>\n",
              "    <tr>\n",
              "      <th>1</th>\n",
              "      <td>2008-01-03</td>\n",
              "      <td>6.978929</td>\n",
              "      <td>7.049643</td>\n",
              "      <td>6.881786</td>\n",
              "      <td>5.956820</td>\n",
              "      <td>8.420664e+08</td>\n",
              "      <td>AAPL</td>\n",
              "    </tr>\n",
              "    <tr>\n",
              "      <th>2</th>\n",
              "      <td>2008-01-04</td>\n",
              "      <td>6.837500</td>\n",
              "      <td>6.892857</td>\n",
              "      <td>6.388928</td>\n",
              "      <td>5.502106</td>\n",
              "      <td>1.455832e+09</td>\n",
              "      <td>AAPL</td>\n",
              "    </tr>\n",
              "    <tr>\n",
              "      <th>3</th>\n",
              "      <td>2008-01-07</td>\n",
              "      <td>6.473214</td>\n",
              "      <td>6.557143</td>\n",
              "      <td>6.079643</td>\n",
              "      <td>5.428458</td>\n",
              "      <td>2.072193e+09</td>\n",
              "      <td>AAPL</td>\n",
              "    </tr>\n",
              "    <tr>\n",
              "      <th>4</th>\n",
              "      <td>2008-01-08</td>\n",
              "      <td>6.433571</td>\n",
              "      <td>6.516428</td>\n",
              "      <td>6.100000</td>\n",
              "      <td>5.233188</td>\n",
              "      <td>1.523816e+09</td>\n",
              "      <td>AAPL</td>\n",
              "    </tr>\n",
              "  </tbody>\n",
              "</table>\n",
              "</div>"
            ],
            "text/plain": [
              "         date      open      high       low     close        volume   tic\n",
              "0  2008-01-02  7.116786  7.152143  6.876786  5.954069  1.079179e+09  AAPL\n",
              "1  2008-01-03  6.978929  7.049643  6.881786  5.956820  8.420664e+08  AAPL\n",
              "2  2008-01-04  6.837500  6.892857  6.388928  5.502106  1.455832e+09  AAPL\n",
              "3  2008-01-07  6.473214  6.557143  6.079643  5.428458  2.072193e+09  AAPL\n",
              "4  2008-01-08  6.433571  6.516428  6.100000  5.233188  1.523816e+09  AAPL"
            ]
          },
          "metadata": {
            "tags": []
          },
          "execution_count": 26
        }
      ]
    },
    {
      "cell_type": "code",
      "metadata": {
        "id": "mS1-nxRzbU4i",
        "colab": {
          "base_uri": "https://localhost:8080/"
        },
        "outputId": "1e8cc68d-4888-4154-bb90-ba8649bd93f5"
      },
      "source": [
        "df.shape"
      ],
      "execution_count": null,
      "outputs": [
        {
          "output_type": "execute_result",
          "data": {
            "text/plain": [
              "(97507, 7)"
            ]
          },
          "metadata": {
            "tags": []
          },
          "execution_count": 27
        }
      ]
    },
    {
      "cell_type": "markdown",
      "metadata": {
        "id": "V9UwKwzRbU4l"
      },
      "source": [
        "# Part 4: Preprocess Data\n",
        "Data preprocessing is a crucial step for training a high quality machine learning model. We need to check for missing data and do feature engineering in order to convert the data into a model-ready state.\n",
        "* Add technical indicators. In practical trading, various information needs to be taken into account, for example the historical stock prices, current holding shares, technical indicators, etc. In this article, we demonstrate two trend-following technical indicators: MACD and RSI.\n",
        "* Add turbulence index. Risk-aversion reflects whether an investor will choose to preserve the capital. It also influences one's trading strategy when facing different market volatility level. To control the risk in a worst-case scenario, such as financial crisis of 2007–2008, FinRL employs the financial turbulence index that measures extreme asset price fluctuation."
      ]
    },
    {
      "cell_type": "code",
      "metadata": {
        "id": "QVN6gRZNbU4m",
        "colab": {
          "base_uri": "https://localhost:8080/"
        },
        "outputId": "23218128-2553-446b-bbc9-333c544164a4"
      },
      "source": [
        "df = FeatureEngineer(df.copy(),\n",
        "                    use_technical_indicator=True,\n",
        "                    use_turbulence=False).preprocess_data()"
      ],
      "execution_count": null,
      "outputs": [
        {
          "output_type": "stream",
          "text": [
            "Successfully added technical indicators\n"
          ],
          "name": "stdout"
        }
      ]
    },
    {
      "cell_type": "code",
      "metadata": {
        "colab": {
          "base_uri": "https://localhost:8080/"
        },
        "id": "_zsIW1LAiqCb",
        "outputId": "ae9b98d3-a4cc-408b-9c33-896ca0e9fb98"
      },
      "source": [
        "df.shape"
      ],
      "execution_count": null,
      "outputs": [
        {
          "output_type": "execute_result",
          "data": {
            "text/plain": [
              "(97507, 11)"
            ]
          },
          "metadata": {
            "tags": []
          },
          "execution_count": 29
        }
      ]
    },
    {
      "cell_type": "code",
      "metadata": {
        "id": "lWB-RoTSbU4s",
        "colab": {
          "base_uri": "https://localhost:8080/",
          "height": 199
        },
        "outputId": "447266cc-2c7c-45d8-b122-838f0ee0e022"
      },
      "source": [
        "df.head()"
      ],
      "execution_count": null,
      "outputs": [
        {
          "output_type": "execute_result",
          "data": {
            "text/html": [
              "<div>\n",
              "<style scoped>\n",
              "    .dataframe tbody tr th:only-of-type {\n",
              "        vertical-align: middle;\n",
              "    }\n",
              "\n",
              "    .dataframe tbody tr th {\n",
              "        vertical-align: top;\n",
              "    }\n",
              "\n",
              "    .dataframe thead th {\n",
              "        text-align: right;\n",
              "    }\n",
              "</style>\n",
              "<table border=\"1\" class=\"dataframe\">\n",
              "  <thead>\n",
              "    <tr style=\"text-align: right;\">\n",
              "      <th></th>\n",
              "      <th>date</th>\n",
              "      <th>open</th>\n",
              "      <th>high</th>\n",
              "      <th>low</th>\n",
              "      <th>close</th>\n",
              "      <th>volume</th>\n",
              "      <th>tic</th>\n",
              "      <th>macd</th>\n",
              "      <th>rsi_30</th>\n",
              "      <th>cci_30</th>\n",
              "      <th>dx_30</th>\n",
              "    </tr>\n",
              "  </thead>\n",
              "  <tbody>\n",
              "    <tr>\n",
              "      <th>0</th>\n",
              "      <td>2008-01-02</td>\n",
              "      <td>7.116786</td>\n",
              "      <td>7.152143</td>\n",
              "      <td>6.876786</td>\n",
              "      <td>5.954069</td>\n",
              "      <td>1.079179e+09</td>\n",
              "      <td>AAPL</td>\n",
              "      <td>0.000000</td>\n",
              "      <td>100.000000</td>\n",
              "      <td>-66.666667</td>\n",
              "      <td>100.0</td>\n",
              "    </tr>\n",
              "    <tr>\n",
              "      <th>1</th>\n",
              "      <td>2008-01-03</td>\n",
              "      <td>6.978929</td>\n",
              "      <td>7.049643</td>\n",
              "      <td>6.881786</td>\n",
              "      <td>5.956820</td>\n",
              "      <td>8.420664e+08</td>\n",
              "      <td>AAPL</td>\n",
              "      <td>0.000062</td>\n",
              "      <td>100.000000</td>\n",
              "      <td>-66.666667</td>\n",
              "      <td>100.0</td>\n",
              "    </tr>\n",
              "    <tr>\n",
              "      <th>2</th>\n",
              "      <td>2008-01-04</td>\n",
              "      <td>6.837500</td>\n",
              "      <td>6.892857</td>\n",
              "      <td>6.388928</td>\n",
              "      <td>5.502106</td>\n",
              "      <td>1.455832e+09</td>\n",
              "      <td>AAPL</td>\n",
              "      <td>-0.014022</td>\n",
              "      <td>0.581302</td>\n",
              "      <td>-100.000000</td>\n",
              "      <td>100.0</td>\n",
              "    </tr>\n",
              "    <tr>\n",
              "      <th>3</th>\n",
              "      <td>2008-01-07</td>\n",
              "      <td>6.473214</td>\n",
              "      <td>6.557143</td>\n",
              "      <td>6.079643</td>\n",
              "      <td>5.428458</td>\n",
              "      <td>2.072193e+09</td>\n",
              "      <td>AAPL</td>\n",
              "      <td>-0.022743</td>\n",
              "      <td>0.498298</td>\n",
              "      <td>-98.372865</td>\n",
              "      <td>100.0</td>\n",
              "    </tr>\n",
              "    <tr>\n",
              "      <th>4</th>\n",
              "      <td>2008-01-08</td>\n",
              "      <td>6.433571</td>\n",
              "      <td>6.516428</td>\n",
              "      <td>6.100000</td>\n",
              "      <td>5.233188</td>\n",
              "      <td>1.523816e+09</td>\n",
              "      <td>AAPL</td>\n",
              "      <td>-0.034773</td>\n",
              "      <td>0.358062</td>\n",
              "      <td>-86.821221</td>\n",
              "      <td>100.0</td>\n",
              "    </tr>\n",
              "  </tbody>\n",
              "</table>\n",
              "</div>"
            ],
            "text/plain": [
              "         date      open      high  ...      rsi_30      cci_30  dx_30\n",
              "0  2008-01-02  7.116786  7.152143  ...  100.000000  -66.666667  100.0\n",
              "1  2008-01-03  6.978929  7.049643  ...  100.000000  -66.666667  100.0\n",
              "2  2008-01-04  6.837500  6.892857  ...    0.581302 -100.000000  100.0\n",
              "3  2008-01-07  6.473214  6.557143  ...    0.498298  -98.372865  100.0\n",
              "4  2008-01-08  6.433571  6.516428  ...    0.358062  -86.821221  100.0\n",
              "\n",
              "[5 rows x 11 columns]"
            ]
          },
          "metadata": {
            "tags": []
          },
          "execution_count": 30
        }
      ]
    },
    {
      "cell_type": "markdown",
      "metadata": {
        "id": "qz9K2vul6RmK"
      },
      "source": [
        "## Add covariance matrix as states"
      ]
    },
    {
      "cell_type": "code",
      "metadata": {
        "id": "IhizvNwcrg1n"
      },
      "source": [
        "# add covariance matrix as states\n",
        "df=df.sort_values(['date','tic'],ignore_index=True)\n",
        "df.index = df.date.factorize()[0]\n",
        "\n",
        "cov_list = []\n",
        "# look back is one year\n",
        "lookback=252\n",
        "for i in range(lookback,len(df.index.unique())):\n",
        "  data_lookback = df.loc[i-lookback:i,:]\n",
        "  price_lookback=data_lookback.pivot_table(index = 'date',columns = 'tic', values = 'close')\n",
        "  return_lookback = price_lookback.pct_change().dropna()\n",
        "  covs = return_lookback.cov().values \n",
        "  cov_list.append(covs)\n",
        "  \n",
        "df_cov = pd.DataFrame({'date':df.date.unique()[lookback:],'cov_list':cov_list})\n",
        "df = df.merge(df_cov, on='date')\n",
        "df = df.sort_values(['date','tic']).reset_index(drop=True)\n",
        "        "
      ],
      "execution_count": null,
      "outputs": []
    },
    {
      "cell_type": "code",
      "metadata": {
        "colab": {
          "base_uri": "https://localhost:8080/"
        },
        "id": "dUPwwa13uBQ-",
        "outputId": "8190c818-ea7d-465e-bf2b-c3e0cc78d184"
      },
      "source": [
        "df.shape"
      ],
      "execution_count": null,
      "outputs": [
        {
          "output_type": "execute_result",
          "data": {
            "text/plain": [
              "(90000, 12)"
            ]
          },
          "metadata": {
            "tags": []
          },
          "execution_count": 32
        }
      ]
    },
    {
      "cell_type": "code",
      "metadata": {
        "colab": {
          "base_uri": "https://localhost:8080/",
          "height": 199
        },
        "id": "wv3jR1zPrg4g",
        "outputId": "ea941424-3d6e-4a73-9a40-62651d1f2585"
      },
      "source": [
        "df.head()"
      ],
      "execution_count": null,
      "outputs": [
        {
          "output_type": "execute_result",
          "data": {
            "text/html": [
              "<div>\n",
              "<style scoped>\n",
              "    .dataframe tbody tr th:only-of-type {\n",
              "        vertical-align: middle;\n",
              "    }\n",
              "\n",
              "    .dataframe tbody tr th {\n",
              "        vertical-align: top;\n",
              "    }\n",
              "\n",
              "    .dataframe thead th {\n",
              "        text-align: right;\n",
              "    }\n",
              "</style>\n",
              "<table border=\"1\" class=\"dataframe\">\n",
              "  <thead>\n",
              "    <tr style=\"text-align: right;\">\n",
              "      <th></th>\n",
              "      <th>date</th>\n",
              "      <th>open</th>\n",
              "      <th>high</th>\n",
              "      <th>low</th>\n",
              "      <th>close</th>\n",
              "      <th>volume</th>\n",
              "      <th>tic</th>\n",
              "      <th>macd</th>\n",
              "      <th>rsi_30</th>\n",
              "      <th>cci_30</th>\n",
              "      <th>dx_30</th>\n",
              "      <th>cov_list</th>\n",
              "    </tr>\n",
              "  </thead>\n",
              "  <tbody>\n",
              "    <tr>\n",
              "      <th>0</th>\n",
              "      <td>2008-12-31</td>\n",
              "      <td>3.070357</td>\n",
              "      <td>3.133571</td>\n",
              "      <td>3.047857</td>\n",
              "      <td>2.608190</td>\n",
              "      <td>607541200.0</td>\n",
              "      <td>AAPL</td>\n",
              "      <td>-0.083379</td>\n",
              "      <td>42.254787</td>\n",
              "      <td>-80.483681</td>\n",
              "      <td>16.129787</td>\n",
              "      <td>[[0.0014139112978376663, 0.001180073109192745,...</td>\n",
              "    </tr>\n",
              "    <tr>\n",
              "      <th>1</th>\n",
              "      <td>2008-12-31</td>\n",
              "      <td>17.969999</td>\n",
              "      <td>18.750000</td>\n",
              "      <td>17.910000</td>\n",
              "      <td>15.163033</td>\n",
              "      <td>9625600.0</td>\n",
              "      <td>AXP</td>\n",
              "      <td>-0.972946</td>\n",
              "      <td>42.554831</td>\n",
              "      <td>-75.339668</td>\n",
              "      <td>25.776759</td>\n",
              "      <td>[[0.0014139112978376663, 0.001180073109192745,...</td>\n",
              "    </tr>\n",
              "    <tr>\n",
              "      <th>2</th>\n",
              "      <td>2008-12-31</td>\n",
              "      <td>41.590000</td>\n",
              "      <td>43.049999</td>\n",
              "      <td>41.500000</td>\n",
              "      <td>31.760571</td>\n",
              "      <td>5443100.0</td>\n",
              "      <td>BA</td>\n",
              "      <td>-0.277653</td>\n",
              "      <td>47.440272</td>\n",
              "      <td>156.964508</td>\n",
              "      <td>5.366299</td>\n",
              "      <td>[[0.0014139112978376663, 0.001180073109192745,...</td>\n",
              "    </tr>\n",
              "    <tr>\n",
              "      <th>3</th>\n",
              "      <td>2008-12-31</td>\n",
              "      <td>43.700001</td>\n",
              "      <td>45.099998</td>\n",
              "      <td>43.700001</td>\n",
              "      <td>30.961802</td>\n",
              "      <td>6277400.0</td>\n",
              "      <td>CAT</td>\n",
              "      <td>0.685574</td>\n",
              "      <td>51.205307</td>\n",
              "      <td>98.427075</td>\n",
              "      <td>26.331746</td>\n",
              "      <td>[[0.0014139112978376663, 0.001180073109192745,...</td>\n",
              "    </tr>\n",
              "    <tr>\n",
              "      <th>4</th>\n",
              "      <td>2008-12-31</td>\n",
              "      <td>16.180000</td>\n",
              "      <td>16.549999</td>\n",
              "      <td>16.120001</td>\n",
              "      <td>12.288514</td>\n",
              "      <td>37513700.0</td>\n",
              "      <td>CSCO</td>\n",
              "      <td>-0.105032</td>\n",
              "      <td>45.961928</td>\n",
              "      <td>11.948975</td>\n",
              "      <td>13.387087</td>\n",
              "      <td>[[0.0014139112978376663, 0.001180073109192745,...</td>\n",
              "    </tr>\n",
              "  </tbody>\n",
              "</table>\n",
              "</div>"
            ],
            "text/plain": [
              "         date  ...                                           cov_list\n",
              "0  2008-12-31  ...  [[0.0014139112978376663, 0.001180073109192745,...\n",
              "1  2008-12-31  ...  [[0.0014139112978376663, 0.001180073109192745,...\n",
              "2  2008-12-31  ...  [[0.0014139112978376663, 0.001180073109192745,...\n",
              "3  2008-12-31  ...  [[0.0014139112978376663, 0.001180073109192745,...\n",
              "4  2008-12-31  ...  [[0.0014139112978376663, 0.001180073109192745,...\n",
              "\n",
              "[5 rows x 12 columns]"
            ]
          },
          "metadata": {
            "tags": []
          },
          "execution_count": 33
        }
      ]
    },
    {
      "cell_type": "markdown",
      "metadata": {
        "id": "UooHj1OgbU4v"
      },
      "source": [
        "<a id='4'></a>\n",
        "# Part 5. Design Environment\n",
        "Considering the stochastic and interactive nature of the automated stock trading tasks, a financial task is modeled as a **Markov Decision Process (MDP)** problem. The training process involves observing stock price change, taking an action and reward's calculation to have the agent adjusting its strategy accordingly. By interacting with the environment, the trading agent will derive a trading strategy with the maximized rewards as time proceeds.\n",
        "\n",
        "Our trading environments, based on OpenAI Gym framework, simulate live stock markets with real market data according to the principle of time-driven simulation.\n",
        "\n",
        "The action space describes the allowed actions that the agent interacts with the environment. Normally, action a includes three actions: {-1, 0, 1}, where -1, 0, 1 represent selling, holding, and buying one share. Also, an action can be carried upon multiple shares. We use an action space {-k,…,-1, 0, 1, …, k}, where k denotes the number of shares to buy and -k denotes the number of shares to sell. For example, \"Buy 10 shares of AAPL\" or \"Sell 10 shares of AAPL\" are 10 or -10, respectively. The continuous action space needs to be normalized to [-1, 1], since the policy is defined on a Gaussian distribution, which needs to be normalized and symmetric."
      ]
    },
    {
      "cell_type": "markdown",
      "metadata": {
        "id": "MQnmN1qdk88I"
      },
      "source": [
        "## Training data split: 2009-01-01 to 2018-12-31"
      ]
    },
    {
      "cell_type": "code",
      "metadata": {
        "id": "NrPxgv4eBQ_R"
      },
      "source": [
        "train = data_split(df, '2009-01-01','2019-01-01')\n",
        "#trade = data_split(df, '2020-01-01', config.END_DATE)"
      ],
      "execution_count": null,
      "outputs": []
    },
    {
      "cell_type": "code",
      "metadata": {
        "colab": {
          "base_uri": "https://localhost:8080/",
          "height": 199
        },
        "id": "vU2vXEll0hfk",
        "outputId": "994ea1fd-d352-43c7-bd31-93f14683d730"
      },
      "source": [
        "train.head()"
      ],
      "execution_count": null,
      "outputs": [
        {
          "output_type": "execute_result",
          "data": {
            "text/html": [
              "<div>\n",
              "<style scoped>\n",
              "    .dataframe tbody tr th:only-of-type {\n",
              "        vertical-align: middle;\n",
              "    }\n",
              "\n",
              "    .dataframe tbody tr th {\n",
              "        vertical-align: top;\n",
              "    }\n",
              "\n",
              "    .dataframe thead th {\n",
              "        text-align: right;\n",
              "    }\n",
              "</style>\n",
              "<table border=\"1\" class=\"dataframe\">\n",
              "  <thead>\n",
              "    <tr style=\"text-align: right;\">\n",
              "      <th></th>\n",
              "      <th>date</th>\n",
              "      <th>open</th>\n",
              "      <th>high</th>\n",
              "      <th>low</th>\n",
              "      <th>close</th>\n",
              "      <th>volume</th>\n",
              "      <th>tic</th>\n",
              "      <th>macd</th>\n",
              "      <th>rsi_30</th>\n",
              "      <th>cci_30</th>\n",
              "      <th>dx_30</th>\n",
              "      <th>cov_list_x</th>\n",
              "      <th>cov_list_y</th>\n",
              "    </tr>\n",
              "  </thead>\n",
              "  <tbody>\n",
              "    <tr>\n",
              "      <th>0</th>\n",
              "      <td>2009-01-02</td>\n",
              "      <td>3.067143</td>\n",
              "      <td>3.251429</td>\n",
              "      <td>3.041429</td>\n",
              "      <td>2.773207</td>\n",
              "      <td>746015200.0</td>\n",
              "      <td>AAPL</td>\n",
              "      <td>-0.070812</td>\n",
              "      <td>45.440201</td>\n",
              "      <td>-32.118948</td>\n",
              "      <td>2.140159</td>\n",
              "      <td>[[0.0014277095282035474, 0.001188653914856843,...</td>\n",
              "      <td>[[0.0014277095282035474, 0.001188653914856843,...</td>\n",
              "    </tr>\n",
              "    <tr>\n",
              "      <th>0</th>\n",
              "      <td>2009-01-02</td>\n",
              "      <td>18.570000</td>\n",
              "      <td>19.520000</td>\n",
              "      <td>18.400000</td>\n",
              "      <td>15.800624</td>\n",
              "      <td>10955700.0</td>\n",
              "      <td>AXP</td>\n",
              "      <td>-0.865277</td>\n",
              "      <td>43.957557</td>\n",
              "      <td>-42.722340</td>\n",
              "      <td>16.335101</td>\n",
              "      <td>[[0.0014277095282035474, 0.001188653914856843,...</td>\n",
              "      <td>[[0.0014277095282035474, 0.001188653914856843,...</td>\n",
              "    </tr>\n",
              "    <tr>\n",
              "      <th>0</th>\n",
              "      <td>2009-01-02</td>\n",
              "      <td>42.799999</td>\n",
              "      <td>45.560001</td>\n",
              "      <td>42.779999</td>\n",
              "      <td>33.680935</td>\n",
              "      <td>7010200.0</td>\n",
              "      <td>BA</td>\n",
              "      <td>-0.001991</td>\n",
              "      <td>50.822045</td>\n",
              "      <td>272.714919</td>\n",
              "      <td>20.494464</td>\n",
              "      <td>[[0.0014277095282035474, 0.001188653914856843,...</td>\n",
              "      <td>[[0.0014277095282035474, 0.001188653914856843,...</td>\n",
              "    </tr>\n",
              "    <tr>\n",
              "      <th>0</th>\n",
              "      <td>2009-01-02</td>\n",
              "      <td>44.910000</td>\n",
              "      <td>46.980000</td>\n",
              "      <td>44.709999</td>\n",
              "      <td>32.514400</td>\n",
              "      <td>7117200.0</td>\n",
              "      <td>CAT</td>\n",
              "      <td>0.871261</td>\n",
              "      <td>53.661257</td>\n",
              "      <td>129.739408</td>\n",
              "      <td>34.637448</td>\n",
              "      <td>[[0.0014277095282035474, 0.001188653914856843,...</td>\n",
              "      <td>[[0.0014277095282035474, 0.001188653914856843,...</td>\n",
              "    </tr>\n",
              "    <tr>\n",
              "      <th>0</th>\n",
              "      <td>2009-01-02</td>\n",
              "      <td>16.410000</td>\n",
              "      <td>17.000000</td>\n",
              "      <td>16.250000</td>\n",
              "      <td>12.786087</td>\n",
              "      <td>40980600.0</td>\n",
              "      <td>CSCO</td>\n",
              "      <td>-0.062942</td>\n",
              "      <td>48.322163</td>\n",
              "      <td>54.612483</td>\n",
              "      <td>2.653808</td>\n",
              "      <td>[[0.0014277095282035474, 0.001188653914856843,...</td>\n",
              "      <td>[[0.0014277095282035474, 0.001188653914856843,...</td>\n",
              "    </tr>\n",
              "  </tbody>\n",
              "</table>\n",
              "</div>"
            ],
            "text/plain": [
              "         date  ...                                         cov_list_y\n",
              "0  2009-01-02  ...  [[0.0014277095282035474, 0.001188653914856843,...\n",
              "0  2009-01-02  ...  [[0.0014277095282035474, 0.001188653914856843,...\n",
              "0  2009-01-02  ...  [[0.0014277095282035474, 0.001188653914856843,...\n",
              "0  2009-01-02  ...  [[0.0014277095282035474, 0.001188653914856843,...\n",
              "0  2009-01-02  ...  [[0.0014277095282035474, 0.001188653914856843,...\n",
              "\n",
              "[5 rows x 13 columns]"
            ]
          },
          "metadata": {
            "tags": []
          },
          "execution_count": 19
        }
      ]
    },
    {
      "cell_type": "markdown",
      "metadata": {
        "id": "sxQTNjpblAMN"
      },
      "source": [
        "## Environment for Portfolio Allocation\r\n"
      ]
    },
    {
      "cell_type": "code",
      "metadata": {
        "id": "xlfE-VERbU40"
      },
      "source": [
        "import numpy as np\n",
        "import pandas as pd\n",
        "from gym.utils import seeding\n",
        "import gym\n",
        "from gym import spaces\n",
        "import matplotlib\n",
        "matplotlib.use('Agg')\n",
        "import matplotlib.pyplot as plt\n",
        "\n",
        "class StockPortfolioEnv(gym.Env):\n",
        "    \"\"\"A single stock trading environment for OpenAI gym\n",
        "\n",
        "    Attributes\n",
        "    ----------\n",
        "        df: DataFrame\n",
        "            input data\n",
        "        stock_dim : int\n",
        "            number of unique stocks\n",
        "        hmax : int\n",
        "            maximum number of shares to trade\n",
        "        initial_amount : int\n",
        "            start money\n",
        "        transaction_cost_pct: float\n",
        "            transaction cost percentage per trade\n",
        "        reward_scaling: float\n",
        "            scaling factor for reward, good for training\n",
        "        state_space: int\n",
        "            the dimension of input features\n",
        "        action_space: int\n",
        "            equals stock dimension\n",
        "        tech_indicator_list: list\n",
        "            a list of technical indicator names\n",
        "        turbulence_threshold: int\n",
        "            a threshold to control risk aversion\n",
        "        day: int\n",
        "            an increment number to control date\n",
        "\n",
        "    Methods\n",
        "    -------\n",
        "    _sell_stock()\n",
        "        perform sell action based on the sign of the action\n",
        "    _buy_stock()\n",
        "        perform buy action based on the sign of the action\n",
        "    step()\n",
        "        at each step the agent will return actions, then \n",
        "        we will calculate the reward, and return the next observation.\n",
        "    reset()\n",
        "        reset the environment\n",
        "    render()\n",
        "        use render to return other functions\n",
        "    save_asset_memory()\n",
        "        return account value at each time step\n",
        "    save_action_memory()\n",
        "        return actions/positions at each time step\n",
        "        \n",
        "\n",
        "    \"\"\"\n",
        "    metadata = {'render.modes': ['human']}\n",
        "\n",
        "    def __init__(self, \n",
        "                df,\n",
        "                stock_dim,\n",
        "                hmax,\n",
        "                initial_amount,\n",
        "                transaction_cost_pct,\n",
        "                reward_scaling,\n",
        "                state_space,\n",
        "                action_space,\n",
        "                tech_indicator_list,\n",
        "                turbulence_threshold,\n",
        "                lookback=252,\n",
        "                day = 0):\n",
        "        #super(StockEnv, self).__init__()\n",
        "        #money = 10 , scope = 1\n",
        "        self.day = day\n",
        "        self.lookback=lookback\n",
        "        self.df = df\n",
        "        self.stock_dim = stock_dim\n",
        "        self.hmax = hmax\n",
        "        self.initial_amount = initial_amount\n",
        "        self.transaction_cost_pct =transaction_cost_pct\n",
        "        self.reward_scaling = reward_scaling\n",
        "        self.state_space = state_space\n",
        "        self.action_space = action_space\n",
        "        self.tech_indicator_list = tech_indicator_list\n",
        "\n",
        "        # action_space normalization and shape is self.stock_dim\n",
        "        self.action_space = spaces.Box(low = 0, high = 1,shape = (self.action_space,)) \n",
        "        # Shape = (34, 30)\n",
        "        # covariance matrix + technical indicators\n",
        "        self.observation_space = spaces.Box(low=0, high=np.inf, shape = (self.state_space+len(self.tech_indicator_list),self.state_space))\n",
        "\n",
        "        # load data from a pandas dataframe\n",
        "        self.data = self.df.loc[self.day,:]\n",
        "        self.covs = self.data['cov_list'].values[0]\n",
        "        self.state =  np.append(np.array(self.covs), [self.data[tech].values.tolist() for tech in self.tech_indicator_list ], axis=0)\n",
        "        self.terminal = False     \n",
        "        self.turbulence_threshold = turbulence_threshold        \n",
        "        # initalize state: inital portfolio return + individual stock return + individual weights\n",
        "        self.portfolio_value = self.initial_amount\n",
        "\n",
        "        # memorize portfolio value each step\n",
        "        self.asset_memory = [self.initial_amount]\n",
        "        # memorize portfolio return each step\n",
        "        self.portfolio_return_memory = [0]\n",
        "        self.actions_memory=[[1/self.stock_dim]*self.stock_dim]\n",
        "        self.date_memory=[self.data.date.unique()[0]]\n",
        "\n",
        "        \n",
        "    def step(self, actions):\n",
        "        # print(self.day)\n",
        "        self.terminal = self.day >= len(self.df.index.unique())-1\n",
        "        # print(actions)\n",
        "\n",
        "        if self.terminal:\n",
        "            df = pd.DataFrame(self.portfolio_return_memory)\n",
        "            df.columns = ['daily_return']\n",
        "            plt.plot(df.daily_return.cumsum(),'r')\n",
        "            plt.savefig('results/cumulative_reward.png')\n",
        "            plt.close()\n",
        "            \n",
        "            plt.plot(self.portfolio_return_memory,'r')\n",
        "            plt.savefig('results/rewards.png')\n",
        "            plt.close()\n",
        "\n",
        "            print(\"=================================\")\n",
        "            print(\"begin_total_asset:{}\".format(self.asset_memory[0]))           \n",
        "            print(\"end_total_asset:{}\".format(self.portfolio_value))\n",
        "\n",
        "            df_daily_return = pd.DataFrame(self.portfolio_return_memory)\n",
        "            df_daily_return.columns = ['daily_return']\n",
        "            if df_daily_return['daily_return'].std() !=0:\n",
        "              sharpe = (252**0.5)*df_daily_return['daily_return'].mean()/ \\\n",
        "                       df_daily_return['daily_return'].std()\n",
        "              print(\"Sharpe: \",sharpe)\n",
        "            print(\"=================================\")\n",
        "            \n",
        "            return self.state, self.reward, self.terminal,{}\n",
        "\n",
        "        else:\n",
        "            #print(actions)\n",
        "            # actions are the portfolio weight\n",
        "            # normalize to sum of 1\n",
        "            norm_actions = (np.array(actions) - np.array(actions).min()) / (np.array(actions) - np.array(actions).min()).sum()\n",
        "            weights = norm_actions \n",
        "            #print(weights)\n",
        "            self.actions_memory.append(weights)\n",
        "            last_day_memory = self.data\n",
        "\n",
        "            #load next state\n",
        "            self.day += 1\n",
        "            self.data = self.df.loc[self.day,:]\n",
        "            self.covs = self.data['cov_list'].values[0]\n",
        "            self.state =  np.append(np.array(self.covs), [self.data[tech].values.tolist() for tech in self.tech_indicator_list ], axis=0)\n",
        "            #print(self.state)\n",
        "            # calcualte portfolio return\n",
        "            # individual stocks' return * weight\n",
        "            portfolio_return = sum(((self.data.close.values / last_day_memory.close.values)-1)*weights)\n",
        "            # update portfolio value\n",
        "            new_portfolio_value = self.portfolio_value*(1+portfolio_return)\n",
        "            self.portfolio_value = new_portfolio_value\n",
        "\n",
        "            # save into memory\n",
        "            self.portfolio_return_memory.append(portfolio_return)\n",
        "            self.date_memory.append(self.data.date.unique()[0])            \n",
        "            self.asset_memory.append(new_portfolio_value)\n",
        "\n",
        "            # the reward is the new portfolio value or end portfolo value\n",
        "            self.reward = new_portfolio_value \n",
        "            #self.reward = self.reward*self.reward_scaling\n",
        "\n",
        "        return self.state, self.reward, self.terminal, {}\n",
        "\n",
        "    def reset(self):\n",
        "        self.asset_memory = [self.initial_amount]\n",
        "        self.day = 0\n",
        "        self.data = self.df.loc[self.day,:]\n",
        "        # load states\n",
        "        self.covs = self.data['cov_list'].values[0]\n",
        "        self.state =  np.append(np.array(self.covs), [self.data[tech].values.tolist() for tech in self.tech_indicator_list ], axis=0)\n",
        "        self.portfolio_value = self.initial_amount\n",
        "        #self.cost = 0\n",
        "        #self.trades = 0\n",
        "        self.terminal = False \n",
        "        self.portfolio_return_memory = [0]\n",
        "        self.actions_memory=[[1/self.stock_dim]*self.stock_dim]\n",
        "        self.date_memory=[self.data.date.unique()[0]] \n",
        "        return self.state\n",
        "    \n",
        "    def render(self, mode='human'):\n",
        "        return self.state\n",
        "    \n",
        "    def save_asset_memory(self):\n",
        "        date_list = self.date_memory\n",
        "        portfolio_return = self.portfolio_return_memory\n",
        "        #print(len(date_list))\n",
        "        #print(len(asset_list))\n",
        "        df_account_value = pd.DataFrame({'date':date_list,'daily_return':portfolio_return})\n",
        "        return df_account_value\n",
        "\n",
        "    def save_action_memory(self):\n",
        "        # date and close price length must match actions length\n",
        "        date_list = self.date_memory\n",
        "        df_date = pd.DataFrame(date_list)\n",
        "        df_date.columns = ['date']\n",
        "        \n",
        "        action_list = self.actions_memory\n",
        "        df_actions = pd.DataFrame(action_list)\n",
        "        df_actions.columns = self.data.tic.values\n",
        "        df_actions.index = df_date.date\n",
        "        #df_actions = pd.DataFrame({'date':date_list,'actions':action_list})\n",
        "        return df_actions\n",
        "\n",
        "    def _seed(self, seed=None):\n",
        "        self.np_random, seed = seeding.np_random(seed)\n",
        "        return [seed]"
      ],
      "execution_count": null,
      "outputs": []
    },
    {
      "cell_type": "code",
      "metadata": {
        "id": "MzD06X0CbU43"
      },
      "source": [
        "stock_dimension = len(train.tic.unique())\n",
        "state_space = stock_dimension"
      ],
      "execution_count": null,
      "outputs": []
    },
    {
      "cell_type": "code",
      "metadata": {
        "id": "_CA2HJeybU45",
        "colab": {
          "base_uri": "https://localhost:8080/"
        },
        "outputId": "81a9ad40-9628-4145-be6e-742360a07f80"
      },
      "source": [
        "stock_dimension"
      ],
      "execution_count": null,
      "outputs": [
        {
          "output_type": "execute_result",
          "data": {
            "text/plain": [
              "30"
            ]
          },
          "metadata": {
            "tags": []
          },
          "execution_count": 37
        }
      ]
    },
    {
      "cell_type": "code",
      "metadata": {
        "id": "wJc5fax-GbGB"
      },
      "source": [
        "env_setup = EnvSetup(stock_dim = stock_dimension,\n",
        "                        state_space = state_space,\n",
        "                        initial_amount = 1000000,\n",
        "                        tech_indicator_list = config.TECHNICAL_INDICATORS_LIST)"
      ],
      "execution_count": null,
      "outputs": []
    },
    {
      "cell_type": "code",
      "metadata": {
        "id": "HTlOf8SJGdkl"
      },
      "source": [
        "env_train = env_setup.create_env_training(data = train,\n",
        "                                          env_class = StockPortfolioEnv)"
      ],
      "execution_count": null,
      "outputs": []
    },
    {
      "cell_type": "markdown",
      "metadata": {
        "id": "2eKIu5UPlPnk"
      },
      "source": [
        "<a id='5'></a>\r\n",
        "# Part 6: Implement DRL Algorithms\r\n",
        "* The implementation of the DRL algorithms are based on **OpenAI Baselines** and **Stable Baselines**. Stable Baselines is a fork of OpenAI Baselines, with a major structural refactoring, and code cleanups.\r\n",
        "* FinRL library includes fine-tuned standard DRL algorithms, such as DQN, DDPG,\r\n",
        "Multi-Agent DDPG, PPO, SAC, A2C and TD3. We also allow users to\r\n",
        "design their own DRL algorithms by adapting these DRL algorithms."
      ]
    },
    {
      "cell_type": "code",
      "metadata": {
        "id": "VDxU0iCEGdnb"
      },
      "source": [
        "# initialize\r\n",
        "agent = DRLAgent(env = env_train)"
      ],
      "execution_count": null,
      "outputs": []
    },
    {
      "cell_type": "markdown",
      "metadata": {
        "id": "hdPe8uzflbXe"
      },
      "source": [
        "### Model 1: **A2C**\r\n"
      ]
    },
    {
      "cell_type": "code",
      "metadata": {
        "colab": {
          "base_uri": "https://localhost:8080/"
        },
        "id": "GM1LN89fGdqT",
        "outputId": "053d4567-90c3-478c-8ceb-614ecf122245"
      },
      "source": [
        "env_train = env_setup.create_env_training(data = train,\n",
        "                                          env_class = StockPortfolioEnv)\n",
        "agent = DRLAgent(env = env_train)\n",
        "\n",
        "print(\"==============Model Training===========\")\n",
        "now = datetime.datetime.now().strftime('%Y%m%d-%Hh%M')\n",
        "a2c_params_tuning = {'n_steps':5, \n",
        "\t\t\t  'ent_coef':0.005, \n",
        "\t\t\t  'learning_rate':0.0003,\n",
        "\t\t\t  'verbose':0,\n",
        "\t\t\t  'timesteps':50000}\n",
        "model_a2c = agent.train_A2C(model_name = \"A2C_{}\".format(now), model_params = a2c_params_tuning) "
      ],
      "execution_count": null,
      "outputs": [
        {
          "output_type": "stream",
          "text": [
            "==============Model Training===========\n",
            "=================================\n",
            "begin_total_asset:1000000\n",
            "end_total_asset:3520663.099683588\n",
            "Sharpe:  0.842491573239513\n",
            "=================================\n",
            "=================================\n",
            "begin_total_asset:1000000\n",
            "end_total_asset:4734280.085891796\n",
            "Sharpe:  1.0225338996437308\n",
            "=================================\n",
            "=================================\n",
            "begin_total_asset:1000000\n",
            "end_total_asset:4123712.084258204\n",
            "Sharpe:  0.9471958170555037\n",
            "=================================\n",
            "=================================\n",
            "begin_total_asset:1000000\n",
            "end_total_asset:4706724.736894445\n",
            "Sharpe:  1.0157774632094034\n",
            "=================================\n",
            "=================================\n",
            "begin_total_asset:1000000\n",
            "end_total_asset:4136390.0275687193\n",
            "Sharpe:  0.9384870720132283\n",
            "=================================\n",
            "=================================\n",
            "begin_total_asset:1000000\n",
            "end_total_asset:4833888.747292111\n",
            "Sharpe:  1.0432939034096078\n",
            "=================================\n",
            "=================================\n",
            "begin_total_asset:1000000\n",
            "end_total_asset:4032253.5935831335\n",
            "Sharpe:  0.9077514025931349\n",
            "=================================\n",
            "=================================\n",
            "begin_total_asset:1000000\n",
            "end_total_asset:5572468.714842333\n",
            "Sharpe:  1.107405774646775\n",
            "=================================\n",
            "=================================\n",
            "begin_total_asset:1000000\n",
            "end_total_asset:5192868.878968016\n",
            "Sharpe:  1.0589817964134685\n",
            "=================================\n",
            "=================================\n",
            "begin_total_asset:1000000\n",
            "end_total_asset:4961843.200610868\n",
            "Sharpe:  1.0235138239239052\n",
            "=================================\n",
            "=================================\n",
            "begin_total_asset:1000000\n",
            "end_total_asset:5546980.08349\n",
            "Sharpe:  1.0827030202881114\n",
            "=================================\n",
            "=================================\n",
            "begin_total_asset:1000000\n",
            "end_total_asset:5291310.71535999\n",
            "Sharpe:  1.0672872761913406\n",
            "=================================\n",
            "=================================\n",
            "begin_total_asset:1000000\n",
            "end_total_asset:5164731.5428696005\n",
            "Sharpe:  1.0353191779383264\n",
            "=================================\n",
            "=================================\n",
            "begin_total_asset:1000000\n",
            "end_total_asset:6036338.66385214\n",
            "Sharpe:  1.1371096021628906\n",
            "=================================\n",
            "=================================\n",
            "begin_total_asset:1000000\n",
            "end_total_asset:5619301.881160237\n",
            "Sharpe:  1.1112126623633418\n",
            "=================================\n",
            "=================================\n",
            "begin_total_asset:1000000\n",
            "end_total_asset:4311594.760190136\n",
            "Sharpe:  0.9504074042995403\n",
            "=================================\n",
            "=================================\n",
            "begin_total_asset:1000000\n",
            "end_total_asset:4560476.6082790615\n",
            "Sharpe:  0.9860912589405431\n",
            "=================================\n",
            "=================================\n",
            "begin_total_asset:1000000\n",
            "end_total_asset:6056846.92719875\n",
            "Sharpe:  1.1414585015967986\n",
            "=================================\n",
            "=================================\n",
            "begin_total_asset:1000000\n",
            "end_total_asset:6071998.973283071\n",
            "Sharpe:  1.1118849182157857\n",
            "=================================\n",
            "Training time (A2C):  2.787259833017985  minutes\n"
          ],
          "name": "stdout"
        }
      ]
    },
    {
      "cell_type": "markdown",
      "metadata": {
        "id": "lvrqTro3lhAh"
      },
      "source": [
        "### Model 2: **PPO**\r\n"
      ]
    },
    {
      "cell_type": "code",
      "metadata": {
        "colab": {
          "base_uri": "https://localhost:8080/"
        },
        "id": "tRoOL4AMLeCH",
        "outputId": "343981a5-13f2-43d2-d111-5da65177fbc1"
      },
      "source": [
        "env_train = env_setup.create_env_training(data = train,\r\n",
        "                                          env_class = StockPortfolioEnv)\r\n",
        "agent = DRLAgent(env = env_train)\r\n",
        "\r\n",
        "print(\"==============Model Training===========\")\r\n",
        "now = datetime.datetime.now().strftime('%Y%m%d-%Hh%M')\r\n",
        "ppo_params_tuning = {'n_steps':128, \r\n",
        "                     'batch_size': 64,\r\n",
        "\t\t\t               'ent_coef':0.005, \r\n",
        "\t\t\t               'learning_rate':0.00025,\r\n",
        "\t\t\t              'verbose':0,\r\n",
        "\t\t\t              'timesteps':50000}\r\n",
        "model_ppo = agent.train_PPO(model_name = \"PPO_{}\".format(now), model_params = ppo_params_tuning)"
      ],
      "execution_count": null,
      "outputs": [
        {
          "output_type": "stream",
          "text": [
            "==============Model Training===========\n",
            "=================================\n",
            "begin_total_asset:1000000\n",
            "end_total_asset:4715425.163342672\n",
            "Sharpe:  1.0280423898414652\n",
            "=================================\n",
            "=================================\n",
            "begin_total_asset:1000000\n",
            "end_total_asset:3753182.469739866\n",
            "Sharpe:  0.8741947104328632\n",
            "=================================\n",
            "=================================\n",
            "begin_total_asset:1000000\n",
            "end_total_asset:4589869.520446704\n",
            "Sharpe:  1.0116019793773368\n",
            "=================================\n",
            "=================================\n",
            "begin_total_asset:1000000\n",
            "end_total_asset:4887525.760903336\n",
            "Sharpe:  1.043119754563317\n",
            "=================================\n",
            "=================================\n",
            "begin_total_asset:1000000\n",
            "end_total_asset:5237417.903079894\n",
            "Sharpe:  1.0928133621265685\n",
            "=================================\n",
            "=================================\n",
            "begin_total_asset:1000000\n",
            "end_total_asset:3949906.0089907255\n",
            "Sharpe:  0.9269902571489799\n",
            "=================================\n",
            "=================================\n",
            "begin_total_asset:1000000\n",
            "end_total_asset:5219006.445436677\n",
            "Sharpe:  1.0853230994690384\n",
            "=================================\n",
            "=================================\n",
            "begin_total_asset:1000000\n",
            "end_total_asset:4167686.315412604\n",
            "Sharpe:  0.9443189966846746\n",
            "=================================\n",
            "=================================\n",
            "begin_total_asset:1000000\n",
            "end_total_asset:4277674.757429524\n",
            "Sharpe:  0.9606611585998346\n",
            "=================================\n",
            "=================================\n",
            "begin_total_asset:1000000\n",
            "end_total_asset:5893629.015144792\n",
            "Sharpe:  1.156629308029259\n",
            "=================================\n",
            "=================================\n",
            "begin_total_asset:1000000\n",
            "end_total_asset:4374947.717592441\n",
            "Sharpe:  0.9826144451568258\n",
            "=================================\n",
            "=================================\n",
            "begin_total_asset:1000000\n",
            "end_total_asset:4057916.3762325337\n",
            "Sharpe:  0.9365354576453019\n",
            "=================================\n",
            "=================================\n",
            "begin_total_asset:1000000\n",
            "end_total_asset:4139477.299381426\n",
            "Sharpe:  0.9418791138324121\n",
            "=================================\n",
            "=================================\n",
            "begin_total_asset:1000000\n",
            "end_total_asset:4710334.125966387\n",
            "Sharpe:  1.0092947203079772\n",
            "=================================\n",
            "=================================\n",
            "begin_total_asset:1000000\n",
            "end_total_asset:5130520.325148699\n",
            "Sharpe:  1.0773501559361713\n",
            "=================================\n",
            "=================================\n",
            "begin_total_asset:1000000\n",
            "end_total_asset:4366531.926614951\n",
            "Sharpe:  0.9726134779358159\n",
            "=================================\n",
            "=================================\n",
            "begin_total_asset:1000000\n",
            "end_total_asset:3656226.9008727246\n",
            "Sharpe:  0.8606668517507996\n",
            "=================================\n",
            "=================================\n",
            "begin_total_asset:1000000\n",
            "end_total_asset:3491020.0132494476\n",
            "Sharpe:  0.843956642250661\n",
            "=================================\n",
            "=================================\n",
            "begin_total_asset:1000000\n",
            "end_total_asset:5090012.972505224\n",
            "Sharpe:  1.078408418539732\n",
            "=================================\n",
            "Training time (PPO):  2.3262441833813985  minutes\n"
          ],
          "name": "stdout"
        }
      ]
    },
    {
      "cell_type": "markdown",
      "metadata": {
        "id": "a3Iuv554xYFH"
      },
      "source": [
        "### Model 3: **DDPG**\r\n"
      ]
    },
    {
      "cell_type": "code",
      "metadata": {
        "colab": {
          "base_uri": "https://localhost:8080/"
        },
        "id": "MJB_ZEAdxUuZ",
        "outputId": "5294705a-5123-46f9-bc03-70447ba5afd2"
      },
      "source": [
        "env_train = env_setup.create_env_training(data = train,\r\n",
        "                                          env_class = StockPortfolioEnv)\r\n",
        "agent = DRLAgent(env = env_train)\r\n",
        "\r\n",
        "print(\"==============Model Training===========\")\r\n",
        "now = datetime.datetime.now().strftime('%Y%m%d-%Hh%M')\r\n",
        "ddpg_params_tuning = {\r\n",
        "                     'batch_size': 128,\r\n",
        "\t\t\t               'buffer_size':100000, \r\n",
        "\t\t\t               'verbose':0,\r\n",
        "\t\t\t               'timesteps':50000}\r\n",
        "model_ddpg = agent.train_DDPG(model_name = \"DDPG_{}\".format(now), model_params = ddpg_params_tuning)"
      ],
      "execution_count": null,
      "outputs": [
        {
          "output_type": "stream",
          "text": [
            "==============Model Training===========\n",
            "WARNING:tensorflow:From /usr/local/lib/python3.6/dist-packages/stable_baselines/ddpg/ddpg.py:444: The name tf.global_variables is deprecated. Please use tf.compat.v1.global_variables instead.\n",
            "\n",
            "WARNING:tensorflow:From /usr/local/lib/python3.6/dist-packages/stable_baselines/common/tf_util.py:432: The name tf.get_default_session is deprecated. Please use tf.compat.v1.get_default_session instead.\n",
            "\n",
            "=================================\n",
            "begin_total_asset:1000000\n",
            "end_total_asset:4923462.582623386\n",
            "Sharpe:  1.0458402573121939\n",
            "=================================\n",
            "=================================\n",
            "begin_total_asset:1000000\n",
            "end_total_asset:4528441.106071798\n",
            "Sharpe:  0.9552693210996319\n",
            "=================================\n",
            "=================================\n",
            "begin_total_asset:1000000\n",
            "end_total_asset:5005561.470107644\n",
            "Sharpe:  1.0285818324843217\n",
            "=================================\n",
            "=================================\n",
            "begin_total_asset:1000000\n",
            "end_total_asset:4303358.404051068\n",
            "Sharpe:  0.9972925837064459\n",
            "=================================\n",
            "=================================\n",
            "begin_total_asset:1000000\n",
            "end_total_asset:4805059.691509018\n",
            "Sharpe:  1.0568711078702784\n",
            "=================================\n",
            "=================================\n",
            "begin_total_asset:1000000\n",
            "end_total_asset:5159058.754532834\n",
            "Sharpe:  1.0754596826952323\n",
            "=================================\n",
            "=================================\n",
            "begin_total_asset:1000000\n",
            "end_total_asset:4818122.157267936\n",
            "Sharpe:  1.0687559190240752\n",
            "=================================\n",
            "=================================\n",
            "begin_total_asset:1000000\n",
            "end_total_asset:4744396.429590198\n",
            "Sharpe:  1.044928536850575\n",
            "=================================\n",
            "=================================\n",
            "begin_total_asset:1000000\n",
            "end_total_asset:4828757.091379072\n",
            "Sharpe:  1.0556544565206503\n",
            "=================================\n",
            "=================================\n",
            "begin_total_asset:1000000\n",
            "end_total_asset:4720740.343183356\n",
            "Sharpe:  1.0373638048553497\n",
            "=================================\n",
            "=================================\n",
            "begin_total_asset:1000000\n",
            "end_total_asset:4912125.685883489\n",
            "Sharpe:  1.0794479913878938\n",
            "=================================\n",
            "=================================\n",
            "begin_total_asset:1000000\n",
            "end_total_asset:5002808.964254259\n",
            "Sharpe:  1.0656260305572676\n",
            "=================================\n",
            "=================================\n",
            "begin_total_asset:1000000\n",
            "end_total_asset:4747166.8433428975\n",
            "Sharpe:  1.0400712003479828\n",
            "=================================\n",
            "=================================\n",
            "begin_total_asset:1000000\n",
            "end_total_asset:4537541.27887178\n",
            "Sharpe:  1.0054006113318286\n",
            "=================================\n",
            "=================================\n",
            "begin_total_asset:1000000\n",
            "end_total_asset:4957568.402252964\n",
            "Sharpe:  1.0614277809450638\n",
            "=================================\n",
            "=================================\n",
            "begin_total_asset:1000000\n",
            "end_total_asset:4594694.775602739\n",
            "Sharpe:  1.0186944155648034\n",
            "=================================\n",
            "=================================\n",
            "begin_total_asset:1000000\n",
            "end_total_asset:4658188.970672343\n",
            "Sharpe:  1.0243610678018271\n",
            "=================================\n",
            "=================================\n",
            "begin_total_asset:1000000\n",
            "end_total_asset:4699533.769237797\n",
            "Sharpe:  1.0390172924628551\n",
            "=================================\n",
            "=================================\n",
            "begin_total_asset:1000000\n",
            "end_total_asset:4919133.803253455\n",
            "Sharpe:  1.0663949312070928\n",
            "=================================\n",
            "Training time (DDPG):  8.580335307121278  minutes\n"
          ],
          "name": "stdout"
        }
      ]
    },
    {
      "cell_type": "markdown",
      "metadata": {
        "id": "SPEXBcm-uBJo"
      },
      "source": [
        "### Model 4: **SAC**\r\n"
      ]
    },
    {
      "cell_type": "code",
      "metadata": {
        "colab": {
          "base_uri": "https://localhost:8080/"
        },
        "id": "S-8NPKPVDD5m",
        "outputId": "84f49f8f-9616-40c9-d8b4-28a51f30e0af"
      },
      "source": [
        "env_train = env_setup.create_env_training(data = train,\n",
        "                                          env_class = StockPortfolioEnv)\n",
        "agent = DRLAgent(env = env_train)\n",
        "\n",
        "print(\"==============Model Training===========\")\n",
        "now = datetime.datetime.now().strftime('%Y%m%d-%Hh%M')\n",
        "sac_params_tuning={\n",
        "  'batch_size': 128,\n",
        " 'buffer_size': 100000,\n",
        "  'ent_coef':'auto_0.1',\n",
        " 'learning_rate': 0.0001,\n",
        " 'learning_starts':200,\n",
        " 'timesteps': 50000,\n",
        " 'verbose': 0}\n",
        "model_sac = agent.train_SAC(model_name = \"SAC_{}\".format(now), model_params = sac_params_tuning)"
      ],
      "execution_count": null,
      "outputs": [
        {
          "output_type": "stream",
          "text": [
            "==============Model Training===========\n",
            "WARNING:tensorflow:From /usr/local/lib/python3.6/dist-packages/stable_baselines/common/tf_layers.py:57: dense (from tensorflow.python.layers.core) is deprecated and will be removed in a future version.\n",
            "Instructions for updating:\n",
            "Use keras.layers.Dense instead.\n",
            "WARNING:tensorflow:From /usr/local/lib/python3.6/dist-packages/stable_baselines/sac/policies.py:63: The name tf.log is deprecated. Please use tf.math.log instead.\n",
            "\n",
            "WARNING:tensorflow:From /usr/local/lib/python3.6/dist-packages/stable_baselines/sac/sac.py:267: The name tf.assign is deprecated. Please use tf.compat.v1.assign instead.\n",
            "\n",
            "=================================\n",
            "begin_total_asset:1000000\n",
            "end_total_asset:3789949.9353317767\n",
            "Sharpe:  0.8482385772416656\n",
            "=================================\n",
            "=================================\n",
            "begin_total_asset:1000000\n",
            "end_total_asset:4768907.781119268\n",
            "Sharpe:  0.8840921177607054\n",
            "=================================\n",
            "=================================\n",
            "begin_total_asset:1000000\n",
            "end_total_asset:4794049.0413557375\n",
            "Sharpe:  0.8904650055182931\n",
            "=================================\n",
            "=================================\n",
            "begin_total_asset:1000000\n",
            "end_total_asset:4700681.98130326\n",
            "Sharpe:  0.8795869684803709\n",
            "=================================\n",
            "=================================\n",
            "begin_total_asset:1000000\n",
            "end_total_asset:4733386.901781482\n",
            "Sharpe:  0.8790280428212639\n",
            "=================================\n",
            "=================================\n",
            "begin_total_asset:1000000\n",
            "end_total_asset:4750678.294037353\n",
            "Sharpe:  0.8807811383508563\n",
            "=================================\n",
            "=================================\n",
            "begin_total_asset:1000000\n",
            "end_total_asset:4750931.181166387\n",
            "Sharpe:  0.8808011490566806\n",
            "=================================\n",
            "=================================\n",
            "begin_total_asset:1000000\n",
            "end_total_asset:4750976.310335393\n",
            "Sharpe:  0.8808053840413461\n",
            "=================================\n",
            "=================================\n",
            "begin_total_asset:1000000\n",
            "end_total_asset:4750948.419527833\n",
            "Sharpe:  0.8808017831595237\n",
            "=================================\n",
            "=================================\n",
            "begin_total_asset:1000000\n",
            "end_total_asset:4750960.091227398\n",
            "Sharpe:  0.8808037157035958\n",
            "=================================\n",
            "=================================\n",
            "begin_total_asset:1000000\n",
            "end_total_asset:4750954.280161463\n",
            "Sharpe:  0.8808030439351785\n",
            "=================================\n",
            "=================================\n",
            "begin_total_asset:1000000\n",
            "end_total_asset:4750953.104176275\n",
            "Sharpe:  0.8808039246777459\n",
            "=================================\n",
            "=================================\n",
            "begin_total_asset:1000000\n",
            "end_total_asset:4750937.276475183\n",
            "Sharpe:  0.8808027177179168\n",
            "=================================\n",
            "=================================\n",
            "begin_total_asset:1000000\n",
            "end_total_asset:4750900.582757362\n",
            "Sharpe:  0.8807996096430177\n",
            "=================================\n",
            "=================================\n",
            "begin_total_asset:1000000\n",
            "end_total_asset:4750902.257428924\n",
            "Sharpe:  0.8808005589115033\n",
            "=================================\n",
            "=================================\n",
            "begin_total_asset:1000000\n",
            "end_total_asset:4750949.592614365\n",
            "Sharpe:  0.8808080931997869\n",
            "=================================\n",
            "=================================\n",
            "begin_total_asset:1000000\n",
            "end_total_asset:4750999.849079051\n",
            "Sharpe:  0.8808153407036574\n",
            "=================================\n",
            "=================================\n",
            "begin_total_asset:1000000\n",
            "end_total_asset:4750814.349039231\n",
            "Sharpe:  0.8807979552716156\n",
            "=================================\n",
            "=================================\n",
            "begin_total_asset:1000000\n",
            "end_total_asset:4751024.965002079\n",
            "Sharpe:  0.8808255520624443\n",
            "=================================\n",
            "Training time (SAC):  12.363327058156331  minutes\n"
          ],
          "name": "stdout"
        }
      ]
    },
    {
      "cell_type": "markdown",
      "metadata": {
        "id": "E2Ma6YpTlnuZ"
      },
      "source": [
        "## Trading\r\n",
        "Assume that we have $1,000,000 initial capital at 2019-01-01. We use the DDPG model to trade Dow jones 30 stocks."
      ]
    },
    {
      "cell_type": "code",
      "metadata": {
        "id": "uas8U6k455sI"
      },
      "source": [
        "trade = data_split(df,'2019-01-01', '2020-12-01')\n",
        "#trade = data_split(df,config.START_TRADE_DATE,config.END_DATE)"
      ],
      "execution_count": null,
      "outputs": []
    },
    {
      "cell_type": "code",
      "metadata": {
        "colab": {
          "base_uri": "https://localhost:8080/"
        },
        "id": "LcGYlhyal205",
        "outputId": "d0fea432-f60a-46c7-939e-e99230d98f93"
      },
      "source": [
        "trade.shape"
      ],
      "execution_count": null,
      "outputs": [
        {
          "output_type": "execute_result",
          "data": {
            "text/plain": [
              "(14490, 12)"
            ]
          },
          "metadata": {
            "tags": []
          },
          "execution_count": 43
        }
      ]
    },
    {
      "cell_type": "code",
      "metadata": {
        "colab": {
          "base_uri": "https://localhost:8080/",
          "height": 199
        },
        "id": "4udD8hGlrj7L",
        "outputId": "b58ec8f1-25e5-475c-d4ac-ec173249922f"
      },
      "source": [
        "trade.head()"
      ],
      "execution_count": null,
      "outputs": [
        {
          "output_type": "execute_result",
          "data": {
            "text/html": [
              "<div>\n",
              "<style scoped>\n",
              "    .dataframe tbody tr th:only-of-type {\n",
              "        vertical-align: middle;\n",
              "    }\n",
              "\n",
              "    .dataframe tbody tr th {\n",
              "        vertical-align: top;\n",
              "    }\n",
              "\n",
              "    .dataframe thead th {\n",
              "        text-align: right;\n",
              "    }\n",
              "</style>\n",
              "<table border=\"1\" class=\"dataframe\">\n",
              "  <thead>\n",
              "    <tr style=\"text-align: right;\">\n",
              "      <th></th>\n",
              "      <th>date</th>\n",
              "      <th>open</th>\n",
              "      <th>high</th>\n",
              "      <th>low</th>\n",
              "      <th>close</th>\n",
              "      <th>volume</th>\n",
              "      <th>tic</th>\n",
              "      <th>macd</th>\n",
              "      <th>rsi_30</th>\n",
              "      <th>cci_30</th>\n",
              "      <th>dx_30</th>\n",
              "      <th>cov_list</th>\n",
              "    </tr>\n",
              "  </thead>\n",
              "  <tbody>\n",
              "    <tr>\n",
              "      <th>0</th>\n",
              "      <td>2019-01-02</td>\n",
              "      <td>38.722500</td>\n",
              "      <td>39.712502</td>\n",
              "      <td>38.557499</td>\n",
              "      <td>38.249401</td>\n",
              "      <td>148158800.0</td>\n",
              "      <td>AAPL</td>\n",
              "      <td>-2.003499</td>\n",
              "      <td>37.867367</td>\n",
              "      <td>-91.588048</td>\n",
              "      <td>42.250808</td>\n",
              "      <td>[[0.00032652138721150323, 0.000135816685749119...</td>\n",
              "    </tr>\n",
              "    <tr>\n",
              "      <th>0</th>\n",
              "      <td>2019-01-02</td>\n",
              "      <td>93.910004</td>\n",
              "      <td>96.269997</td>\n",
              "      <td>93.769997</td>\n",
              "      <td>92.643311</td>\n",
              "      <td>4175400.0</td>\n",
              "      <td>AXP</td>\n",
              "      <td>-3.426008</td>\n",
              "      <td>41.204982</td>\n",
              "      <td>-97.742269</td>\n",
              "      <td>26.709417</td>\n",
              "      <td>[[0.00032652138721150323, 0.000135816685749119...</td>\n",
              "    </tr>\n",
              "    <tr>\n",
              "      <th>0</th>\n",
              "      <td>2019-01-02</td>\n",
              "      <td>316.190002</td>\n",
              "      <td>323.950012</td>\n",
              "      <td>313.709991</td>\n",
              "      <td>314.645142</td>\n",
              "      <td>3292200.0</td>\n",
              "      <td>BA</td>\n",
              "      <td>-5.550592</td>\n",
              "      <td>47.010000</td>\n",
              "      <td>-21.712382</td>\n",
              "      <td>13.611972</td>\n",
              "      <td>[[0.00032652138721150323, 0.000135816685749119...</td>\n",
              "    </tr>\n",
              "    <tr>\n",
              "      <th>0</th>\n",
              "      <td>2019-01-02</td>\n",
              "      <td>124.029999</td>\n",
              "      <td>127.879997</td>\n",
              "      <td>123.000000</td>\n",
              "      <td>119.302582</td>\n",
              "      <td>4783200.0</td>\n",
              "      <td>CAT</td>\n",
              "      <td>-0.686759</td>\n",
              "      <td>48.229089</td>\n",
              "      <td>-5.091209</td>\n",
              "      <td>0.873482</td>\n",
              "      <td>[[0.00032652138721150323, 0.000135816685749119...</td>\n",
              "    </tr>\n",
              "    <tr>\n",
              "      <th>0</th>\n",
              "      <td>2019-01-02</td>\n",
              "      <td>42.279999</td>\n",
              "      <td>43.200001</td>\n",
              "      <td>42.209999</td>\n",
              "      <td>40.382099</td>\n",
              "      <td>23833500.0</td>\n",
              "      <td>CSCO</td>\n",
              "      <td>-0.960061</td>\n",
              "      <td>44.872557</td>\n",
              "      <td>-87.496850</td>\n",
              "      <td>29.529377</td>\n",
              "      <td>[[0.00032652138721150323, 0.000135816685749119...</td>\n",
              "    </tr>\n",
              "  </tbody>\n",
              "</table>\n",
              "</div>"
            ],
            "text/plain": [
              "         date  ...                                           cov_list\n",
              "0  2019-01-02  ...  [[0.00032652138721150323, 0.000135816685749119...\n",
              "0  2019-01-02  ...  [[0.00032652138721150323, 0.000135816685749119...\n",
              "0  2019-01-02  ...  [[0.00032652138721150323, 0.000135816685749119...\n",
              "0  2019-01-02  ...  [[0.00032652138721150323, 0.000135816685749119...\n",
              "0  2019-01-02  ...  [[0.00032652138721150323, 0.000135816685749119...\n",
              "\n",
              "[5 rows x 12 columns]"
            ]
          },
          "metadata": {
            "tags": []
          },
          "execution_count": 44
        }
      ]
    },
    {
      "cell_type": "code",
      "metadata": {
        "colab": {
          "base_uri": "https://localhost:8080/"
        },
        "id": "Qq4W9FbSstT7",
        "outputId": "88a33b9c-861c-4195-9fba-17fa4b9367d3"
      },
      "source": [
        "env_trade, obs_trade = env_setup.create_env_trading(data = trade,\r\n",
        "                                         env_class = StockPortfolioEnv) \r\n",
        "\r\n",
        "df_daily_return, df_actions = DRLAgent.DRL_prediction(model=model_a2c,\r\n",
        "                        test_data = trade,\r\n",
        "                        test_env = env_trade,\r\n",
        "                        test_obs = obs_trade)"
      ],
      "execution_count": null,
      "outputs": [
        {
          "output_type": "stream",
          "text": [
            "=================================\n",
            "begin_total_asset:1000000\n",
            "end_total_asset:1448803.4546757685\n",
            "Sharpe:  0.8070294946265225\n",
            "=================================\n"
          ],
          "name": "stdout"
        }
      ]
    },
    {
      "cell_type": "code",
      "metadata": {
        "colab": {
          "base_uri": "https://localhost:8080/",
          "height": 199
        },
        "id": "uJvj3pXt_Ukg",
        "outputId": "5cc84efc-f38d-4e80-fbbb-77dcc38334c2"
      },
      "source": [
        "df_daily_return.head()"
      ],
      "execution_count": null,
      "outputs": [
        {
          "output_type": "execute_result",
          "data": {
            "text/html": [
              "<div>\n",
              "<style scoped>\n",
              "    .dataframe tbody tr th:only-of-type {\n",
              "        vertical-align: middle;\n",
              "    }\n",
              "\n",
              "    .dataframe tbody tr th {\n",
              "        vertical-align: top;\n",
              "    }\n",
              "\n",
              "    .dataframe thead th {\n",
              "        text-align: right;\n",
              "    }\n",
              "</style>\n",
              "<table border=\"1\" class=\"dataframe\">\n",
              "  <thead>\n",
              "    <tr style=\"text-align: right;\">\n",
              "      <th></th>\n",
              "      <th>date</th>\n",
              "      <th>daily_return</th>\n",
              "    </tr>\n",
              "  </thead>\n",
              "  <tbody>\n",
              "    <tr>\n",
              "      <th>0</th>\n",
              "      <td>2019-01-02</td>\n",
              "      <td>0.000000</td>\n",
              "    </tr>\n",
              "    <tr>\n",
              "      <th>1</th>\n",
              "      <td>2019-01-03</td>\n",
              "      <td>-0.028108</td>\n",
              "    </tr>\n",
              "    <tr>\n",
              "      <th>2</th>\n",
              "      <td>2019-01-04</td>\n",
              "      <td>0.030981</td>\n",
              "    </tr>\n",
              "    <tr>\n",
              "      <th>3</th>\n",
              "      <td>2019-01-07</td>\n",
              "      <td>0.007089</td>\n",
              "    </tr>\n",
              "    <tr>\n",
              "      <th>4</th>\n",
              "      <td>2019-01-08</td>\n",
              "      <td>0.009504</td>\n",
              "    </tr>\n",
              "  </tbody>\n",
              "</table>\n",
              "</div>"
            ],
            "text/plain": [
              "         date  daily_return\n",
              "0  2019-01-02      0.000000\n",
              "1  2019-01-03     -0.028108\n",
              "2  2019-01-04      0.030981\n",
              "3  2019-01-07      0.007089\n",
              "4  2019-01-08      0.009504"
            ]
          },
          "metadata": {
            "tags": []
          },
          "execution_count": 46
        }
      ]
    },
    {
      "cell_type": "code",
      "metadata": {
        "colab": {
          "base_uri": "https://localhost:8080/",
          "height": 334
        },
        "id": "tByVcZ2L9TAJ",
        "outputId": "4e54ab06-b28e-4353-f1ac-446e1fa71831"
      },
      "source": [
        "df_actions.head()"
      ],
      "execution_count": null,
      "outputs": [
        {
          "output_type": "execute_result",
          "data": {
            "text/html": [
              "<div>\n",
              "<style scoped>\n",
              "    .dataframe tbody tr th:only-of-type {\n",
              "        vertical-align: middle;\n",
              "    }\n",
              "\n",
              "    .dataframe tbody tr th {\n",
              "        vertical-align: top;\n",
              "    }\n",
              "\n",
              "    .dataframe thead th {\n",
              "        text-align: right;\n",
              "    }\n",
              "</style>\n",
              "<table border=\"1\" class=\"dataframe\">\n",
              "  <thead>\n",
              "    <tr style=\"text-align: right;\">\n",
              "      <th></th>\n",
              "      <th>AAPL</th>\n",
              "      <th>AXP</th>\n",
              "      <th>BA</th>\n",
              "      <th>CAT</th>\n",
              "      <th>CSCO</th>\n",
              "      <th>CVX</th>\n",
              "      <th>DD</th>\n",
              "      <th>DIS</th>\n",
              "      <th>GS</th>\n",
              "      <th>HD</th>\n",
              "      <th>IBM</th>\n",
              "      <th>INTC</th>\n",
              "      <th>JNJ</th>\n",
              "      <th>JPM</th>\n",
              "      <th>KO</th>\n",
              "      <th>MCD</th>\n",
              "      <th>MMM</th>\n",
              "      <th>MRK</th>\n",
              "      <th>MSFT</th>\n",
              "      <th>NKE</th>\n",
              "      <th>PFE</th>\n",
              "      <th>PG</th>\n",
              "      <th>RTX</th>\n",
              "      <th>TRV</th>\n",
              "      <th>UNH</th>\n",
              "      <th>V</th>\n",
              "      <th>VZ</th>\n",
              "      <th>WBA</th>\n",
              "      <th>WMT</th>\n",
              "      <th>XOM</th>\n",
              "    </tr>\n",
              "    <tr>\n",
              "      <th>date</th>\n",
              "      <th></th>\n",
              "      <th></th>\n",
              "      <th></th>\n",
              "      <th></th>\n",
              "      <th></th>\n",
              "      <th></th>\n",
              "      <th></th>\n",
              "      <th></th>\n",
              "      <th></th>\n",
              "      <th></th>\n",
              "      <th></th>\n",
              "      <th></th>\n",
              "      <th></th>\n",
              "      <th></th>\n",
              "      <th></th>\n",
              "      <th></th>\n",
              "      <th></th>\n",
              "      <th></th>\n",
              "      <th></th>\n",
              "      <th></th>\n",
              "      <th></th>\n",
              "      <th></th>\n",
              "      <th></th>\n",
              "      <th></th>\n",
              "      <th></th>\n",
              "      <th></th>\n",
              "      <th></th>\n",
              "      <th></th>\n",
              "      <th></th>\n",
              "      <th></th>\n",
              "    </tr>\n",
              "  </thead>\n",
              "  <tbody>\n",
              "    <tr>\n",
              "      <th>2019-01-02</th>\n",
              "      <td>0.033333</td>\n",
              "      <td>0.033333</td>\n",
              "      <td>0.033333</td>\n",
              "      <td>0.033333</td>\n",
              "      <td>0.033333</td>\n",
              "      <td>0.033333</td>\n",
              "      <td>0.033333</td>\n",
              "      <td>0.033333</td>\n",
              "      <td>0.033333</td>\n",
              "      <td>0.033333</td>\n",
              "      <td>0.033333</td>\n",
              "      <td>0.033333</td>\n",
              "      <td>0.033333</td>\n",
              "      <td>0.033333</td>\n",
              "      <td>0.033333</td>\n",
              "      <td>0.033333</td>\n",
              "      <td>0.033333</td>\n",
              "      <td>0.033333</td>\n",
              "      <td>0.033333</td>\n",
              "      <td>0.033333</td>\n",
              "      <td>0.033333</td>\n",
              "      <td>0.033333</td>\n",
              "      <td>0.033333</td>\n",
              "      <td>0.033333</td>\n",
              "      <td>0.033333</td>\n",
              "      <td>0.033333</td>\n",
              "      <td>0.033333</td>\n",
              "      <td>0.033333</td>\n",
              "      <td>0.033333</td>\n",
              "      <td>0.033333</td>\n",
              "    </tr>\n",
              "    <tr>\n",
              "      <th>2019-01-03</th>\n",
              "      <td>0.000000</td>\n",
              "      <td>0.027959</td>\n",
              "      <td>0.097075</td>\n",
              "      <td>0.000000</td>\n",
              "      <td>0.000000</td>\n",
              "      <td>0.000000</td>\n",
              "      <td>0.120877</td>\n",
              "      <td>0.000000</td>\n",
              "      <td>0.120877</td>\n",
              "      <td>0.120877</td>\n",
              "      <td>0.000000</td>\n",
              "      <td>0.120877</td>\n",
              "      <td>0.000000</td>\n",
              "      <td>0.000000</td>\n",
              "      <td>0.000000</td>\n",
              "      <td>0.000000</td>\n",
              "      <td>0.000000</td>\n",
              "      <td>0.000000</td>\n",
              "      <td>0.120877</td>\n",
              "      <td>0.000000</td>\n",
              "      <td>0.054123</td>\n",
              "      <td>0.000000</td>\n",
              "      <td>0.017335</td>\n",
              "      <td>0.066857</td>\n",
              "      <td>0.000000</td>\n",
              "      <td>0.017384</td>\n",
              "      <td>0.114882</td>\n",
              "      <td>0.000000</td>\n",
              "      <td>0.000000</td>\n",
              "      <td>0.000000</td>\n",
              "    </tr>\n",
              "    <tr>\n",
              "      <th>2019-01-04</th>\n",
              "      <td>0.048613</td>\n",
              "      <td>0.088165</td>\n",
              "      <td>0.012585</td>\n",
              "      <td>0.044508</td>\n",
              "      <td>0.000000</td>\n",
              "      <td>0.000000</td>\n",
              "      <td>0.000000</td>\n",
              "      <td>0.021382</td>\n",
              "      <td>0.088165</td>\n",
              "      <td>0.000000</td>\n",
              "      <td>0.063837</td>\n",
              "      <td>0.000000</td>\n",
              "      <td>0.000000</td>\n",
              "      <td>0.000000</td>\n",
              "      <td>0.000000</td>\n",
              "      <td>0.088165</td>\n",
              "      <td>0.018701</td>\n",
              "      <td>0.000000</td>\n",
              "      <td>0.088165</td>\n",
              "      <td>0.083549</td>\n",
              "      <td>0.088165</td>\n",
              "      <td>0.000000</td>\n",
              "      <td>0.000000</td>\n",
              "      <td>0.088165</td>\n",
              "      <td>0.000000</td>\n",
              "      <td>0.040722</td>\n",
              "      <td>0.048951</td>\n",
              "      <td>0.000000</td>\n",
              "      <td>0.088165</td>\n",
              "      <td>0.000000</td>\n",
              "    </tr>\n",
              "    <tr>\n",
              "      <th>2019-01-07</th>\n",
              "      <td>0.000000</td>\n",
              "      <td>0.021455</td>\n",
              "      <td>0.008297</td>\n",
              "      <td>0.000972</td>\n",
              "      <td>0.000000</td>\n",
              "      <td>0.000000</td>\n",
              "      <td>0.088659</td>\n",
              "      <td>0.000000</td>\n",
              "      <td>0.065071</td>\n",
              "      <td>0.088659</td>\n",
              "      <td>0.000000</td>\n",
              "      <td>0.011141</td>\n",
              "      <td>0.000000</td>\n",
              "      <td>0.080236</td>\n",
              "      <td>0.000000</td>\n",
              "      <td>0.000000</td>\n",
              "      <td>0.000000</td>\n",
              "      <td>0.047848</td>\n",
              "      <td>0.088659</td>\n",
              "      <td>0.088659</td>\n",
              "      <td>0.033387</td>\n",
              "      <td>0.000000</td>\n",
              "      <td>0.000000</td>\n",
              "      <td>0.022318</td>\n",
              "      <td>0.000000</td>\n",
              "      <td>0.088659</td>\n",
              "      <td>0.088659</td>\n",
              "      <td>0.088659</td>\n",
              "      <td>0.088659</td>\n",
              "      <td>0.000000</td>\n",
              "    </tr>\n",
              "    <tr>\n",
              "      <th>2019-01-08</th>\n",
              "      <td>0.085924</td>\n",
              "      <td>0.085924</td>\n",
              "      <td>0.056891</td>\n",
              "      <td>0.069613</td>\n",
              "      <td>0.000000</td>\n",
              "      <td>0.000000</td>\n",
              "      <td>0.075576</td>\n",
              "      <td>0.003612</td>\n",
              "      <td>0.085924</td>\n",
              "      <td>0.013206</td>\n",
              "      <td>0.000000</td>\n",
              "      <td>0.000000</td>\n",
              "      <td>0.000000</td>\n",
              "      <td>0.085924</td>\n",
              "      <td>0.000000</td>\n",
              "      <td>0.000000</td>\n",
              "      <td>0.000000</td>\n",
              "      <td>0.000000</td>\n",
              "      <td>0.085924</td>\n",
              "      <td>0.007782</td>\n",
              "      <td>0.000000</td>\n",
              "      <td>0.000000</td>\n",
              "      <td>0.000000</td>\n",
              "      <td>0.085924</td>\n",
              "      <td>0.000000</td>\n",
              "      <td>0.085924</td>\n",
              "      <td>0.085924</td>\n",
              "      <td>0.000000</td>\n",
              "      <td>0.085924</td>\n",
              "      <td>0.000000</td>\n",
              "    </tr>\n",
              "  </tbody>\n",
              "</table>\n",
              "</div>"
            ],
            "text/plain": [
              "                AAPL       AXP        BA  ...       WBA       WMT       XOM\n",
              "date                                      ...                              \n",
              "2019-01-02  0.033333  0.033333  0.033333  ...  0.033333  0.033333  0.033333\n",
              "2019-01-03  0.000000  0.027959  0.097075  ...  0.000000  0.000000  0.000000\n",
              "2019-01-04  0.048613  0.088165  0.012585  ...  0.000000  0.088165  0.000000\n",
              "2019-01-07  0.000000  0.021455  0.008297  ...  0.088659  0.088659  0.000000\n",
              "2019-01-08  0.085924  0.085924  0.056891  ...  0.000000  0.085924  0.000000\n",
              "\n",
              "[5 rows x 30 columns]"
            ]
          },
          "metadata": {
            "tags": []
          },
          "execution_count": 47
        }
      ]
    },
    {
      "cell_type": "code",
      "metadata": {
        "id": "xBX3Y68o1vRG"
      },
      "source": [
        "df_actions.to_csv('df_actions.csv')"
      ],
      "execution_count": null,
      "outputs": []
    },
    {
      "cell_type": "markdown",
      "metadata": {
        "id": "qFO42LcomPUT"
      },
      "source": [
        "<a id='6'></a>\r\n",
        "# Part 7: Backtest Our Strategy\r\n",
        "Backtesting plays a key role in evaluating the performance of a trading strategy. Automated backtesting tool is preferred because it reduces the human error. We usually use the Quantopian pyfolio package to backtest our trading strategies. It is easy to use and consists of various individual plots that provide a comprehensive image of the performance of a trading strategy."
      ]
    },
    {
      "cell_type": "markdown",
      "metadata": {
        "id": "fAvxipWFmUe8"
      },
      "source": [
        "<a id='6.1'></a>\r\n",
        "## 7.1 BackTestStats\r\n",
        "pass in df_account_value, this information is stored in env class\r\n"
      ]
    },
    {
      "cell_type": "code",
      "metadata": {
        "id": "1oGu3PCa8l6L"
      },
      "source": [
        "from pyfolio import timeseries\n",
        "DRL_strat = backtest_strat(df_daily_return)\n",
        "perf_func = timeseries.perf_stats \n",
        "perf_stats_all = perf_func( returns=DRL_strat, \n",
        "                              factor_returns=DRL_strat, \n",
        "                                positions=None, transactions=None, turnover_denom=\"AGB\")"
      ],
      "execution_count": null,
      "outputs": []
    },
    {
      "cell_type": "code",
      "metadata": {
        "colab": {
          "base_uri": "https://localhost:8080/"
        },
        "id": "Hqvwr6SY8l9A",
        "outputId": "8bfeab44-e7e2-4d24-b604-308d912d1fb7"
      },
      "source": [
        "print(\"==============DRL Strategy Stats===========\")\r\n",
        "perf_stats_all"
      ],
      "execution_count": null,
      "outputs": [
        {
          "output_type": "stream",
          "text": [
            "==============DRL Strategy Stats===========\n"
          ],
          "name": "stdout"
        },
        {
          "output_type": "execute_result",
          "data": {
            "text/plain": [
              "Annual return           0.213403\n",
              "Cumulative returns      0.448803\n",
              "Annual volatility       0.293153\n",
              "Sharpe ratio            0.807029\n",
              "Calmar ratio            0.550554\n",
              "Stability               0.249091\n",
              "Max drawdown           -0.387614\n",
              "Omega ratio             1.190084\n",
              "Sortino ratio           1.139400\n",
              "Skew                   -0.242006\n",
              "Kurtosis               12.917566\n",
              "Tail ratio              0.868393\n",
              "Daily value at risk    -0.035995\n",
              "Alpha                   0.000000\n",
              "Beta                    1.000000\n",
              "dtype: float64"
            ]
          },
          "metadata": {
            "tags": []
          },
          "execution_count": 50
        }
      ]
    },
    {
      "cell_type": "code",
      "metadata": {
        "colab": {
          "base_uri": "https://localhost:8080/"
        },
        "id": "2fqSEF5PfjjT",
        "outputId": "598661e5-e199-4f51-ed87-7e30510044c9"
      },
      "source": [
        "print(\"==============Get Index Stats===========\")\r\n",
        "baesline_perf_stats=BaselineStats('^DJI',\r\n",
        "                                  baseline_start = '2019-01-01',\r\n",
        "                                  baseline_end = '2020-12-01')"
      ],
      "execution_count": null,
      "outputs": [
        {
          "output_type": "stream",
          "text": [
            "==============Get Index Stats===========\n",
            "\r[*********************100%***********************]  1 of 1 completed\n",
            "Shape of DataFrame:  (483, 7)\n",
            "Annual return          0.132593\n",
            "Cumulative returns     0.269525\n",
            "Annual volatility      0.280347\n",
            "Sharpe ratio           0.586312\n",
            "Calmar ratio           0.357526\n",
            "Stability              0.060828\n",
            "Max drawdown          -0.370862\n",
            "Omega ratio            1.137261\n",
            "Sortino ratio          0.807330\n",
            "Skew                        NaN\n",
            "Kurtosis                    NaN\n",
            "Tail ratio             0.844803\n",
            "Daily value at risk   -0.034668\n",
            "Alpha                  0.000000\n",
            "Beta                   1.000000\n",
            "dtype: float64\n"
          ],
          "name": "stdout"
        }
      ]
    },
    {
      "cell_type": "markdown",
      "metadata": {
        "id": "lVVCMVSAmcrI"
      },
      "source": [
        "<a id='6.2'></a>\r\n",
        "## 7.2 BackTestPlot"
      ]
    },
    {
      "cell_type": "code",
      "metadata": {
        "colab": {
          "base_uri": "https://localhost:8080/"
        },
        "id": "89oxLnMHyboh",
        "outputId": "10dc8efb-c99a-48d9-c7f9-fbd4c6bda0bb"
      },
      "source": [
        "dji, dow_strat = baseline_strat('^DJI','2019-01-01','2020-12-01')"
      ],
      "execution_count": null,
      "outputs": [
        {
          "output_type": "stream",
          "text": [
            "\r[*********************100%***********************]  1 of 1 completed\n",
            "Shape of DataFrame:  (483, 7)\n"
          ],
          "name": "stdout"
        }
      ]
    },
    {
      "cell_type": "code",
      "metadata": {
        "colab": {
          "base_uri": "https://localhost:8080/",
          "height": 1000
        },
        "id": "87xaEUFvyqe2",
        "outputId": "a5cb6a5b-3b00-47be-848d-d970522d2993"
      },
      "source": [
        "import pyfolio\n",
        "%matplotlib inline\n",
        "with pyfolio.plotting.plotting_context(font_scale=1.1):\n",
        "        pyfolio.create_full_tear_sheet(returns = DRL_strat,\n",
        "                                       benchmark_rets=dow_strat, set_context=False)\n",
        "\n"
      ],
      "execution_count": null,
      "outputs": [
        {
          "output_type": "display_data",
          "data": {
            "text/html": [
              "<table border=\"1\" class=\"dataframe\">\n",
              "  <thead>\n",
              "    <tr style=\"text-align: right;\"><th>Start date</th><td colspan=2>2019-01-02</td></tr>\n",
              "    <tr style=\"text-align: right;\"><th>End date</th><td colspan=2>2020-11-30</td></tr>\n",
              "    <tr style=\"text-align: right;\"><th>Total months</th><td colspan=2>23</td></tr>\n",
              "    <tr style=\"text-align: right;\">\n",
              "      <th></th>\n",
              "      <th>Backtest</th>\n",
              "    </tr>\n",
              "  </thead>\n",
              "  <tbody>\n",
              "    <tr>\n",
              "      <th>Annual return</th>\n",
              "      <td>21.34%</td>\n",
              "    </tr>\n",
              "    <tr>\n",
              "      <th>Cumulative returns</th>\n",
              "      <td>44.88%</td>\n",
              "    </tr>\n",
              "    <tr>\n",
              "      <th>Annual volatility</th>\n",
              "      <td>29.315%</td>\n",
              "    </tr>\n",
              "    <tr>\n",
              "      <th>Sharpe ratio</th>\n",
              "      <td>0.81</td>\n",
              "    </tr>\n",
              "    <tr>\n",
              "      <th>Calmar ratio</th>\n",
              "      <td>0.55</td>\n",
              "    </tr>\n",
              "    <tr>\n",
              "      <th>Stability</th>\n",
              "      <td>0.25</td>\n",
              "    </tr>\n",
              "    <tr>\n",
              "      <th>Max drawdown</th>\n",
              "      <td>-38.761%</td>\n",
              "    </tr>\n",
              "    <tr>\n",
              "      <th>Omega ratio</th>\n",
              "      <td>1.19</td>\n",
              "    </tr>\n",
              "    <tr>\n",
              "      <th>Sortino ratio</th>\n",
              "      <td>1.14</td>\n",
              "    </tr>\n",
              "    <tr>\n",
              "      <th>Skew</th>\n",
              "      <td>-0.24</td>\n",
              "    </tr>\n",
              "    <tr>\n",
              "      <th>Kurtosis</th>\n",
              "      <td>12.92</td>\n",
              "    </tr>\n",
              "    <tr>\n",
              "      <th>Tail ratio</th>\n",
              "      <td>0.87</td>\n",
              "    </tr>\n",
              "    <tr>\n",
              "      <th>Daily value at risk</th>\n",
              "      <td>-3.599%</td>\n",
              "    </tr>\n",
              "    <tr>\n",
              "      <th>Alpha</th>\n",
              "      <td>0.07</td>\n",
              "    </tr>\n",
              "    <tr>\n",
              "      <th>Beta</th>\n",
              "      <td>1.02</td>\n",
              "    </tr>\n",
              "  </tbody>\n",
              "</table>"
            ],
            "text/plain": [
              "<IPython.core.display.HTML object>"
            ]
          },
          "metadata": {
            "tags": []
          }
        },
        {
          "output_type": "display_data",
          "data": {
            "text/html": [
              "<table border=\"1\" class=\"dataframe\">\n",
              "  <thead>\n",
              "    <tr style=\"text-align: right;\">\n",
              "      <th>Worst drawdown periods</th>\n",
              "      <th>Net drawdown in %</th>\n",
              "      <th>Peak date</th>\n",
              "      <th>Valley date</th>\n",
              "      <th>Recovery date</th>\n",
              "      <th>Duration</th>\n",
              "    </tr>\n",
              "  </thead>\n",
              "  <tbody>\n",
              "    <tr>\n",
              "      <th>0</th>\n",
              "      <td>38.76</td>\n",
              "      <td>2020-02-12</td>\n",
              "      <td>2020-03-23</td>\n",
              "      <td>2020-09-01</td>\n",
              "      <td>145</td>\n",
              "    </tr>\n",
              "    <tr>\n",
              "      <th>1</th>\n",
              "      <td>8.70</td>\n",
              "      <td>2020-10-12</td>\n",
              "      <td>2020-10-28</td>\n",
              "      <td>2020-11-09</td>\n",
              "      <td>21</td>\n",
              "    </tr>\n",
              "    <tr>\n",
              "      <th>2</th>\n",
              "      <td>7.24</td>\n",
              "      <td>2019-07-29</td>\n",
              "      <td>2019-08-14</td>\n",
              "      <td>2019-09-12</td>\n",
              "      <td>34</td>\n",
              "    </tr>\n",
              "    <tr>\n",
              "      <th>3</th>\n",
              "      <td>6.91</td>\n",
              "      <td>2020-09-02</td>\n",
              "      <td>2020-09-23</td>\n",
              "      <td>2020-10-12</td>\n",
              "      <td>29</td>\n",
              "    </tr>\n",
              "    <tr>\n",
              "      <th>4</th>\n",
              "      <td>5.54</td>\n",
              "      <td>2019-04-30</td>\n",
              "      <td>2019-05-31</td>\n",
              "      <td>2019-06-07</td>\n",
              "      <td>29</td>\n",
              "    </tr>\n",
              "  </tbody>\n",
              "</table>"
            ],
            "text/plain": [
              "<IPython.core.display.HTML object>"
            ]
          },
          "metadata": {
            "tags": []
          }
        },
        {
          "output_type": "stream",
          "text": [
            "/usr/local/lib/python3.6/dist-packages/pyfolio/tears.py:907: UserWarning: Passed returns do not overlap with anyinteresting times.\n",
            "  'interesting times.', UserWarning)\n"
          ],
          "name": "stderr"
        },
        {
          "output_type": "display_data",
          "data": {
            "image/png": "[encoded data removed]",
            "text/plain": [
              "<Figure size 1008x5184 with 13 Axes>"
            ]
          },
          "metadata": {
            "tags": [],
            "needs_background": "light"
          }
        }
      ]
    },
    {
      "cell_type": "code",
      "metadata": {
        "id": "-2DgsIW-fh0s"
      },
      "source": [
        ""
      ],
      "execution_count": null,
      "outputs": []
    }
  ]
}