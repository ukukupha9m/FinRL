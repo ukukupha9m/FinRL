{
 "cells": [
  {
   "cell_type": "markdown",
   "metadata": {
    "colab_type": "text",
    "id": "view-in-github"
   },
   "source": [
    "<a href=\"https://colab.research.google.com/github/AI4Finance-Foundation/FinRL/blob/master/FinRL_StockTrading_NeurIPS_2018.ipynb\" target=\"_parent\"><img src=\"https://colab.research.google.com/assets/colab-badge.svg\" alt=\"Open In Colab\"/></a>"
   ]
  },
  {
   "cell_type": "markdown",
   "metadata": {
    "id": "gXaoZs2lh1hi"
   },
   "source": [
    "# Deep Reinforcement Learning for Stock Trading from Scratch: Multiple Stock Trading\n",
    "\n",
    "* **Pytorch Version** \n",
    "\n"
   ]
  },
  {
   "cell_type": "markdown",
   "metadata": {
    "id": "lGunVt8oLCVS"
   },
   "source": [
    "# Content"
   ]
  },
  {
   "cell_type": "markdown",
   "metadata": {
    "id": "HOzAKQ-SLGX6"
   },
   "source": [
    "* [1. Problem Definition](#0)\n",
    "* [2. Getting Started - Load Python packages](#1)\n",
    "    * [2.1. Install Packages](#1.1)    \n",
    "    * [2.2. Check Additional Packages](#1.2)\n",
    "    * [2.3. Import Packages](#1.3)\n",
    "    * [2.4. Create Folders](#1.4)\n",
    "* [3. Download Data](#2)\n",
    "* [4. Preprocess Data](#3)        \n",
    "    * [4.1. Technical Indicators](#3.1)\n",
    "    * [4.2. Perform Feature Engineering](#3.2)\n",
    "* [5.Build Environment](#4)  \n",
    "    * [5.1. Training & Trade Data Split](#4.1)\n",
    "    * [5.2. User-defined Environment](#4.2)   \n",
    "    * [5.3. Initialize Environment](#4.3)    \n",
    "* [6.Implement DRL Algorithms](#5)  \n",
    "* [7.Backtesting Performance](#6)  \n",
    "    * [7.1. BackTestStats](#6.1)\n",
    "    * [7.2. BackTestPlot](#6.2)   \n",
    "    * [7.3. Baseline Stats](#6.3)   \n",
    "    * [7.3. Compare to Stock Market Index](#6.4)   \n",
    "* [RLlib Section](#7)            "
   ]
  },
  {
   "cell_type": "markdown",
   "metadata": {
    "id": "sApkDlD9LIZv"
   },
   "source": [
    "<a id='0'></a>\n",
    "# Part 1. Problem Definition"
   ]
  },
  {
   "cell_type": "markdown",
   "metadata": {
    "id": "HjLD2TZSLKZ-"
   },
   "source": [
    "This problem is to design an automated trading solution for single stock trading. We model the stock trading process as a Markov Decision Process (MDP). We then formulate our trading goal as a maximization problem.\n",
    "\n",
    "The algorithm is trained using Deep Reinforcement Learning (DRL) algorithms and the components of the reinforcement learning environment are:\n",
    "\n",
    "\n",
    "* Action: The action space describes the allowed actions that the agent interacts with the\n",
    "environment. Normally, a ∈ A includes three actions: a ∈ {−1, 0, 1}, where −1, 0, 1 represent\n",
    "selling, holding, and buying one stock. Also, an action can be carried upon multiple shares. We use\n",
    "an action space {−k, ..., −1, 0, 1, ..., k}, where k denotes the number of shares. For example, \"Buy\n",
    "10 shares of AAPL\" or \"Sell 10 shares of AAPL\" are 10 or −10, respectively\n",
    "\n",
    "* Reward function: r(s, a, s′) is the incentive mechanism for an agent to learn a better action. The change of the portfolio value when action a is taken at state s and arriving at new state s',  i.e., r(s, a, s′) = v′ − v, where v′ and v represent the portfolio\n",
    "values at state s′ and s, respectively\n",
    "\n",
    "* State: The state space describes the observations that the agent receives from the environment. Just as a human trader needs to analyze various information before executing a trade, so\n",
    "our trading agent observes many different features to better learn in an interactive environment.\n",
    "\n",
    "* Environment: Dow 30 consituents\n",
    "\n",
    "\n",
    "The data of the single stock that we will be using for this case study is obtained from Yahoo Finance API. The data contains Open-High-Low-Close price and volume.\n"
   ]
  },
  {
   "cell_type": "markdown",
   "metadata": {
    "id": "Ffsre789LY08"
   },
   "source": [
    "<a id='1'></a>\n",
    "# Part 2. Getting Started- Load Python Packages"
   ]
  },
  {
   "cell_type": "markdown",
   "metadata": {
    "id": "Uy5_PTmOh1hj"
   },
   "source": [
    "<a id='1.1'></a>\n",
    "## 2.1. Install all the packages through FinRL library\n"
   ]
  },
  {
   "cell_type": "code",
   "execution_count": 3,
   "metadata": {
    "colab": {
     "base_uri": "https://localhost:8080/"
    },
    "id": "mPT0ipYE28wL",
    "outputId": "ced7e9cd-24c9-44e0-b64e-7e9a31fcfefe"
   },
   "outputs": [
    {
     "name": "stdout",
     "output_type": "stream",
     "text": [
      "Collecting git+https://github.com/AI4Finance-LLC/FinRL-Library.git\n",
      "  Cloning https://github.com/AI4Finance-LLC/FinRL-Library.git to /private/var/folders/6h/lpcm_n7d1hg47zhs852wxbt40000gn/T/pip-req-build-arl16zqe\n",
      "  Running command git clone --filter=blob:none -q https://github.com/AI4Finance-LLC/FinRL-Library.git /private/var/folders/6h/lpcm_n7d1hg47zhs852wxbt40000gn/T/pip-req-build-arl16zqe\n",
      "  Resolved https://github.com/AI4Finance-LLC/FinRL-Library.git to commit b4e528a722b9a1a94fc26dc4fb266f08c0b2a476\n",
      "  Preparing metadata (setup.py) ... \u001B[?25ldone\n",
      "\u001B[?25hCollecting pyfolio@ git+https://github.com/quantopian/pyfolio.git#egg=pyfolio-0.9.2\n",
      "  Cloning https://github.com/quantopian/pyfolio.git to /private/var/folders/6h/lpcm_n7d1hg47zhs852wxbt40000gn/T/pip-install-iqqzjqil/pyfolio_e00a2de83eff4e2c96bd6366ea9c30e8\n",
      "  Running command git clone --filter=blob:none -q https://github.com/quantopian/pyfolio.git /private/var/folders/6h/lpcm_n7d1hg47zhs852wxbt40000gn/T/pip-install-iqqzjqil/pyfolio_e00a2de83eff4e2c96bd6366ea9c30e8\n",
      "  Resolved https://github.com/quantopian/pyfolio.git to commit 4b901f6d73aa02ceb6d04b7d83502e5c6f2e81aa\n",
      "  Preparing metadata (setup.py) ... \u001B[?25ldone\n",
      "\u001B[?25hCollecting elegantrl@ git+https://github.com/AI4Finance-Foundation/ElegantRL.git#egg=elegantrl\n",
      "  Cloning https://github.com/AI4Finance-Foundation/ElegantRL.git to /private/var/folders/6h/lpcm_n7d1hg47zhs852wxbt40000gn/T/pip-install-iqqzjqil/elegantrl_e945859c86084544b4e072e047d47f50\n",
      "  Running command git clone --filter=blob:none -q https://github.com/AI4Finance-Foundation/ElegantRL.git /private/var/folders/6h/lpcm_n7d1hg47zhs852wxbt40000gn/T/pip-install-iqqzjqil/elegantrl_e945859c86084544b4e072e047d47f50\n",
      "  Resolved https://github.com/AI4Finance-Foundation/ElegantRL.git to commit e893773358e5e94fbb4a5641ac1adccf36a3606d\n",
      "  Preparing metadata (setup.py) ... \u001B[?25ldone\n",
      "\u001B[?25hRequirement already satisfied: numpy>=1.17.3 in /Users/mingzhu/opt/anaconda3/lib/python3.8/site-packages (from finrl==0.3.3) (1.19.5)\n",
      "Requirement already satisfied: pandas>=1.1.5 in /Users/mingzhu/opt/anaconda3/lib/python3.8/site-packages (from finrl==0.3.3) (1.1.5)\n",
      "Requirement already satisfied: stockstats in /Users/mingzhu/opt/anaconda3/lib/python3.8/site-packages (from finrl==0.3.3) (0.3.2)\n",
      "Requirement already satisfied: yfinance in /Users/mingzhu/opt/anaconda3/lib/python3.8/site-packages (from finrl==0.3.3) (0.1.64)\n",
      "Requirement already satisfied: elegantrl in /Users/mingzhu/opt/anaconda3/lib/python3.8/site-packages (from finrl==0.3.3) (0.3.1)\n",
      "Requirement already satisfied: matplotlib in /Users/mingzhu/opt/anaconda3/lib/python3.8/site-packages (from finrl==0.3.3) (3.3.2)\n",
      "Requirement already satisfied: scikit-learn>=0.21.0 in /Users/mingzhu/opt/anaconda3/lib/python3.8/site-packages (from finrl==0.3.3) (0.23.2)\n",
      "Requirement already satisfied: gym>=0.17 in /Users/mingzhu/opt/anaconda3/lib/python3.8/site-packages (from finrl==0.3.3) (0.18.0)\n",
      "Requirement already satisfied: stable-baselines3[extra] in /Users/mingzhu/opt/anaconda3/lib/python3.8/site-packages (from finrl==0.3.3) (1.2.0)\n",
      "Requirement already satisfied: ray[default] in /Users/mingzhu/opt/anaconda3/lib/python3.8/site-packages (from finrl==0.3.3) (1.6.0)\n",
      "Requirement already satisfied: lz4 in /Users/mingzhu/opt/anaconda3/lib/python3.8/site-packages (from finrl==0.3.3) (3.1.3)\n",
      "Requirement already satisfied: tensorboardX in /Users/mingzhu/opt/anaconda3/lib/python3.8/site-packages (from finrl==0.3.3) (2.4)\n",
      "Requirement already satisfied: gputil in /Users/mingzhu/opt/anaconda3/lib/python3.8/site-packages (from finrl==0.3.3) (1.4.0)\n",
      "Collecting exchange_calendars\n",
      "  Using cached exchange_calendars-3.4-py3-none-any.whl\n",
      "Requirement already satisfied: alpaca_trade_api in /Users/mingzhu/opt/anaconda3/lib/python3.8/site-packages (from finrl==0.3.3) (1.4.0)\n",
      "Requirement already satisfied: ccxt in /Users/mingzhu/opt/anaconda3/lib/python3.8/site-packages (from finrl==0.3.3) (1.57.36)\n",
      "Requirement already satisfied: jqdatasdk in /Users/mingzhu/opt/anaconda3/lib/python3.8/site-packages (from finrl==0.3.3) (1.8.9)\n",
      "Requirement already satisfied: wrds in /Users/mingzhu/opt/anaconda3/lib/python3.8/site-packages (from finrl==0.3.3) (3.1.1)\n",
      "Requirement already satisfied: pytest in /Users/mingzhu/opt/anaconda3/lib/python3.8/site-packages (from finrl==0.3.3) (0.0.0)\n",
      "Requirement already satisfied: setuptools>=41.4.0 in /Users/mingzhu/opt/anaconda3/lib/python3.8/site-packages (from finrl==0.3.3) (50.3.1.post20201107)\n",
      "Requirement already satisfied: wheel>=0.33.6 in /Users/mingzhu/.local/lib/python3.8/site-packages (from finrl==0.3.3) (0.36.2)\n",
      "Collecting pre-commit\n",
      "  Using cached pre_commit-2.16.0-py2.py3-none-any.whl (191 kB)\n",
      "Requirement already satisfied: cloudpickle<1.7.0,>=1.2.0 in /Users/mingzhu/opt/anaconda3/lib/python3.8/site-packages (from gym>=0.17->finrl==0.3.3) (1.6.0)\n",
      "Requirement already satisfied: Pillow<=7.2.0 in /Users/mingzhu/opt/anaconda3/lib/python3.8/site-packages (from gym>=0.17->finrl==0.3.3) (7.2.0)\n",
      "Requirement already satisfied: scipy in /Users/mingzhu/opt/anaconda3/lib/python3.8/site-packages (from gym>=0.17->finrl==0.3.3) (1.5.2)\n",
      "Requirement already satisfied: pyglet<=1.5.0,>=1.4.0 in /Users/mingzhu/opt/anaconda3/lib/python3.8/site-packages (from gym>=0.17->finrl==0.3.3) (1.5.0)\n",
      "Requirement already satisfied: pytz>=2017.2 in /Users/mingzhu/opt/anaconda3/lib/python3.8/site-packages (from pandas>=1.1.5->finrl==0.3.3) (2020.1)\n",
      "Requirement already satisfied: python-dateutil>=2.7.3 in /Users/mingzhu/opt/anaconda3/lib/python3.8/site-packages (from pandas>=1.1.5->finrl==0.3.3) (2.8.1)\n",
      "Requirement already satisfied: threadpoolctl>=2.0.0 in /Users/mingzhu/opt/anaconda3/lib/python3.8/site-packages (from scikit-learn>=0.21.0->finrl==0.3.3) (2.1.0)\n",
      "Requirement already satisfied: joblib>=0.11 in /Users/mingzhu/opt/anaconda3/lib/python3.8/site-packages (from scikit-learn>=0.21.0->finrl==0.3.3) (0.17.0)\n",
      "Requirement already satisfied: websocket-client<2,>=0.56.0 in /Users/mingzhu/opt/anaconda3/lib/python3.8/site-packages (from alpaca_trade_api->finrl==0.3.3) (1.2.1)\n",
      "Requirement already satisfied: aiohttp==3.7.4 in /Users/mingzhu/opt/anaconda3/lib/python3.8/site-packages (from alpaca_trade_api->finrl==0.3.3) (3.7.4)\n",
      "Requirement already satisfied: websockets<10,>=8.0 in /Users/mingzhu/opt/anaconda3/lib/python3.8/site-packages (from alpaca_trade_api->finrl==0.3.3) (9.1)\n",
      "Requirement already satisfied: requests<3,>2 in /Users/mingzhu/opt/anaconda3/lib/python3.8/site-packages (from alpaca_trade_api->finrl==0.3.3) (2.26.0)\n",
      "Requirement already satisfied: urllib3<2,>1.24 in /Users/mingzhu/opt/anaconda3/lib/python3.8/site-packages (from alpaca_trade_api->finrl==0.3.3) (1.25.11)\n",
      "Requirement already satisfied: msgpack==1.0.2 in /Users/mingzhu/opt/anaconda3/lib/python3.8/site-packages (from alpaca_trade_api->finrl==0.3.3) (1.0.2)\n",
      "Requirement already satisfied: PyYAML==5.4.1 in /Users/mingzhu/opt/anaconda3/lib/python3.8/site-packages (from alpaca_trade_api->finrl==0.3.3) (5.4.1)\n",
      "Requirement already satisfied: chardet<4.0,>=2.0 in /Users/mingzhu/opt/anaconda3/lib/python3.8/site-packages (from aiohttp==3.7.4->alpaca_trade_api->finrl==0.3.3) (3.0.4)\n",
      "Requirement already satisfied: multidict<7.0,>=4.5 in /Users/mingzhu/opt/anaconda3/lib/python3.8/site-packages (from aiohttp==3.7.4->alpaca_trade_api->finrl==0.3.3) (5.1.0)\n",
      "Requirement already satisfied: attrs>=17.3.0 in /Users/mingzhu/opt/anaconda3/lib/python3.8/site-packages (from aiohttp==3.7.4->alpaca_trade_api->finrl==0.3.3) (20.3.0)\n",
      "Requirement already satisfied: yarl<2.0,>=1.0 in /Users/mingzhu/opt/anaconda3/lib/python3.8/site-packages (from aiohttp==3.7.4->alpaca_trade_api->finrl==0.3.3) (1.6.3)\n",
      "Requirement already satisfied: typing-extensions>=3.6.5 in /Users/mingzhu/opt/anaconda3/lib/python3.8/site-packages (from aiohttp==3.7.4->alpaca_trade_api->finrl==0.3.3) (3.7.4.3)\n",
      "Requirement already satisfied: async-timeout<4.0,>=3.0 in /Users/mingzhu/opt/anaconda3/lib/python3.8/site-packages (from aiohttp==3.7.4->alpaca_trade_api->finrl==0.3.3) (3.0.1)\n",
      "Requirement already satisfied: cryptography>=2.6.1 in /Users/mingzhu/opt/anaconda3/lib/python3.8/site-packages (from ccxt->finrl==0.3.3) (3.1.1)\n",
      "Requirement already satisfied: certifi>=2018.1.18 in /Users/mingzhu/opt/anaconda3/lib/python3.8/site-packages (from ccxt->finrl==0.3.3) (2020.6.20)\n",
      "Requirement already satisfied: aiodns>=1.1.1 in /Users/mingzhu/opt/anaconda3/lib/python3.8/site-packages (from ccxt->finrl==0.3.3) (3.0.0)\n",
      "Requirement already satisfied: idna>=2.0 in /Users/mingzhu/opt/anaconda3/lib/python3.8/site-packages (from yarl<2.0,>=1.0->aiohttp==3.7.4->alpaca_trade_api->finrl==0.3.3) (2.10)\n",
      "Requirement already satisfied: pybullet in /Users/mingzhu/opt/anaconda3/lib/python3.8/site-packages (from elegantrl@ git+https://github.com/AI4Finance-Foundation/ElegantRL.git#egg=elegantrl->finrl==0.3.3) (3.1.7)\n",
      "Requirement already satisfied: torch in /Users/mingzhu/opt/anaconda3/lib/python3.8/site-packages (from elegantrl@ git+https://github.com/AI4Finance-Foundation/ElegantRL.git#egg=elegantrl->finrl==0.3.3) (1.8.1)\n",
      "Requirement already satisfied: opencv-python in /Users/mingzhu/opt/anaconda3/lib/python3.8/site-packages (from elegantrl@ git+https://github.com/AI4Finance-Foundation/ElegantRL.git#egg=elegantrl->finrl==0.3.3) (4.5.3.56)\n"
     ]
    },
    {
     "name": "stdout",
     "output_type": "stream",
     "text": [
      "Collecting box2d-py\n",
      "  Using cached box2d-py-2.3.8.tar.gz (374 kB)\n",
      "  Preparing metadata (setup.py) ... \u001B[?25ldone\n",
      "\u001B[?25hRequirement already satisfied: korean-lunar-calendar in /Users/mingzhu/opt/anaconda3/lib/python3.8/site-packages (from exchange_calendars->finrl==0.3.3) (0.2.1)\n",
      "Requirement already satisfied: pyluach in /Users/mingzhu/opt/anaconda3/lib/python3.8/site-packages (from exchange_calendars->finrl==0.3.3) (1.3.0)\n",
      "Requirement already satisfied: toolz in /Users/mingzhu/opt/anaconda3/lib/python3.8/site-packages (from exchange_calendars->finrl==0.3.3) (0.11.1)\n",
      "Requirement already satisfied: thriftpy2>=0.3.9 in /Users/mingzhu/opt/anaconda3/lib/python3.8/site-packages (from jqdatasdk->finrl==0.3.3) (0.4.14)\n",
      "Requirement already satisfied: SQLAlchemy>=1.2.8 in /Users/mingzhu/opt/anaconda3/lib/python3.8/site-packages (from jqdatasdk->finrl==0.3.3) (1.3.20)\n",
      "Requirement already satisfied: six in /Users/mingzhu/opt/anaconda3/lib/python3.8/site-packages (from jqdatasdk->finrl==0.3.3) (1.15.0)\n",
      "Requirement already satisfied: pymysql>=0.7.6 in /Users/mingzhu/opt/anaconda3/lib/python3.8/site-packages (from jqdatasdk->finrl==0.3.3) (1.0.2)\n",
      "Requirement already satisfied: pyparsing!=2.0.4,!=2.1.2,!=2.1.6,>=2.0.3 in /Users/mingzhu/opt/anaconda3/lib/python3.8/site-packages (from matplotlib->finrl==0.3.3) (2.4.7)\n",
      "Requirement already satisfied: kiwisolver>=1.0.1 in /Users/mingzhu/opt/anaconda3/lib/python3.8/site-packages (from matplotlib->finrl==0.3.3) (1.3.0)\n",
      "Requirement already satisfied: cycler>=0.10 in /Users/mingzhu/opt/anaconda3/lib/python3.8/site-packages (from matplotlib->finrl==0.3.3) (0.10.0)\n",
      "Requirement already satisfied: toml in /Users/mingzhu/opt/anaconda3/lib/python3.8/site-packages (from pre-commit->finrl==0.3.3) (0.10.1)\n",
      "Requirement already satisfied: nodeenv>=0.11.1 in /Users/mingzhu/opt/anaconda3/lib/python3.8/site-packages (from pre-commit->finrl==0.3.3) (1.6.0)\n",
      "Requirement already satisfied: virtualenv>=20.0.8 in /Users/mingzhu/opt/anaconda3/lib/python3.8/site-packages (from pre-commit->finrl==0.3.3) (20.9.0)\n",
      "Requirement already satisfied: cfgv>=2.0.0 in /Users/mingzhu/opt/anaconda3/lib/python3.8/site-packages (from pre-commit->finrl==0.3.3) (3.3.1)\n",
      "Requirement already satisfied: identify>=1.0.0 in /Users/mingzhu/opt/anaconda3/lib/python3.8/site-packages (from pre-commit->finrl==0.3.3) (2.3.1)\n",
      "Requirement already satisfied: ipython>=3.2.3 in /Users/mingzhu/opt/anaconda3/lib/python3.8/site-packages (from pyfolio@ git+https://github.com/quantopian/pyfolio.git#egg=pyfolio-0.9.2->finrl==0.3.3) (7.19.0)\n",
      "Requirement already satisfied: seaborn>=0.7.1 in /Users/mingzhu/opt/anaconda3/lib/python3.8/site-packages (from pyfolio@ git+https://github.com/quantopian/pyfolio.git#egg=pyfolio-0.9.2->finrl==0.3.3) (0.11.0)\n",
      "Requirement already satisfied: empyrical>=0.5.0 in /Users/mingzhu/opt/anaconda3/lib/python3.8/site-packages (from pyfolio@ git+https://github.com/quantopian/pyfolio.git#egg=pyfolio-0.9.2->finrl==0.3.3) (0.5.5)\n",
      "Requirement already satisfied: iniconfig in /Users/mingzhu/opt/anaconda3/lib/python3.8/site-packages (from pytest->finrl==0.3.3) (1.1.1)\n",
      "Requirement already satisfied: packaging in /Users/mingzhu/opt/anaconda3/lib/python3.8/site-packages (from pytest->finrl==0.3.3) (20.4)\n",
      "Requirement already satisfied: pluggy<1.0,>=0.12 in /Users/mingzhu/opt/anaconda3/lib/python3.8/site-packages (from pytest->finrl==0.3.3) (0.13.1)\n",
      "Requirement already satisfied: py>=1.8.2 in /Users/mingzhu/opt/anaconda3/lib/python3.8/site-packages (from pytest->finrl==0.3.3) (1.9.0)\n",
      "Requirement already satisfied: protobuf>=3.15.3 in /Users/mingzhu/opt/anaconda3/lib/python3.8/site-packages (from ray[default]->finrl==0.3.3) (3.17.3)\n",
      "Requirement already satisfied: grpcio>=1.28.1 in /Users/mingzhu/opt/anaconda3/lib/python3.8/site-packages (from ray[default]->finrl==0.3.3) (1.39.0)\n",
      "Requirement already satisfied: redis>=3.5.0 in /Users/mingzhu/opt/anaconda3/lib/python3.8/site-packages (from ray[default]->finrl==0.3.3) (3.5.3)\n",
      "Requirement already satisfied: click>=7.0 in /Users/mingzhu/opt/anaconda3/lib/python3.8/site-packages (from ray[default]->finrl==0.3.3) (7.1.2)\n",
      "Requirement already satisfied: filelock in /Users/mingzhu/opt/anaconda3/lib/python3.8/site-packages (from ray[default]->finrl==0.3.3) (3.3.2)\n",
      "Requirement already satisfied: colorful in /Users/mingzhu/opt/anaconda3/lib/python3.8/site-packages (from ray[default]->finrl==0.3.3) (0.5.4)\n",
      "Requirement already satisfied: prometheus-client>=0.7.1 in /Users/mingzhu/opt/anaconda3/lib/python3.8/site-packages (from ray[default]->finrl==0.3.3) (0.8.0)\n",
      "Collecting aioredis<2\n",
      "  Using cached aioredis-1.3.1-py3-none-any.whl (65 kB)\n",
      "Requirement already satisfied: py-spy>=0.2.0 in /Users/mingzhu/opt/anaconda3/lib/python3.8/site-packages (from ray[default]->finrl==0.3.3) (0.3.10)\n",
      "Requirement already satisfied: gpustat in /Users/mingzhu/opt/anaconda3/lib/python3.8/site-packages (from ray[default]->finrl==0.3.3) (0.6.0)\n",
      "Collecting aiohttp-cors\n",
      "  Using cached aiohttp_cors-0.7.0-py3-none-any.whl (27 kB)\n",
      "Requirement already satisfied: opencensus in /Users/mingzhu/opt/anaconda3/lib/python3.8/site-packages (from ray[default]->finrl==0.3.3) (0.8.0)\n",
      "Requirement already satisfied: jsonschema in /Users/mingzhu/opt/anaconda3/lib/python3.8/site-packages (from ray[default]->finrl==0.3.3) (3.2.0)\n",
      "Requirement already satisfied: tabulate in /Users/mingzhu/opt/anaconda3/lib/python3.8/site-packages (from ray[default]->finrl==0.3.3) (0.8.9)\n",
      "Requirement already satisfied: tensorboard>=2.2.0 in /Users/mingzhu/opt/anaconda3/lib/python3.8/site-packages (from stable-baselines3[extra]->finrl==0.3.3) (2.6.0)\n",
      "Collecting atari-py~=0.2.0\n",
      "  Using cached atari_py-0.2.9-cp38-cp38-macosx_10_12_x86_64.whl (2.4 MB)\n",
      "Requirement already satisfied: psutil in /Users/mingzhu/opt/anaconda3/lib/python3.8/site-packages (from stable-baselines3[extra]->finrl==0.3.3) (5.7.2)\n",
      "Requirement already satisfied: int-date>=0.1.7 in /Users/mingzhu/opt/anaconda3/lib/python3.8/site-packages (from stockstats->finrl==0.3.3) (0.1.8)\n",
      "Requirement already satisfied: psycopg2-binary in /Users/mingzhu/opt/anaconda3/lib/python3.8/site-packages (from wrds->finrl==0.3.3) (2.9.1)\n",
      "Requirement already satisfied: mock in /Users/mingzhu/opt/anaconda3/lib/python3.8/site-packages (from wrds->finrl==0.3.3) (4.0.2)\n",
      "Requirement already satisfied: lxml>=4.5.1 in /Users/mingzhu/opt/anaconda3/lib/python3.8/site-packages (from yfinance->finrl==0.3.3) (4.6.1)\n",
      "Requirement already satisfied: multitasking>=0.0.7 in /Users/mingzhu/opt/anaconda3/lib/python3.8/site-packages (from yfinance->finrl==0.3.3) (0.0.9)\n",
      "Requirement already satisfied: pycares>=4.0.0 in /Users/mingzhu/opt/anaconda3/lib/python3.8/site-packages (from aiodns>=1.1.1->ccxt->finrl==0.3.3) (4.0.0)\n",
      "Requirement already satisfied: hiredis in /Users/mingzhu/opt/anaconda3/lib/python3.8/site-packages (from aioredis<2->ray[default]->finrl==0.3.3) (2.0.0)\n",
      "Requirement already satisfied: cffi!=1.11.3,>=1.8 in /Users/mingzhu/opt/anaconda3/lib/python3.8/site-packages (from cryptography>=2.6.1->ccxt->finrl==0.3.3) (1.14.3)\n",
      "Requirement already satisfied: pandas-datareader>=0.2 in /Users/mingzhu/opt/anaconda3/lib/python3.8/site-packages (from empyrical>=0.5.0->pyfolio@ git+https://github.com/quantopian/pyfolio.git#egg=pyfolio-0.9.2->finrl==0.3.3) (0.10.0)\n",
      "Requirement already satisfied: pygments in /Users/mingzhu/opt/anaconda3/lib/python3.8/site-packages (from ipython>=3.2.3->pyfolio@ git+https://github.com/quantopian/pyfolio.git#egg=pyfolio-0.9.2->finrl==0.3.3) (2.7.2)\n",
      "Requirement already satisfied: appnope in /Users/mingzhu/opt/anaconda3/lib/python3.8/site-packages (from ipython>=3.2.3->pyfolio@ git+https://github.com/quantopian/pyfolio.git#egg=pyfolio-0.9.2->finrl==0.3.3) (0.1.0)\n",
      "Requirement already satisfied: pickleshare in /Users/mingzhu/opt/anaconda3/lib/python3.8/site-packages (from ipython>=3.2.3->pyfolio@ git+https://github.com/quantopian/pyfolio.git#egg=pyfolio-0.9.2->finrl==0.3.3) (0.7.5)\n",
      "Requirement already satisfied: prompt-toolkit!=3.0.0,!=3.0.1,<3.1.0,>=2.0.0 in /Users/mingzhu/opt/anaconda3/lib/python3.8/site-packages (from ipython>=3.2.3->pyfolio@ git+https://github.com/quantopian/pyfolio.git#egg=pyfolio-0.9.2->finrl==0.3.3) (3.0.8)\n",
      "Requirement already satisfied: traitlets>=4.2 in /Users/mingzhu/opt/anaconda3/lib/python3.8/site-packages (from ipython>=3.2.3->pyfolio@ git+https://github.com/quantopian/pyfolio.git#egg=pyfolio-0.9.2->finrl==0.3.3) (5.0.5)\n",
      "Requirement already satisfied: backcall in /Users/mingzhu/opt/anaconda3/lib/python3.8/site-packages (from ipython>=3.2.3->pyfolio@ git+https://github.com/quantopian/pyfolio.git#egg=pyfolio-0.9.2->finrl==0.3.3) (0.2.0)\n",
      "Requirement already satisfied: decorator in /Users/mingzhu/opt/anaconda3/lib/python3.8/site-packages (from ipython>=3.2.3->pyfolio@ git+https://github.com/quantopian/pyfolio.git#egg=pyfolio-0.9.2->finrl==0.3.3) (4.4.2)\n",
      "Requirement already satisfied: pexpect>4.3 in /Users/mingzhu/opt/anaconda3/lib/python3.8/site-packages (from ipython>=3.2.3->pyfolio@ git+https://github.com/quantopian/pyfolio.git#egg=pyfolio-0.9.2->finrl==0.3.3) (4.8.0)\n",
      "Requirement already satisfied: jedi>=0.10 in /Users/mingzhu/opt/anaconda3/lib/python3.8/site-packages (from ipython>=3.2.3->pyfolio@ git+https://github.com/quantopian/pyfolio.git#egg=pyfolio-0.9.2->finrl==0.3.3) (0.17.1)\n"
     ]
    },
    {
     "name": "stdout",
     "output_type": "stream",
     "text": [
      "Requirement already satisfied: future in /Users/mingzhu/opt/anaconda3/lib/python3.8/site-packages (from pyglet<=1.5.0,>=1.4.0->gym>=0.17->finrl==0.3.3) (0.18.2)\n",
      "Requirement already satisfied: charset-normalizer~=2.0.0 in /Users/mingzhu/opt/anaconda3/lib/python3.8/site-packages (from requests<3,>2->alpaca_trade_api->finrl==0.3.3) (2.0.4)\n",
      "Requirement already satisfied: absl-py>=0.4 in /Users/mingzhu/opt/anaconda3/lib/python3.8/site-packages (from tensorboard>=2.2.0->stable-baselines3[extra]->finrl==0.3.3) (0.13.0)\n",
      "Requirement already satisfied: google-auth-oauthlib<0.5,>=0.4.1 in /Users/mingzhu/opt/anaconda3/lib/python3.8/site-packages (from tensorboard>=2.2.0->stable-baselines3[extra]->finrl==0.3.3) (0.4.5)\n",
      "Requirement already satisfied: werkzeug>=0.11.15 in /Users/mingzhu/opt/anaconda3/lib/python3.8/site-packages (from tensorboard>=2.2.0->stable-baselines3[extra]->finrl==0.3.3) (1.0.1)\n",
      "Requirement already satisfied: tensorboard-data-server<0.7.0,>=0.6.0 in /Users/mingzhu/opt/anaconda3/lib/python3.8/site-packages (from tensorboard>=2.2.0->stable-baselines3[extra]->finrl==0.3.3) (0.6.1)\n",
      "Requirement already satisfied: markdown>=2.6.8 in /Users/mingzhu/opt/anaconda3/lib/python3.8/site-packages (from tensorboard>=2.2.0->stable-baselines3[extra]->finrl==0.3.3) (3.3.4)\n",
      "Requirement already satisfied: google-auth<2,>=1.6.3 in /Users/mingzhu/opt/anaconda3/lib/python3.8/site-packages (from tensorboard>=2.2.0->stable-baselines3[extra]->finrl==0.3.3) (1.35.0)\n",
      "Requirement already satisfied: tensorboard-plugin-wit>=1.6.0 in /Users/mingzhu/opt/anaconda3/lib/python3.8/site-packages (from tensorboard>=2.2.0->stable-baselines3[extra]->finrl==0.3.3) (1.8.0)\n",
      "Requirement already satisfied: ply<4.0,>=3.4 in /Users/mingzhu/opt/anaconda3/lib/python3.8/site-packages (from thriftpy2>=0.3.9->jqdatasdk->finrl==0.3.3) (3.11)\n",
      "Requirement already satisfied: backports.entry-points-selectable>=1.0.4 in /Users/mingzhu/opt/anaconda3/lib/python3.8/site-packages (from virtualenv>=20.0.8->pre-commit->finrl==0.3.3) (1.1.0)\n",
      "Requirement already satisfied: distlib<1,>=0.3.1 in /Users/mingzhu/opt/anaconda3/lib/python3.8/site-packages (from virtualenv>=20.0.8->pre-commit->finrl==0.3.3) (0.3.3)\n",
      "Requirement already satisfied: platformdirs<3,>=2 in /Users/mingzhu/opt/anaconda3/lib/python3.8/site-packages (from virtualenv>=20.0.8->pre-commit->finrl==0.3.3) (2.4.0)\n",
      "Requirement already satisfied: nvidia-ml-py3>=7.352.0 in /Users/mingzhu/opt/anaconda3/lib/python3.8/site-packages (from gpustat->ray[default]->finrl==0.3.3) (7.352.0)\n",
      "Requirement already satisfied: blessings>=1.6 in /Users/mingzhu/opt/anaconda3/lib/python3.8/site-packages (from gpustat->ray[default]->finrl==0.3.3) (1.7)\n",
      "Requirement already satisfied: pyrsistent>=0.14.0 in /Users/mingzhu/opt/anaconda3/lib/python3.8/site-packages (from jsonschema->ray[default]->finrl==0.3.3) (0.17.3)\n",
      "Requirement already satisfied: opencensus-context==0.1.2 in /Users/mingzhu/opt/anaconda3/lib/python3.8/site-packages (from opencensus->ray[default]->finrl==0.3.3) (0.1.2)\n",
      "Requirement already satisfied: google-api-core<3.0.0,>=1.0.0 in /Users/mingzhu/opt/anaconda3/lib/python3.8/site-packages (from opencensus->ray[default]->finrl==0.3.3) (2.2.1)\n",
      "Requirement already satisfied: pycparser in /Users/mingzhu/opt/anaconda3/lib/python3.8/site-packages (from cffi!=1.11.3,>=1.8->cryptography>=2.6.1->ccxt->finrl==0.3.3) (2.20)\n",
      "Requirement already satisfied: googleapis-common-protos<2.0dev,>=1.52.0 in /Users/mingzhu/opt/anaconda3/lib/python3.8/site-packages (from google-api-core<3.0.0,>=1.0.0->opencensus->ray[default]->finrl==0.3.3) (1.53.0)\n",
      "Requirement already satisfied: rsa<5,>=3.1.4 in /Users/mingzhu/opt/anaconda3/lib/python3.8/site-packages (from google-auth<2,>=1.6.3->tensorboard>=2.2.0->stable-baselines3[extra]->finrl==0.3.3) (4.7.2)\n",
      "Requirement already satisfied: pyasn1-modules>=0.2.1 in /Users/mingzhu/opt/anaconda3/lib/python3.8/site-packages (from google-auth<2,>=1.6.3->tensorboard>=2.2.0->stable-baselines3[extra]->finrl==0.3.3) (0.2.8)\n",
      "Requirement already satisfied: cachetools<5.0,>=2.0.0 in /Users/mingzhu/opt/anaconda3/lib/python3.8/site-packages (from google-auth<2,>=1.6.3->tensorboard>=2.2.0->stable-baselines3[extra]->finrl==0.3.3) (4.2.2)\n",
      "Requirement already satisfied: requests-oauthlib>=0.7.0 in /Users/mingzhu/opt/anaconda3/lib/python3.8/site-packages (from google-auth-oauthlib<0.5,>=0.4.1->tensorboard>=2.2.0->stable-baselines3[extra]->finrl==0.3.3) (1.3.0)\n",
      "Requirement already satisfied: parso<0.8.0,>=0.7.0 in /Users/mingzhu/opt/anaconda3/lib/python3.8/site-packages (from jedi>=0.10->ipython>=3.2.3->pyfolio@ git+https://github.com/quantopian/pyfolio.git#egg=pyfolio-0.9.2->finrl==0.3.3) (0.7.0)\n",
      "Requirement already satisfied: ptyprocess>=0.5 in /Users/mingzhu/opt/anaconda3/lib/python3.8/site-packages (from pexpect>4.3->ipython>=3.2.3->pyfolio@ git+https://github.com/quantopian/pyfolio.git#egg=pyfolio-0.9.2->finrl==0.3.3) (0.6.0)\n",
      "Requirement already satisfied: wcwidth in /Users/mingzhu/opt/anaconda3/lib/python3.8/site-packages (from prompt-toolkit!=3.0.0,!=3.0.1,<3.1.0,>=2.0.0->ipython>=3.2.3->pyfolio@ git+https://github.com/quantopian/pyfolio.git#egg=pyfolio-0.9.2->finrl==0.3.3) (0.2.5)\n",
      "Requirement already satisfied: ipython-genutils in /Users/mingzhu/opt/anaconda3/lib/python3.8/site-packages (from traitlets>=4.2->ipython>=3.2.3->pyfolio@ git+https://github.com/quantopian/pyfolio.git#egg=pyfolio-0.9.2->finrl==0.3.3) (0.2.0)\n",
      "Requirement already satisfied: pyasn1<0.5.0,>=0.4.6 in /Users/mingzhu/opt/anaconda3/lib/python3.8/site-packages (from pyasn1-modules>=0.2.1->google-auth<2,>=1.6.3->tensorboard>=2.2.0->stable-baselines3[extra]->finrl==0.3.3) (0.4.8)\n",
      "Requirement already satisfied: oauthlib>=3.0.0 in /Users/mingzhu/opt/anaconda3/lib/python3.8/site-packages (from requests-oauthlib>=0.7.0->google-auth-oauthlib<0.5,>=0.4.1->tensorboard>=2.2.0->stable-baselines3[extra]->finrl==0.3.3) (3.1.1)\n",
      "Building wheels for collected packages: finrl, elegantrl, pyfolio, box2d-py\n",
      "  Building wheel for finrl (setup.py) ... \u001B[?25ldone\n",
      "\u001B[?25h  Created wheel for finrl: filename=finrl-0.3.3-py3-none-any.whl size=78160 sha256=77c89de97a587c5dc00502a226ac9693a848110e71f1e316a9806a645d432446\n",
      "  Stored in directory: /private/var/folders/6h/lpcm_n7d1hg47zhs852wxbt40000gn/T/pip-ephem-wheel-cache-uqha5ogp/wheels/e8/19/74/11261997d6bdca44ba73e8eeedb94a3e3d340259516a0887eb\n",
      "  Building wheel for elegantrl (setup.py) ... \u001B[?25ldone\n",
      "\u001B[?25h  Created wheel for elegantrl: filename=elegantrl-0.3.2-py3-none-any.whl size=124683 sha256=0d4768cb5c3a47545cc28c808a59ae70063734dd848ba4a1dc2a2ee4a7e898dd\n",
      "  Stored in directory: /private/var/folders/6h/lpcm_n7d1hg47zhs852wxbt40000gn/T/pip-ephem-wheel-cache-uqha5ogp/wheels/d6/fb/88/7d5e5490b35f78191267fee312ce81baac55c6b9d89151e72a\n",
      "  Building wheel for pyfolio (setup.py) ... \u001B[?25ldone\n",
      "\u001B[?25h  Created wheel for pyfolio: filename=pyfolio-0.9.2+75.g4b901f6-py3-none-any.whl size=75762 sha256=7f1c05cc3c67e5ce1615dfea9e94b4be594c66a241c2607c75ded047882cd22c\n",
      "  Stored in directory: /private/var/folders/6h/lpcm_n7d1hg47zhs852wxbt40000gn/T/pip-ephem-wheel-cache-uqha5ogp/wheels/7b/59/8b/3c276a18b58c04a1fd0e1351e979fb5396f93fbde5b5438df1\n",
      "  Building wheel for box2d-py (setup.py) ... \u001B[?25lerror\n",
      "\u001B[31m  ERROR: Command errored out with exit status 1:\n",
      "   command: /Users/mingzhu/opt/anaconda3/bin/python -u -c 'import io, os, sys, setuptools, tokenize; sys.argv[0] = '\"'\"'/private/var/folders/6h/lpcm_n7d1hg47zhs852wxbt40000gn/T/pip-install-iqqzjqil/box2d-py_9928449f60f14acfaba44ff1c852fe8a/setup.py'\"'\"'; __file__='\"'\"'/private/var/folders/6h/lpcm_n7d1hg47zhs852wxbt40000gn/T/pip-install-iqqzjqil/box2d-py_9928449f60f14acfaba44ff1c852fe8a/setup.py'\"'\"';f = getattr(tokenize, '\"'\"'open'\"'\"', open)(__file__) if os.path.exists(__file__) else io.StringIO('\"'\"'from setuptools import setup; setup()'\"'\"');code = f.read().replace('\"'\"'\\r\\n'\"'\"', '\"'\"'\\n'\"'\"');f.close();exec(compile(code, __file__, '\"'\"'exec'\"'\"'))' bdist_wheel -d /private/var/folders/6h/lpcm_n7d1hg47zhs852wxbt40000gn/T/pip-wheel-xulw0xxk\n",
      "       cwd: /private/var/folders/6h/lpcm_n7d1hg47zhs852wxbt40000gn/T/pip-install-iqqzjqil/box2d-py_9928449f60f14acfaba44ff1c852fe8a/\n",
      "  Complete output (17 lines):\n",
      "  Using setuptools (version 50.3.1.post20201107).\n",
      "  running bdist_wheel\n",
      "  running build\n",
      "  running build_py\n",
      "  creating build\n",
      "  creating build/lib.macosx-10.9-x86_64-3.8\n",
      "  creating build/lib.macosx-10.9-x86_64-3.8/Box2D\n",
      "  copying library/Box2D/Box2D.py -> build/lib.macosx-10.9-x86_64-3.8/Box2D\n",
      "  copying library/Box2D/__init__.py -> build/lib.macosx-10.9-x86_64-3.8/Box2D\n",
      "  creating build/lib.macosx-10.9-x86_64-3.8/Box2D/b2\n",
      "  copying library/Box2D/b2/__init__.py -> build/lib.macosx-10.9-x86_64-3.8/Box2D/b2\n",
      "  running build_ext\n",
      "  building 'Box2D._Box2D' extension\n",
      "  swigging Box2D/Box2D.i to Box2D/Box2D_wrap.cpp\n",
      "  swig -python -c++ -IBox2D -small -O -includeall -ignoremissing -w201 -globals b2Globals -outdir library/Box2D -keyword -w511 -D_SWIG_KWARGS -o Box2D/Box2D_wrap.cpp Box2D/Box2D.i\n",
      "  unable to execute 'swig': No such file or directory\n",
      "  error: command 'swig' failed with exit status 1\n",
      "  ----------------------------------------\u001B[0m\n",
      "\u001B[31m  ERROR: Failed building wheel for box2d-py\u001B[0m\n",
      "\u001B[?25h  Running setup.py clean for box2d-py\n"
     ]
    },
    {
     "name": "stdout",
     "output_type": "stream",
     "text": [
      "Successfully built finrl elegantrl pyfolio\n",
      "Failed to build box2d-py\n",
      "Installing collected packages: box2d-py, atari-py, aioredis, aiohttp-cors, pyfolio, pre-commit, exchange-calendars, elegantrl, finrl\n",
      "    Running setup.py install for box2d-py ... \u001B[?25lerror\n",
      "\u001B[31m    ERROR: Command errored out with exit status 1:\n",
      "     command: /Users/mingzhu/opt/anaconda3/bin/python -u -c 'import io, os, sys, setuptools, tokenize; sys.argv[0] = '\"'\"'/private/var/folders/6h/lpcm_n7d1hg47zhs852wxbt40000gn/T/pip-install-iqqzjqil/box2d-py_9928449f60f14acfaba44ff1c852fe8a/setup.py'\"'\"'; __file__='\"'\"'/private/var/folders/6h/lpcm_n7d1hg47zhs852wxbt40000gn/T/pip-install-iqqzjqil/box2d-py_9928449f60f14acfaba44ff1c852fe8a/setup.py'\"'\"';f = getattr(tokenize, '\"'\"'open'\"'\"', open)(__file__) if os.path.exists(__file__) else io.StringIO('\"'\"'from setuptools import setup; setup()'\"'\"');code = f.read().replace('\"'\"'\\r\\n'\"'\"', '\"'\"'\\n'\"'\"');f.close();exec(compile(code, __file__, '\"'\"'exec'\"'\"'))' install --record /private/var/folders/6h/lpcm_n7d1hg47zhs852wxbt40000gn/T/pip-record-5w1qw9p4/install-record.txt --single-version-externally-managed --compile --install-headers /Users/mingzhu/opt/anaconda3/include/python3.8/box2d-py\n",
      "         cwd: /private/var/folders/6h/lpcm_n7d1hg47zhs852wxbt40000gn/T/pip-install-iqqzjqil/box2d-py_9928449f60f14acfaba44ff1c852fe8a/\n",
      "    Complete output (17 lines):\n",
      "    Using setuptools (version 50.3.1.post20201107).\n",
      "    running install\n",
      "    running build\n",
      "    running build_py\n",
      "    creating build\n",
      "    creating build/lib.macosx-10.9-x86_64-3.8\n",
      "    creating build/lib.macosx-10.9-x86_64-3.8/Box2D\n",
      "    copying library/Box2D/Box2D.py -> build/lib.macosx-10.9-x86_64-3.8/Box2D\n",
      "    copying library/Box2D/__init__.py -> build/lib.macosx-10.9-x86_64-3.8/Box2D\n",
      "    creating build/lib.macosx-10.9-x86_64-3.8/Box2D/b2\n",
      "    copying library/Box2D/b2/__init__.py -> build/lib.macosx-10.9-x86_64-3.8/Box2D/b2\n",
      "    running build_ext\n",
      "    building 'Box2D._Box2D' extension\n",
      "    swigging Box2D/Box2D.i to Box2D/Box2D_wrap.cpp\n",
      "    swig -python -c++ -IBox2D -small -O -includeall -ignoremissing -w201 -globals b2Globals -outdir library/Box2D -keyword -w511 -D_SWIG_KWARGS -o Box2D/Box2D_wrap.cpp Box2D/Box2D.i\n",
      "    unable to execute 'swig': No such file or directory\n",
      "    error: command 'swig' failed with exit status 1\n",
      "    ----------------------------------------\u001B[0m\n",
      "\u001B[31mERROR: Command errored out with exit status 1: /Users/mingzhu/opt/anaconda3/bin/python -u -c 'import io, os, sys, setuptools, tokenize; sys.argv[0] = '\"'\"'/private/var/folders/6h/lpcm_n7d1hg47zhs852wxbt40000gn/T/pip-install-iqqzjqil/box2d-py_9928449f60f14acfaba44ff1c852fe8a/setup.py'\"'\"'; __file__='\"'\"'/private/var/folders/6h/lpcm_n7d1hg47zhs852wxbt40000gn/T/pip-install-iqqzjqil/box2d-py_9928449f60f14acfaba44ff1c852fe8a/setup.py'\"'\"';f = getattr(tokenize, '\"'\"'open'\"'\"', open)(__file__) if os.path.exists(__file__) else io.StringIO('\"'\"'from setuptools import setup; setup()'\"'\"');code = f.read().replace('\"'\"'\\r\\n'\"'\"', '\"'\"'\\n'\"'\"');f.close();exec(compile(code, __file__, '\"'\"'exec'\"'\"'))' install --record /private/var/folders/6h/lpcm_n7d1hg47zhs852wxbt40000gn/T/pip-record-5w1qw9p4/install-record.txt --single-version-externally-managed --compile --install-headers /Users/mingzhu/opt/anaconda3/include/python3.8/box2d-py Check the logs for full command output.\u001B[0m\n",
      "\u001B[?25h"
     ]
    }
   ],
   "source": [
    "## install finrl library\n",
    "!pip install git+https://github.com/AI4Finance-LLC/FinRL-Library.git"
   ]
  },
  {
   "cell_type": "code",
   "execution_count": 4,
   "metadata": {
    "id": "w9A8CN5R5PuZ"
   },
   "outputs": [
    {
     "ename": "NameError",
     "evalue": "name 'config' is not defined",
     "output_type": "error",
     "traceback": [
      "\u001B[0;31m---------------------------------------------------------------------------\u001B[0m",
      "\u001B[0;31mNameError\u001B[0m                                 Traceback (most recent call last)",
      "\u001B[0;32m<ipython-input-4-72a1eb1d3f06>\u001B[0m in \u001B[0;36m<module>\u001B[0;34m\u001B[0m\n\u001B[1;32m      1\u001B[0m \u001B[0;32mimport\u001B[0m \u001B[0mos\u001B[0m\u001B[0;34m\u001B[0m\u001B[0;34m\u001B[0m\u001B[0m\n\u001B[0;32m----> 2\u001B[0;31m \u001B[0;32mif\u001B[0m \u001B[0;32mnot\u001B[0m \u001B[0mos\u001B[0m\u001B[0;34m.\u001B[0m\u001B[0mpath\u001B[0m\u001B[0;34m.\u001B[0m\u001B[0mexists\u001B[0m\u001B[0;34m(\u001B[0m\u001B[0;34m\"./\"\u001B[0m \u001B[0;34m+\u001B[0m \u001B[0mconfig\u001B[0m\u001B[0;34m.\u001B[0m\u001B[0mDATA_SAVE_DIR\u001B[0m\u001B[0;34m)\u001B[0m\u001B[0;34m:\u001B[0m\u001B[0;34m\u001B[0m\u001B[0;34m\u001B[0m\u001B[0m\n\u001B[0m\u001B[1;32m      3\u001B[0m     \u001B[0mos\u001B[0m\u001B[0;34m.\u001B[0m\u001B[0mmakedirs\u001B[0m\u001B[0;34m(\u001B[0m\u001B[0;34m\"./\"\u001B[0m \u001B[0;34m+\u001B[0m \u001B[0mconfig\u001B[0m\u001B[0;34m.\u001B[0m\u001B[0mDATA_SAVE_DIR\u001B[0m\u001B[0;34m)\u001B[0m\u001B[0;34m\u001B[0m\u001B[0;34m\u001B[0m\u001B[0m\n\u001B[1;32m      4\u001B[0m \u001B[0;32mif\u001B[0m \u001B[0;32mnot\u001B[0m \u001B[0mos\u001B[0m\u001B[0;34m.\u001B[0m\u001B[0mpath\u001B[0m\u001B[0;34m.\u001B[0m\u001B[0mexists\u001B[0m\u001B[0;34m(\u001B[0m\u001B[0;34m\"./\"\u001B[0m \u001B[0;34m+\u001B[0m \u001B[0mconfig\u001B[0m\u001B[0;34m.\u001B[0m\u001B[0mTRAINED_MODEL_DIR\u001B[0m\u001B[0;34m)\u001B[0m\u001B[0;34m:\u001B[0m\u001B[0;34m\u001B[0m\u001B[0;34m\u001B[0m\u001B[0m\n\u001B[1;32m      5\u001B[0m     \u001B[0mos\u001B[0m\u001B[0;34m.\u001B[0m\u001B[0mmakedirs\u001B[0m\u001B[0;34m(\u001B[0m\u001B[0;34m\"./\"\u001B[0m \u001B[0;34m+\u001B[0m \u001B[0mconfig\u001B[0m\u001B[0;34m.\u001B[0m\u001B[0mTRAINED_MODEL_DIR\u001B[0m\u001B[0;34m)\u001B[0m\u001B[0;34m\u001B[0m\u001B[0;34m\u001B[0m\u001B[0m\n",
      "\u001B[0;31mNameError\u001B[0m: name 'config' is not defined"
     ]
    }
   ],
   "source": [
    "import os\n",
    "if not os.path.exists(\"./\" + config.DATA_SAVE_DIR):\n",
    "    os.makedirs(\"./\" + config.DATA_SAVE_DIR)\n",
    "if not os.path.exists(\"./\" + config.TRAINED_MODEL_DIR):\n",
    "    os.makedirs(\"./\" + config.TRAINED_MODEL_DIR)\n",
    "if not os.path.exists(\"./\" + config.TENSORBOARD_LOG_DIR):\n",
    "    os.makedirs(\"./\" + config.TENSORBOARD_LOG_DIR)\n",
    "if not os.path.exists(\"./\" + config.RESULTS_DIR):\n",
    "    os.makedirs(\"./\" + config.RESULTS_DIR)"
   ]
  },
  {
   "cell_type": "markdown",
   "metadata": {
    "id": "osBHhVysOEzi"
   },
   "source": [
    "\n",
    "<a id='1.2'></a>\n",
    "## 2.2. Check if the additional packages needed are present, if not install them. \n",
    "* Yahoo Finance API\n",
    "* pandas\n",
    "* numpy\n",
    "* matplotlib\n",
    "* stockstats\n",
    "* OpenAI gym\n",
    "* stable-baselines\n",
    "* tensorflow\n",
    "* pyfolio"
   ]
  },
  {
   "cell_type": "markdown",
   "metadata": {
    "id": "nGv01K8Sh1hn"
   },
   "source": [
    "<a id='1.3'></a>\n",
    "## 2.3. Import Packages"
   ]
  },
  {
   "cell_type": "code",
   "execution_count": null,
   "metadata": {
    "id": "lPqeTTwoh1hn"
   },
   "outputs": [],
   "source": [
    "import pandas as pd\n",
    "import numpy as np\n",
    "import matplotlib\n",
    "import matplotlib.pyplot as plt\n",
    "# matplotlib.use('Agg')\n",
    "import datetime\n",
    "\n",
    "%matplotlib inline\n",
    "from finrl.apps import config\n",
    "from finrl.finrl_meta.preprocessor.yahoodownloader import YahooDownloader\n",
    "from finrl.finrl_meta.preprocessor.preprocessors import FeatureEngineer, data_split\n",
    "from finrl.finrl_meta.env_stock_trading.env_stocktrading import StockTradingEnv\n",
    "from finrl.drl_agents.stablebaselines3.models import DRLAgent\n",
    "from finrl.finrl_meta.data_processor import DataProcessor\n",
    "\n",
    "from finrl.plot import backtest_stats, backtest_plot, get_daily_return, get_baseline\n",
    "from pprint import pprint\n",
    "\n",
    "import sys\n",
    "sys.path.append(\"../FinRL-Library\")\n",
    "\n",
    "import itertools"
   ]
  },
  {
   "cell_type": "markdown",
   "metadata": {
    "id": "T2owTj985RW4"
   },
   "source": [
    "<a id='1.4'></a>\n",
    "## 2.4. Create Folders"
   ]
  },
  {
   "cell_type": "markdown",
   "metadata": {
    "id": "A289rQWMh1hq"
   },
   "source": [
    "<a id='2'></a>\n",
    "# Part 3. Download Data\n",
    "Yahoo Finance is a website that provides stock data, financial news, financial reports, etc. All the data provided by Yahoo Finance is free.\n",
    "* FinRL uses a class **YahooDownloader** to fetch data from Yahoo Finance API\n",
    "* Call Limit: Using the Public API (without authentication), you are limited to 2,000 requests per hour per IP (or up to a total of 48,000 requests a day).\n"
   ]
  },
  {
   "cell_type": "markdown",
   "metadata": {
    "id": "NPeQ7iS-LoMm"
   },
   "source": [
    "\n",
    "\n",
    "-----\n",
    "class YahooDownloader:\n",
    "    Provides methods for retrieving daily stock data from\n",
    "    Yahoo Finance API\n",
    "\n",
    "    Attributes\n",
    "    ----------\n",
    "        start_date : str\n",
    "            start date of the data (modified from config.py)\n",
    "        end_date : str\n",
    "            end date of the data (modified from config.py)\n",
    "        ticker_list : list\n",
    "            a list of stock tickers (modified from config.py)\n",
    "\n",
    "    Methods\n",
    "    -------\n",
    "    fetch_data()\n",
    "        Fetches data from yahoo API\n"
   ]
  },
  {
   "cell_type": "code",
   "execution_count": null,
   "metadata": {
    "colab": {
     "base_uri": "https://localhost:8080/",
     "height": 35
    },
    "id": "h3XJnvrbLp-C",
    "outputId": "46c6108c-b503-4d5d-a2c0-a56e6200577c"
   },
   "outputs": [],
   "source": [
    "# from config.py start_date is a string\n",
    "config.START_DATE"
   ]
  },
  {
   "cell_type": "code",
   "execution_count": null,
   "metadata": {
    "colab": {
     "base_uri": "https://localhost:8080/",
     "height": 35
    },
    "id": "FUnY8WEfLq3C",
    "outputId": "cb15405c-8404-447d-eef3-81e97e5bde94"
   },
   "outputs": [],
   "source": [
    "# from config.py end_date is a string\n",
    "config.END_DATE"
   ]
  },
  {
   "cell_type": "code",
   "execution_count": null,
   "metadata": {
    "colab": {
     "base_uri": "https://localhost:8080/"
    },
    "id": "yCKm4om-s9kE",
    "outputId": "c7e6e5c5-2a8a-499f-e217-a24e1907d271"
   },
   "outputs": [],
   "source": [
    "df = YahooDownloader(start_date = '2009-01-01',\n",
    "                     end_date = '2021-10-31',\n",
    "                     ticker_list = config.DOW_30_TICKER).fetch_data()"
   ]
  },
  {
   "cell_type": "code",
   "execution_count": null,
   "metadata": {
    "colab": {
     "base_uri": "https://localhost:8080/"
    },
    "id": "JzqRRTOX6aFu",
    "outputId": "14a364ed-0645-4aea-d0da-9ea5e064caa4"
   },
   "outputs": [],
   "source": [
    "print(config.DOW_30_TICKER)"
   ]
  },
  {
   "cell_type": "code",
   "execution_count": null,
   "metadata": {
    "colab": {
     "base_uri": "https://localhost:8080/"
    },
    "id": "CV3HrZHLh1hy",
    "outputId": "c1875f9b-7cf2-4ad1-e9cd-7b664bf835cd"
   },
   "outputs": [],
   "source": [
    "df.shape"
   ]
  },
  {
   "cell_type": "code",
   "execution_count": null,
   "metadata": {
    "colab": {
     "base_uri": "https://localhost:8080/",
     "height": 204
    },
    "id": "4hYkeaPiICHS",
    "outputId": "e800d4ed-eefa-4fcf-8049-8c5faebbcdfd"
   },
   "outputs": [],
   "source": [
    "df.sort_values(['date','tic'],ignore_index=True).head()"
   ]
  },
  {
   "cell_type": "markdown",
   "metadata": {
    "id": "uqC6c40Zh1iH"
   },
   "source": [
    "# Part 4: Preprocess Data\n",
    "Data preprocessing is a crucial step for training a high quality machine learning model. We need to check for missing data and do feature engineering in order to convert the data into a model-ready state.\n",
    "* Add technical indicators. In practical trading, various information needs to be taken into account, for example the historical stock prices, current holding shares, technical indicators, etc. In this article, we demonstrate two trend-following technical indicators: MACD and RSI.\n",
    "* Add turbulence index. Risk-aversion reflects whether an investor will choose to preserve the capital. It also influences one's trading strategy when facing different market volatility level. To control the risk in a worst-case scenario, such as financial crisis of 2007–2008, FinRL employs the financial turbulence index that measures extreme asset price fluctuation."
   ]
  },
  {
   "cell_type": "code",
   "execution_count": null,
   "metadata": {
    "colab": {
     "base_uri": "https://localhost:8080/"
    },
    "id": "PmKP-1ii3RLS",
    "outputId": "aaa6403a-9816-4854-c24d-cd76def3a9bd",
    "pycharm": {
     "name": "#%%\n"
    }
   },
   "outputs": [],
   "source": [
    "fe = FeatureEngineer(\n",
    "                    use_technical_indicator=True,\n",
    "                    tech_indicator_list = config.TECHNICAL_INDICATORS_LIST,\n",
    "                    use_vix=True,\n",
    "                    use_turbulence=True,\n",
    "                    user_defined_feature = False)\n",
    "\n",
    "processed = fe.preprocess_data(df)"
   ]
  },
  {
   "cell_type": "code",
   "execution_count": null,
   "metadata": {
    "id": "Kixon2tR3RLT"
   },
   "outputs": [],
   "source": [
    "list_ticker = processed[\"tic\"].unique().tolist()\n",
    "list_date = list(pd.date_range(processed['date'].min(),processed['date'].max()).astype(str))\n",
    "combination = list(itertools.product(list_date,list_ticker))\n",
    "\n",
    "processed_full = pd.DataFrame(combination,columns=[\"date\",\"tic\"]).merge(processed,on=[\"date\",\"tic\"],how=\"left\")\n",
    "processed_full = processed_full[processed_full['date'].isin(processed['date'])]\n",
    "processed_full = processed_full.sort_values(['date','tic'])\n",
    "\n",
    "processed_full = processed_full.fillna(0)"
   ]
  },
  {
   "cell_type": "code",
   "execution_count": null,
   "metadata": {
    "colab": {
     "base_uri": "https://localhost:8080/",
     "height": 552
    },
    "id": "grvhGJJII3Xn",
    "outputId": "3dbe20f0-4875-446f-b5f4-39711849aedc"
   },
   "outputs": [],
   "source": [
    "processed_full.sort_values(['date','tic'],ignore_index=True).head(10)"
   ]
  },
  {
   "cell_type": "markdown",
   "metadata": {
    "id": "-QsYaY0Dh1iw"
   },
   "source": [
    "<a id='4'></a>\n",
    "# Part 5. Design Environment\n",
    "Considering the stochastic and interactive nature of the automated stock trading tasks, a financial task is modeled as a **Markov Decision Process (MDP)** problem. The training process involves observing stock price change, taking an action and reward's calculation to have the agent adjusting its strategy accordingly. By interacting with the environment, the trading agent will derive a trading strategy with the maximized rewards as time proceeds.\n",
    "\n",
    "Our trading environments, based on OpenAI Gym framework, simulate live stock markets with real market data according to the principle of time-driven simulation.\n",
    "\n",
    "The action space describes the allowed actions that the agent interacts with the environment. Normally, action a includes three actions: {-1, 0, 1}, where -1, 0, 1 represent selling, holding, and buying one share. Also, an action can be carried upon multiple shares. We use an action space {-k,…,-1, 0, 1, …, k}, where k denotes the number of shares to buy and -k denotes the number of shares to sell. For example, \"Buy 10 shares of AAPL\" or \"Sell 10 shares of AAPL\" are 10 or -10, respectively. The continuous action space needs to be normalized to [-1, 1], since the policy is defined on a Gaussian distribution, which needs to be normalized and symmetric."
   ]
  },
  {
   "cell_type": "markdown",
   "metadata": {
    "id": "5TOhcryx44bb"
   },
   "source": [
    "## Training data split: 2009-01-01 to 2020-07-01\n",
    "## Trade data split: 2020-07-01 to 2021-10-31"
   ]
  },
  {
   "cell_type": "code",
   "execution_count": null,
   "metadata": {
    "colab": {
     "base_uri": "https://localhost:8080/"
    },
    "id": "W0qaVGjLtgbI",
    "outputId": "a1b7ae1d-5ce1-491e-9d92-666c80a9ab05"
   },
   "outputs": [],
   "source": [
    "train = data_split(processed_full, '2009-01-01','2020-07-01')\n",
    "trade = data_split(processed_full, '2020-07-01','2021-10-31')\n",
    "print(len(train))\n",
    "print(len(trade))"
   ]
  },
  {
   "cell_type": "code",
   "execution_count": null,
   "metadata": {
    "colab": {
     "base_uri": "https://localhost:8080/",
     "height": 310
    },
    "id": "p52zNCOhTtLR",
    "outputId": "acb8aaed-6da3-46c4-daaf-47d88cec1f80"
   },
   "outputs": [],
   "source": [
    "train.tail()"
   ]
  },
  {
   "cell_type": "code",
   "execution_count": null,
   "metadata": {
    "colab": {
     "base_uri": "https://localhost:8080/",
     "height": 310
    },
    "id": "k9zU9YaTTvFq",
    "outputId": "6a500ced-e9e5-4ec7-8863-06a147346efb"
   },
   "outputs": [],
   "source": [
    "trade.head()"
   ]
  },
  {
   "cell_type": "code",
   "execution_count": null,
   "metadata": {
    "colab": {
     "base_uri": "https://localhost:8080/"
    },
    "id": "zYN573SOHhxG",
    "outputId": "6368c33b-ce76-4fd3-b70d-bde49f82b56b"
   },
   "outputs": [],
   "source": [
    "config.TECHNICAL_INDICATORS_LIST"
   ]
  },
  {
   "cell_type": "code",
   "execution_count": null,
   "metadata": {
    "colab": {
     "base_uri": "https://localhost:8080/"
    },
    "id": "Q2zqII8rMIqn",
    "outputId": "5a9364a5-1b8f-419c-9571-8012a5abbe81"
   },
   "outputs": [],
   "source": [
    "stock_dimension = len(train.tic.unique())\n",
    "state_space = 1 + 2*stock_dimension + len(config.TECHNICAL_INDICATORS_LIST)*stock_dimension\n",
    "print(f\"Stock Dimension: {stock_dimension}, State Space: {state_space}\")\n"
   ]
  },
  {
   "cell_type": "code",
   "execution_count": null,
   "metadata": {
    "id": "AWyp84Ltto19"
   },
   "outputs": [],
   "source": [
    "env_kwargs = {\n",
    "    \"hmax\": 100, \n",
    "    \"initial_amount\": 1000000, \n",
    "    \"buy_cost_pct\": 0.001,\n",
    "    \"sell_cost_pct\": 0.001,\n",
    "    \"state_space\": state_space, \n",
    "    \"stock_dim\": stock_dimension, \n",
    "    \"tech_indicator_list\": config.TECHNICAL_INDICATORS_LIST, \n",
    "    \"action_space\": stock_dimension, \n",
    "    \"reward_scaling\": 1e-4\n",
    "    \n",
    "}\n",
    "\n",
    "e_train_gym = StockTradingEnv(df = train, **env_kwargs)"
   ]
  },
  {
   "cell_type": "markdown",
   "metadata": {
    "id": "64EoqOrQjiVf"
   },
   "source": [
    "## Environment for Training\n",
    "\n"
   ]
  },
  {
   "cell_type": "code",
   "execution_count": null,
   "metadata": {
    "colab": {
     "base_uri": "https://localhost:8080/"
    },
    "id": "xwSvvPjutpqS",
    "outputId": "6220d88e-50c2-4da2-b3c9-4c5d36075d83"
   },
   "outputs": [],
   "source": [
    "env_train, _ = e_train_gym.get_sb_env()\n",
    "print(type(env_train))"
   ]
  },
  {
   "cell_type": "markdown",
   "metadata": {
    "id": "HMNR5nHjh1iz"
   },
   "source": [
    "<a id='5'></a>\n",
    "# Part 6: Implement DRL Algorithms\n",
    "* The implementation of the DRL algorithms are based on **OpenAI Baselines** and **Stable Baselines**. Stable Baselines is a fork of OpenAI Baselines, with a major structural refactoring, and code cleanups.\n",
    "* FinRL library includes fine-tuned standard DRL algorithms, such as DQN, DDPG,\n",
    "Multi-Agent DDPG, PPO, SAC, A2C and TD3. We also allow users to\n",
    "design their own DRL algorithms by adapting these DRL algorithms."
   ]
  },
  {
   "cell_type": "code",
   "execution_count": null,
   "metadata": {
    "id": "364PsqckttcQ"
   },
   "outputs": [],
   "source": [
    "agent = DRLAgent(env = env_train)"
   ]
  },
  {
   "cell_type": "markdown",
   "metadata": {
    "id": "YDmqOyF9h1iz"
   },
   "source": [
    "### Model Training: 5 models, A2C DDPG, PPO, TD3, SAC\n"
   ]
  },
  {
   "cell_type": "markdown",
   "metadata": {
    "id": "uijiWgkuh1jB"
   },
   "source": [
    "### Model 1: A2C\n"
   ]
  },
  {
   "cell_type": "code",
   "execution_count": null,
   "metadata": {
    "colab": {
     "base_uri": "https://localhost:8080/"
    },
    "id": "GUCnkn-HIbmj",
    "outputId": "dcba2088-1399-4b2d-cbee-f89e433df9d1"
   },
   "outputs": [],
   "source": [
    "agent = DRLAgent(env = env_train)\n",
    "model_a2c = agent.get_model(\"a2c\")"
   ]
  },
  {
   "cell_type": "code",
   "execution_count": null,
   "metadata": {
    "colab": {
     "base_uri": "https://localhost:8080/"
    },
    "id": "0GVpkWGqH4-D",
    "outputId": "37d0edc0-d223-4a92-bd92-a0fee19a78ff"
   },
   "outputs": [],
   "source": [
    "trained_a2c = agent.train_model(model=model_a2c, \n",
    "                             tb_log_name='a2c',\n",
    "                             total_timesteps=50000)"
   ]
  },
  {
   "cell_type": "markdown",
   "metadata": {
    "id": "MRiOtrywfAo1"
   },
   "source": [
    "### Model 2: DDPG"
   ]
  },
  {
   "cell_type": "code",
   "execution_count": null,
   "metadata": {
    "colab": {
     "base_uri": "https://localhost:8080/"
    },
    "id": "M2YadjfnLwgt",
    "outputId": "5ebbb9b9-fabe-4f67-caa4-79c956a06b71"
   },
   "outputs": [],
   "source": [
    "agent = DRLAgent(env = env_train)\n",
    "model_ddpg = agent.get_model(\"ddpg\")"
   ]
  },
  {
   "cell_type": "code",
   "execution_count": null,
   "metadata": {
    "colab": {
     "base_uri": "https://localhost:8080/"
    },
    "id": "tCDa78rqfO_a",
    "jupyter": {
     "outputs_hidden": true
    },
    "outputId": "cf087191-7989-4d23-984b-bf3c002ba1c2"
   },
   "outputs": [],
   "source": [
    "trained_ddpg = agent.train_model(model=model_ddpg, \n",
    "                             tb_log_name='ddpg',\n",
    "                             total_timesteps=50000)"
   ]
  },
  {
   "cell_type": "markdown",
   "metadata": {
    "id": "_gDkU-j-fCmZ"
   },
   "source": [
    "### Model 3: PPO"
   ]
  },
  {
   "cell_type": "code",
   "execution_count": null,
   "metadata": {
    "colab": {
     "base_uri": "https://localhost:8080/"
    },
    "id": "y5D5PFUhMzSV",
    "outputId": "0635df14-c61a-4bec-f4d7-f4a1fcc0e645"
   },
   "outputs": [],
   "source": [
    "agent = DRLAgent(env = env_train)\n",
    "PPO_PARAMS = {\n",
    "    \"n_steps\": 2048,\n",
    "    \"ent_coef\": 0.01,\n",
    "    \"learning_rate\": 0.00025,\n",
    "    \"batch_size\": 128,\n",
    "}\n",
    "model_ppo = agent.get_model(\"ppo\",model_kwargs = PPO_PARAMS)"
   ]
  },
  {
   "cell_type": "code",
   "execution_count": null,
   "metadata": {
    "colab": {
     "base_uri": "https://localhost:8080/"
    },
    "id": "Gt8eIQKYM4G3",
    "jupyter": {
     "outputs_hidden": true
    },
    "outputId": "6085479b-7957-47b4-be30-a348be45ac2c"
   },
   "outputs": [],
   "source": [
    "trained_ppo = agent.train_model(model=model_ppo, \n",
    "                             tb_log_name='ppo',\n",
    "                             total_timesteps=50000)"
   ]
  },
  {
   "cell_type": "markdown",
   "metadata": {
    "id": "3Zpv4S0-fDBv"
   },
   "source": [
    "### Model 4: TD3"
   ]
  },
  {
   "cell_type": "code",
   "execution_count": 5,
   "metadata": {
    "colab": {
     "base_uri": "https://localhost:8080/"
    },
    "id": "JSAHhV4Xc-bh",
    "outputId": "68caff08-9689-4031-ecd2-f0f90f4a505f"
   },
   "outputs": [
    {
     "ename": "NameError",
     "evalue": "name 'env_train' is not defined",
     "output_type": "error",
     "traceback": [
      "\u001B[0;31m---------------------------------------------------------------------------\u001B[0m",
      "\u001B[0;31mNameError\u001B[0m                                 Traceback (most recent call last)",
      "\u001B[0;32m<ipython-input-5-70be603faf82>\u001B[0m in \u001B[0;36m<module>\u001B[0;34m\u001B[0m\n\u001B[0;32m----> 1\u001B[0;31m \u001B[0magent\u001B[0m \u001B[0;34m=\u001B[0m \u001B[0mDRLAgent\u001B[0m\u001B[0;34m(\u001B[0m\u001B[0menv\u001B[0m \u001B[0;34m=\u001B[0m \u001B[0menv_train\u001B[0m\u001B[0;34m)\u001B[0m\u001B[0;34m\u001B[0m\u001B[0;34m\u001B[0m\u001B[0m\n\u001B[0m\u001B[1;32m      2\u001B[0m TD3_PARAMS = {\"batch_size\": 100, \n\u001B[1;32m      3\u001B[0m               \u001B[0;34m\"buffer_size\"\u001B[0m\u001B[0;34m:\u001B[0m \u001B[0;36m1000000\u001B[0m\u001B[0;34m,\u001B[0m\u001B[0;34m\u001B[0m\u001B[0;34m\u001B[0m\u001B[0m\n\u001B[1;32m      4\u001B[0m               \"learning_rate\": 0.001}\n\u001B[1;32m      5\u001B[0m \u001B[0;34m\u001B[0m\u001B[0m\n",
      "\u001B[0;31mNameError\u001B[0m: name 'env_train' is not defined"
     ]
    }
   ],
   "source": [
    "agent = DRLAgent(env = env_train)\n",
    "TD3_PARAMS = {\"batch_size\": 100, \n",
    "              \"buffer_size\": 1000000, \n",
    "              \"learning_rate\": 0.001}\n",
    "\n",
    "model_td3 = agent.get_model(\"td3\",model_kwargs = TD3_PARAMS)"
   ]
  },
  {
   "cell_type": "code",
   "execution_count": 6,
   "metadata": {
    "colab": {
     "base_uri": "https://localhost:8080/"
    },
    "id": "OSRxNYAxdKpU",
    "outputId": "f6381d77-c689-4793-c2de-8a9796073d4c"
   },
   "outputs": [
    {
     "ename": "NameError",
     "evalue": "name 'agent' is not defined",
     "output_type": "error",
     "traceback": [
      "\u001B[0;31m---------------------------------------------------------------------------\u001B[0m",
      "\u001B[0;31mNameError\u001B[0m                                 Traceback (most recent call last)",
      "\u001B[0;32m<ipython-input-6-eb80aaa714a9>\u001B[0m in \u001B[0;36m<module>\u001B[0;34m\u001B[0m\n\u001B[0;32m----> 1\u001B[0;31m trained_td3 = agent.train_model(model=model_td3, \n\u001B[0m\u001B[1;32m      2\u001B[0m                              \u001B[0mtb_log_name\u001B[0m\u001B[0;34m=\u001B[0m\u001B[0;34m'td3'\u001B[0m\u001B[0;34m,\u001B[0m\u001B[0;34m\u001B[0m\u001B[0;34m\u001B[0m\u001B[0m\n\u001B[1;32m      3\u001B[0m                              total_timesteps=30000)\n",
      "\u001B[0;31mNameError\u001B[0m: name 'agent' is not defined"
     ]
    }
   ],
   "source": [
    "trained_td3 = agent.train_model(model=model_td3, \n",
    "                             tb_log_name='td3',\n",
    "                             total_timesteps=30000)"
   ]
  },
  {
   "cell_type": "markdown",
   "metadata": {
    "id": "Dr49PotrfG01"
   },
   "source": [
    "### Model 5: SAC"
   ]
  },
  {
   "cell_type": "code",
   "execution_count": 7,
   "metadata": {
    "colab": {
     "base_uri": "https://localhost:8080/"
    },
    "id": "xwOhVjqRkCdM",
    "outputId": "7f10445f-ab5e-4a83-f21f-5518a93b25c0"
   },
   "outputs": [
    {
     "ename": "NameError",
     "evalue": "name 'env_train' is not defined",
     "output_type": "error",
     "traceback": [
      "\u001B[0;31m---------------------------------------------------------------------------\u001B[0m",
      "\u001B[0;31mNameError\u001B[0m                                 Traceback (most recent call last)",
      "\u001B[0;32m<ipython-input-7-20ce297b0bcc>\u001B[0m in \u001B[0;36m<module>\u001B[0;34m\u001B[0m\n\u001B[0;32m----> 1\u001B[0;31m \u001B[0magent\u001B[0m \u001B[0;34m=\u001B[0m \u001B[0mDRLAgent\u001B[0m\u001B[0;34m(\u001B[0m\u001B[0menv\u001B[0m \u001B[0;34m=\u001B[0m \u001B[0menv_train\u001B[0m\u001B[0;34m)\u001B[0m\u001B[0;34m\u001B[0m\u001B[0;34m\u001B[0m\u001B[0m\n\u001B[0m\u001B[1;32m      2\u001B[0m SAC_PARAMS = {\n\u001B[1;32m      3\u001B[0m     \u001B[0;34m\"batch_size\"\u001B[0m\u001B[0;34m:\u001B[0m \u001B[0;36m128\u001B[0m\u001B[0;34m,\u001B[0m\u001B[0;34m\u001B[0m\u001B[0;34m\u001B[0m\u001B[0m\n\u001B[1;32m      4\u001B[0m     \u001B[0;34m\"buffer_size\"\u001B[0m\u001B[0;34m:\u001B[0m \u001B[0;36m1000000\u001B[0m\u001B[0;34m,\u001B[0m\u001B[0;34m\u001B[0m\u001B[0;34m\u001B[0m\u001B[0m\n\u001B[1;32m      5\u001B[0m     \u001B[0;34m\"learning_rate\"\u001B[0m\u001B[0;34m:\u001B[0m \u001B[0;36m0.0001\u001B[0m\u001B[0;34m,\u001B[0m\u001B[0;34m\u001B[0m\u001B[0;34m\u001B[0m\u001B[0m\n",
      "\u001B[0;31mNameError\u001B[0m: name 'env_train' is not defined"
     ]
    }
   ],
   "source": [
    "agent = DRLAgent(env = env_train)\n",
    "SAC_PARAMS = {\n",
    "    \"batch_size\": 128,\n",
    "    \"buffer_size\": 1000000,\n",
    "    \"learning_rate\": 0.0001,\n",
    "    \"learning_starts\": 100,\n",
    "    \"ent_coef\": \"auto_0.1\",\n",
    "}\n",
    "\n",
    "model_sac = agent.get_model(\"sac\",model_kwargs = SAC_PARAMS)"
   ]
  },
  {
   "cell_type": "code",
   "execution_count": null,
   "metadata": {
    "colab": {
     "base_uri": "https://localhost:8080/"
    },
    "id": "K8RSdKCckJyH",
    "outputId": "cfb9b782-e856-4b2b-fd23-a1ab189d4ca9"
   },
   "outputs": [],
   "source": [
    "trained_sac = agent.train_model(model=model_sac, \n",
    "                             tb_log_name='sac',\n",
    "                             total_timesteps=60000)"
   ]
  },
  {
   "cell_type": "markdown",
   "metadata": {
    "id": "f2wZgkQXh1jE"
   },
   "source": [
    "## Trading\n",
    "Assume that we have $1,000,000 initial capital at 2020-07-01. We use the DDPG model to trade Dow jones 30 stocks."
   ]
  },
  {
   "cell_type": "markdown",
   "metadata": {
    "id": "bEv5KGC8h1jE"
   },
   "source": [
    "### Set turbulence threshold\n",
    "Set the turbulence threshold to be greater than the maximum of insample turbulence data, if current turbulence index is greater than the threshold, then we assume that the current market is volatile"
   ]
  },
  {
   "cell_type": "code",
   "execution_count": null,
   "metadata": {
    "id": "efwBi84ch1jE"
   },
   "outputs": [],
   "source": [
    "data_risk_indicator = processed_full[(processed_full.date<'2020-07-01') & (processed_full.date>='2009-01-01')]\n",
    "insample_risk_indicator = data_risk_indicator.drop_duplicates(subset=['date'])"
   ]
  },
  {
   "cell_type": "code",
   "execution_count": null,
   "metadata": {
    "colab": {
     "base_uri": "https://localhost:8080/"
    },
    "id": "VHZMBpSqh1jG",
    "outputId": "af33c1ef-72cc-406d-a47c-9b93edf2734f"
   },
   "outputs": [],
   "source": [
    "insample_risk_indicator.vix.describe()"
   ]
  },
  {
   "cell_type": "code",
   "execution_count": null,
   "metadata": {
    "colab": {
     "base_uri": "https://localhost:8080/"
    },
    "id": "BDkszkMloRWT",
    "outputId": "ecf3f618-ed78-4919-e0ab-2508f025c4e9"
   },
   "outputs": [],
   "source": [
    "insample_risk_indicator.vix.quantile(0.996)"
   ]
  },
  {
   "cell_type": "code",
   "execution_count": null,
   "metadata": {
    "colab": {
     "base_uri": "https://localhost:8080/"
    },
    "id": "AL7hs7svnNWT",
    "outputId": "0676f0c5-1c9a-4ec4-e79b-dd92a557548c"
   },
   "outputs": [],
   "source": [
    "insample_risk_indicator.turbulence.describe()"
   ]
  },
  {
   "cell_type": "code",
   "execution_count": null,
   "metadata": {
    "colab": {
     "base_uri": "https://localhost:8080/"
    },
    "id": "N78hfHckoqJ9",
    "outputId": "14a4c40a-038c-4165-fed3-f5d043db4b9e"
   },
   "outputs": [],
   "source": [
    "insample_risk_indicator.turbulence.quantile(0.996)"
   ]
  },
  {
   "cell_type": "markdown",
   "metadata": {
    "id": "U5mmgQF_h1jQ"
   },
   "source": [
    "### Trade\n",
    "\n",
    "DRL model needs to update periodically in order to take full advantage of the data, ideally we need to retrain our model yearly, quarterly, or monthly. We also need to tune the parameters along the way, in this notebook I only use the in-sample data from 2009-01 to 2020-07 to tune the parameters once, so there is some alpha decay here as the length of trade date extends. \n",
    "\n",
    "Numerous hyperparameters – e.g. the learning rate, the total number of samples to train on – influence the learning process and are usually determined by testing some variations."
   ]
  },
  {
   "cell_type": "code",
   "execution_count": null,
   "metadata": {
    "id": "cIqoV0GSI52v"
   },
   "outputs": [],
   "source": [
    "#trade = data_split(processed_full, '2020-07-01','2021-10-31')\n",
    "e_trade_gym = StockTradingEnv(df = trade, turbulence_threshold = 70,risk_indicator_col='vix', **env_kwargs)\n",
    "# env_trade, obs_trade = e_trade_gym.get_sb_env()"
   ]
  },
  {
   "cell_type": "code",
   "execution_count": null,
   "metadata": {
    "colab": {
     "base_uri": "https://localhost:8080/",
     "height": 310
    },
    "id": "W_XNgGsBMeVw",
    "outputId": "14f165a0-2a78-49de-d7e4-23692b508bc0"
   },
   "outputs": [],
   "source": [
    "trade.head()"
   ]
  },
  {
   "cell_type": "code",
   "execution_count": null,
   "metadata": {
    "colab": {
     "base_uri": "https://localhost:8080/"
    },
    "id": "eLOnL5eYh1jR",
    "outputId": "f1d45369-41f8-43a8-c5ac-ae4a28ca7bdb"
   },
   "outputs": [],
   "source": [
    "df_account_value, df_actions = DRLAgent.DRL_prediction(\n",
    "    model=trained_sac, \n",
    "    environment = e_trade_gym)"
   ]
  },
  {
   "cell_type": "code",
   "execution_count": null,
   "metadata": {
    "colab": {
     "base_uri": "https://localhost:8080/"
    },
    "id": "ERxw3KqLkcP4",
    "outputId": "c42d65b3-f7f5-4341-fc22-1b55fabe057c"
   },
   "outputs": [],
   "source": [
    "df_account_value.shape"
   ]
  },
  {
   "cell_type": "code",
   "execution_count": null,
   "metadata": {
    "colab": {
     "base_uri": "https://localhost:8080/",
     "height": 204
    },
    "id": "2yRkNguY5yvp",
    "outputId": "0f208bfb-3341-4e10-d934-f0705eef9b1d"
   },
   "outputs": [],
   "source": [
    "df_account_value.tail()"
   ]
  },
  {
   "cell_type": "code",
   "execution_count": null,
   "metadata": {
    "colab": {
     "base_uri": "https://localhost:8080/",
     "height": 236
    },
    "id": "nFlK5hNbWVFk",
    "outputId": "246ab623-2519-4a1e-c1ca-147d23ff6241"
   },
   "outputs": [],
   "source": [
    "df_actions.head()"
   ]
  },
  {
   "cell_type": "markdown",
   "metadata": {
    "id": "W6vvNSC6h1jZ"
   },
   "source": [
    "<a id='6'></a>\n",
    "# Part 7: Backtest Our Strategy\n",
    "Backtesting plays a key role in evaluating the performance of a trading strategy. Automated backtesting tool is preferred because it reduces the human error. We usually use the Quantopian pyfolio package to backtest our trading strategies. It is easy to use and consists of various individual plots that provide a comprehensive image of the performance of a trading strategy."
   ]
  },
  {
   "cell_type": "markdown",
   "metadata": {
    "id": "Lr2zX7ZxNyFQ"
   },
   "source": [
    "<a id='6.1'></a>\n",
    "## 7.1 BackTestStats\n",
    "pass in df_account_value, this information is stored in env class\n"
   ]
  },
  {
   "cell_type": "code",
   "execution_count": null,
   "metadata": {
    "colab": {
     "base_uri": "https://localhost:8080/"
    },
    "id": "Nzkr9yv-AdV_",
    "outputId": "53200b5d-d900-41bc-c9be-19f4c90233c9"
   },
   "outputs": [],
   "source": [
    "print(\"==============Get Backtest Results===========\")\n",
    "now = datetime.datetime.now().strftime('%Y%m%d-%Hh%M')\n",
    "\n",
    "perf_stats_all = backtest_stats(account_value=df_account_value)\n",
    "perf_stats_all = pd.DataFrame(perf_stats_all)\n",
    "perf_stats_all.to_csv(\"./\"+config.RESULTS_DIR+\"/perf_stats_all_\"+now+'.csv')"
   ]
  },
  {
   "cell_type": "code",
   "execution_count": null,
   "metadata": {
    "colab": {
     "base_uri": "https://localhost:8080/"
    },
    "id": "QkV-LB66iwhD",
    "outputId": "761c9125-7c90-46fc-89a1-8dc3c0e7230b"
   },
   "outputs": [],
   "source": [
    "#baseline stats\n",
    "print(\"==============Get Baseline Stats===========\")\n",
    "baseline_df = get_baseline(\n",
    "        ticker=\"^DJI\", \n",
    "        start = df_account_value.loc[0,'date'],\n",
    "        end = df_account_value.loc[len(df_account_value)-1,'date'])\n",
    "\n",
    "stats = backtest_stats(baseline_df, value_col_name = 'close')\n"
   ]
  },
  {
   "cell_type": "code",
   "execution_count": null,
   "metadata": {
    "colab": {
     "base_uri": "https://localhost:8080/",
     "height": 35
    },
    "id": "qg1kvfemrrQH",
    "outputId": "8fe77e55-c10b-4ee0-9836-81aa53a6d79b"
   },
   "outputs": [],
   "source": [
    "df_account_value.loc[0,'date']"
   ]
  },
  {
   "cell_type": "code",
   "execution_count": null,
   "metadata": {
    "colab": {
     "base_uri": "https://localhost:8080/",
     "height": 35
    },
    "id": "tt1bzL5OrsTa",
    "outputId": "9f9207f4-081b-49c4-a4ef-9837589b6a83"
   },
   "outputs": [],
   "source": [
    "df_account_value.loc[len(df_account_value)-1,'date']"
   ]
  },
  {
   "cell_type": "markdown",
   "metadata": {
    "id": "9U6Suru3h1jc"
   },
   "source": [
    "<a id='6.2'></a>\n",
    "## 7.2 BackTestPlot"
   ]
  },
  {
   "cell_type": "code",
   "execution_count": null,
   "metadata": {
    "colab": {
     "base_uri": "https://localhost:8080/",
     "height": 1000
    },
    "id": "lKRGftSS7pNM",
    "outputId": "ccf7da09-d937-4df0-a689-aacd4ea82df4"
   },
   "outputs": [],
   "source": [
    "print(\"==============Compare to DJIA===========\")\n",
    "%matplotlib inline\n",
    "# S&P 500: ^GSPC\n",
    "# Dow Jones Index: ^DJI\n",
    "# NASDAQ 100: ^NDX\n",
    "backtest_plot(df_account_value, \n",
    "             baseline_ticker = '^DJI', \n",
    "             baseline_start = df_account_value.loc[0,'date'],\n",
    "             baseline_end = df_account_value.loc[len(df_account_value)-1,'date'])"
   ]
  },
  {
   "cell_type": "code",
   "execution_count": null,
   "metadata": {
    "id": "BzBaE63H3RLc"
   },
   "outputs": [],
   "source": []
  },
  {
   "cell_type": "code",
   "execution_count": null,
   "metadata": {
    "id": "ZYeOjax-7H_5"
   },
   "outputs": [],
   "source": []
  }
 ],
 "metadata": {
  "colab": {
   "collapsed_sections": [
    "Uy5_PTmOh1hj",
    "_gDkU-j-fCmZ",
    "3Zpv4S0-fDBv"
   ],
   "include_colab_link": true,
   "name": "FinRL_StockTrading_NeurIPS_2018.ipynb",
   "provenance": []
  },
  "kernelspec": {
   "display_name": "Python 3",
   "language": "python",
   "name": "python3"
  },
  "language_info": {
   "codemirror_mode": {
    "name": "ipython",
    "version": 3
   },
   "file_extension": ".py",
   "mimetype": "text/x-python",
   "name": "python",
   "nbconvert_exporter": "python",
   "pygments_lexer": "ipython3",
   "version": "3.8.5"
  },
  "pycharm": {
   "stem_cell": {
    "cell_type": "raw",
    "metadata": {
     "collapsed": false
    },
    "source": []
   }
  }
 },
 "nbformat": 4,
 "nbformat_minor": 1
}