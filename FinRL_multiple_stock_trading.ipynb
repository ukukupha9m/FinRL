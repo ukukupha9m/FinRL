{
  "nbformat": 4,
  "nbformat_minor": 0,
  "metadata": {
    "kernelspec": {
      "display_name": "Python 3",
      "language": "python",
      "name": "python3"
    },
    "language_info": {
      "codemirror_mode": {
        "name": "ipython",
        "version": 3
      },
      "file_extension": ".py",
      "mimetype": "text/x-python",
      "name": "python",
      "nbconvert_exporter": "python",
      "pygments_lexer": "ipython3",
      "version": "3.6.10"
    },
    "colab": {
      "name": "FinRL_multiple_stock_trading.ipynb",
      "provenance": [],
      "collapsed_sections": [
        "uijiWgkuh1jB",
        "MRiOtrywfAo1",
        "_gDkU-j-fCmZ",
        "3Zpv4S0-fDBv"
      ],
      "toc_visible": true,
      "include_colab_link": true
    }
  },
  "cells": [
    {
      "cell_type": "markdown",
      "metadata": {
        "id": "view-in-github",
        "colab_type": "text"
      },
      "source": [
        "<a href=\"https://colab.research.google.com/github/AI4Finance-LLC/FinRL-Library/blob/master/FinRL_multiple_stock_trading.ipynb\" target=\"_parent\"><img src=\"https://colab.research.google.com/assets/colab-badge.svg\" alt=\"Open In Colab\"/></a>"
      ]
    },
    {
      "cell_type": "markdown",
      "metadata": {
        "id": "gXaoZs2lh1hi"
      },
      "source": [
        "# Deep Reinforcement Learning for Stock Trading from Scratch: Multiple Stock Trading\n",
        "\n",
        "Tutorials to use OpenAI DRL to trade multiple stocks in one Jupyter Notebook | Presented at NeurIPS 2020: Deep RL Workshop\n",
        "\n",
        "* This blog is based on our paper: FinRL: A Deep Reinforcement Learning Library for Automated Stock Trading in Quantitative Finance, presented at NeurIPS 2020: Deep RL Workshop.\n",
        "* Check out medium blog for detailed explanations: \n",
        "* Please report any issues to our Github: https://github.com/AI4Finance-LLC/FinRL-Library/issues\n",
        "\n"
      ]
    },
    {
      "cell_type": "markdown",
      "metadata": {
        "id": "lGunVt8oLCVS"
      },
      "source": [
        "# Content"
      ]
    },
    {
      "cell_type": "markdown",
      "metadata": {
        "id": "HOzAKQ-SLGX6"
      },
      "source": [
        "* [1. Problem Definition](#0)\n",
        "* [2. Getting Started - Load Python packages](#1)\n",
        "    * [2.1. Install Packages](#1.1)    \n",
        "    * [2.2. Check Additional Packages](#1.2)\n",
        "    * [2.3. Import Packages](#1.3)\n",
        "    * [2.4. Create Folders](#1.4)\n",
        "* [3. Download Data](#2)\n",
        "* [4. Preprocess Data](#3)        \n",
        "    * [4.1. Technical Indicators](#3.1)\n",
        "    * [4.2. Perform Feature Engineering](#3.2)\n",
        "* [5.Testing the Model](#4)  \n",
        "    * [5.1. Training & Trade Data Split](#4.1)\n",
        "    * [5.2. User-defined Environment](#4.2)   \n",
        "    * [5.3. Initialize Environment](#4.3)    \n",
        "* [6.Implement DRL Algorithms](#5)  \n",
        "* [7.Backtest Our Strategy](#6)  \n",
        "    * [7.1. BackTestStats](#6.1)\n",
        "    * [7.2. BackTestPlot](#6.2)   \n",
        "    * [7.3. Baseline Stats](#6.3)   \n",
        "    * [7.3. Compare to Stock Market Index](#6.4)             "
      ]
    },
    {
      "cell_type": "markdown",
      "metadata": {
        "id": "sApkDlD9LIZv"
      },
      "source": [
        "<a id='0'></a>\n",
        "# Part 1. Problem Definition"
      ]
    },
    {
      "cell_type": "markdown",
      "metadata": {
        "id": "HjLD2TZSLKZ-"
      },
      "source": [
        "This problem is to design an automated trading solution for single stock trading. We model the stock trading process as a Markov Decision Process (MDP). We then formulate our trading goal as a maximization problem.\n",
        "\n",
        "The algorithm is trained using Deep Reinforcement Learning (DRL) algorithms and the components of the reinforcement learning environment are:\n",
        "\n",
        "\n",
        "* Action: The action space describes the allowed actions that the agent interacts with the\n",
        "environment. Normally, a ∈ A includes three actions: a ∈ {−1, 0, 1}, where −1, 0, 1 represent\n",
        "selling, holding, and buying one stock. Also, an action can be carried upon multiple shares. We use\n",
        "an action space {−k, ..., −1, 0, 1, ..., k}, where k denotes the number of shares. For example, \"Buy\n",
        "10 shares of AAPL\" or \"Sell 10 shares of AAPL\" are 10 or −10, respectively\n",
        "\n",
        "* Reward function: r(s, a, s′) is the incentive mechanism for an agent to learn a better action. The change of the portfolio value when action a is taken at state s and arriving at new state s',  i.e., r(s, a, s′) = v′ − v, where v′ and v represent the portfolio\n",
        "values at state s′ and s, respectively\n",
        "\n",
        "* State: The state space describes the observations that the agent receives from the environment. Just as a human trader needs to analyze various information before executing a trade, so\n",
        "our trading agent observes many different features to better learn in an interactive environment.\n",
        "\n",
        "* Environment: Dow 30 consituents\n",
        "\n",
        "\n",
        "The data of the single stock that we will be using for this case study is obtained from Yahoo Finance API. The data contains Open-High-Low-Close price and volume.\n"
      ]
    },
    {
      "cell_type": "markdown",
      "metadata": {
        "id": "Ffsre789LY08"
      },
      "source": [
        "<a id='1'></a>\n",
        "# Part 2. Getting Started- Load Python Packages"
      ]
    },
    {
      "cell_type": "markdown",
      "metadata": {
        "id": "Uy5_PTmOh1hj"
      },
      "source": [
        "<a id='1.1'></a>\n",
        "## 2.1. Install all the packages through FinRL library\n"
      ]
    },
    {
      "cell_type": "code",
      "metadata": {
        "id": "mPT0ipYE28wL",
        "colab": {
          "base_uri": "https://localhost:8080/",
          "height": 1000
        },
        "outputId": "86192b21-0903-4599-eb69-6c9ddd806aad"
      },
      "source": [
        "## install finrl library\n",
        "!pip install git+https://github.com/AI4Finance-LLC/FinRL-Library.git"
      ],
      "execution_count": 1,
      "outputs": [
        {
          "output_type": "stream",
          "text": [
            "Collecting git+https://github.com/AI4Finance-LLC/FinRL-Library.git\n",
            "  Cloning https://github.com/AI4Finance-LLC/FinRL-Library.git to /tmp/pip-req-build-2vhau3yr\n",
            "  Running command git clone -q https://github.com/AI4Finance-LLC/FinRL-Library.git /tmp/pip-req-build-2vhau3yr\n",
            "Requirement already satisfied: numpy<1.19.0,>=1.16.0 in /usr/local/lib/python3.6/dist-packages (from finrl==0.0.1) (1.18.5)\n",
            "Requirement already satisfied: pandas==1.1.4 in /usr/local/lib/python3.6/dist-packages (from finrl==0.0.1) (1.1.4)\n",
            "Collecting stockstats\n",
            "  Downloading https://files.pythonhosted.org/packages/32/41/d3828c5bc0a262cb3112a4024108a3b019c183fa3b3078bff34bf25abf91/stockstats-0.3.2-py2.py3-none-any.whl\n",
            "Collecting yfinance\n",
            "  Downloading https://files.pythonhosted.org/packages/7a/e8/b9d7104d3a4bf39924799067592d9e59119fcfc900a425a12e80a3123ec8/yfinance-0.1.55.tar.gz\n",
            "Collecting scikit-learn==0.21.0\n",
            "\u001b[?25l  Downloading https://files.pythonhosted.org/packages/b7/6c/ec121123c671d980c6969dfc69d0f09e1d7f88d80d373f511e61d773b85c/scikit_learn-0.21.0-cp36-cp36m-manylinux1_x86_64.whl (6.6MB)\n",
            "\u001b[K     |████████████████████████████████| 6.6MB 5.2MB/s \n",
            "\u001b[?25hCollecting gym==0.15.3\n",
            "\u001b[?25l  Downloading https://files.pythonhosted.org/packages/d2/88/a7186ffe1f33570ad3b8cd635996e5a3e3e155736e180ae6a2ad5e826a60/gym-0.15.3.tar.gz (1.6MB)\n",
            "\u001b[K     |████████████████████████████████| 1.6MB 38.5MB/s \n",
            "\u001b[?25hCollecting stable-baselines[mpi]\n",
            "\u001b[?25l  Downloading https://files.pythonhosted.org/packages/b0/48/d428b79bd4360727925f9fe34afeea7a9da381da3dc8748df834a349ad1d/stable_baselines-2.10.1-py3-none-any.whl (240kB)\n",
            "\u001b[K     |████████████████████████████████| 245kB 37.3MB/s \n",
            "\u001b[?25hCollecting tensorflow==1.15.4\n",
            "\u001b[?25l  Downloading https://files.pythonhosted.org/packages/8e/64/7a19837dd54d3f53b1ce5ae346ab401dde9678e8f233220317000bfdb3e2/tensorflow-1.15.4-cp36-cp36m-manylinux2010_x86_64.whl (110.5MB)\n",
            "\u001b[K     |████████████████████████████████| 110.5MB 36kB/s \n",
            "\u001b[?25hCollecting joblib==0.15.1\n",
            "\u001b[?25l  Downloading https://files.pythonhosted.org/packages/b8/a6/d1a816b89aa1e9e96bcb298eb1ee1854f21662ebc6d55ffa3d7b3b50122b/joblib-0.15.1-py3-none-any.whl (298kB)\n",
            "\u001b[K     |████████████████████████████████| 307kB 46.7MB/s \n",
            "\u001b[?25hCollecting matplotlib==3.2.1\n",
            "\u001b[?25l  Downloading https://files.pythonhosted.org/packages/93/4b/52da6b1523d5139d04e02d9e26ceda6146b48f2a4e5d2abfdf1c7bac8c40/matplotlib-3.2.1-cp36-cp36m-manylinux1_x86_64.whl (12.4MB)\n",
            "\u001b[K     |████████████████████████████████| 12.4MB 41.5MB/s \n",
            "\u001b[?25hCollecting pytest<6.0.0,>=5.3.2\n",
            "\u001b[?25l  Downloading https://files.pythonhosted.org/packages/9f/f3/0a83558da436a081344aa6c8b85ea5b5f05071214106036ce341b7769b0b/pytest-5.4.3-py3-none-any.whl (248kB)\n",
            "\u001b[K     |████████████████████████████████| 256kB 46.5MB/s \n",
            "\u001b[?25hCollecting setuptools<42.0.0,>=41.4.0\n",
            "\u001b[?25l  Downloading https://files.pythonhosted.org/packages/d9/de/554b6310ac87c5b921bc45634b07b11394fe63bc4cb5176f5240addf18ab/setuptools-41.6.0-py2.py3-none-any.whl (582kB)\n",
            "\u001b[K     |████████████████████████████████| 583kB 41.9MB/s \n",
            "\u001b[?25hCollecting wheel<0.34.0,>=0.33.6\n",
            "  Downloading https://files.pythonhosted.org/packages/00/83/b4a77d044e78ad1a45610eb88f745be2fd2c6d658f9798a15e384b7d57c9/wheel-0.33.6-py2.py3-none-any.whl\n",
            "Collecting pyfolio@ git+https://github.com/quantopian/pyfolio.git#egg=pyfolio-0.9.2\n",
            "  Cloning https://github.com/quantopian/pyfolio.git to /tmp/pip-install-u3x8lltu/pyfolio\n",
            "  Running command git clone -q https://github.com/quantopian/pyfolio.git /tmp/pip-install-u3x8lltu/pyfolio\n",
            "Requirement already satisfied: pytz>=2017.2 in /usr/local/lib/python3.6/dist-packages (from pandas==1.1.4->finrl==0.0.1) (2018.9)\n",
            "Requirement already satisfied: python-dateutil>=2.7.3 in /usr/local/lib/python3.6/dist-packages (from pandas==1.1.4->finrl==0.0.1) (2.8.1)\n",
            "Collecting int-date>=0.1.7\n",
            "  Downloading https://files.pythonhosted.org/packages/43/27/31803df15173ab341fe7548c14154b54227dfd8f630daa09a1c6e7db52f7/int_date-0.1.8-py2.py3-none-any.whl\n",
            "Requirement already satisfied: requests>=2.20 in /usr/local/lib/python3.6/dist-packages (from yfinance->finrl==0.0.1) (2.23.0)\n",
            "Requirement already satisfied: multitasking>=0.0.7 in /usr/local/lib/python3.6/dist-packages (from yfinance->finrl==0.0.1) (0.0.9)\n",
            "Collecting lxml>=4.5.1\n",
            "\u001b[?25l  Downloading https://files.pythonhosted.org/packages/bd/78/56a7c88a57d0d14945472535d0df9fb4bbad7d34ede658ec7961635c790e/lxml-4.6.2-cp36-cp36m-manylinux1_x86_64.whl (5.5MB)\n",
            "\u001b[K     |████████████████████████████████| 5.5MB 42.1MB/s \n",
            "\u001b[?25hRequirement already satisfied: scipy>=0.17.0 in /usr/local/lib/python3.6/dist-packages (from scikit-learn==0.21.0->finrl==0.0.1) (1.4.1)\n",
            "Requirement already satisfied: six in /usr/local/lib/python3.6/dist-packages (from gym==0.15.3->finrl==0.0.1) (1.15.0)\n",
            "Collecting pyglet<=1.3.2,>=1.2.0\n",
            "\u001b[?25l  Downloading https://files.pythonhosted.org/packages/1c/fc/dad5eaaab68f0c21e2f906a94ddb98175662cc5a654eee404d59554ce0fa/pyglet-1.3.2-py2.py3-none-any.whl (1.0MB)\n",
            "\u001b[K     |████████████████████████████████| 1.0MB 39.9MB/s \n",
            "\u001b[?25hCollecting cloudpickle~=1.2.0\n",
            "  Downloading https://files.pythonhosted.org/packages/c1/49/334e279caa3231255725c8e860fa93e72083567625573421db8875846c14/cloudpickle-1.2.2-py2.py3-none-any.whl\n",
            "Requirement already satisfied: opencv-python in /usr/local/lib/python3.6/dist-packages (from stable-baselines[mpi]->finrl==0.0.1) (4.1.2.30)\n",
            "Collecting mpi4py; extra == \"mpi\"\n",
            "\u001b[?25l  Downloading https://files.pythonhosted.org/packages/ec/8f/bbd8de5ba566dd77e408d8136e2bab7fdf2b97ce06cab830ba8b50a2f588/mpi4py-3.0.3.tar.gz (1.4MB)\n",
            "\u001b[K     |████████████████████████████████| 1.4MB 37.7MB/s \n",
            "\u001b[?25hCollecting gast==0.2.2\n",
            "  Downloading https://files.pythonhosted.org/packages/4e/35/11749bf99b2d4e3cceb4d55ca22590b0d7c2c62b9de38ac4a4a7f4687421/gast-0.2.2.tar.gz\n",
            "Requirement already satisfied: astor>=0.6.0 in /usr/local/lib/python3.6/dist-packages (from tensorflow==1.15.4->finrl==0.0.1) (0.8.1)\n",
            "Requirement already satisfied: termcolor>=1.1.0 in /usr/local/lib/python3.6/dist-packages (from tensorflow==1.15.4->finrl==0.0.1) (1.1.0)\n",
            "Requirement already satisfied: google-pasta>=0.1.6 in /usr/local/lib/python3.6/dist-packages (from tensorflow==1.15.4->finrl==0.0.1) (0.2.0)\n",
            "Requirement already satisfied: protobuf>=3.6.1 in /usr/local/lib/python3.6/dist-packages (from tensorflow==1.15.4->finrl==0.0.1) (3.12.4)\n",
            "Requirement already satisfied: keras-preprocessing>=1.0.5 in /usr/local/lib/python3.6/dist-packages (from tensorflow==1.15.4->finrl==0.0.1) (1.1.2)\n",
            "Collecting keras-applications>=1.0.8\n",
            "\u001b[?25l  Downloading https://files.pythonhosted.org/packages/71/e3/19762fdfc62877ae9102edf6342d71b28fbfd9dea3d2f96a882ce099b03f/Keras_Applications-1.0.8-py3-none-any.whl (50kB)\n",
            "\u001b[K     |████████████████████████████████| 51kB 5.4MB/s \n",
            "\u001b[?25hRequirement already satisfied: opt-einsum>=2.3.2 in /usr/local/lib/python3.6/dist-packages (from tensorflow==1.15.4->finrl==0.0.1) (3.3.0)\n",
            "Collecting tensorboard<1.16.0,>=1.15.0\n",
            "\u001b[?25l  Downloading https://files.pythonhosted.org/packages/1e/e9/d3d747a97f7188f48aa5eda486907f3b345cd409f0a0850468ba867db246/tensorboard-1.15.0-py3-none-any.whl (3.8MB)\n",
            "\u001b[K     |████████████████████████████████| 3.8MB 40.0MB/s \n",
            "\u001b[?25hRequirement already satisfied: grpcio>=1.8.6 in /usr/local/lib/python3.6/dist-packages (from tensorflow==1.15.4->finrl==0.0.1) (1.33.2)\n",
            "Requirement already satisfied: wrapt>=1.11.1 in /usr/local/lib/python3.6/dist-packages (from tensorflow==1.15.4->finrl==0.0.1) (1.12.1)\n",
            "Requirement already satisfied: absl-py>=0.7.0 in /usr/local/lib/python3.6/dist-packages (from tensorflow==1.15.4->finrl==0.0.1) (0.10.0)\n",
            "Collecting tensorflow-estimator==1.15.1\n",
            "\u001b[?25l  Downloading https://files.pythonhosted.org/packages/de/62/2ee9cd74c9fa2fa450877847ba560b260f5d0fb70ee0595203082dafcc9d/tensorflow_estimator-1.15.1-py2.py3-none-any.whl (503kB)\n",
            "\u001b[K     |████████████████████████████████| 512kB 46.2MB/s \n",
            "\u001b[?25hRequirement already satisfied: cycler>=0.10 in /usr/local/lib/python3.6/dist-packages (from matplotlib==3.2.1->finrl==0.0.1) (0.10.0)\n",
            "Requirement already satisfied: pyparsing!=2.0.4,!=2.1.2,!=2.1.6,>=2.0.1 in /usr/local/lib/python3.6/dist-packages (from matplotlib==3.2.1->finrl==0.0.1) (2.4.7)\n",
            "Requirement already satisfied: kiwisolver>=1.0.1 in /usr/local/lib/python3.6/dist-packages (from matplotlib==3.2.1->finrl==0.0.1) (1.3.1)\n",
            "Requirement already satisfied: packaging in /usr/local/lib/python3.6/dist-packages (from pytest<6.0.0,>=5.3.2->finrl==0.0.1) (20.4)\n",
            "Requirement already satisfied: py>=1.5.0 in /usr/local/lib/python3.6/dist-packages (from pytest<6.0.0,>=5.3.2->finrl==0.0.1) (1.9.0)\n",
            "Requirement already satisfied: importlib-metadata>=0.12; python_version < \"3.8\" in /usr/local/lib/python3.6/dist-packages (from pytest<6.0.0,>=5.3.2->finrl==0.0.1) (2.0.0)\n",
            "Requirement already satisfied: attrs>=17.4.0 in /usr/local/lib/python3.6/dist-packages (from pytest<6.0.0,>=5.3.2->finrl==0.0.1) (20.3.0)\n",
            "Requirement already satisfied: wcwidth in /usr/local/lib/python3.6/dist-packages (from pytest<6.0.0,>=5.3.2->finrl==0.0.1) (0.2.5)\n",
            "Collecting pluggy<1.0,>=0.12\n",
            "  Downloading https://files.pythonhosted.org/packages/a0/28/85c7aa31b80d150b772fbe4a229487bc6644da9ccb7e427dd8cc60cb8a62/pluggy-0.13.1-py2.py3-none-any.whl\n",
            "Requirement already satisfied: more-itertools>=4.0.0 in /usr/local/lib/python3.6/dist-packages (from pytest<6.0.0,>=5.3.2->finrl==0.0.1) (8.6.0)\n",
            "Requirement already satisfied: ipython>=3.2.3 in /usr/local/lib/python3.6/dist-packages (from pyfolio@ git+https://github.com/quantopian/pyfolio.git#egg=pyfolio-0.9.2->finrl==0.0.1) (5.5.0)\n",
            "Requirement already satisfied: seaborn>=0.7.1 in /usr/local/lib/python3.6/dist-packages (from pyfolio@ git+https://github.com/quantopian/pyfolio.git#egg=pyfolio-0.9.2->finrl==0.0.1) (0.11.0)\n",
            "Collecting empyrical>=0.5.0\n",
            "\u001b[?25l  Downloading https://files.pythonhosted.org/packages/74/43/1b997c21411c6ab7c96dc034e160198272c7a785aeea7654c9bcf98bec83/empyrical-0.5.5.tar.gz (52kB)\n",
            "\u001b[K     |████████████████████████████████| 61kB 6.2MB/s \n",
            "\u001b[?25hRequirement already satisfied: chardet<4,>=3.0.2 in /usr/local/lib/python3.6/dist-packages (from requests>=2.20->yfinance->finrl==0.0.1) (3.0.4)\n",
            "Requirement already satisfied: certifi>=2017.4.17 in /usr/local/lib/python3.6/dist-packages (from requests>=2.20->yfinance->finrl==0.0.1) (2020.11.8)\n",
            "Requirement already satisfied: idna<3,>=2.5 in /usr/local/lib/python3.6/dist-packages (from requests>=2.20->yfinance->finrl==0.0.1) (2.10)\n",
            "Requirement already satisfied: urllib3!=1.25.0,!=1.25.1,<1.26,>=1.21.1 in /usr/local/lib/python3.6/dist-packages (from requests>=2.20->yfinance->finrl==0.0.1) (1.24.3)\n",
            "Requirement already satisfied: future in /usr/local/lib/python3.6/dist-packages (from pyglet<=1.3.2,>=1.2.0->gym==0.15.3->finrl==0.0.1) (0.16.0)\n",
            "Requirement already satisfied: h5py in /usr/local/lib/python3.6/dist-packages (from keras-applications>=1.0.8->tensorflow==1.15.4->finrl==0.0.1) (2.10.0)\n",
            "Requirement already satisfied: markdown>=2.6.8 in /usr/local/lib/python3.6/dist-packages (from tensorboard<1.16.0,>=1.15.0->tensorflow==1.15.4->finrl==0.0.1) (3.3.3)\n",
            "Requirement already satisfied: werkzeug>=0.11.15 in /usr/local/lib/python3.6/dist-packages (from tensorboard<1.16.0,>=1.15.0->tensorflow==1.15.4->finrl==0.0.1) (1.0.1)\n",
            "Requirement already satisfied: zipp>=0.5 in /usr/local/lib/python3.6/dist-packages (from importlib-metadata>=0.12; python_version < \"3.8\"->pytest<6.0.0,>=5.3.2->finrl==0.0.1) (3.4.0)\n",
            "Requirement already satisfied: traitlets>=4.2 in /usr/local/lib/python3.6/dist-packages (from ipython>=3.2.3->pyfolio@ git+https://github.com/quantopian/pyfolio.git#egg=pyfolio-0.9.2->finrl==0.0.1) (4.3.3)\n",
            "Requirement already satisfied: pickleshare in /usr/local/lib/python3.6/dist-packages (from ipython>=3.2.3->pyfolio@ git+https://github.com/quantopian/pyfolio.git#egg=pyfolio-0.9.2->finrl==0.0.1) (0.7.5)\n",
            "Requirement already satisfied: prompt-toolkit<2.0.0,>=1.0.4 in /usr/local/lib/python3.6/dist-packages (from ipython>=3.2.3->pyfolio@ git+https://github.com/quantopian/pyfolio.git#egg=pyfolio-0.9.2->finrl==0.0.1) (1.0.18)\n",
            "Requirement already satisfied: decorator in /usr/local/lib/python3.6/dist-packages (from ipython>=3.2.3->pyfolio@ git+https://github.com/quantopian/pyfolio.git#egg=pyfolio-0.9.2->finrl==0.0.1) (4.4.2)\n",
            "Requirement already satisfied: pygments in /usr/local/lib/python3.6/dist-packages (from ipython>=3.2.3->pyfolio@ git+https://github.com/quantopian/pyfolio.git#egg=pyfolio-0.9.2->finrl==0.0.1) (2.6.1)\n",
            "Requirement already satisfied: pexpect; sys_platform != \"win32\" in /usr/local/lib/python3.6/dist-packages (from ipython>=3.2.3->pyfolio@ git+https://github.com/quantopian/pyfolio.git#egg=pyfolio-0.9.2->finrl==0.0.1) (4.8.0)\n",
            "Requirement already satisfied: simplegeneric>0.8 in /usr/local/lib/python3.6/dist-packages (from ipython>=3.2.3->pyfolio@ git+https://github.com/quantopian/pyfolio.git#egg=pyfolio-0.9.2->finrl==0.0.1) (0.8.1)\n",
            "Requirement already satisfied: pandas-datareader>=0.2 in /usr/local/lib/python3.6/dist-packages (from empyrical>=0.5.0->pyfolio@ git+https://github.com/quantopian/pyfolio.git#egg=pyfolio-0.9.2->finrl==0.0.1) (0.9.0)\n",
            "Requirement already satisfied: ipython-genutils in /usr/local/lib/python3.6/dist-packages (from traitlets>=4.2->ipython>=3.2.3->pyfolio@ git+https://github.com/quantopian/pyfolio.git#egg=pyfolio-0.9.2->finrl==0.0.1) (0.2.0)\n",
            "Requirement already satisfied: ptyprocess>=0.5 in /usr/local/lib/python3.6/dist-packages (from pexpect; sys_platform != \"win32\"->ipython>=3.2.3->pyfolio@ git+https://github.com/quantopian/pyfolio.git#egg=pyfolio-0.9.2->finrl==0.0.1) (0.6.0)\n",
            "Building wheels for collected packages: finrl, yfinance, gym, pyfolio, mpi4py, gast, empyrical\n",
            "  Building wheel for finrl (setup.py) ... \u001b[?25l\u001b[?25hdone\n",
            "  Created wheel for finrl: filename=finrl-0.0.1-cp36-none-any.whl size=24269 sha256=024479b59cce8ceee66342fcf0a3203a8247cd06823480230dfd7c7762fc7b71\n",
            "  Stored in directory: /tmp/pip-ephem-wheel-cache-2kwa6fie/wheels/9c/19/bf/c644def96612df1ad42c94d5304966797eaa3221dffc5efe0b\n",
            "  Building wheel for yfinance (setup.py) ... \u001b[?25l\u001b[?25hdone\n",
            "  Created wheel for yfinance: filename=yfinance-0.1.55-py2.py3-none-any.whl size=22618 sha256=1d72f8d26e9c91a0dbb761ebbf3f08cd7aa0d174a7bfbfc26a6ef6133140f86f\n",
            "  Stored in directory: /root/.cache/pip/wheels/04/98/cc/2702a4242d60bdc14f48b4557c427ded1fe92aedf257d4565c\n",
            "  Building wheel for gym (setup.py) ... \u001b[?25l\u001b[?25hdone\n",
            "  Created wheel for gym: filename=gym-0.15.3-cp36-none-any.whl size=1644971 sha256=906e72507fdebb86344c9d8fc4bbeaa691bcf37c4727aaa3cdd6dcccd1cc2a2c\n",
            "  Stored in directory: /root/.cache/pip/wheels/8a/71/10/30f9b16332ecfd6318ac290445c696fe809bcbe40a05f9a799\n",
            "  Building wheel for pyfolio (setup.py) ... \u001b[?25l\u001b[?25hdone\n",
            "  Created wheel for pyfolio: filename=pyfolio-0.9.2+75.g4b901f6-cp36-none-any.whl size=75764 sha256=2f25f14c26ff54d97146c26a1cc7215fd6bc2ef87bc0eba34bc353f4abaeb8e4\n",
            "  Stored in directory: /tmp/pip-ephem-wheel-cache-2kwa6fie/wheels/43/ce/d9/6752fb6e03205408773235435205a0519d2c608a94f1976e56\n",
            "  Building wheel for mpi4py (setup.py) ... \u001b[?25l\u001b[?25hdone\n",
            "  Created wheel for mpi4py: filename=mpi4py-3.0.3-cp36-cp36m-linux_x86_64.whl size=2074491 sha256=906c1f3782ed3ad00b089644e359d7e4c0c497d4aa4f64746c6a332cc1d07fb9\n",
            "  Stored in directory: /root/.cache/pip/wheels/18/e0/86/2b713dd512199096012ceca61429e12b960888de59818871d6\n",
            "  Building wheel for gast (setup.py) ... \u001b[?25l\u001b[?25hdone\n",
            "  Created wheel for gast: filename=gast-0.2.2-cp36-none-any.whl size=7542 sha256=14b2bb4f7dc73a25cfbbab4197f6ed21e7b25cb501726138518af574628c6fee\n",
            "  Stored in directory: /root/.cache/pip/wheels/5c/2e/7e/a1d4d4fcebe6c381f378ce7743a3ced3699feb89bcfbdadadd\n",
            "  Building wheel for empyrical (setup.py) ... \u001b[?25l\u001b[?25hdone\n",
            "  Created wheel for empyrical: filename=empyrical-0.5.5-cp36-none-any.whl size=39763 sha256=c9df572871640c03a4e15714fbae8d8d8ad572a80bb1eb454a812536ed3427df\n",
            "  Stored in directory: /root/.cache/pip/wheels/ea/b2/c8/6769d8444d2f2e608fae2641833110668d0ffd1abeb2e9f3fc\n",
            "Successfully built finrl yfinance gym pyfolio mpi4py gast empyrical\n",
            "\u001b[31mERROR: tensorflow-probability 0.11.0 has requirement cloudpickle==1.3, but you'll have cloudpickle 1.2.2 which is incompatible.\u001b[0m\n",
            "\u001b[31mERROR: tensorflow-probability 0.11.0 has requirement gast>=0.3.2, but you'll have gast 0.2.2 which is incompatible.\u001b[0m\n",
            "\u001b[31mERROR: datascience 0.10.6 has requirement folium==0.2.1, but you'll have folium 0.8.3 which is incompatible.\u001b[0m\n",
            "\u001b[31mERROR: albumentations 0.1.12 has requirement imgaug<0.2.7,>=0.2.5, but you'll have imgaug 0.2.9 which is incompatible.\u001b[0m\n",
            "Installing collected packages: int-date, stockstats, lxml, yfinance, joblib, scikit-learn, pyglet, cloudpickle, gym, matplotlib, mpi4py, stable-baselines, gast, keras-applications, wheel, setuptools, tensorboard, tensorflow-estimator, tensorflow, pluggy, pytest, empyrical, pyfolio, finrl\n",
            "  Found existing installation: lxml 4.2.6\n",
            "    Uninstalling lxml-4.2.6:\n",
            "      Successfully uninstalled lxml-4.2.6\n",
            "  Found existing installation: joblib 0.17.0\n",
            "    Uninstalling joblib-0.17.0:\n",
            "      Successfully uninstalled joblib-0.17.0\n",
            "  Found existing installation: scikit-learn 0.22.2.post1\n",
            "    Uninstalling scikit-learn-0.22.2.post1:\n",
            "      Successfully uninstalled scikit-learn-0.22.2.post1\n",
            "  Found existing installation: pyglet 1.5.0\n",
            "    Uninstalling pyglet-1.5.0:\n",
            "      Successfully uninstalled pyglet-1.5.0\n",
            "  Found existing installation: cloudpickle 1.3.0\n",
            "    Uninstalling cloudpickle-1.3.0:\n",
            "      Successfully uninstalled cloudpickle-1.3.0\n",
            "  Found existing installation: gym 0.17.3\n",
            "    Uninstalling gym-0.17.3:\n",
            "      Successfully uninstalled gym-0.17.3\n",
            "  Found existing installation: matplotlib 3.2.2\n",
            "    Uninstalling matplotlib-3.2.2:\n",
            "      Successfully uninstalled matplotlib-3.2.2\n",
            "  Found existing installation: gast 0.3.3\n",
            "    Uninstalling gast-0.3.3:\n",
            "      Successfully uninstalled gast-0.3.3\n",
            "  Found existing installation: wheel 0.35.1\n",
            "    Uninstalling wheel-0.35.1:\n",
            "      Successfully uninstalled wheel-0.35.1\n",
            "  Found existing installation: setuptools 50.3.2\n",
            "    Uninstalling setuptools-50.3.2:\n",
            "      Successfully uninstalled setuptools-50.3.2\n",
            "  Found existing installation: tensorboard 2.3.0\n",
            "    Uninstalling tensorboard-2.3.0:\n",
            "      Successfully uninstalled tensorboard-2.3.0\n",
            "  Found existing installation: tensorflow-estimator 2.3.0\n",
            "    Uninstalling tensorflow-estimator-2.3.0:\n",
            "      Successfully uninstalled tensorflow-estimator-2.3.0\n",
            "  Found existing installation: tensorflow 2.3.0\n",
            "    Uninstalling tensorflow-2.3.0:\n",
            "      Successfully uninstalled tensorflow-2.3.0\n",
            "  Found existing installation: pluggy 0.7.1\n",
            "    Uninstalling pluggy-0.7.1:\n",
            "      Successfully uninstalled pluggy-0.7.1\n",
            "  Found existing installation: pytest 3.6.4\n",
            "    Uninstalling pytest-3.6.4:\n",
            "      Successfully uninstalled pytest-3.6.4\n",
            "Successfully installed cloudpickle-1.2.2 empyrical-0.5.5 finrl-0.0.1 gast-0.2.2 gym-0.15.3 int-date-0.1.8 joblib-0.15.1 keras-applications-1.0.8 lxml-4.6.2 matplotlib-3.2.1 mpi4py-3.0.3 pluggy-0.13.1 pyfolio-0.9.2+75.g4b901f6 pyglet-1.3.2 pytest-5.4.3 scikit-learn-0.21.0 setuptools-41.6.0 stable-baselines-2.10.1 stockstats-0.3.2 tensorboard-1.15.0 tensorflow-1.15.4 tensorflow-estimator-1.15.1 wheel-0.33.6 yfinance-0.1.55\n"
          ],
          "name": "stdout"
        },
        {
          "output_type": "display_data",
          "data": {
            "application/vnd.colab-display-data+json": {
              "pip_warning": {
                "packages": [
                  "matplotlib",
                  "mpl_toolkits",
                  "pkg_resources"
                ]
              }
            }
          },
          "metadata": {
            "tags": []
          }
        }
      ]
    },
    {
      "cell_type": "markdown",
      "metadata": {
        "id": "osBHhVysOEzi"
      },
      "source": [
        "\n",
        "<a id='1.2'></a>\n",
        "## 2.2. Check if the additional packages needed are present, if not install them. \n",
        "* Yahoo Finance API\n",
        "* pandas\n",
        "* numpy\n",
        "* matplotlib\n",
        "* stockstats\n",
        "* OpenAI gym\n",
        "* stable-baselines\n",
        "* tensorflow\n",
        "* pyfolio"
      ]
    },
    {
      "cell_type": "code",
      "metadata": {
        "id": "oirvDTJ0h1hk"
      },
      "source": [
        "import pkg_resources\n",
        "import pip\n",
        "installedPackages = {pkg.key for pkg in pkg_resources.working_set}\n",
        "required = {'yfinance', 'pandas','numpy', 'matplotlib', 'stockstats','stable-baselines','gym','tensorflow','pyfolio'}\n",
        "missing = required - installedPackages\n",
        "if missing:\n",
        "    !pip install yfinance\n",
        "    !pip install pandas\n",
        "    !pip install numpy\n",
        "    !pip install matplotlib\n",
        "    !pip install stockstats\n",
        "    !pip install gym\n",
        "    !pip install stable-baselines[mpi]\n",
        "    !pip install tensorflow==1.15.4\n",
        "    !pip install git+https://github.com/quantopian/pyfolio\n"
      ],
      "execution_count": null,
      "outputs": []
    },
    {
      "cell_type": "markdown",
      "metadata": {
        "id": "nGv01K8Sh1hn"
      },
      "source": [
        "<a id='1.3'></a>\n",
        "## 2.3. Import Packages"
      ]
    },
    {
      "cell_type": "code",
      "metadata": {
        "id": "lPqeTTwoh1hn",
        "colab": {
          "base_uri": "https://localhost:8080/"
        },
        "outputId": "aa172c9d-f384-46d8-d8fd-1fff560a446f"
      },
      "source": [
        "import pandas as pd\n",
        "import numpy as np\n",
        "import matplotlib\n",
        "import matplotlib.pyplot as plt\n",
        "matplotlib.use('Agg')\n",
        "import datetime\n",
        "\n",
        "from finrl.config import config\n",
        "from finrl.marketdata.yahoodownloader import YahooDownloader\n",
        "from finrl.preprocessing.preprocessors import FeatureEngineer\n",
        "from finrl.preprocessing.data import data_split\n",
        "from finrl.env.environment import EnvSetup\n",
        "from finrl.env.EnvMultipleStock_train import StockEnvTrain\n",
        "from finrl.env.EnvMultipleStock_trade import StockEnvTrade\n",
        "from finrl.model.models import DRLAgent\n",
        "from finrl.trade.backtest import BackTestStats, BaselineStats, BackTestPlot\n",
        "\n"
      ],
      "execution_count": 2,
      "outputs": [
        {
          "output_type": "stream",
          "text": [
            "WARNING:tensorflow:\n",
            "The TensorFlow contrib module will not be included in TensorFlow 2.0.\n",
            "For more information, please see:\n",
            "  * https://github.com/tensorflow/community/blob/master/rfcs/20180907-contrib-sunset.md\n",
            "  * https://github.com/tensorflow/addons\n",
            "  * https://github.com/tensorflow/io (for I/O related ops)\n",
            "If you depend on functionality not listed there, please file an issue.\n",
            "\n"
          ],
          "name": "stdout"
        },
        {
          "output_type": "stream",
          "text": [
            "/usr/local/lib/python3.6/dist-packages/pyfolio/pos.py:27: UserWarning: Module \"zipline.assets\" not found; multipliers will not be applied to position notionals.\n",
            "  'Module \"zipline.assets\" not found; multipliers will not be applied'\n"
          ],
          "name": "stderr"
        }
      ]
    },
    {
      "cell_type": "markdown",
      "metadata": {
        "id": "T2owTj985RW4"
      },
      "source": [
        "<a id='1.4'></a>\n",
        "## 2.4. Create Folders"
      ]
    },
    {
      "cell_type": "code",
      "metadata": {
        "id": "w9A8CN5R5PuZ"
      },
      "source": [
        "import os\n",
        "if not os.path.exists(\"./\" + config.DATA_SAVE_DIR):\n",
        "    os.makedirs(\"./\" + config.DATA_SAVE_DIR)\n",
        "if not os.path.exists(\"./\" + config.TRAINED_MODEL_DIR):\n",
        "    os.makedirs(\"./\" + config.TRAINED_MODEL_DIR)\n",
        "if not os.path.exists(\"./\" + config.TENSORBOARD_LOG_DIR):\n",
        "    os.makedirs(\"./\" + config.TENSORBOARD_LOG_DIR)\n",
        "if not os.path.exists(\"./\" + config.RESULTS_DIR):\n",
        "    os.makedirs(\"./\" + config.RESULTS_DIR)"
      ],
      "execution_count": 3,
      "outputs": []
    },
    {
      "cell_type": "markdown",
      "metadata": {
        "id": "A289rQWMh1hq"
      },
      "source": [
        "<a id='2'></a>\n",
        "# Part 3. Download Data\n",
        "Yahoo Finance is a website that provides stock data, financial news, financial reports, etc. All the data provided by Yahoo Finance is free.\n",
        "* FinRL uses a class **YahooDownloader** to fetch data from Yahoo Finance API\n",
        "* Call Limit: Using the Public API (without authentication), you are limited to 2,000 requests per hour per IP (or up to a total of 48,000 requests a day).\n"
      ]
    },
    {
      "cell_type": "markdown",
      "metadata": {
        "id": "NPeQ7iS-LoMm"
      },
      "source": [
        "\n",
        "\n",
        "-----\n",
        "class YahooDownloader:\n",
        "    Provides methods for retrieving daily stock data from\n",
        "    Yahoo Finance API\n",
        "\n",
        "    Attributes\n",
        "    ----------\n",
        "        start_date : str\n",
        "            start date of the data (modified from config.py)\n",
        "        end_date : str\n",
        "            end date of the data (modified from config.py)\n",
        "        ticker_list : list\n",
        "            a list of stock tickers (modified from config.py)\n",
        "\n",
        "    Methods\n",
        "    -------\n",
        "    fetch_data()\n",
        "        Fetches data from yahoo API\n"
      ]
    },
    {
      "cell_type": "code",
      "metadata": {
        "colab": {
          "base_uri": "https://localhost:8080/",
          "height": 35
        },
        "id": "h3XJnvrbLp-C",
        "outputId": "66dc93cb-8691-4987-abd9-dcc6cc9669a8"
      },
      "source": [
        "# from config.py start_date is a string\n",
        "config.START_DATE"
      ],
      "execution_count": 4,
      "outputs": [
        {
          "output_type": "execute_result",
          "data": {
            "application/vnd.google.colaboratory.intrinsic+json": {
              "type": "string"
            },
            "text/plain": [
              "'2009-01-01'"
            ]
          },
          "metadata": {
            "tags": []
          },
          "execution_count": 4
        }
      ]
    },
    {
      "cell_type": "code",
      "metadata": {
        "colab": {
          "base_uri": "https://localhost:8080/",
          "height": 35
        },
        "id": "FUnY8WEfLq3C",
        "outputId": "aa7a631b-78f3-4cd5-c56c-12a81e008633"
      },
      "source": [
        "# from config.py end_date is a string\n",
        "config.END_DATE"
      ],
      "execution_count": 5,
      "outputs": [
        {
          "output_type": "execute_result",
          "data": {
            "application/vnd.google.colaboratory.intrinsic+json": {
              "type": "string"
            },
            "text/plain": [
              "'2020-09-30'"
            ]
          },
          "metadata": {
            "tags": []
          },
          "execution_count": 5
        }
      ]
    },
    {
      "cell_type": "code",
      "metadata": {
        "id": "yCKm4om-s9kE",
        "colab": {
          "base_uri": "https://localhost:8080/"
        },
        "outputId": "a9c43bad-738e-43f6-b0c4-e46766a8b194"
      },
      "source": [
        "df = YahooDownloader(start_date = config.START_DATE,\n",
        "                     end_date = config.END_DATE,\n",
        "                     ticker_list = config.DOW_30_TICKER).fetch_data()"
      ],
      "execution_count": 6,
      "outputs": [
        {
          "output_type": "stream",
          "text": [
            "[*********************100%***********************]  1 of 1 completed\n",
            "[*********************100%***********************]  1 of 1 completed\n",
            "[*********************100%***********************]  1 of 1 completed\n",
            "[*********************100%***********************]  1 of 1 completed\n",
            "[*********************100%***********************]  1 of 1 completed\n",
            "[*********************100%***********************]  1 of 1 completed\n",
            "[*********************100%***********************]  1 of 1 completed\n",
            "[*********************100%***********************]  1 of 1 completed\n",
            "[*********************100%***********************]  1 of 1 completed\n",
            "[*********************100%***********************]  1 of 1 completed\n",
            "[*********************100%***********************]  1 of 1 completed\n",
            "[*********************100%***********************]  1 of 1 completed\n",
            "[*********************100%***********************]  1 of 1 completed\n",
            "[*********************100%***********************]  1 of 1 completed\n",
            "[*********************100%***********************]  1 of 1 completed\n",
            "[*********************100%***********************]  1 of 1 completed\n",
            "[*********************100%***********************]  1 of 1 completed\n",
            "[*********************100%***********************]  1 of 1 completed\n",
            "[*********************100%***********************]  1 of 1 completed\n",
            "[*********************100%***********************]  1 of 1 completed\n",
            "[*********************100%***********************]  1 of 1 completed\n",
            "[*********************100%***********************]  1 of 1 completed\n",
            "[*********************100%***********************]  1 of 1 completed\n",
            "[*********************100%***********************]  1 of 1 completed\n",
            "[*********************100%***********************]  1 of 1 completed\n",
            "[*********************100%***********************]  1 of 1 completed\n",
            "[*********************100%***********************]  1 of 1 completed\n",
            "[*********************100%***********************]  1 of 1 completed\n",
            "[*********************100%***********************]  1 of 1 completed\n",
            "[*********************100%***********************]  1 of 1 completed\n",
            "Shape of DataFrame:  (88680, 7)\n"
          ],
          "name": "stdout"
        }
      ]
    },
    {
      "cell_type": "code",
      "metadata": {
        "id": "CV3HrZHLh1hy",
        "colab": {
          "base_uri": "https://localhost:8080/"
        },
        "outputId": "86f9a293-f289-4970-ad82-b5d9ee170e22"
      },
      "source": [
        "df.shape"
      ],
      "execution_count": 7,
      "outputs": [
        {
          "output_type": "execute_result",
          "data": {
            "text/plain": [
              "(88680, 7)"
            ]
          },
          "metadata": {
            "tags": []
          },
          "execution_count": 7
        }
      ]
    },
    {
      "cell_type": "code",
      "metadata": {
        "id": "fYeJzIaVh1h1",
        "colab": {
          "base_uri": "https://localhost:8080/",
          "height": 202
        },
        "outputId": "c5539eea-75ce-4668-f970-241a6946c2c9"
      },
      "source": [
        "df.head()"
      ],
      "execution_count": 8,
      "outputs": [
        {
          "output_type": "execute_result",
          "data": {
            "text/html": [
              "<div>\n",
              "<style scoped>\n",
              "    .dataframe tbody tr th:only-of-type {\n",
              "        vertical-align: middle;\n",
              "    }\n",
              "\n",
              "    .dataframe tbody tr th {\n",
              "        vertical-align: top;\n",
              "    }\n",
              "\n",
              "    .dataframe thead th {\n",
              "        text-align: right;\n",
              "    }\n",
              "</style>\n",
              "<table border=\"1\" class=\"dataframe\">\n",
              "  <thead>\n",
              "    <tr style=\"text-align: right;\">\n",
              "      <th></th>\n",
              "      <th>date</th>\n",
              "      <th>open</th>\n",
              "      <th>high</th>\n",
              "      <th>low</th>\n",
              "      <th>close</th>\n",
              "      <th>volume</th>\n",
              "      <th>tic</th>\n",
              "    </tr>\n",
              "  </thead>\n",
              "  <tbody>\n",
              "    <tr>\n",
              "      <th>0</th>\n",
              "      <td>2009-01-02</td>\n",
              "      <td>3.067143</td>\n",
              "      <td>3.251429</td>\n",
              "      <td>3.041429</td>\n",
              "      <td>2.773207</td>\n",
              "      <td>7.460152e+08</td>\n",
              "      <td>AAPL</td>\n",
              "    </tr>\n",
              "    <tr>\n",
              "      <th>1</th>\n",
              "      <td>2009-01-05</td>\n",
              "      <td>3.327500</td>\n",
              "      <td>3.435000</td>\n",
              "      <td>3.311071</td>\n",
              "      <td>2.890248</td>\n",
              "      <td>1.181608e+09</td>\n",
              "      <td>AAPL</td>\n",
              "    </tr>\n",
              "    <tr>\n",
              "      <th>2</th>\n",
              "      <td>2009-01-06</td>\n",
              "      <td>3.426786</td>\n",
              "      <td>3.470357</td>\n",
              "      <td>3.299643</td>\n",
              "      <td>2.842576</td>\n",
              "      <td>1.289310e+09</td>\n",
              "      <td>AAPL</td>\n",
              "    </tr>\n",
              "    <tr>\n",
              "      <th>3</th>\n",
              "      <td>2009-01-07</td>\n",
              "      <td>3.278929</td>\n",
              "      <td>3.303571</td>\n",
              "      <td>3.223572</td>\n",
              "      <td>2.781153</td>\n",
              "      <td>7.530488e+08</td>\n",
              "      <td>AAPL</td>\n",
              "    </tr>\n",
              "    <tr>\n",
              "      <th>4</th>\n",
              "      <td>2009-01-08</td>\n",
              "      <td>3.229643</td>\n",
              "      <td>3.326786</td>\n",
              "      <td>3.215714</td>\n",
              "      <td>2.832797</td>\n",
              "      <td>6.735008e+08</td>\n",
              "      <td>AAPL</td>\n",
              "    </tr>\n",
              "  </tbody>\n",
              "</table>\n",
              "</div>"
            ],
            "text/plain": [
              "         date      open      high       low     close        volume   tic\n",
              "0  2009-01-02  3.067143  3.251429  3.041429  2.773207  7.460152e+08  AAPL\n",
              "1  2009-01-05  3.327500  3.435000  3.311071  2.890248  1.181608e+09  AAPL\n",
              "2  2009-01-06  3.426786  3.470357  3.299643  2.842576  1.289310e+09  AAPL\n",
              "3  2009-01-07  3.278929  3.303571  3.223572  2.781153  7.530488e+08  AAPL\n",
              "4  2009-01-08  3.229643  3.326786  3.215714  2.832797  6.735008e+08  AAPL"
            ]
          },
          "metadata": {
            "tags": []
          },
          "execution_count": 8
        }
      ]
    },
    {
      "cell_type": "markdown",
      "metadata": {
        "id": "uqC6c40Zh1iH"
      },
      "source": [
        "# Part 4: Preprocess Data\n",
        "Data preprocessing is a crucial step for training a high quality machine learning model. We need to check for missing data and do feature engineering in order to convert the data into a model-ready state.\n",
        "* Add technical indicators. In practical trading, various information needs to be taken into account, for example the historical stock prices, current holding shares, technical indicators, etc. In this article, we demonstrate two trend-following technical indicators: MACD and RSI.\n",
        "* Add turbulence index. Risk-aversion reflects whether an investor will choose to preserve the capital. It also influences one's trading strategy when facing different market volatility level. To control the risk in a worst-case scenario, such as financial crisis of 2007–2008, FinRL employs the financial turbulence index that measures extreme asset price fluctuation."
      ]
    },
    {
      "cell_type": "code",
      "metadata": {
        "id": "Le342Hc1h1iI",
        "colab": {
          "base_uri": "https://localhost:8080/"
        },
        "outputId": "ac550630-0720-4783-a40f-610248378be9"
      },
      "source": [
        "df = FeatureEngineer(df,\n",
        "                    use_technical_indicator=True,\n",
        "                    use_turbulence=True).preprocess_data()"
      ],
      "execution_count": 9,
      "outputs": [
        {
          "output_type": "stream",
          "text": [
            "Successfully added technical indicators\n",
            "Successfully added turbulence index\n"
          ],
          "name": "stdout"
        }
      ]
    },
    {
      "cell_type": "code",
      "metadata": {
        "id": "4qyebQGAh1ik",
        "colab": {
          "base_uri": "https://localhost:8080/",
          "height": 309
        },
        "outputId": "8b200b52-a651-45ad-96db-56f22b6abb7b"
      },
      "source": [
        "df.head()"
      ],
      "execution_count": 10,
      "outputs": [
        {
          "output_type": "execute_result",
          "data": {
            "text/html": [
              "<div>\n",
              "<style scoped>\n",
              "    .dataframe tbody tr th:only-of-type {\n",
              "        vertical-align: middle;\n",
              "    }\n",
              "\n",
              "    .dataframe tbody tr th {\n",
              "        vertical-align: top;\n",
              "    }\n",
              "\n",
              "    .dataframe thead th {\n",
              "        text-align: right;\n",
              "    }\n",
              "</style>\n",
              "<table border=\"1\" class=\"dataframe\">\n",
              "  <thead>\n",
              "    <tr style=\"text-align: right;\">\n",
              "      <th></th>\n",
              "      <th>date</th>\n",
              "      <th>open</th>\n",
              "      <th>high</th>\n",
              "      <th>low</th>\n",
              "      <th>close</th>\n",
              "      <th>volume</th>\n",
              "      <th>tic</th>\n",
              "      <th>macd</th>\n",
              "      <th>rsi_30</th>\n",
              "      <th>cci_30</th>\n",
              "      <th>dx_30</th>\n",
              "      <th>turbulence</th>\n",
              "    </tr>\n",
              "  </thead>\n",
              "  <tbody>\n",
              "    <tr>\n",
              "      <th>0</th>\n",
              "      <td>2009-01-02</td>\n",
              "      <td>3.067143</td>\n",
              "      <td>3.251429</td>\n",
              "      <td>3.041429</td>\n",
              "      <td>2.773207</td>\n",
              "      <td>746015200.0</td>\n",
              "      <td>AAPL</td>\n",
              "      <td>0.0</td>\n",
              "      <td>100.0</td>\n",
              "      <td>66.666667</td>\n",
              "      <td>100.0</td>\n",
              "      <td>0.0</td>\n",
              "    </tr>\n",
              "    <tr>\n",
              "      <th>1</th>\n",
              "      <td>2009-01-02</td>\n",
              "      <td>18.570000</td>\n",
              "      <td>19.520000</td>\n",
              "      <td>18.400000</td>\n",
              "      <td>15.800624</td>\n",
              "      <td>10955700.0</td>\n",
              "      <td>AXP</td>\n",
              "      <td>0.0</td>\n",
              "      <td>100.0</td>\n",
              "      <td>66.666667</td>\n",
              "      <td>100.0</td>\n",
              "      <td>0.0</td>\n",
              "    </tr>\n",
              "    <tr>\n",
              "      <th>2</th>\n",
              "      <td>2009-01-02</td>\n",
              "      <td>42.799999</td>\n",
              "      <td>45.560001</td>\n",
              "      <td>42.779999</td>\n",
              "      <td>33.680935</td>\n",
              "      <td>7010200.0</td>\n",
              "      <td>BA</td>\n",
              "      <td>0.0</td>\n",
              "      <td>100.0</td>\n",
              "      <td>66.666667</td>\n",
              "      <td>100.0</td>\n",
              "      <td>0.0</td>\n",
              "    </tr>\n",
              "    <tr>\n",
              "      <th>3</th>\n",
              "      <td>2009-01-02</td>\n",
              "      <td>44.910000</td>\n",
              "      <td>46.980000</td>\n",
              "      <td>44.709999</td>\n",
              "      <td>32.514400</td>\n",
              "      <td>7117200.0</td>\n",
              "      <td>CAT</td>\n",
              "      <td>0.0</td>\n",
              "      <td>100.0</td>\n",
              "      <td>66.666667</td>\n",
              "      <td>100.0</td>\n",
              "      <td>0.0</td>\n",
              "    </tr>\n",
              "    <tr>\n",
              "      <th>4</th>\n",
              "      <td>2009-01-02</td>\n",
              "      <td>16.410000</td>\n",
              "      <td>17.000000</td>\n",
              "      <td>16.250000</td>\n",
              "      <td>12.786087</td>\n",
              "      <td>40980600.0</td>\n",
              "      <td>CSCO</td>\n",
              "      <td>0.0</td>\n",
              "      <td>100.0</td>\n",
              "      <td>66.666667</td>\n",
              "      <td>100.0</td>\n",
              "      <td>0.0</td>\n",
              "    </tr>\n",
              "  </tbody>\n",
              "</table>\n",
              "</div>"
            ],
            "text/plain": [
              "         date       open       high  ...     cci_30  dx_30  turbulence\n",
              "0  2009-01-02   3.067143   3.251429  ...  66.666667  100.0         0.0\n",
              "1  2009-01-02  18.570000  19.520000  ...  66.666667  100.0         0.0\n",
              "2  2009-01-02  42.799999  45.560001  ...  66.666667  100.0         0.0\n",
              "3  2009-01-02  44.910000  46.980000  ...  66.666667  100.0         0.0\n",
              "4  2009-01-02  16.410000  17.000000  ...  66.666667  100.0         0.0\n",
              "\n",
              "[5 rows x 12 columns]"
            ]
          },
          "metadata": {
            "tags": []
          },
          "execution_count": 10
        }
      ]
    },
    {
      "cell_type": "markdown",
      "metadata": {
        "id": "-QsYaY0Dh1iw"
      },
      "source": [
        "<a id='4'></a>\n",
        "# Part 5. Design Environment\n",
        "Considering the stochastic and interactive nature of the automated stock trading tasks, a financial task is modeled as a **Markov Decision Process (MDP)** problem. The training process involves observing stock price change, taking an action and reward's calculation to have the agent adjusting its strategy accordingly. By interacting with the environment, the trading agent will derive a trading strategy with the maximized rewards as time proceeds.\n",
        "\n",
        "Our trading environments, based on OpenAI Gym framework, simulate live stock markets with real market data according to the principle of time-driven simulation.\n",
        "\n",
        "The action space describes the allowed actions that the agent interacts with the environment. Normally, action a includes three actions: {-1, 0, 1}, where -1, 0, 1 represent selling, holding, and buying one share. Also, an action can be carried upon multiple shares. We use an action space {-k,…,-1, 0, 1, …, k}, where k denotes the number of shares to buy and -k denotes the number of shares to sell. For example, \"Buy 10 shares of AAPL\" or \"Sell 10 shares of AAPL\" are 10 or -10, respectively. The continuous action space needs to be normalized to [-1, 1], since the policy is defined on a Gaussian distribution, which needs to be normalized and symmetric."
      ]
    },
    {
      "cell_type": "markdown",
      "metadata": {
        "id": "5TOhcryx44bb"
      },
      "source": [
        "## Training data split: 2009-01-01 to 2018-12-31\n",
        "## Trade data split: 2019-01-01 to 2020-09-30"
      ]
    },
    {
      "cell_type": "code",
      "metadata": {
        "id": "W0qaVGjLtgbI"
      },
      "source": [
        "train = data_split(df, config.START_DATE,config.START_TRADE_DATE)\n",
        "trade = data_split(df,config.START_TRADE_DATE,config.END_DATE)\n"
      ],
      "execution_count": 11,
      "outputs": []
    },
    {
      "cell_type": "code",
      "metadata": {
        "id": "p52zNCOhTtLR",
        "colab": {
          "base_uri": "https://localhost:8080/",
          "height": 309
        },
        "outputId": "72ec14ff-0a6f-4d2f-b74b-138ddf8f6ef0"
      },
      "source": [
        "train.head()"
      ],
      "execution_count": 12,
      "outputs": [
        {
          "output_type": "execute_result",
          "data": {
            "text/html": [
              "<div>\n",
              "<style scoped>\n",
              "    .dataframe tbody tr th:only-of-type {\n",
              "        vertical-align: middle;\n",
              "    }\n",
              "\n",
              "    .dataframe tbody tr th {\n",
              "        vertical-align: top;\n",
              "    }\n",
              "\n",
              "    .dataframe thead th {\n",
              "        text-align: right;\n",
              "    }\n",
              "</style>\n",
              "<table border=\"1\" class=\"dataframe\">\n",
              "  <thead>\n",
              "    <tr style=\"text-align: right;\">\n",
              "      <th></th>\n",
              "      <th>date</th>\n",
              "      <th>open</th>\n",
              "      <th>high</th>\n",
              "      <th>low</th>\n",
              "      <th>close</th>\n",
              "      <th>volume</th>\n",
              "      <th>tic</th>\n",
              "      <th>macd</th>\n",
              "      <th>rsi_30</th>\n",
              "      <th>cci_30</th>\n",
              "      <th>dx_30</th>\n",
              "      <th>turbulence</th>\n",
              "    </tr>\n",
              "  </thead>\n",
              "  <tbody>\n",
              "    <tr>\n",
              "      <th>0</th>\n",
              "      <td>2009-01-02</td>\n",
              "      <td>3.067143</td>\n",
              "      <td>3.251429</td>\n",
              "      <td>3.041429</td>\n",
              "      <td>2.773207</td>\n",
              "      <td>746015200.0</td>\n",
              "      <td>AAPL</td>\n",
              "      <td>0.0</td>\n",
              "      <td>100.0</td>\n",
              "      <td>66.666667</td>\n",
              "      <td>100.0</td>\n",
              "      <td>0.0</td>\n",
              "    </tr>\n",
              "    <tr>\n",
              "      <th>0</th>\n",
              "      <td>2009-01-02</td>\n",
              "      <td>18.570000</td>\n",
              "      <td>19.520000</td>\n",
              "      <td>18.400000</td>\n",
              "      <td>15.800624</td>\n",
              "      <td>10955700.0</td>\n",
              "      <td>AXP</td>\n",
              "      <td>0.0</td>\n",
              "      <td>100.0</td>\n",
              "      <td>66.666667</td>\n",
              "      <td>100.0</td>\n",
              "      <td>0.0</td>\n",
              "    </tr>\n",
              "    <tr>\n",
              "      <th>0</th>\n",
              "      <td>2009-01-02</td>\n",
              "      <td>42.799999</td>\n",
              "      <td>45.560001</td>\n",
              "      <td>42.779999</td>\n",
              "      <td>33.680935</td>\n",
              "      <td>7010200.0</td>\n",
              "      <td>BA</td>\n",
              "      <td>0.0</td>\n",
              "      <td>100.0</td>\n",
              "      <td>66.666667</td>\n",
              "      <td>100.0</td>\n",
              "      <td>0.0</td>\n",
              "    </tr>\n",
              "    <tr>\n",
              "      <th>0</th>\n",
              "      <td>2009-01-02</td>\n",
              "      <td>44.910000</td>\n",
              "      <td>46.980000</td>\n",
              "      <td>44.709999</td>\n",
              "      <td>32.514400</td>\n",
              "      <td>7117200.0</td>\n",
              "      <td>CAT</td>\n",
              "      <td>0.0</td>\n",
              "      <td>100.0</td>\n",
              "      <td>66.666667</td>\n",
              "      <td>100.0</td>\n",
              "      <td>0.0</td>\n",
              "    </tr>\n",
              "    <tr>\n",
              "      <th>0</th>\n",
              "      <td>2009-01-02</td>\n",
              "      <td>16.410000</td>\n",
              "      <td>17.000000</td>\n",
              "      <td>16.250000</td>\n",
              "      <td>12.786087</td>\n",
              "      <td>40980600.0</td>\n",
              "      <td>CSCO</td>\n",
              "      <td>0.0</td>\n",
              "      <td>100.0</td>\n",
              "      <td>66.666667</td>\n",
              "      <td>100.0</td>\n",
              "      <td>0.0</td>\n",
              "    </tr>\n",
              "  </tbody>\n",
              "</table>\n",
              "</div>"
            ],
            "text/plain": [
              "         date       open       high  ...     cci_30  dx_30  turbulence\n",
              "0  2009-01-02   3.067143   3.251429  ...  66.666667  100.0         0.0\n",
              "0  2009-01-02  18.570000  19.520000  ...  66.666667  100.0         0.0\n",
              "0  2009-01-02  42.799999  45.560001  ...  66.666667  100.0         0.0\n",
              "0  2009-01-02  44.910000  46.980000  ...  66.666667  100.0         0.0\n",
              "0  2009-01-02  16.410000  17.000000  ...  66.666667  100.0         0.0\n",
              "\n",
              "[5 rows x 12 columns]"
            ]
          },
          "metadata": {
            "tags": []
          },
          "execution_count": 12
        }
      ]
    },
    {
      "cell_type": "code",
      "metadata": {
        "id": "k9zU9YaTTvFq",
        "colab": {
          "base_uri": "https://localhost:8080/",
          "height": 309
        },
        "outputId": "5a58b958-ba46-4e2b-ee1a-d5d7a289d6f8"
      },
      "source": [
        "trade.head()"
      ],
      "execution_count": 13,
      "outputs": [
        {
          "output_type": "execute_result",
          "data": {
            "text/html": [
              "<div>\n",
              "<style scoped>\n",
              "    .dataframe tbody tr th:only-of-type {\n",
              "        vertical-align: middle;\n",
              "    }\n",
              "\n",
              "    .dataframe tbody tr th {\n",
              "        vertical-align: top;\n",
              "    }\n",
              "\n",
              "    .dataframe thead th {\n",
              "        text-align: right;\n",
              "    }\n",
              "</style>\n",
              "<table border=\"1\" class=\"dataframe\">\n",
              "  <thead>\n",
              "    <tr style=\"text-align: right;\">\n",
              "      <th></th>\n",
              "      <th>date</th>\n",
              "      <th>open</th>\n",
              "      <th>high</th>\n",
              "      <th>low</th>\n",
              "      <th>close</th>\n",
              "      <th>volume</th>\n",
              "      <th>tic</th>\n",
              "      <th>macd</th>\n",
              "      <th>rsi_30</th>\n",
              "      <th>cci_30</th>\n",
              "      <th>dx_30</th>\n",
              "      <th>turbulence</th>\n",
              "    </tr>\n",
              "  </thead>\n",
              "  <tbody>\n",
              "    <tr>\n",
              "      <th>0</th>\n",
              "      <td>2019-01-02</td>\n",
              "      <td>38.722500</td>\n",
              "      <td>39.712502</td>\n",
              "      <td>38.557499</td>\n",
              "      <td>38.249401</td>\n",
              "      <td>148158800.0</td>\n",
              "      <td>AAPL</td>\n",
              "      <td>-2.003499</td>\n",
              "      <td>37.867367</td>\n",
              "      <td>-91.588048</td>\n",
              "      <td>42.250808</td>\n",
              "      <td>119.879107</td>\n",
              "    </tr>\n",
              "    <tr>\n",
              "      <th>0</th>\n",
              "      <td>2019-01-02</td>\n",
              "      <td>93.910004</td>\n",
              "      <td>96.269997</td>\n",
              "      <td>93.769997</td>\n",
              "      <td>92.643311</td>\n",
              "      <td>4175400.0</td>\n",
              "      <td>AXP</td>\n",
              "      <td>-3.426008</td>\n",
              "      <td>41.204982</td>\n",
              "      <td>-97.742269</td>\n",
              "      <td>26.709417</td>\n",
              "      <td>119.879107</td>\n",
              "    </tr>\n",
              "    <tr>\n",
              "      <th>0</th>\n",
              "      <td>2019-01-02</td>\n",
              "      <td>316.190002</td>\n",
              "      <td>323.950012</td>\n",
              "      <td>313.709991</td>\n",
              "      <td>314.645142</td>\n",
              "      <td>3292200.0</td>\n",
              "      <td>BA</td>\n",
              "      <td>-5.550592</td>\n",
              "      <td>47.010000</td>\n",
              "      <td>-21.712382</td>\n",
              "      <td>13.611972</td>\n",
              "      <td>119.879107</td>\n",
              "    </tr>\n",
              "    <tr>\n",
              "      <th>0</th>\n",
              "      <td>2019-01-02</td>\n",
              "      <td>124.029999</td>\n",
              "      <td>127.879997</td>\n",
              "      <td>123.000000</td>\n",
              "      <td>119.302582</td>\n",
              "      <td>4783200.0</td>\n",
              "      <td>CAT</td>\n",
              "      <td>-0.686759</td>\n",
              "      <td>48.229089</td>\n",
              "      <td>-5.091209</td>\n",
              "      <td>0.873482</td>\n",
              "      <td>119.879107</td>\n",
              "    </tr>\n",
              "    <tr>\n",
              "      <th>0</th>\n",
              "      <td>2019-01-02</td>\n",
              "      <td>42.279999</td>\n",
              "      <td>43.200001</td>\n",
              "      <td>42.209999</td>\n",
              "      <td>40.382099</td>\n",
              "      <td>23833500.0</td>\n",
              "      <td>CSCO</td>\n",
              "      <td>-0.960061</td>\n",
              "      <td>44.872557</td>\n",
              "      <td>-87.496850</td>\n",
              "      <td>29.529377</td>\n",
              "      <td>119.879107</td>\n",
              "    </tr>\n",
              "  </tbody>\n",
              "</table>\n",
              "</div>"
            ],
            "text/plain": [
              "         date        open        high  ...     cci_30      dx_30  turbulence\n",
              "0  2019-01-02   38.722500   39.712502  ... -91.588048  42.250808  119.879107\n",
              "0  2019-01-02   93.910004   96.269997  ... -97.742269  26.709417  119.879107\n",
              "0  2019-01-02  316.190002  323.950012  ... -21.712382  13.611972  119.879107\n",
              "0  2019-01-02  124.029999  127.879997  ...  -5.091209   0.873482  119.879107\n",
              "0  2019-01-02   42.279999   43.200001  ... -87.496850  29.529377  119.879107\n",
              "\n",
              "[5 rows x 12 columns]"
            ]
          },
          "metadata": {
            "tags": []
          },
          "execution_count": 13
        }
      ]
    },
    {
      "cell_type": "code",
      "metadata": {
        "id": "Q2zqII8rMIqn"
      },
      "source": [
        "stock_dimension = len(train.tic.unique())\n",
        "state_space = 1 + 2*stock_dimension + len(config.TECHNICAL_INDICATORS_LIST)*stock_dimension"
      ],
      "execution_count": 14,
      "outputs": []
    },
    {
      "cell_type": "code",
      "metadata": {
        "id": "AWyp84Ltto19"
      },
      "source": [
        "env_setup = EnvSetup(stock_dim = stock_dimension,\n",
        "                        state_space = state_space,\n",
        "                        hmax = 100,\n",
        "                        initial_amount = 1000000,\n",
        "                        transaction_cost_pct = 0.001)"
      ],
      "execution_count": 15,
      "outputs": []
    },
    {
      "cell_type": "markdown",
      "metadata": {
        "id": "64EoqOrQjiVf"
      },
      "source": [
        "## Environment for Training\n",
        "\n"
      ]
    },
    {
      "cell_type": "code",
      "metadata": {
        "id": "xwSvvPjutpqS"
      },
      "source": [
        "env_train = env_setup.create_env_training(data = train,\n",
        "                                          env_class = StockEnvTrain)"
      ],
      "execution_count": 16,
      "outputs": []
    },
    {
      "cell_type": "markdown",
      "metadata": {
        "id": "4QrezXm3jwu4"
      },
      "source": [
        "## Environment for Trading\n",
        "\n"
      ]
    },
    {
      "cell_type": "code",
      "metadata": {
        "id": "5_2x5PwMtqoN"
      },
      "source": [
        "env_trade, obs_trade = env_setup.create_env_trading(data = trade,\n",
        "                                         env_class = StockEnvTrade) "
      ],
      "execution_count": 17,
      "outputs": []
    },
    {
      "cell_type": "markdown",
      "metadata": {
        "id": "HMNR5nHjh1iz"
      },
      "source": [
        "<a id='5'></a>\n",
        "# Part 6: Implement DRL Algorithms\n",
        "* The implementation of the DRL algorithms are based on **OpenAI Baselines** and **Stable Baselines**. Stable Baselines is a fork of OpenAI Baselines, with a major structural refactoring, and code cleanups.\n",
        "* FinRL library includes fine-tuned standard DRL algorithms, such as DQN, DDPG,\n",
        "Multi-Agent DDPG, PPO, SAC, A2C and TD3. We also allow users to\n",
        "design their own DRL algorithms by adapting these DRL algorithms."
      ]
    },
    {
      "cell_type": "code",
      "metadata": {
        "id": "364PsqckttcQ"
      },
      "source": [
        "agent = DRLAgent(env = env_train)"
      ],
      "execution_count": 18,
      "outputs": []
    },
    {
      "cell_type": "markdown",
      "metadata": {
        "id": "YDmqOyF9h1iz"
      },
      "source": [
        "### Model Training: 5 models, A2C DDPG, PPO, TD3, SAC\n"
      ]
    },
    {
      "cell_type": "markdown",
      "metadata": {
        "id": "uijiWgkuh1jB"
      },
      "source": [
        "### Model training: A2C\n"
      ]
    },
    {
      "cell_type": "code",
      "metadata": {
        "id": "tDLXWsDctyuz",
        "colab": {
          "base_uri": "https://localhost:8080/"
        },
        "outputId": "c6ac2b90-084b-4828-c2a4-cf142e294215"
      },
      "source": [
        "print(\"==============Model Training===========\")\n",
        "now = datetime.datetime.now().strftime('%Y%m%d-%Hh%M')\n",
        "a2c_params_tuning = {'n_steps':5, \n",
        "\t\t\t  'ent_coef':0.005, \n",
        "\t\t\t  'learning_rate':0.0002,\n",
        "\t\t\t  'verbose':0,\n",
        "\t\t\t  'timesteps':150000}\n",
        "model_a2c = agent.train_A2C(model_name = \"A2C_{}\".format(now), model_params = a2c_params_tuning)"
      ],
      "execution_count": 105,
      "outputs": [
        {
          "output_type": "stream",
          "text": [
            "==============Model Training===========\n",
            "begin_total_asset:1000000\n",
            "end_total_asset:2418035.95202807\n",
            "total_reward:1418035.95202807\n",
            "total_cost:  261967.284093091\n",
            "total_trades:  72981\n",
            "Sharpe:  0.7203345703576749\n",
            "=================================\n",
            "begin_total_asset:1000000\n",
            "end_total_asset:2693109.898347975\n",
            "total_reward:1693109.8983479752\n",
            "total_cost:  258518.4520956466\n",
            "total_trades:  73033\n",
            "Sharpe:  0.8089975444489308\n",
            "=================================\n",
            "begin_total_asset:1000000\n",
            "end_total_asset:3802538.1978647937\n",
            "total_reward:2802538.1978647937\n",
            "total_cost:  238215.6522577116\n",
            "total_trades:  71476\n",
            "Sharpe:  1.0015766122278706\n",
            "=================================\n",
            "begin_total_asset:1000000\n",
            "end_total_asset:3314152.286360578\n",
            "total_reward:2314152.286360578\n",
            "total_cost:  227444.47944668992\n",
            "total_trades:  70096\n",
            "Sharpe:  0.8762343127916363\n",
            "=================================\n",
            "begin_total_asset:1000000\n",
            "end_total_asset:3593025.2266229508\n",
            "total_reward:2593025.2266229508\n",
            "total_cost:  212149.43541967185\n",
            "total_trades:  69052\n",
            "Sharpe:  0.9590953775829721\n",
            "=================================\n",
            "begin_total_asset:1000000\n",
            "end_total_asset:3152537.991785353\n",
            "total_reward:2152537.991785353\n",
            "total_cost:  197347.33146387112\n",
            "total_trades:  67945\n",
            "Sharpe:  0.8629590715089536\n",
            "=================================\n",
            "begin_total_asset:1000000\n",
            "end_total_asset:2611251.1261209026\n",
            "total_reward:1611251.1261209026\n",
            "total_cost:  149320.16658791964\n",
            "total_trades:  64370\n",
            "Sharpe:  0.6951595803150652\n",
            "=================================\n",
            "begin_total_asset:1000000\n",
            "end_total_asset:2587413.8381486614\n",
            "total_reward:1587413.8381486614\n",
            "total_cost:  126976.69156511225\n",
            "total_trades:  61946\n",
            "Sharpe:  0.6635904725603737\n",
            "=================================\n",
            "begin_total_asset:1000000\n",
            "end_total_asset:3536051.839882624\n",
            "total_reward:2536051.839882624\n",
            "total_cost:  170377.82871441834\n",
            "total_trades:  65266\n",
            "Sharpe:  0.9652409644889824\n",
            "=================================\n",
            "begin_total_asset:1000000\n",
            "end_total_asset:4116918.030698293\n",
            "total_reward:3116918.030698293\n",
            "total_cost:  159493.28018512097\n",
            "total_trades:  65190\n",
            "Sharpe:  1.1081478089229964\n",
            "=================================\n",
            "begin_total_asset:1000000\n",
            "end_total_asset:4685447.704372692\n",
            "total_reward:3685447.704372692\n",
            "total_cost:  141638.11885319534\n",
            "total_trades:  62636\n",
            "Sharpe:  1.0871686163155176\n",
            "=================================\n",
            "begin_total_asset:1000000\n",
            "end_total_asset:5968209.217213524\n",
            "total_reward:4968209.217213524\n",
            "total_cost:  140827.51567474077\n",
            "total_trades:  61493\n",
            "Sharpe:  1.1709885546155259\n",
            "=================================\n",
            "begin_total_asset:1000000\n",
            "end_total_asset:6372624.051743742\n",
            "total_reward:5372624.051743742\n",
            "total_cost:  136482.34797773484\n",
            "total_trades:  61298\n",
            "Sharpe:  1.1662621869159893\n",
            "=================================\n",
            "begin_total_asset:1000000\n",
            "end_total_asset:4262656.042641561\n",
            "total_reward:3262656.0426415605\n",
            "total_cost:  143116.62968137438\n",
            "total_trades:  62442\n",
            "Sharpe:  1.0741320599920523\n",
            "=================================\n",
            "begin_total_asset:1000000\n",
            "end_total_asset:1934485.8051580747\n",
            "total_reward:934485.8051580747\n",
            "total_cost:  70245.7846074276\n",
            "total_trades:  55077\n",
            "Sharpe:  0.46800279280137386\n",
            "=================================\n",
            "begin_total_asset:1000000\n",
            "end_total_asset:1686598.4351711632\n",
            "total_reward:686598.4351711632\n",
            "total_cost:  49949.951028461845\n",
            "total_trades:  51634\n",
            "Sharpe:  0.39104704651934524\n",
            "=================================\n",
            "begin_total_asset:1000000\n",
            "end_total_asset:1928347.67968115\n",
            "total_reward:928347.67968115\n",
            "total_cost:  59627.5675849411\n",
            "total_trades:  53284\n",
            "Sharpe:  0.47557508086743355\n",
            "=================================\n",
            "begin_total_asset:1000000\n",
            "end_total_asset:1892341.9408808264\n",
            "total_reward:892341.9408808264\n",
            "total_cost:  55263.34469808712\n",
            "total_trades:  52219\n",
            "Sharpe:  0.4609264379976616\n",
            "=================================\n",
            "begin_total_asset:1000000\n",
            "end_total_asset:2014516.4592184387\n",
            "total_reward:1014516.4592184387\n",
            "total_cost:  35180.96814876007\n",
            "total_trades:  49442\n",
            "Sharpe:  0.4827717337217574\n",
            "=================================\n",
            "begin_total_asset:1000000\n",
            "end_total_asset:1719970.7689365472\n",
            "total_reward:719970.7689365472\n",
            "total_cost:  38883.486948750746\n",
            "total_trades:  49252\n",
            "Sharpe:  0.39920261178403843\n",
            "=================================\n",
            "begin_total_asset:1000000\n",
            "end_total_asset:1879846.4527644792\n",
            "total_reward:879846.4527644792\n",
            "total_cost:  31136.78768146338\n",
            "total_trades:  47350\n",
            "Sharpe:  0.45162130017061075\n",
            "=================================\n",
            "begin_total_asset:1000000\n",
            "end_total_asset:1928345.374467272\n",
            "total_reward:928345.3744672721\n",
            "total_cost:  30211.035792641305\n",
            "total_trades:  46321\n",
            "Sharpe:  0.4577795052131035\n",
            "=================================\n",
            "begin_total_asset:1000000\n",
            "end_total_asset:1921979.1379767887\n",
            "total_reward:921979.1379767887\n",
            "total_cost:  23713.72432094808\n",
            "total_trades:  44721\n",
            "Sharpe:  0.4577027936636572\n",
            "=================================\n",
            "begin_total_asset:1000000\n",
            "end_total_asset:1966300.5414372098\n",
            "total_reward:966300.5414372098\n",
            "total_cost:  24218.666058210227\n",
            "total_trades:  45644\n",
            "Sharpe:  0.47430163479192033\n",
            "=================================\n",
            "begin_total_asset:1000000\n",
            "end_total_asset:2074817.5543750124\n",
            "total_reward:1074817.5543750124\n",
            "total_cost:  26853.296373368907\n",
            "total_trades:  46701\n",
            "Sharpe:  0.5114298348897385\n",
            "=================================\n",
            "begin_total_asset:1000000\n",
            "end_total_asset:1967359.7255647483\n",
            "total_reward:967359.7255647483\n",
            "total_cost:  31987.997404845093\n",
            "total_trades:  47922\n",
            "Sharpe:  0.4902652219376861\n",
            "=================================\n",
            "begin_total_asset:1000000\n",
            "end_total_asset:2259203.402536806\n",
            "total_reward:1259203.4025368062\n",
            "total_cost:  26400.854183992597\n",
            "total_trades:  47455\n",
            "Sharpe:  0.582081872663656\n",
            "=================================\n",
            "begin_total_asset:1000000\n",
            "end_total_asset:2284624.422667327\n",
            "total_reward:1284624.4226673269\n",
            "total_cost:  22767.54433790271\n",
            "total_trades:  46578\n",
            "Sharpe:  0.5776814868570822\n",
            "=================================\n",
            "begin_total_asset:1000000\n",
            "end_total_asset:2098477.5324402894\n",
            "total_reward:1098477.5324402894\n",
            "total_cost:  23351.100018258607\n",
            "total_trades:  46328\n",
            "Sharpe:  0.5176189113618676\n",
            "=================================\n",
            "begin_total_asset:1000000\n",
            "end_total_asset:2050835.141567836\n",
            "total_reward:1050835.141567836\n",
            "total_cost:  20151.00891243647\n",
            "total_trades:  45736\n",
            "Sharpe:  0.5017355956576952\n",
            "=================================\n",
            "begin_total_asset:1000000\n",
            "end_total_asset:2063639.28116762\n",
            "total_reward:1063639.28116762\n",
            "total_cost:  17996.964497349756\n",
            "total_trades:  45623\n",
            "Sharpe:  0.5049177448230457\n",
            "=================================\n",
            "begin_total_asset:1000000\n",
            "end_total_asset:2079294.4519169405\n",
            "total_reward:1079294.4519169405\n",
            "total_cost:  23394.397240323648\n",
            "total_trades:  46581\n",
            "Sharpe:  0.4937733274478136\n",
            "=================================\n",
            "begin_total_asset:1000000\n",
            "end_total_asset:2160158.5244360156\n",
            "total_reward:1160158.5244360156\n",
            "total_cost:  19099.817669236705\n",
            "total_trades:  45235\n",
            "Sharpe:  0.5191174415895426\n",
            "=================================\n",
            "begin_total_asset:1000000\n",
            "end_total_asset:1991100.005292816\n",
            "total_reward:991100.0052928161\n",
            "total_cost:  26468.48486656547\n",
            "total_trades:  46565\n",
            "Sharpe:  0.4701009406717768\n",
            "=================================\n",
            "begin_total_asset:1000000\n",
            "end_total_asset:1961090.6632388567\n",
            "total_reward:961090.6632388567\n",
            "total_cost:  20831.671171364284\n",
            "total_trades:  45249\n",
            "Sharpe:  0.4640206694056232\n",
            "=================================\n",
            "begin_total_asset:1000000\n",
            "end_total_asset:1931317.7542910073\n",
            "total_reward:931317.7542910073\n",
            "total_cost:  22621.357311233573\n",
            "total_trades:  45744\n",
            "Sharpe:  0.4583755890567557\n",
            "=================================\n",
            "begin_total_asset:1000000\n",
            "end_total_asset:1923894.9066011193\n",
            "total_reward:923894.9066011193\n",
            "total_cost:  17413.200513946376\n",
            "total_trades:  43921\n",
            "Sharpe:  0.45354675097372077\n",
            "=================================\n",
            "begin_total_asset:1000000\n",
            "end_total_asset:2135965.5621173903\n",
            "total_reward:1135965.5621173903\n",
            "total_cost:  19995.347704992408\n",
            "total_trades:  44441\n",
            "Sharpe:  0.5066881972055544\n",
            "=================================\n",
            "begin_total_asset:1000000\n",
            "end_total_asset:1951946.399835455\n",
            "total_reward:951946.399835455\n",
            "total_cost:  17904.078198307805\n",
            "total_trades:  43999\n",
            "Sharpe:  0.45962427946933193\n",
            "=================================\n",
            "begin_total_asset:1000000\n",
            "end_total_asset:1913660.546606726\n",
            "total_reward:913660.546606726\n",
            "total_cost:  18715.29583520102\n",
            "total_trades:  43447\n",
            "Sharpe:  0.4458107573714271\n",
            "=================================\n",
            "begin_total_asset:1000000\n",
            "end_total_asset:2016035.5771604797\n",
            "total_reward:1016035.5771604797\n",
            "total_cost:  19303.874410164455\n",
            "total_trades:  43668\n",
            "Sharpe:  0.4720912188137424\n",
            "=================================\n",
            "begin_total_asset:1000000\n",
            "end_total_asset:1982216.362992718\n",
            "total_reward:982216.3629927179\n",
            "total_cost:  21025.94136076334\n",
            "total_trades:  43931\n",
            "Sharpe:  0.46524852384056875\n",
            "=================================\n",
            "begin_total_asset:1000000\n",
            "end_total_asset:1956910.4207115243\n",
            "total_reward:956910.4207115243\n",
            "total_cost:  21763.941148992395\n",
            "total_trades:  44621\n",
            "Sharpe:  0.4585399082331439\n",
            "=================================\n",
            "begin_total_asset:1000000\n",
            "end_total_asset:2061530.3776221524\n",
            "total_reward:1061530.3776221524\n",
            "total_cost:  20686.73653694092\n",
            "total_trades:  45057\n",
            "Sharpe:  0.48824862559837723\n",
            "=================================\n",
            "begin_total_asset:1000000\n",
            "end_total_asset:1994936.6540431702\n",
            "total_reward:994936.6540431702\n",
            "total_cost:  19777.186920054744\n",
            "total_trades:  44671\n",
            "Sharpe:  0.4723845622715123\n",
            "=================================\n",
            "begin_total_asset:1000000\n",
            "end_total_asset:2083013.6924733424\n",
            "total_reward:1083013.6924733424\n",
            "total_cost:  17701.51097612466\n",
            "total_trades:  43845\n",
            "Sharpe:  0.49414688851131344\n",
            "=================================\n",
            "begin_total_asset:1000000\n",
            "end_total_asset:1917594.1878479093\n",
            "total_reward:917594.1878479093\n",
            "total_cost:  21588.241161702597\n",
            "total_trades:  44056\n",
            "Sharpe:  0.45158541329510493\n",
            "=================================\n",
            "begin_total_asset:1000000\n",
            "end_total_asset:2025017.1413355756\n",
            "total_reward:1025017.1413355756\n",
            "total_cost:  24189.02482175274\n",
            "total_trades:  44087\n",
            "Sharpe:  0.47442864111663763\n",
            "=================================\n",
            "begin_total_asset:1000000\n",
            "end_total_asset:2078698.9747718314\n",
            "total_reward:1078698.9747718314\n",
            "total_cost:  14979.12986502149\n",
            "total_trades:  41917\n",
            "Sharpe:  0.490857410858116\n",
            "=================================\n",
            "begin_total_asset:1000000\n",
            "end_total_asset:2202324.1215410936\n",
            "total_reward:1202324.1215410936\n",
            "total_cost:  17338.08438511066\n",
            "total_trades:  42633\n",
            "Sharpe:  0.5252204212692829\n",
            "=================================\n",
            "begin_total_asset:1000000\n",
            "end_total_asset:2079279.712109676\n",
            "total_reward:1079279.712109676\n",
            "total_cost:  21363.923891065886\n",
            "total_trades:  43334\n",
            "Sharpe:  0.4922301457402749\n",
            "=================================\n",
            "begin_total_asset:1000000\n",
            "end_total_asset:2147699.309304252\n",
            "total_reward:1147699.3093042518\n",
            "total_cost:  17628.284687270916\n",
            "total_trades:  41981\n",
            "Sharpe:  0.5118631295994428\n",
            "=================================\n",
            "begin_total_asset:1000000\n",
            "end_total_asset:2168226.6751953666\n",
            "total_reward:1168226.6751953666\n",
            "total_cost:  22116.392582377794\n",
            "total_trades:  42917\n",
            "Sharpe:  0.5111303968159953\n",
            "=================================\n",
            "begin_total_asset:1000000\n",
            "end_total_asset:2203890.5444272687\n",
            "total_reward:1203890.5444272687\n",
            "total_cost:  17273.417330215914\n",
            "total_trades:  41445\n",
            "Sharpe:  0.5211604132829087\n",
            "=================================\n",
            "begin_total_asset:1000000\n",
            "end_total_asset:2108879.291235667\n",
            "total_reward:1108879.2912356672\n",
            "total_cost:  18548.304578517178\n",
            "total_trades:  41242\n",
            "Sharpe:  0.49869679947381806\n",
            "=================================\n",
            "begin_total_asset:1000000\n",
            "end_total_asset:1933015.815522687\n",
            "total_reward:933015.815522687\n",
            "total_cost:  21343.115660431537\n",
            "total_trades:  43399\n",
            "Sharpe:  0.45101260963388334\n",
            "=================================\n",
            "begin_total_asset:1000000\n",
            "end_total_asset:2159325.388620633\n",
            "total_reward:1159325.3886206332\n",
            "total_cost:  17981.280589513415\n",
            "total_trades:  42242\n",
            "Sharpe:  0.510727976599468\n",
            "=================================\n",
            "begin_total_asset:1000000\n",
            "end_total_asset:2276490.319620927\n",
            "total_reward:1276490.3196209269\n",
            "total_cost:  18036.748590670348\n",
            "total_trades:  42628\n",
            "Sharpe:  0.5410770809323652\n",
            "=================================\n",
            "begin_total_asset:1000000\n",
            "end_total_asset:2253788.697576819\n",
            "total_reward:1253788.697576819\n",
            "total_cost:  19136.700450080953\n",
            "total_trades:  43510\n",
            "Sharpe:  0.5254363515843744\n",
            "=================================\n",
            "Training time (A2C):  7.12624294757843  minutes\n"
          ],
          "name": "stdout"
        }
      ]
    },
    {
      "cell_type": "markdown",
      "metadata": {
        "id": "MRiOtrywfAo1"
      },
      "source": [
        "### Model 2: DDPG"
      ]
    },
    {
      "cell_type": "code",
      "metadata": {
        "colab": {
          "base_uri": "https://localhost:8080/"
        },
        "id": "tCDa78rqfO_a",
        "outputId": "4f68dc4d-6034-4db8-9466-700c9108c379"
      },
      "source": [
        "print(\"==============Model Training===========\")\n",
        "now = datetime.datetime.now().strftime('%Y%m%d-%Hh%M')\n",
        "ddpg_params_tuning = {\n",
        "                     'batch_size': 128,\n",
        "\t\t\t               'buffer_size':100000, \n",
        "\t\t\t               'verbose':0,\n",
        "\t\t\t               'timesteps':50000}\n",
        "model_ddpg = agent.train_DDPG(model_name = \"DDPG_{}\".format(now), model_params = ddpg_params_tuning)"
      ],
      "execution_count": 50,
      "outputs": [
        {
          "output_type": "stream",
          "text": [
            "==============Model Training===========\n",
            "WARNING:tensorflow:From /usr/local/lib/python3.6/dist-packages/stable_baselines/ddpg/policies.py:136: dense (from tensorflow.python.layers.core) is deprecated and will be removed in a future version.\n",
            "Instructions for updating:\n",
            "Use keras.layers.Dense instead.\n",
            "WARNING:tensorflow:From /usr/local/lib/python3.6/dist-packages/stable_baselines/ddpg/ddpg.py:94: The name tf.assign is deprecated. Please use tf.compat.v1.assign instead.\n",
            "\n",
            "WARNING:tensorflow:From /usr/local/lib/python3.6/dist-packages/stable_baselines/ddpg/ddpg.py:444: The name tf.global_variables is deprecated. Please use tf.compat.v1.global_variables instead.\n",
            "\n",
            "WARNING:tensorflow:From /usr/local/lib/python3.6/dist-packages/stable_baselines/common/tf_util.py:432: The name tf.get_default_session is deprecated. Please use tf.compat.v1.get_default_session instead.\n",
            "\n",
            "begin_total_asset:1000000\n",
            "end_total_asset:3876639.240769919\n",
            "total_reward:2876639.240769919\n",
            "total_cost:  9104.342746239017\n",
            "total_trades:  41738\n",
            "Sharpe:  1.0054552314500205\n",
            "=================================\n",
            "begin_total_asset:1000000\n",
            "end_total_asset:7374327.234833065\n",
            "total_reward:6374327.234833065\n",
            "total_cost:  7039.457090340651\n",
            "total_trades:  35912\n",
            "Sharpe:  1.0833990891351075\n",
            "=================================\n",
            "begin_total_asset:1000000\n",
            "end_total_asset:5248428.140151841\n",
            "total_reward:4248428.140151841\n",
            "total_cost:  8429.359631345911\n",
            "total_trades:  35402\n",
            "Sharpe:  1.03103504525587\n",
            "=================================\n",
            "begin_total_asset:1000000\n",
            "end_total_asset:4718093.052233357\n",
            "total_reward:3718093.052233357\n",
            "total_cost:  10634.70695874195\n",
            "total_trades:  40388\n",
            "Sharpe:  0.9591292955030087\n",
            "=================================\n",
            "begin_total_asset:1000000\n",
            "end_total_asset:5706787.595736295\n",
            "total_reward:4706787.595736295\n",
            "total_cost:  5088.324251377151\n",
            "total_trades:  38449\n",
            "Sharpe:  1.046294941645763\n",
            "=================================\n",
            "begin_total_asset:1000000\n",
            "end_total_asset:6114764.380374785\n",
            "total_reward:5114764.380374785\n",
            "total_cost:  14639.86218725568\n",
            "total_trades:  38118\n",
            "Sharpe:  1.0978102756473607\n",
            "=================================\n",
            "begin_total_asset:1000000\n",
            "end_total_asset:4845266.699600824\n",
            "total_reward:3845266.699600824\n",
            "total_cost:  11057.790948118627\n",
            "total_trades:  40872\n",
            "Sharpe:  0.9254254994857597\n",
            "=================================\n",
            "begin_total_asset:1000000\n",
            "end_total_asset:5751061.008915898\n",
            "total_reward:4751061.008915898\n",
            "total_cost:  12918.164268064022\n",
            "total_trades:  41476\n",
            "Sharpe:  1.0214272741940498\n",
            "=================================\n",
            "begin_total_asset:1000000\n",
            "end_total_asset:7274435.433939911\n",
            "total_reward:6274435.433939911\n",
            "total_cost:  5971.728876357337\n",
            "total_trades:  43841\n",
            "Sharpe:  1.0950865802250083\n",
            "=================================\n",
            "begin_total_asset:1000000\n",
            "end_total_asset:4615901.514024919\n",
            "total_reward:3615901.514024919\n",
            "total_cost:  10510.182272158909\n",
            "total_trades:  42251\n",
            "Sharpe:  0.9167348239963505\n",
            "=================================\n",
            "begin_total_asset:1000000\n",
            "end_total_asset:5304047.0198513195\n",
            "total_reward:4304047.0198513195\n",
            "total_cost:  9589.782395890712\n",
            "total_trades:  41870\n",
            "Sharpe:  0.9245465984803718\n",
            "=================================\n",
            "begin_total_asset:1000000\n",
            "end_total_asset:5625461.008441765\n",
            "total_reward:4625461.008441765\n",
            "total_cost:  17341.482320000207\n",
            "total_trades:  42376\n",
            "Sharpe:  0.9406268261325159\n",
            "=================================\n",
            "begin_total_asset:1000000\n",
            "end_total_asset:5376035.759855201\n",
            "total_reward:4376035.759855201\n",
            "total_cost:  10974.242491519171\n",
            "total_trades:  42631\n",
            "Sharpe:  0.9597042150192086\n",
            "=================================\n",
            "begin_total_asset:1000000\n",
            "end_total_asset:5676323.370232296\n",
            "total_reward:4676323.370232296\n",
            "total_cost:  12975.520036184482\n",
            "total_trades:  37313\n",
            "Sharpe:  0.9099386726375742\n",
            "=================================\n",
            "begin_total_asset:1000000\n",
            "end_total_asset:5396300.48576089\n",
            "total_reward:4396300.48576089\n",
            "total_cost:  16881.80250696935\n",
            "total_trades:  42983\n",
            "Sharpe:  0.9337169196345171\n",
            "=================================\n",
            "begin_total_asset:1000000\n",
            "end_total_asset:3497906.5797796934\n",
            "total_reward:2497906.5797796934\n",
            "total_cost:  13012.68433630999\n",
            "total_trades:  43816\n",
            "Sharpe:  0.7534791881929837\n",
            "=================================\n",
            "begin_total_asset:1000000\n",
            "end_total_asset:1971547.527567742\n",
            "total_reward:971547.5275677419\n",
            "total_cost:  8164.89994731881\n",
            "total_trades:  39717\n",
            "Sharpe:  0.4443095749118807\n",
            "=================================\n",
            "begin_total_asset:1000000\n",
            "end_total_asset:6060737.70392393\n",
            "total_reward:5060737.70392393\n",
            "total_cost:  21260.86078310216\n",
            "total_trades:  41248\n",
            "Sharpe:  1.0596003374109402\n",
            "=================================\n",
            "begin_total_asset:1000000\n",
            "end_total_asset:6188313.433283304\n",
            "total_reward:5188313.433283304\n",
            "total_cost:  16321.73783524186\n",
            "total_trades:  41381\n",
            "Sharpe:  0.9911460122517576\n",
            "=================================\n",
            "Training time (DDPG):  4.71319918235143  minutes\n"
          ],
          "name": "stdout"
        }
      ]
    },
    {
      "cell_type": "markdown",
      "metadata": {
        "id": "_gDkU-j-fCmZ"
      },
      "source": [
        "### Model 3: PPO"
      ]
    },
    {
      "cell_type": "code",
      "metadata": {
        "colab": {
          "base_uri": "https://localhost:8080/"
        },
        "id": "AXo1pwzHfUci",
        "outputId": "e47fa2af-5e4d-4cea-f5e6-552c9387bddb"
      },
      "source": [
        "print(\"==============Model Training===========\")\n",
        "now = datetime.datetime.now().strftime('%Y%m%d-%Hh%M')\n",
        "ppo_params_tuning = {'n_steps':128, \n",
        "                     'nminibatches': 4,\n",
        "\t\t\t               'ent_coef':0.005, \n",
        "\t\t\t               'learning_rate':0.00025,\n",
        "\t\t\t              'verbose':0,\n",
        "\t\t\t              'timesteps':50000}\n",
        "model_ppo = agent.train_PPO(model_name = \"PPO_{}\".format(now), model_params = ppo_params_tuning)"
      ],
      "execution_count": 55,
      "outputs": [
        {
          "output_type": "stream",
          "text": [
            "==============Model Training===========\n",
            "WARNING:tensorflow:From /usr/local/lib/python3.6/dist-packages/stable_baselines/ppo2/ppo2.py:198: The name tf.trainable_variables is deprecated. Please use tf.compat.v1.trainable_variables instead.\n",
            "\n",
            "WARNING:tensorflow:From /usr/local/lib/python3.6/dist-packages/stable_baselines/ppo2/ppo2.py:206: The name tf.train.AdamOptimizer is deprecated. Please use tf.compat.v1.train.AdamOptimizer instead.\n",
            "\n",
            "begin_total_asset:1000000\n",
            "end_total_asset:3048741.3939381745\n",
            "total_reward:2048741.3939381745\n",
            "total_cost:  245568.3302282693\n",
            "total_trades:  72462\n",
            "Sharpe:  0.9202481544831457\n",
            "=================================\n",
            "begin_total_asset:1000000\n",
            "end_total_asset:3293240.652184626\n",
            "total_reward:2293240.652184626\n",
            "total_cost:  208401.75301929898\n",
            "total_trades:  69573\n",
            "Sharpe:  0.9548892552085766\n",
            "=================================\n",
            "begin_total_asset:1000000\n",
            "end_total_asset:3770063.9598072213\n",
            "total_reward:2770063.9598072213\n",
            "total_cost:  163858.87472231584\n",
            "total_trades:  66022\n",
            "Sharpe:  1.0100154114628663\n",
            "=================================\n",
            "begin_total_asset:1000000\n",
            "end_total_asset:3533338.6618839577\n",
            "total_reward:2533338.6618839577\n",
            "total_cost:  140710.91081377305\n",
            "total_trades:  63468\n",
            "Sharpe:  0.8658687183317452\n",
            "=================================\n",
            "begin_total_asset:1000000\n",
            "end_total_asset:3624214.190819685\n",
            "total_reward:2624214.190819685\n",
            "total_cost:  154313.0847744043\n",
            "total_trades:  65276\n",
            "Sharpe:  0.8993471111207018\n",
            "=================================\n",
            "begin_total_asset:1000000\n",
            "end_total_asset:3202571.663253775\n",
            "total_reward:2202571.663253775\n",
            "total_cost:  178124.36502179946\n",
            "total_trades:  67223\n",
            "Sharpe:  0.7764722688501976\n",
            "=================================\n",
            "begin_total_asset:1000000\n",
            "end_total_asset:3071845.7908768407\n",
            "total_reward:2071845.7908768407\n",
            "total_cost:  174568.22859443238\n",
            "total_trades:  66552\n",
            "Sharpe:  0.9040177248410571\n",
            "=================================\n",
            "begin_total_asset:1000000\n",
            "end_total_asset:2759716.805770842\n",
            "total_reward:1759716.805770842\n",
            "total_cost:  141406.5384208243\n",
            "total_trades:  63691\n",
            "Sharpe:  0.7943240340782525\n",
            "=================================\n",
            "begin_total_asset:1000000\n",
            "end_total_asset:3013214.0920152925\n",
            "total_reward:2013214.0920152925\n",
            "total_cost:  171745.69359744896\n",
            "total_trades:  66307\n",
            "Sharpe:  0.7831482945763572\n",
            "=================================\n",
            "begin_total_asset:1000000\n",
            "end_total_asset:2696810.6705320706\n",
            "total_reward:1696810.6705320706\n",
            "total_cost:  159408.83254381173\n",
            "total_trades:  65545\n",
            "Sharpe:  0.7148325207248967\n",
            "=================================\n",
            "begin_total_asset:1000000\n",
            "end_total_asset:3092140.8783237417\n",
            "total_reward:2092140.8783237417\n",
            "total_cost:  155293.8358448932\n",
            "total_trades:  64122\n",
            "Sharpe:  0.7113783235078796\n",
            "=================================\n",
            "begin_total_asset:1000000\n",
            "end_total_asset:3264985.1486329967\n",
            "total_reward:2264985.1486329967\n",
            "total_cost:  169097.90147489944\n",
            "total_trades:  65095\n",
            "Sharpe:  0.8611881140368268\n",
            "=================================\n",
            "begin_total_asset:1000000\n",
            "end_total_asset:3106629.5796447564\n",
            "total_reward:2106629.5796447564\n",
            "total_cost:  156059.88216477341\n",
            "total_trades:  64735\n",
            "Sharpe:  0.8337757600671555\n",
            "=================================\n",
            "begin_total_asset:1000000\n",
            "end_total_asset:3101765.563581535\n",
            "total_reward:2101765.563581535\n",
            "total_cost:  141704.11478872094\n",
            "total_trades:  63020\n",
            "Sharpe:  0.7868378968332507\n",
            "=================================\n",
            "begin_total_asset:1000000\n",
            "end_total_asset:3870851.8138185116\n",
            "total_reward:2870851.8138185116\n",
            "total_cost:  139163.3939960446\n",
            "total_trades:  62628\n",
            "Sharpe:  1.0398952470182161\n",
            "=================================\n",
            "begin_total_asset:1000000\n",
            "end_total_asset:3971468.1489379085\n",
            "total_reward:2971468.1489379085\n",
            "total_cost:  96543.31543344291\n",
            "total_trades:  56808\n",
            "Sharpe:  1.074727317652792\n",
            "=================================\n",
            "begin_total_asset:1000000\n",
            "end_total_asset:3862850.6640476706\n",
            "total_reward:2862850.6640476706\n",
            "total_cost:  68077.1690398825\n",
            "total_trades:  52321\n",
            "Sharpe:  1.0505756197667369\n",
            "=================================\n",
            "begin_total_asset:1000000\n",
            "end_total_asset:4750937.677483732\n",
            "total_reward:3750937.677483732\n",
            "total_cost:  77272.76184075551\n",
            "total_trades:  54465\n",
            "Sharpe:  1.1094458223439796\n",
            "=================================\n",
            "begin_total_asset:1000000\n",
            "end_total_asset:4404566.248673428\n",
            "total_reward:3404566.248673428\n",
            "total_cost:  78227.07486048219\n",
            "total_trades:  53813\n",
            "Sharpe:  1.0844266786058263\n",
            "=================================\n",
            "Training time (PPO):  2.3141635179519655  minutes\n"
          ],
          "name": "stdout"
        }
      ]
    },
    {
      "cell_type": "markdown",
      "metadata": {
        "id": "3Zpv4S0-fDBv"
      },
      "source": [
        "### Model 4: TD3"
      ]
    },
    {
      "cell_type": "code",
      "metadata": {
        "colab": {
          "base_uri": "https://localhost:8080/"
        },
        "id": "0S5WIHJffWdP",
        "outputId": "750ba07b-d0b1-483c-c654-95fefe5562a4"
      },
      "source": [
        "print(\"==============Model Training===========\")\n",
        "now = datetime.datetime.now().strftime('%Y%m%d-%Hh%M')\n",
        "td3_params_tuning = {\n",
        "                     'batch_size': 128,\n",
        "\t\t\t               'buffer_size':200000, \n",
        "                     'learning_rate': 0.0002,\n",
        "\t\t\t               'verbose':0,\n",
        "\t\t\t               'timesteps':50000}\n",
        "model_td3 = agent.train_TD3(model_name = \"TD3_{}\".format(now), model_params = td3_params_tuning)"
      ],
      "execution_count": 60,
      "outputs": [
        {
          "output_type": "stream",
          "text": [
            "==============Model Training===========\n",
            "begin_total_asset:1000000\n",
            "end_total_asset:2662114.6849694927\n",
            "total_reward:1662114.6849694927\n",
            "total_cost:  5154.707305372425\n",
            "total_trades:  35274\n",
            "Sharpe:  0.6952087010828358\n",
            "=================================\n",
            "begin_total_asset:1000000\n",
            "end_total_asset:2988142.5784285073\n",
            "total_reward:1988142.5784285073\n",
            "total_cost:  1632.59511942303\n",
            "total_trades:  40163\n",
            "Sharpe:  0.7289450168804903\n",
            "=================================\n",
            "begin_total_asset:1000000\n",
            "end_total_asset:2883484.519447818\n",
            "total_reward:1883484.519447818\n",
            "total_cost:  1214.8873761913726\n",
            "total_trades:  37755\n",
            "Sharpe:  0.7095756761323406\n",
            "=================================\n",
            "begin_total_asset:1000000\n",
            "end_total_asset:2873489.4430507906\n",
            "total_reward:1873489.4430507906\n",
            "total_cost:  1209.6024044447397\n",
            "total_trades:  37753\n",
            "Sharpe:  0.7123425504445975\n",
            "=================================\n",
            "begin_total_asset:1000000\n",
            "end_total_asset:2915279.9369537304\n",
            "total_reward:1915279.9369537304\n",
            "total_cost:  1228.91289347425\n",
            "total_trades:  37752\n",
            "Sharpe:  0.7163200645078105\n",
            "=================================\n",
            "begin_total_asset:1000000\n",
            "end_total_asset:2895154.510926656\n",
            "total_reward:1895154.510926656\n",
            "total_cost:  1263.9253499270492\n",
            "total_trades:  35674\n",
            "Sharpe:  0.7150207708720131\n",
            "=================================\n",
            "begin_total_asset:1000000\n",
            "end_total_asset:3019681.6740699634\n",
            "total_reward:2019681.6740699634\n",
            "total_cost:  999.0000961172603\n",
            "total_trades:  35210\n",
            "Sharpe:  0.751148686794223\n",
            "=================================\n",
            "begin_total_asset:1000000\n",
            "end_total_asset:3013520.945701581\n",
            "total_reward:2013520.945701581\n",
            "total_cost:  999.0009760471949\n",
            "total_trades:  35210\n",
            "Sharpe:  0.7469440146690564\n",
            "=================================\n",
            "begin_total_asset:1000000\n",
            "end_total_asset:3042938.2329919036\n",
            "total_reward:2042938.2329919036\n",
            "total_cost:  998.9997361943996\n",
            "total_trades:  35210\n",
            "Sharpe:  0.7578211044729053\n",
            "=================================\n",
            "begin_total_asset:1000000\n",
            "end_total_asset:3022953.1741263247\n",
            "total_reward:2022953.1741263247\n",
            "total_cost:  998.9986360614382\n",
            "total_trades:  35210\n",
            "Sharpe:  0.7499871433174924\n",
            "=================================\n",
            "begin_total_asset:1000000\n",
            "end_total_asset:3034794.836248101\n",
            "total_reward:2034794.8362481012\n",
            "total_cost:  999.0002705945211\n",
            "total_trades:  35210\n",
            "Sharpe:  0.7524134952479796\n",
            "=================================\n",
            "begin_total_asset:1000000\n",
            "end_total_asset:3035611.0598908253\n",
            "total_reward:2035611.0598908253\n",
            "total_cost:  998.9994517822719\n",
            "total_trades:  35210\n",
            "Sharpe:  0.751224298946767\n",
            "=================================\n",
            "begin_total_asset:1000000\n",
            "end_total_asset:3025457.1671319176\n",
            "total_reward:2025457.1671319176\n",
            "total_cost:  998.9986633752917\n",
            "total_trades:  35210\n",
            "Sharpe:  0.7517964545172184\n",
            "=================================\n",
            "begin_total_asset:1000000\n",
            "end_total_asset:3041055.656330986\n",
            "total_reward:2041055.656330986\n",
            "total_cost:  998.9988048372863\n",
            "total_trades:  35210\n",
            "Sharpe:  0.7551908443838147\n",
            "=================================\n",
            "begin_total_asset:1000000\n",
            "end_total_asset:3034913.564139066\n",
            "total_reward:2034913.5641390658\n",
            "total_cost:  999.0009547227162\n",
            "total_trades:  35210\n",
            "Sharpe:  0.7522526241481273\n",
            "=================================\n",
            "begin_total_asset:1000000\n",
            "end_total_asset:3031574.2165369885\n",
            "total_reward:2031574.2165369885\n",
            "total_cost:  999.0005162070407\n",
            "total_trades:  35210\n",
            "Sharpe:  0.7514584870083608\n",
            "=================================\n",
            "begin_total_asset:1000000\n",
            "end_total_asset:3041294.4768735766\n",
            "total_reward:2041294.4768735766\n",
            "total_cost:  999.000755579339\n",
            "total_trades:  35210\n",
            "Sharpe:  0.7542438320343516\n",
            "=================================\n",
            "begin_total_asset:1000000\n",
            "end_total_asset:3045522.0506182173\n",
            "total_reward:2045522.0506182173\n",
            "total_cost:  999.0007476681062\n",
            "total_trades:  35210\n",
            "Sharpe:  0.7544841897685759\n",
            "=================================\n",
            "begin_total_asset:1000000\n",
            "end_total_asset:3024340.0694520893\n",
            "total_reward:2024340.0694520893\n",
            "total_cost:  999.0004214439606\n",
            "total_trades:  35210\n",
            "Sharpe:  0.7505835079244929\n",
            "=================================\n",
            "Training time (DDPG):  6.593421852588653  minutes\n"
          ],
          "name": "stdout"
        }
      ]
    },
    {
      "cell_type": "markdown",
      "metadata": {
        "id": "Dr49PotrfG01"
      },
      "source": [
        "### Model 5: SAC"
      ]
    },
    {
      "cell_type": "code",
      "metadata": {
        "colab": {
          "base_uri": "https://localhost:8080/"
        },
        "id": "jr6sX5pCfkVo",
        "outputId": "c49f2ff3-4246-4234-b2b4-fc605df948c6"
      },
      "source": [
        "print(\"==============Model Training===========\")\n",
        "now = datetime.datetime.now().strftime('%Y%m%d-%Hh%M')\n",
        "sac_params_tuning={\n",
        "  'batch_size': 64,\n",
        " 'buffer_size': 100000,\n",
        "  'ent_coef':'auto_0.1',\n",
        " 'learning_rate': 0.0001,\n",
        " 'learning_starts':200,\n",
        " 'timesteps': 50000,\n",
        " 'verbose': 0}\n",
        "model_sac = agent.train_SAC(model_name = \"SAC_{}\".format(now), model_params = sac_params_tuning)"
      ],
      "execution_count": 19,
      "outputs": [
        {
          "output_type": "stream",
          "text": [
            "==============Model Training===========\n",
            "WARNING:tensorflow:From /usr/local/lib/python3.6/dist-packages/stable_baselines/common/tf_util.py:191: The name tf.ConfigProto is deprecated. Please use tf.compat.v1.ConfigProto instead.\n",
            "\n",
            "WARNING:tensorflow:From /usr/local/lib/python3.6/dist-packages/stable_baselines/common/tf_util.py:200: The name tf.Session is deprecated. Please use tf.compat.v1.Session instead.\n",
            "\n",
            "WARNING:tensorflow:From /usr/local/lib/python3.6/dist-packages/stable_baselines/sac/sac.py:141: The name tf.variable_scope is deprecated. Please use tf.compat.v1.variable_scope instead.\n",
            "\n",
            "WARNING:tensorflow:From /usr/local/lib/python3.6/dist-packages/stable_baselines/common/input.py:25: The name tf.placeholder is deprecated. Please use tf.compat.v1.placeholder instead.\n",
            "\n",
            "WARNING:tensorflow:From /usr/local/lib/python3.6/dist-packages/stable_baselines/sac/policies.py:194: flatten (from tensorflow.python.layers.core) is deprecated and will be removed in a future version.\n",
            "Instructions for updating:\n",
            "Use keras.layers.flatten instead.\n",
            "WARNING:tensorflow:From /usr/local/lib/python3.6/dist-packages/tensorflow_core/python/layers/core.py:332: Layer.apply (from tensorflow.python.keras.engine.base_layer) is deprecated and will be removed in a future version.\n",
            "Instructions for updating:\n",
            "Please use `layer.__call__` method instead.\n",
            "WARNING:tensorflow:From /usr/local/lib/python3.6/dist-packages/stable_baselines/common/tf_layers.py:57: dense (from tensorflow.python.layers.core) is deprecated and will be removed in a future version.\n",
            "Instructions for updating:\n",
            "Use keras.layers.Dense instead.\n",
            "WARNING:tensorflow:From /usr/local/lib/python3.6/dist-packages/stable_baselines/sac/policies.py:216: The name tf.random_normal is deprecated. Please use tf.random.normal instead.\n",
            "\n",
            "WARNING:tensorflow:From /usr/local/lib/python3.6/dist-packages/stable_baselines/sac/policies.py:63: The name tf.log is deprecated. Please use tf.math.log instead.\n",
            "\n",
            "WARNING:tensorflow:From /usr/local/lib/python3.6/dist-packages/stable_baselines/sac/sac.py:196: The name tf.get_variable is deprecated. Please use tf.compat.v1.get_variable instead.\n",
            "\n",
            "WARNING:tensorflow:From /usr/local/lib/python3.6/dist-packages/stable_baselines/sac/sac.py:232: The name tf.train.AdamOptimizer is deprecated. Please use tf.compat.v1.train.AdamOptimizer instead.\n",
            "\n",
            "WARNING:tensorflow:From /usr/local/lib/python3.6/dist-packages/stable_baselines/common/tf_util.py:449: The name tf.get_collection is deprecated. Please use tf.compat.v1.get_collection instead.\n",
            "\n",
            "WARNING:tensorflow:From /usr/local/lib/python3.6/dist-packages/stable_baselines/common/tf_util.py:449: The name tf.GraphKeys is deprecated. Please use tf.compat.v1.GraphKeys instead.\n",
            "\n",
            "WARNING:tensorflow:From /usr/local/lib/python3.6/dist-packages/tensorflow_core/python/ops/math_grad.py:1375: where (from tensorflow.python.ops.array_ops) is deprecated and will be removed in a future version.\n",
            "Instructions for updating:\n",
            "Use tf.where in 2.0, which has the same broadcast rule as np.where\n",
            "WARNING:tensorflow:From /usr/local/lib/python3.6/dist-packages/stable_baselines/sac/sac.py:267: The name tf.assign is deprecated. Please use tf.compat.v1.assign instead.\n",
            "\n",
            "WARNING:tensorflow:From /usr/local/lib/python3.6/dist-packages/stable_baselines/sac/sac.py:294: The name tf.summary.scalar is deprecated. Please use tf.compat.v1.summary.scalar instead.\n",
            "\n",
            "WARNING:tensorflow:From /usr/local/lib/python3.6/dist-packages/stable_baselines/sac/sac.py:311: The name tf.global_variables_initializer is deprecated. Please use tf.compat.v1.global_variables_initializer instead.\n",
            "\n",
            "WARNING:tensorflow:From /usr/local/lib/python3.6/dist-packages/stable_baselines/sac/sac.py:314: The name tf.summary.merge_all is deprecated. Please use tf.compat.v1.summary.merge_all instead.\n",
            "\n",
            "WARNING:tensorflow:From /usr/local/lib/python3.6/dist-packages/stable_baselines/common/base_class.py:1169: The name tf.summary.FileWriter is deprecated. Please use tf.compat.v1.summary.FileWriter instead.\n",
            "\n",
            "begin_total_asset:1000000\n",
            "end_total_asset:2676865.4238208844\n",
            "total_reward:1676865.4238208844\n",
            "total_cost:  10839.881448208147\n",
            "total_trades:  42067\n",
            "Sharpe:  0.789144087935207\n",
            "=================================\n",
            "WARNING:tensorflow:From /usr/local/lib/python3.6/dist-packages/stable_baselines/common/tf_util.py:502: The name tf.Summary is deprecated. Please use tf.compat.v1.Summary instead.\n",
            "\n",
            "begin_total_asset:1000000\n",
            "end_total_asset:2925606.225575274\n",
            "total_reward:1925606.2255752739\n",
            "total_cost:  3198.503225368995\n",
            "total_trades:  32120\n",
            "Sharpe:  0.7896195137042794\n",
            "=================================\n",
            "begin_total_asset:1000000\n",
            "end_total_asset:2875097.1240092716\n",
            "total_reward:1875097.1240092716\n",
            "total_cost:  3076.895955722281\n",
            "total_trades:  33705\n",
            "Sharpe:  0.7659663806968906\n",
            "=================================\n",
            "begin_total_asset:1000000\n",
            "end_total_asset:2917299.3825749317\n",
            "total_reward:1917299.3825749317\n",
            "total_cost:  2659.7772635509073\n",
            "total_trades:  34209\n",
            "Sharpe:  0.8212870981101471\n",
            "=================================\n",
            "begin_total_asset:1000000\n",
            "end_total_asset:2722630.103003261\n",
            "total_reward:1722630.1030032611\n",
            "total_cost:  2369.2288487422184\n",
            "total_trades:  36697\n",
            "Sharpe:  0.749829547507325\n",
            "=================================\n",
            "begin_total_asset:1000000\n",
            "end_total_asset:3636363.9179358482\n",
            "total_reward:2636363.9179358482\n",
            "total_cost:  2966.7542516489157\n",
            "total_trades:  40324\n",
            "Sharpe:  0.8996689414225552\n",
            "=================================\n",
            "begin_total_asset:1000000\n",
            "end_total_asset:4384801.860491033\n",
            "total_reward:3384801.8604910327\n",
            "total_cost:  2465.573793838375\n",
            "total_trades:  38227\n",
            "Sharpe:  1.0064577616750199\n",
            "=================================\n",
            "begin_total_asset:1000000\n",
            "end_total_asset:4565805.981523803\n",
            "total_reward:3565805.9815238034\n",
            "total_cost:  2391.316858292199\n",
            "total_trades:  41207\n",
            "Sharpe:  1.0292190397791006\n",
            "=================================\n",
            "begin_total_asset:1000000\n",
            "end_total_asset:4522663.6158301225\n",
            "total_reward:3522663.6158301225\n",
            "total_cost:  3962.432830320684\n",
            "total_trades:  40728\n",
            "Sharpe:  1.0221477636569725\n",
            "=================================\n",
            "begin_total_asset:1000000\n",
            "end_total_asset:4696609.565642948\n",
            "total_reward:3696609.5656429483\n",
            "total_cost:  2673.642371144735\n",
            "total_trades:  39978\n",
            "Sharpe:  1.031473950450047\n",
            "=================================\n",
            "begin_total_asset:1000000\n",
            "end_total_asset:4394490.457060591\n",
            "total_reward:3394490.4570605913\n",
            "total_cost:  2188.304660487679\n",
            "total_trades:  38450\n",
            "Sharpe:  1.0143899531408884\n",
            "=================================\n",
            "begin_total_asset:1000000\n",
            "end_total_asset:4736730.802181373\n",
            "total_reward:3736730.8021813734\n",
            "total_cost:  2280.042656716353\n",
            "total_trades:  37823\n",
            "Sharpe:  1.039100989276199\n",
            "=================================\n",
            "begin_total_asset:1000000\n",
            "end_total_asset:4103070.5661182855\n",
            "total_reward:3103070.5661182855\n",
            "total_cost:  1949.0199071679115\n",
            "total_trades:  39623\n",
            "Sharpe:  1.0387992309872094\n",
            "=================================\n",
            "begin_total_asset:1000000\n",
            "end_total_asset:3862765.8086380553\n",
            "total_reward:2862765.8086380553\n",
            "total_cost:  2154.3013107899023\n",
            "total_trades:  40418\n",
            "Sharpe:  1.0089769077007018\n",
            "=================================\n",
            "begin_total_asset:1000000\n",
            "end_total_asset:3371244.7743711662\n",
            "total_reward:2371244.7743711662\n",
            "total_cost:  2805.5274592773676\n",
            "total_trades:  35610\n",
            "Sharpe:  0.9219002855293236\n",
            "=================================\n",
            "begin_total_asset:1000000\n",
            "end_total_asset:4403440.48452566\n",
            "total_reward:3403440.48452566\n",
            "total_cost:  3636.637994345987\n",
            "total_trades:  40314\n",
            "Sharpe:  1.151265473511828\n",
            "=================================\n",
            "begin_total_asset:1000000\n",
            "end_total_asset:4735211.892704881\n",
            "total_reward:3735211.892704881\n",
            "total_cost:  3458.976940009111\n",
            "total_trades:  43582\n",
            "Sharpe:  1.130039799497412\n",
            "=================================\n",
            "begin_total_asset:1000000\n",
            "end_total_asset:4063194.3177621784\n",
            "total_reward:3063194.3177621784\n",
            "total_cost:  2997.826498406715\n",
            "total_trades:  43744\n",
            "Sharpe:  1.0708380674228055\n",
            "=================================\n",
            "begin_total_asset:1000000\n",
            "end_total_asset:4789191.533366749\n",
            "total_reward:3789191.533366749\n",
            "total_cost:  2459.1524810627707\n",
            "total_trades:  40081\n",
            "Sharpe:  1.2310176984124985\n",
            "=================================\n",
            "Training time (SAC):  7.3223011136055  minutes\n"
          ],
          "name": "stdout"
        }
      ]
    },
    {
      "cell_type": "markdown",
      "metadata": {
        "id": "f2wZgkQXh1jE"
      },
      "source": [
        "## Trading\n",
        "Assume that we have $1,000,000 initial capital at 2019-01-01. We use the DDPG model to trade Dow jones 30 stocks."
      ]
    },
    {
      "cell_type": "markdown",
      "metadata": {
        "id": "bEv5KGC8h1jE"
      },
      "source": [
        "### Set turbulence threshold\n",
        "Set the turbulence threshold to be the 99% quantile of insample turbulence data, if current turbulence index is greater than the threshold, then we assume that the current market is volatile"
      ]
    },
    {
      "cell_type": "code",
      "metadata": {
        "id": "efwBi84ch1jE"
      },
      "source": [
        "insample_turbulence = train.drop_duplicates(subset=['date'])"
      ],
      "execution_count": 20,
      "outputs": []
    },
    {
      "cell_type": "code",
      "metadata": {
        "id": "VHZMBpSqh1jG",
        "colab": {
          "base_uri": "https://localhost:8080/"
        },
        "outputId": "3eb86aa7-4cd4-4053-8ace-486cbb92d6e6"
      },
      "source": [
        "insample_turbulence.turbulence.describe()"
      ],
      "execution_count": 21,
      "outputs": [
        {
          "output_type": "execute_result",
          "data": {
            "text/plain": [
              "count    2516.000000\n",
              "mean       75.936149\n",
              "std        38.178007\n",
              "min         0.000000\n",
              "25%        58.034373\n",
              "50%        74.015054\n",
              "75%        96.948888\n",
              "max       230.256689\n",
              "Name: turbulence, dtype: float64"
            ]
          },
          "metadata": {
            "tags": []
          },
          "execution_count": 21
        }
      ]
    },
    {
      "cell_type": "code",
      "metadata": {
        "id": "yuwDPkV9h1jL"
      },
      "source": [
        "insample_turbulence_threshold = np.quantile(insample_turbulence.turbulence.values,1)"
      ],
      "execution_count": 22,
      "outputs": []
    },
    {
      "cell_type": "code",
      "metadata": {
        "id": "wwoz_7VSh1jO",
        "colab": {
          "base_uri": "https://localhost:8080/"
        },
        "outputId": "d272a250-fb34-41a0-8bb8-6160966c6366"
      },
      "source": [
        "insample_turbulence_threshold"
      ],
      "execution_count": 23,
      "outputs": [
        {
          "output_type": "execute_result",
          "data": {
            "text/plain": [
              "230.2566889369161"
            ]
          },
          "metadata": {
            "tags": []
          },
          "execution_count": 23
        }
      ]
    },
    {
      "cell_type": "markdown",
      "metadata": {
        "id": "U5mmgQF_h1jQ"
      },
      "source": [
        "### Trade\n",
        "\n",
        "DRL model needs to update periodically in order to take full advantage of the data, ideally we need to retrain our model yearly, quarterly, or monthly. We also need to tune the parameters along the way, in this notebook I only use the in-sample data from 2009-01 to 2018-12 to tune the parameters once, so there is some alpha decay here as the length of trade date extends. \n",
        "\n",
        "Numerous hyperparameters – e.g. the learning rate, the total number of samples to train on – influence the learning process and are usually determined by testing some variations."
      ]
    },
    {
      "cell_type": "code",
      "metadata": {
        "id": "eLOnL5eYh1jR",
        "colab": {
          "base_uri": "https://localhost:8080/"
        },
        "outputId": "88228f67-a563-45df-a324-3ef465e109b5"
      },
      "source": [
        "env_trade, obs_trade = env_setup.create_env_trading(data = trade,\n",
        "                                         env_class = StockEnvTrade,\n",
        "                                         turbulence_threshold=250) \n",
        "\n",
        "df_account_value, df_actions = DRLAgent.DRL_prediction(model=model_sac,\n",
        "                        test_data = trade,\n",
        "                        test_env = env_trade,\n",
        "                        test_obs = obs_trade)"
      ],
      "execution_count": 33,
      "outputs": [
        {
          "output_type": "stream",
          "text": [
            "previous_total_asset:1000000\n",
            "end_total_asset:1363576.0875189458\n",
            "total_reward:363576.0875189458\n",
            "total_cost:  8124.038806180697\n",
            "total trades:  7125\n",
            "Sharpe:  1.1381111316843386\n"
          ],
          "name": "stdout"
        }
      ]
    },
    {
      "cell_type": "code",
      "metadata": {
        "id": "ERxw3KqLkcP4",
        "colab": {
          "base_uri": "https://localhost:8080/"
        },
        "outputId": "4c6e67b7-b8cd-461e-ba13-12597854d056"
      },
      "source": [
        "df_account_value.shape"
      ],
      "execution_count": 25,
      "outputs": [
        {
          "output_type": "execute_result",
          "data": {
            "text/plain": [
              "(440, 2)"
            ]
          },
          "metadata": {
            "tags": []
          },
          "execution_count": 25
        }
      ]
    },
    {
      "cell_type": "code",
      "metadata": {
        "id": "2yRkNguY5yvp",
        "colab": {
          "base_uri": "https://localhost:8080/",
          "height": 202
        },
        "outputId": "23c66c5a-d6d4-4627-963f-ec04e3d4395c"
      },
      "source": [
        "df_account_value.head()"
      ],
      "execution_count": 26,
      "outputs": [
        {
          "output_type": "execute_result",
          "data": {
            "text/html": [
              "<div>\n",
              "<style scoped>\n",
              "    .dataframe tbody tr th:only-of-type {\n",
              "        vertical-align: middle;\n",
              "    }\n",
              "\n",
              "    .dataframe tbody tr th {\n",
              "        vertical-align: top;\n",
              "    }\n",
              "\n",
              "    .dataframe thead th {\n",
              "        text-align: right;\n",
              "    }\n",
              "</style>\n",
              "<table border=\"1\" class=\"dataframe\">\n",
              "  <thead>\n",
              "    <tr style=\"text-align: right;\">\n",
              "      <th></th>\n",
              "      <th>date</th>\n",
              "      <th>account_value</th>\n",
              "    </tr>\n",
              "  </thead>\n",
              "  <tbody>\n",
              "    <tr>\n",
              "      <th>0</th>\n",
              "      <td>2019-01-02</td>\n",
              "      <td>1.000000e+06</td>\n",
              "    </tr>\n",
              "    <tr>\n",
              "      <th>1</th>\n",
              "      <td>2019-01-03</td>\n",
              "      <td>9.968619e+05</td>\n",
              "    </tr>\n",
              "    <tr>\n",
              "      <th>2</th>\n",
              "      <td>2019-01-04</td>\n",
              "      <td>1.003819e+06</td>\n",
              "    </tr>\n",
              "    <tr>\n",
              "      <th>3</th>\n",
              "      <td>2019-01-07</td>\n",
              "      <td>1.006316e+06</td>\n",
              "    </tr>\n",
              "    <tr>\n",
              "      <th>4</th>\n",
              "      <td>2019-01-08</td>\n",
              "      <td>1.009489e+06</td>\n",
              "    </tr>\n",
              "  </tbody>\n",
              "</table>\n",
              "</div>"
            ],
            "text/plain": [
              "         date  account_value\n",
              "0  2019-01-02   1.000000e+06\n",
              "1  2019-01-03   9.968619e+05\n",
              "2  2019-01-04   1.003819e+06\n",
              "3  2019-01-07   1.006316e+06\n",
              "4  2019-01-08   1.009489e+06"
            ]
          },
          "metadata": {
            "tags": []
          },
          "execution_count": 26
        }
      ]
    },
    {
      "cell_type": "code",
      "metadata": {
        "id": "s_1PWKU6C95X",
        "colab": {
          "base_uri": "https://localhost:8080/",
          "height": 339
        },
        "outputId": "9905f0c9-958e-4f14-b9e3-0b06048590b5"
      },
      "source": [
        "df_actions.head()\n"
      ],
      "execution_count": 28,
      "outputs": [
        {
          "output_type": "execute_result",
          "data": {
            "text/html": [
              "<div>\n",
              "<style scoped>\n",
              "    .dataframe tbody tr th:only-of-type {\n",
              "        vertical-align: middle;\n",
              "    }\n",
              "\n",
              "    .dataframe tbody tr th {\n",
              "        vertical-align: top;\n",
              "    }\n",
              "\n",
              "    .dataframe thead th {\n",
              "        text-align: right;\n",
              "    }\n",
              "</style>\n",
              "<table border=\"1\" class=\"dataframe\">\n",
              "  <thead>\n",
              "    <tr style=\"text-align: right;\">\n",
              "      <th></th>\n",
              "      <th>AAPL</th>\n",
              "      <th>AXP</th>\n",
              "      <th>BA</th>\n",
              "      <th>CAT</th>\n",
              "      <th>CSCO</th>\n",
              "      <th>CVX</th>\n",
              "      <th>DD</th>\n",
              "      <th>DIS</th>\n",
              "      <th>GS</th>\n",
              "      <th>HD</th>\n",
              "      <th>IBM</th>\n",
              "      <th>INTC</th>\n",
              "      <th>JNJ</th>\n",
              "      <th>JPM</th>\n",
              "      <th>KO</th>\n",
              "      <th>MCD</th>\n",
              "      <th>MMM</th>\n",
              "      <th>MRK</th>\n",
              "      <th>MSFT</th>\n",
              "      <th>NKE</th>\n",
              "      <th>PFE</th>\n",
              "      <th>PG</th>\n",
              "      <th>RTX</th>\n",
              "      <th>TRV</th>\n",
              "      <th>UNH</th>\n",
              "      <th>V</th>\n",
              "      <th>VZ</th>\n",
              "      <th>WBA</th>\n",
              "      <th>WMT</th>\n",
              "      <th>XOM</th>\n",
              "    </tr>\n",
              "    <tr>\n",
              "      <th>date</th>\n",
              "      <th></th>\n",
              "      <th></th>\n",
              "      <th></th>\n",
              "      <th></th>\n",
              "      <th></th>\n",
              "      <th></th>\n",
              "      <th></th>\n",
              "      <th></th>\n",
              "      <th></th>\n",
              "      <th></th>\n",
              "      <th></th>\n",
              "      <th></th>\n",
              "      <th></th>\n",
              "      <th></th>\n",
              "      <th></th>\n",
              "      <th></th>\n",
              "      <th></th>\n",
              "      <th></th>\n",
              "      <th></th>\n",
              "      <th></th>\n",
              "      <th></th>\n",
              "      <th></th>\n",
              "      <th></th>\n",
              "      <th></th>\n",
              "      <th></th>\n",
              "      <th></th>\n",
              "      <th></th>\n",
              "      <th></th>\n",
              "      <th></th>\n",
              "      <th></th>\n",
              "    </tr>\n",
              "  </thead>\n",
              "  <tbody>\n",
              "    <tr>\n",
              "      <th>2019-01-02</th>\n",
              "      <td>100.0</td>\n",
              "      <td>-100.0</td>\n",
              "      <td>-100.0</td>\n",
              "      <td>-100.0</td>\n",
              "      <td>-100.0</td>\n",
              "      <td>-100.0</td>\n",
              "      <td>-100.0</td>\n",
              "      <td>-100.0</td>\n",
              "      <td>-100.0</td>\n",
              "      <td>100.0</td>\n",
              "      <td>-100.0</td>\n",
              "      <td>100.0</td>\n",
              "      <td>100.0</td>\n",
              "      <td>-100.0</td>\n",
              "      <td>-100.0</td>\n",
              "      <td>100.0</td>\n",
              "      <td>100.0</td>\n",
              "      <td>-100.0</td>\n",
              "      <td>-100.0</td>\n",
              "      <td>100.0</td>\n",
              "      <td>100.0</td>\n",
              "      <td>-100.0</td>\n",
              "      <td>-100.0</td>\n",
              "      <td>100.0</td>\n",
              "      <td>-100.0</td>\n",
              "      <td>100.0</td>\n",
              "      <td>-100.0</td>\n",
              "      <td>-100.0</td>\n",
              "      <td>100.0</td>\n",
              "      <td>100.0</td>\n",
              "    </tr>\n",
              "    <tr>\n",
              "      <th>2019-01-03</th>\n",
              "      <td>100.0</td>\n",
              "      <td>-100.0</td>\n",
              "      <td>-100.0</td>\n",
              "      <td>-100.0</td>\n",
              "      <td>-100.0</td>\n",
              "      <td>-100.0</td>\n",
              "      <td>-100.0</td>\n",
              "      <td>-100.0</td>\n",
              "      <td>-100.0</td>\n",
              "      <td>100.0</td>\n",
              "      <td>-100.0</td>\n",
              "      <td>100.0</td>\n",
              "      <td>100.0</td>\n",
              "      <td>-100.0</td>\n",
              "      <td>-100.0</td>\n",
              "      <td>100.0</td>\n",
              "      <td>100.0</td>\n",
              "      <td>-100.0</td>\n",
              "      <td>-100.0</td>\n",
              "      <td>100.0</td>\n",
              "      <td>100.0</td>\n",
              "      <td>-100.0</td>\n",
              "      <td>-100.0</td>\n",
              "      <td>100.0</td>\n",
              "      <td>-100.0</td>\n",
              "      <td>100.0</td>\n",
              "      <td>-100.0</td>\n",
              "      <td>-100.0</td>\n",
              "      <td>100.0</td>\n",
              "      <td>100.0</td>\n",
              "    </tr>\n",
              "    <tr>\n",
              "      <th>2019-01-04</th>\n",
              "      <td>100.0</td>\n",
              "      <td>-100.0</td>\n",
              "      <td>-100.0</td>\n",
              "      <td>-100.0</td>\n",
              "      <td>-100.0</td>\n",
              "      <td>-100.0</td>\n",
              "      <td>-100.0</td>\n",
              "      <td>-100.0</td>\n",
              "      <td>-100.0</td>\n",
              "      <td>100.0</td>\n",
              "      <td>-100.0</td>\n",
              "      <td>100.0</td>\n",
              "      <td>100.0</td>\n",
              "      <td>-100.0</td>\n",
              "      <td>-100.0</td>\n",
              "      <td>100.0</td>\n",
              "      <td>100.0</td>\n",
              "      <td>-100.0</td>\n",
              "      <td>-100.0</td>\n",
              "      <td>100.0</td>\n",
              "      <td>100.0</td>\n",
              "      <td>-100.0</td>\n",
              "      <td>-100.0</td>\n",
              "      <td>100.0</td>\n",
              "      <td>-100.0</td>\n",
              "      <td>100.0</td>\n",
              "      <td>-100.0</td>\n",
              "      <td>-100.0</td>\n",
              "      <td>100.0</td>\n",
              "      <td>100.0</td>\n",
              "    </tr>\n",
              "    <tr>\n",
              "      <th>2019-01-07</th>\n",
              "      <td>100.0</td>\n",
              "      <td>-100.0</td>\n",
              "      <td>-100.0</td>\n",
              "      <td>-100.0</td>\n",
              "      <td>-100.0</td>\n",
              "      <td>-100.0</td>\n",
              "      <td>-100.0</td>\n",
              "      <td>-100.0</td>\n",
              "      <td>-100.0</td>\n",
              "      <td>100.0</td>\n",
              "      <td>-100.0</td>\n",
              "      <td>100.0</td>\n",
              "      <td>100.0</td>\n",
              "      <td>-100.0</td>\n",
              "      <td>-100.0</td>\n",
              "      <td>100.0</td>\n",
              "      <td>100.0</td>\n",
              "      <td>-100.0</td>\n",
              "      <td>-100.0</td>\n",
              "      <td>100.0</td>\n",
              "      <td>100.0</td>\n",
              "      <td>-100.0</td>\n",
              "      <td>-100.0</td>\n",
              "      <td>100.0</td>\n",
              "      <td>-100.0</td>\n",
              "      <td>100.0</td>\n",
              "      <td>-100.0</td>\n",
              "      <td>-100.0</td>\n",
              "      <td>100.0</td>\n",
              "      <td>100.0</td>\n",
              "    </tr>\n",
              "    <tr>\n",
              "      <th>2019-01-08</th>\n",
              "      <td>100.0</td>\n",
              "      <td>-100.0</td>\n",
              "      <td>-100.0</td>\n",
              "      <td>-100.0</td>\n",
              "      <td>-100.0</td>\n",
              "      <td>-100.0</td>\n",
              "      <td>-100.0</td>\n",
              "      <td>-100.0</td>\n",
              "      <td>-100.0</td>\n",
              "      <td>100.0</td>\n",
              "      <td>-100.0</td>\n",
              "      <td>100.0</td>\n",
              "      <td>100.0</td>\n",
              "      <td>-100.0</td>\n",
              "      <td>-100.0</td>\n",
              "      <td>100.0</td>\n",
              "      <td>100.0</td>\n",
              "      <td>-100.0</td>\n",
              "      <td>-100.0</td>\n",
              "      <td>100.0</td>\n",
              "      <td>100.0</td>\n",
              "      <td>-100.0</td>\n",
              "      <td>-100.0</td>\n",
              "      <td>100.0</td>\n",
              "      <td>-100.0</td>\n",
              "      <td>100.0</td>\n",
              "      <td>-100.0</td>\n",
              "      <td>-100.0</td>\n",
              "      <td>100.0</td>\n",
              "      <td>100.0</td>\n",
              "    </tr>\n",
              "  </tbody>\n",
              "</table>\n",
              "</div>"
            ],
            "text/plain": [
              "             AAPL    AXP     BA    CAT  ...     VZ    WBA    WMT    XOM\n",
              "date                                    ...                            \n",
              "2019-01-02  100.0 -100.0 -100.0 -100.0  ... -100.0 -100.0  100.0  100.0\n",
              "2019-01-03  100.0 -100.0 -100.0 -100.0  ... -100.0 -100.0  100.0  100.0\n",
              "2019-01-04  100.0 -100.0 -100.0 -100.0  ... -100.0 -100.0  100.0  100.0\n",
              "2019-01-07  100.0 -100.0 -100.0 -100.0  ... -100.0 -100.0  100.0  100.0\n",
              "2019-01-08  100.0 -100.0 -100.0 -100.0  ... -100.0 -100.0  100.0  100.0\n",
              "\n",
              "[5 rows x 30 columns]"
            ]
          },
          "metadata": {
            "tags": []
          },
          "execution_count": 28
        }
      ]
    },
    {
      "cell_type": "code",
      "metadata": {
        "id": "SprbmuTHRWeA"
      },
      "source": [
        "df_actions.to_csv('results/df_actions.csv')"
      ],
      "execution_count": null,
      "outputs": []
    },
    {
      "cell_type": "markdown",
      "metadata": {
        "id": "W6vvNSC6h1jZ"
      },
      "source": [
        "<a id='6'></a>\n",
        "# Part 7: Backtest Our Strategy\n",
        "Backtesting plays a key role in evaluating the performance of a trading strategy. Automated backtesting tool is preferred because it reduces the human error. We usually use the Quantopian pyfolio package to backtest our trading strategies. It is easy to use and consists of various individual plots that provide a comprehensive image of the performance of a trading strategy."
      ]
    },
    {
      "cell_type": "markdown",
      "metadata": {
        "id": "Lr2zX7ZxNyFQ"
      },
      "source": [
        "<a id='6.1'></a>\n",
        "## 7.1 BackTestStats\n",
        "pass in df_account_value, this information is stored in env class\n"
      ]
    },
    {
      "cell_type": "code",
      "metadata": {
        "id": "Nzkr9yv-AdV_",
        "colab": {
          "base_uri": "https://localhost:8080/"
        },
        "outputId": "482e1180-a18e-45ac-e4ec-37b717c9f4fa"
      },
      "source": [
        "print(\"==============Get Backtest Results===========\")\n",
        "perf_stats_all = BackTestStats(account_value=df_account_value)\n",
        "perf_stats_all = pd.DataFrame(perf_stats_all)\n",
        "perf_stats_all.to_csv(\"./\"+config.RESULTS_DIR+\"/perf_stats_all_\"+now+'.csv')"
      ],
      "execution_count": 29,
      "outputs": [
        {
          "output_type": "stream",
          "text": [
            "==============Get Backtest Results===========\n",
            "annual return:  21.202983712027248\n",
            "sharpe ratio:  1.1381111316843386\n",
            "Annual return          0.194358\n",
            "Cumulative returns     0.363576\n",
            "Annual volatility      0.169026\n",
            "Sharpe ratio           1.138111\n",
            "Calmar ratio           1.089952\n",
            "Stability              0.724857\n",
            "Max drawdown          -0.178318\n",
            "Omega ratio            1.247259\n",
            "Sortino ratio          1.603821\n",
            "Skew                        NaN\n",
            "Kurtosis                    NaN\n",
            "Tail ratio             0.847979\n",
            "Daily value at risk   -0.020532\n",
            "Alpha                  0.000000\n",
            "Beta                   1.000000\n",
            "dtype: float64\n"
          ],
          "name": "stdout"
        }
      ]
    },
    {
      "cell_type": "markdown",
      "metadata": {
        "id": "9U6Suru3h1jc"
      },
      "source": [
        "<a id='6.2'></a>\n",
        "## 7.2 BackTestPlot"
      ]
    },
    {
      "cell_type": "code",
      "metadata": {
        "id": "lKRGftSS7pNM",
        "colab": {
          "base_uri": "https://localhost:8080/",
          "height": 1000
        },
        "outputId": "4d83015a-c942-4c38-a346-0d3eb34cae57"
      },
      "source": [
        "print(\"==============Compare to S&P 500===========\")\n",
        "%matplotlib inline\n",
        "# S&P 500: ^GSPC\n",
        "# Dow Jones Index: ^DJI\n",
        "# NASDAQ 100: ^NDX\n",
        "BackTestPlot(df_account_value, \n",
        "             baseline_ticker = '^DJI', \n",
        "             baseline_start = '2019-01-01',\n",
        "             baseline_end = '2020-09-30')"
      ],
      "execution_count": 30,
      "outputs": [
        {
          "output_type": "stream",
          "text": [
            "==============Compare to S&P 500===========\n",
            "annual return:  21.202983712027248\n",
            "sharpe ratio:  1.1381111316843386\n",
            "\r[*********************100%***********************]  1 of 1 completed\n",
            "Shape of DataFrame:  (440, 7)\n"
          ],
          "name": "stdout"
        },
        {
          "output_type": "display_data",
          "data": {
            "text/html": [
              "<table border=\"1\" class=\"dataframe\">\n",
              "  <thead>\n",
              "    <tr style=\"text-align: right;\"><th>Start date</th><td colspan=2>2019-01-03</td></tr>\n",
              "    <tr style=\"text-align: right;\"><th>End date</th><td colspan=2>2020-09-29</td></tr>\n",
              "    <tr style=\"text-align: right;\"><th>Total months</th><td colspan=2>20</td></tr>\n",
              "    <tr style=\"text-align: right;\">\n",
              "      <th></th>\n",
              "      <th>Backtest</th>\n",
              "    </tr>\n",
              "  </thead>\n",
              "  <tbody>\n",
              "    <tr>\n",
              "      <th>Annual return</th>\n",
              "      <td>19.484%</td>\n",
              "    </tr>\n",
              "    <tr>\n",
              "      <th>Cumulative returns</th>\n",
              "      <td>36.358%</td>\n",
              "    </tr>\n",
              "    <tr>\n",
              "      <th>Annual volatility</th>\n",
              "      <td>16.903%</td>\n",
              "    </tr>\n",
              "    <tr>\n",
              "      <th>Sharpe ratio</th>\n",
              "      <td>1.14</td>\n",
              "    </tr>\n",
              "    <tr>\n",
              "      <th>Calmar ratio</th>\n",
              "      <td>1.09</td>\n",
              "    </tr>\n",
              "    <tr>\n",
              "      <th>Stability</th>\n",
              "      <td>0.72</td>\n",
              "    </tr>\n",
              "    <tr>\n",
              "      <th>Max drawdown</th>\n",
              "      <td>-17.832%</td>\n",
              "    </tr>\n",
              "    <tr>\n",
              "      <th>Omega ratio</th>\n",
              "      <td>1.25</td>\n",
              "    </tr>\n",
              "    <tr>\n",
              "      <th>Sortino ratio</th>\n",
              "      <td>1.60</td>\n",
              "    </tr>\n",
              "    <tr>\n",
              "      <th>Skew</th>\n",
              "      <td>-0.42</td>\n",
              "    </tr>\n",
              "    <tr>\n",
              "      <th>Kurtosis</th>\n",
              "      <td>9.10</td>\n",
              "    </tr>\n",
              "    <tr>\n",
              "      <th>Tail ratio</th>\n",
              "      <td>0.85</td>\n",
              "    </tr>\n",
              "    <tr>\n",
              "      <th>Daily value at risk</th>\n",
              "      <td>-2.053%</td>\n",
              "    </tr>\n",
              "    <tr>\n",
              "      <th>Alpha</th>\n",
              "      <td>0.15</td>\n",
              "    </tr>\n",
              "    <tr>\n",
              "      <th>Beta</th>\n",
              "      <td>0.42</td>\n",
              "    </tr>\n",
              "  </tbody>\n",
              "</table>"
            ],
            "text/plain": [
              "<IPython.core.display.HTML object>"
            ]
          },
          "metadata": {
            "tags": []
          }
        },
        {
          "output_type": "display_data",
          "data": {
            "text/html": [
              "<table border=\"1\" class=\"dataframe\">\n",
              "  <thead>\n",
              "    <tr style=\"text-align: right;\">\n",
              "      <th>Worst drawdown periods</th>\n",
              "      <th>Net drawdown in %</th>\n",
              "      <th>Peak date</th>\n",
              "      <th>Valley date</th>\n",
              "      <th>Recovery date</th>\n",
              "      <th>Duration</th>\n",
              "    </tr>\n",
              "  </thead>\n",
              "  <tbody>\n",
              "    <tr>\n",
              "      <th>0</th>\n",
              "      <td>17.83</td>\n",
              "      <td>2020-02-12</td>\n",
              "      <td>2020-03-12</td>\n",
              "      <td>2020-06-05</td>\n",
              "      <td>83</td>\n",
              "    </tr>\n",
              "    <tr>\n",
              "      <th>1</th>\n",
              "      <td>8.18</td>\n",
              "      <td>2020-06-08</td>\n",
              "      <td>2020-06-26</td>\n",
              "      <td>2020-08-12</td>\n",
              "      <td>48</td>\n",
              "    </tr>\n",
              "    <tr>\n",
              "      <th>2</th>\n",
              "      <td>5.88</td>\n",
              "      <td>2019-07-29</td>\n",
              "      <td>2019-08-14</td>\n",
              "      <td>2019-09-12</td>\n",
              "      <td>34</td>\n",
              "    </tr>\n",
              "    <tr>\n",
              "      <th>3</th>\n",
              "      <td>5.42</td>\n",
              "      <td>2019-04-24</td>\n",
              "      <td>2019-05-31</td>\n",
              "      <td>2019-06-18</td>\n",
              "      <td>40</td>\n",
              "    </tr>\n",
              "    <tr>\n",
              "      <th>4</th>\n",
              "      <td>4.51</td>\n",
              "      <td>2020-09-02</td>\n",
              "      <td>2020-09-08</td>\n",
              "      <td>NaT</td>\n",
              "      <td>NaN</td>\n",
              "    </tr>\n",
              "  </tbody>\n",
              "</table>"
            ],
            "text/plain": [
              "<IPython.core.display.HTML object>"
            ]
          },
          "metadata": {
            "tags": []
          }
        },
        {
          "output_type": "stream",
          "text": [
            "/usr/local/lib/python3.6/dist-packages/pyfolio/tears.py:907: UserWarning: Passed returns do not overlap with anyinteresting times.\n",
            "  'interesting times.', UserWarning)\n"
          ],
          "name": "stderr"
        },
        {
          "output_type": "display_data",
          "data": {
            "image/png": "[encoded data removed]",
            "text/plain": [
              "<Figure size 1008x5184 with 13 Axes>"
            ]
          },
          "metadata": {
            "tags": [],
            "needs_background": "light"
          }
        }
      ]
    },
    {
      "cell_type": "markdown",
      "metadata": {
        "id": "SlLT9_5WN478"
      },
      "source": [
        "<a id='6.3'></a>\n",
        "## 7.3 Baseline Stats"
      ]
    },
    {
      "cell_type": "code",
      "metadata": {
        "id": "YktexHcqh1jc",
        "colab": {
          "base_uri": "https://localhost:8080/"
        },
        "outputId": "5fdd16ca-48d3-4e46-f9bc-7e884607f106"
      },
      "source": [
        "print(\"==============Get Baseline Stats===========\")\n",
        "baesline_perf_stats=BaselineStats('^DJI',\n",
        "                                  baseline_start = '2019-01-01',\n",
        "                                  baseline_end = '2020-09-30')"
      ],
      "execution_count": 31,
      "outputs": [
        {
          "output_type": "stream",
          "text": [
            "==============Get Baseline Stats===========\n",
            "\r[*********************100%***********************]  1 of 1 completed\n",
            "Shape of DataFrame:  (440, 7)\n",
            "Annual return          0.097239\n",
            "Cumulative returns     0.175892\n",
            "Annual volatility      0.287173\n",
            "Sharpe ratio           0.468543\n",
            "Calmar ratio           0.262198\n",
            "Stability              0.010261\n",
            "Max drawdown          -0.370862\n",
            "Omega ratio            1.110729\n",
            "Sortino ratio          0.641939\n",
            "Skew                        NaN\n",
            "Kurtosis                    NaN\n",
            "Tail ratio             0.807113\n",
            "Daily value at risk   -0.035647\n",
            "Alpha                  0.000000\n",
            "Beta                   1.000000\n",
            "dtype: float64\n"
          ],
          "name": "stdout"
        }
      ]
    },
    {
      "cell_type": "code",
      "metadata": {
        "id": "A6W2J57ch1j9"
      },
      "source": [
        ""
      ],
      "execution_count": null,
      "outputs": []
    }
  ]
}